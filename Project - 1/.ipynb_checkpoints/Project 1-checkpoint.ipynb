{
 "cells": [
  {
   "cell_type": "markdown",
   "metadata": {},
   "source": [
    "# Project 1\n",
    "\n",
    "### Dataset\n",
    "For two projects in this class, you will pick your datasets. To receive full credit for this part, your datasets should satisfy the following conditions: \n",
    "\n",
    "- At least 15 features (columns)\n",
    "- At least 1000 instances (rows)\n",
    "- At least two categorical/ordinal columns.\n",
    "- Between 5 to 10 percent missing values across the dataset. \n",
    "\n",
    "Remember that you should have two separate datasets one for classification and one for regression tasks. \n",
    "\n",
    "### Project Description:\n",
    "- Read data into Jupyter notebook, use pandas to import data into a data frame\n",
    "- Preprocess data: Explore data, check for missing data and apply data scaling. Justify the type of scaling used.\n",
    "\n",
    "### Regression Task:\n",
    "- Apply **all** the regression models you've learned so far. If your model has a scaling parameter(s) use Grid Search to find the best hyper-parameter. Use plots and graphs to help you get a better glimpse of the results. \n",
    "- Then use cross-validation to find average training and testing score. \n",
    "- Your submission should have at least the following regression models: KNN repressor, linear regression, Ridge, Lasso, polynomial regression, SVM both simple and with kernels (rbf, poly, linear), Decison Tree Regressor. \n",
    "- Finally, find the best regressor for this dataset and train your model on the entire dataset using the best parameters and predict the target values for the test_set.\n",
    "\n",
    "### Classification task:\n",
    "- Decide about a good evaluation strategy beside accuracy and justify your choice.\n",
    "- Apply **all** the classification models you've learned so far. If your model has a scaling parameter(s) use Grid Search to find the best hyper-parameter. Use plots and graphs to help you get a better glimpse of the results.\n",
    "- Your submission should have at least the following classification models: KNN classification, Logistic Regression, Linear Support Vector Machine, Kerenilzed Support Vector Machine (rbf, poly, and linear), Decision Tree Classifier. \n",
    "- Finally, find the best model for the classification dataset and train your model on the entire dataset using the best parameters and predict the target values for the test_set.\n",
    "\n",
    "### Deliverables:\n",
    "- Use markdown to provide inline comments for this project. \n",
    "- Use markdown to create a report for this project. \n",
    "- Your outputs should be clearly executed in the notebook i.e. we should not need to rerun the code to obtain the outputs. \n",
    "- Visualization highly encouraged. \n",
    "- If you are submitting two different files, then please only one group member submit both the files. If you submit two files separately from different accounts, it will be submitted as two different attempts.\n",
    "- If you are submitting two different files, then please follow below naming convention:\n",
    "    - ``Project1_Regression_GroupXX_Lastname1_Lastname2.ipynb``\n",
    "    - ``Project1_Classification_GroupXX_Lastname1_Lastname2.ipynb``\n",
    "  \n",
    "  then zip these two files and the csv files of the two datasets into one file and submit. \n",
    "- If you are submitting a single file, then please follow below naming convention:\n",
    "    - ``Project1_Both_GroupXX_Lastname1_Lastname2.ipynb\n",
    "    then zip these this file and the csv files of the two datasets into one file and submit. \n",
    "\n",
    "### Questions regarding the project:\n",
    "- Post your queries related to project on discussion board on e-learning. There is a high possibility that your classmate has also faced the same problem and knows the solution. This is an effort to encourage collaborative learning and also making all the information available to everyone. We will also answer queries there. "
   ]
  },
  {
   "cell_type": "code",
   "execution_count": null,
   "metadata": {},
   "outputs": [],
   "source": []
  }
 ],
 "metadata": {
  "kernelspec": {
   "display_name": "Python 3",
   "language": "python",
   "name": "python3"
  },
  "language_info": {
   "codemirror_mode": {
    "name": "ipython",
    "version": 3
   },
   "file_extension": ".py",
   "mimetype": "text/x-python",
   "name": "python",
   "nbconvert_exporter": "python",
   "pygments_lexer": "ipython3",
   "version": "3.8.5"
  }
 },
 "nbformat": 4,
 "nbformat_minor": 2
}
