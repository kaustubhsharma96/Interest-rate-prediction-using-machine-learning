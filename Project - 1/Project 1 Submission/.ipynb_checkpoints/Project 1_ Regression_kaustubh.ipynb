{
 "cells": [
  {
   "cell_type": "markdown",
   "metadata": {},
   "source": [
    "# MIS 6341 : AML Project 1"
   ]
  },
  {
   "cell_type": "markdown",
   "metadata": {},
   "source": [
    "Group 23 : Tejas Kulkarni , Kaustubh Sharma"
   ]
  },
  {
   "cell_type": "markdown",
   "metadata": {},
   "source": [
    "## Regression Task"
   ]
  },
  {
   "cell_type": "markdown",
   "metadata": {},
   "source": [
    "## Interest rate prediction using customer loan data"
   ]
  },
  {
   "cell_type": "markdown",
   "metadata": {},
   "source": [
    "Number of rows: *2200* ; Number of columns : *15* "
   ]
  },
  {
   "cell_type": "code",
   "execution_count": 1,
   "metadata": {},
   "outputs": [],
   "source": [
    "import pandas as pd\n",
    "import numpy as np\n",
    "from sklearn.model_selection import GridSearchCV\n",
    "from sklearn.metrics import r2_score"
   ]
  },
  {
   "cell_type": "code",
   "execution_count": 2,
   "metadata": {},
   "outputs": [],
   "source": [
    "df = pd.read_csv('loan_data.csv')"
   ]
  },
  {
   "cell_type": "code",
   "execution_count": 3,
   "metadata": {},
   "outputs": [
    {
     "data": {
      "text/html": [
       "<div>\n",
       "<style scoped>\n",
       "    .dataframe tbody tr th:only-of-type {\n",
       "        vertical-align: middle;\n",
       "    }\n",
       "\n",
       "    .dataframe tbody tr th {\n",
       "        vertical-align: top;\n",
       "    }\n",
       "\n",
       "    .dataframe thead th {\n",
       "        text-align: right;\n",
       "    }\n",
       "</style>\n",
       "<table border=\"1\" class=\"dataframe\">\n",
       "  <thead>\n",
       "    <tr style=\"text-align: right;\">\n",
       "      <th></th>\n",
       "      <th>ID</th>\n",
       "      <th>Amount.Requested</th>\n",
       "      <th>Amount.Funded.By.Investors</th>\n",
       "      <th>Interest.Rate</th>\n",
       "      <th>Loan.Length</th>\n",
       "      <th>Loan.Purpose</th>\n",
       "      <th>Debt.To.Income.Ratio</th>\n",
       "      <th>State</th>\n",
       "      <th>Home.Ownership</th>\n",
       "      <th>Monthly.Income</th>\n",
       "      <th>FICO.Range</th>\n",
       "      <th>Open.CREDIT.Lines</th>\n",
       "      <th>Revolving.CREDIT.Balance</th>\n",
       "      <th>Inquiries.in.the.Last.6.Months</th>\n",
       "      <th>Employment.Length</th>\n",
       "    </tr>\n",
       "  </thead>\n",
       "  <tbody>\n",
       "    <tr>\n",
       "      <th>0</th>\n",
       "      <td>79542.0</td>\n",
       "      <td>25000</td>\n",
       "      <td>25000</td>\n",
       "      <td>18.49%</td>\n",
       "      <td>60 months</td>\n",
       "      <td>debt_consolidation</td>\n",
       "      <td>27.56%</td>\n",
       "      <td>VA</td>\n",
       "      <td>MORTGAGE</td>\n",
       "      <td>8606.56</td>\n",
       "      <td>720-724</td>\n",
       "      <td>11</td>\n",
       "      <td>15210</td>\n",
       "      <td>3.0</td>\n",
       "      <td>5 years</td>\n",
       "    </tr>\n",
       "    <tr>\n",
       "      <th>1</th>\n",
       "      <td>75473.0</td>\n",
       "      <td>19750</td>\n",
       "      <td>19750</td>\n",
       "      <td>17.27%</td>\n",
       "      <td>60 months</td>\n",
       "      <td>debt_consolidation</td>\n",
       "      <td>13.39%</td>\n",
       "      <td>NY</td>\n",
       "      <td>MORTGAGE</td>\n",
       "      <td>6737.50</td>\n",
       "      <td>710-714</td>\n",
       "      <td>14</td>\n",
       "      <td>19070</td>\n",
       "      <td>3.0</td>\n",
       "      <td>4 years</td>\n",
       "    </tr>\n",
       "    <tr>\n",
       "      <th>2</th>\n",
       "      <td>67265.0</td>\n",
       "      <td>2100</td>\n",
       "      <td>2100</td>\n",
       "      <td>14.33%</td>\n",
       "      <td>36 months</td>\n",
       "      <td>major_purchase</td>\n",
       "      <td>3.50%</td>\n",
       "      <td>LA</td>\n",
       "      <td>OWN</td>\n",
       "      <td>1000.00</td>\n",
       "      <td>690-694</td>\n",
       "      <td>13</td>\n",
       "      <td>893</td>\n",
       "      <td>1.0</td>\n",
       "      <td>&lt; 1 year</td>\n",
       "    </tr>\n",
       "    <tr>\n",
       "      <th>3</th>\n",
       "      <td>80167.0</td>\n",
       "      <td>28000</td>\n",
       "      <td>28000</td>\n",
       "      <td>16.29%</td>\n",
       "      <td>36 months</td>\n",
       "      <td>credit_card</td>\n",
       "      <td>19.62%</td>\n",
       "      <td>NV</td>\n",
       "      <td>MORTGAGE</td>\n",
       "      <td>7083.33</td>\n",
       "      <td>710-714</td>\n",
       "      <td>12</td>\n",
       "      <td>38194</td>\n",
       "      <td>1.0</td>\n",
       "      <td>10+ years</td>\n",
       "    </tr>\n",
       "    <tr>\n",
       "      <th>4</th>\n",
       "      <td>17240.0</td>\n",
       "      <td>24250</td>\n",
       "      <td>17431.82</td>\n",
       "      <td>12.23%</td>\n",
       "      <td>60 months</td>\n",
       "      <td>credit_card</td>\n",
       "      <td>23.79%</td>\n",
       "      <td>OH</td>\n",
       "      <td>MORTGAGE</td>\n",
       "      <td>5833.33</td>\n",
       "      <td>730-734</td>\n",
       "      <td>6</td>\n",
       "      <td>31061</td>\n",
       "      <td>2.0</td>\n",
       "      <td>10+ years</td>\n",
       "    </tr>\n",
       "  </tbody>\n",
       "</table>\n",
       "</div>"
      ],
      "text/plain": [
       "        ID Amount.Requested Amount.Funded.By.Investors Interest.Rate  \\\n",
       "0  79542.0            25000                      25000        18.49%   \n",
       "1  75473.0            19750                      19750        17.27%   \n",
       "2  67265.0             2100                       2100        14.33%   \n",
       "3  80167.0            28000                      28000        16.29%   \n",
       "4  17240.0            24250                   17431.82        12.23%   \n",
       "\n",
       "  Loan.Length        Loan.Purpose Debt.To.Income.Ratio State Home.Ownership  \\\n",
       "0   60 months  debt_consolidation               27.56%    VA       MORTGAGE   \n",
       "1   60 months  debt_consolidation               13.39%    NY       MORTGAGE   \n",
       "2   36 months      major_purchase                3.50%    LA            OWN   \n",
       "3   36 months         credit_card               19.62%    NV       MORTGAGE   \n",
       "4   60 months         credit_card               23.79%    OH       MORTGAGE   \n",
       "\n",
       "   Monthly.Income FICO.Range Open.CREDIT.Lines Revolving.CREDIT.Balance  \\\n",
       "0         8606.56    720-724                11                    15210   \n",
       "1         6737.50    710-714                14                    19070   \n",
       "2         1000.00    690-694                13                      893   \n",
       "3         7083.33    710-714                12                    38194   \n",
       "4         5833.33    730-734                 6                    31061   \n",
       "\n",
       "   Inquiries.in.the.Last.6.Months Employment.Length  \n",
       "0                             3.0           5 years  \n",
       "1                             3.0           4 years  \n",
       "2                             1.0          < 1 year  \n",
       "3                             1.0         10+ years  \n",
       "4                             2.0         10+ years  "
      ]
     },
     "execution_count": 3,
     "metadata": {},
     "output_type": "execute_result"
    }
   ],
   "source": [
    "df.head()"
   ]
  },
  {
   "cell_type": "code",
   "execution_count": 4,
   "metadata": {},
   "outputs": [
    {
     "name": "stdout",
     "output_type": "stream",
     "text": [
      "<class 'pandas.core.frame.DataFrame'>\n",
      "RangeIndex: 2200 entries, 0 to 2199\n",
      "Data columns (total 15 columns):\n",
      " #   Column                          Non-Null Count  Dtype  \n",
      "---  ------                          --------------  -----  \n",
      " 0   ID                              2199 non-null   float64\n",
      " 1   Amount.Requested                2199 non-null   object \n",
      " 2   Amount.Funded.By.Investors      2199 non-null   object \n",
      " 3   Interest.Rate                   2200 non-null   object \n",
      " 4   Loan.Length                     2199 non-null   object \n",
      " 5   Loan.Purpose                    2199 non-null   object \n",
      " 6   Debt.To.Income.Ratio            2199 non-null   object \n",
      " 7   State                           2199 non-null   object \n",
      " 8   Home.Ownership                  2199 non-null   object \n",
      " 9   Monthly.Income                  2197 non-null   float64\n",
      " 10  FICO.Range                      2200 non-null   object \n",
      " 11  Open.CREDIT.Lines               2196 non-null   object \n",
      " 12  Revolving.CREDIT.Balance        2197 non-null   object \n",
      " 13  Inquiries.in.the.Last.6.Months  2197 non-null   float64\n",
      " 14  Employment.Length               2131 non-null   object \n",
      "dtypes: float64(3), object(12)\n",
      "memory usage: 257.9+ KB\n"
     ]
    }
   ],
   "source": [
    "df.info()"
   ]
  },
  {
   "cell_type": "markdown",
   "metadata": {},
   "source": [
    "### 1. ID,Amount.Funded.By.Investors to be dropped\n",
    "### 2. Interest.Rate,Debt.To.Income.Ratio remove % and convert to numeric\n",
    "### 3. Amount.Requested,Open.CREDIT.Lines,Revolving.CREDIT.Balance conver to numeric\n",
    "### 4. FICO range replace by a numeric column which is average of the range\n",
    "### 5. Employment length convert to a number\n",
    "### 6. Loan.Length, Loan.Purpose, State, Home.Ownership : dummies for catogories which high occurence rate"
   ]
  },
  {
   "cell_type": "code",
   "execution_count": 5,
   "metadata": {},
   "outputs": [],
   "source": [
    "df.drop(['ID','Amount.Funded.By.Investors'],axis=1,inplace=True)"
   ]
  },
  {
   "cell_type": "code",
   "execution_count": 6,
   "metadata": {},
   "outputs": [
    {
     "data": {
      "text/plain": [
       "(2200, 13)"
      ]
     },
     "execution_count": 6,
     "metadata": {},
     "output_type": "execute_result"
    }
   ],
   "source": [
    "df.shape"
   ]
  },
  {
   "cell_type": "code",
   "execution_count": 7,
   "metadata": {},
   "outputs": [],
   "source": [
    "for col in ['Interest.Rate','Debt.To.Income.Ratio']:\n",
    "    df[col] = df[col].str.replace('%','')"
   ]
  },
  {
   "cell_type": "code",
   "execution_count": 8,
   "metadata": {},
   "outputs": [],
   "source": [
    "for col in ['Interest.Rate','Debt.To.Income.Ratio']:\n",
    "    df[col] = pd.to_numeric(df[col],errors='coerce')"
   ]
  },
  {
   "cell_type": "code",
   "execution_count": null,
   "metadata": {},
   "outputs": [],
   "source": []
  },
  {
   "cell_type": "code",
   "execution_count": 9,
   "metadata": {},
   "outputs": [],
   "source": [
    "for col in ['Amount.Requested','Open.CREDIT.Lines','Revolving.CREDIT.Balance']:\n",
    "    df[col] = pd.to_numeric(df[col],errors='coerce')"
   ]
  },
  {
   "cell_type": "code",
   "execution_count": null,
   "metadata": {},
   "outputs": [],
   "source": []
  },
  {
   "cell_type": "code",
   "execution_count": 10,
   "metadata": {},
   "outputs": [],
   "source": [
    "arr_splt = df['FICO.Range'].str.split('-',expand =True).astype(float)"
   ]
  },
  {
   "cell_type": "code",
   "execution_count": 11,
   "metadata": {},
   "outputs": [],
   "source": [
    "df['fico'] = 0.5*(arr_splt[0]+arr_splt[1])"
   ]
  },
  {
   "cell_type": "code",
   "execution_count": 12,
   "metadata": {
    "scrolled": true
   },
   "outputs": [
    {
     "data": {
      "text/plain": [
       "0       722.0\n",
       "1       712.0\n",
       "2       692.0\n",
       "3       712.0\n",
       "4       732.0\n",
       "        ...  \n",
       "2195    677.0\n",
       "2196    702.0\n",
       "2197    677.0\n",
       "2198    672.0\n",
       "2199    712.0\n",
       "Name: fico, Length: 2200, dtype: float64"
      ]
     },
     "execution_count": 12,
     "metadata": {},
     "output_type": "execute_result"
    }
   ],
   "source": [
    "df['fico']"
   ]
  },
  {
   "cell_type": "code",
   "execution_count": 13,
   "metadata": {},
   "outputs": [],
   "source": [
    "del df['FICO.Range']"
   ]
  },
  {
   "cell_type": "code",
   "execution_count": null,
   "metadata": {},
   "outputs": [],
   "source": []
  },
  {
   "cell_type": "code",
   "execution_count": 14,
   "metadata": {},
   "outputs": [
    {
     "data": {
      "text/plain": [
       "0         5 years\n",
       "1         4 years\n",
       "2        < 1 year\n",
       "3       10+ years\n",
       "4       10+ years\n",
       "          ...    \n",
       "2195    10+ years\n",
       "2196      2 years\n",
       "2197      6 years\n",
       "2198      4 years\n",
       "2199      2 years\n",
       "Name: Employment.Length, Length: 2200, dtype: object"
      ]
     },
     "execution_count": 14,
     "metadata": {},
     "output_type": "execute_result"
    }
   ],
   "source": [
    "df['Employment.Length']"
   ]
  },
  {
   "cell_type": "code",
   "execution_count": 15,
   "metadata": {},
   "outputs": [],
   "source": [
    "df['Employment.Length'] = df['Employment.Length'].str.replace('years','')\n",
    "df['Employment.Length'] = df['Employment.Length'].str.replace('year','')\n",
    "df['Employment.Length'] = np.where(df['Employment.Length'].str[:2]=='10',10,df['Employment.Length'])\n",
    "df['Employment.Length'] = np.where(df['Employment.Length'].str[0]=='<',0,df['Employment.Length'])"
   ]
  },
  {
   "cell_type": "code",
   "execution_count": 16,
   "metadata": {},
   "outputs": [],
   "source": [
    "df['Employment.Length'] = pd.to_numeric(df['Employment.Length'],errors='coerce')"
   ]
  },
  {
   "cell_type": "code",
   "execution_count": null,
   "metadata": {},
   "outputs": [],
   "source": []
  },
  {
   "cell_type": "code",
   "execution_count": 17,
   "metadata": {},
   "outputs": [],
   "source": [
    "cat_cols = df.select_dtypes(['object']).columns"
   ]
  },
  {
   "cell_type": "code",
   "execution_count": 18,
   "metadata": {},
   "outputs": [
    {
     "data": {
      "text/plain": [
       "Index(['Loan.Length', 'Loan.Purpose', 'State', 'Home.Ownership'], dtype='object')"
      ]
     },
     "execution_count": 18,
     "metadata": {},
     "output_type": "execute_result"
    }
   ],
   "source": [
    "cat_cols"
   ]
  },
  {
   "cell_type": "code",
   "execution_count": 19,
   "metadata": {},
   "outputs": [],
   "source": [
    "for col in cat_cols:\n",
    "    freqs = df[col].value_counts()\n",
    "    k = freqs.index[freqs>20][:-1]\n",
    "    for cat in k:\n",
    "        name = col+'_'+cat\n",
    "        df[name] = (df[col]==cat).astype(int)\n",
    "    del df[col]\n"
   ]
  },
  {
   "cell_type": "code",
   "execution_count": 20,
   "metadata": {},
   "outputs": [
    {
     "data": {
      "text/plain": [
       "(2200, 46)"
      ]
     },
     "execution_count": 20,
     "metadata": {},
     "output_type": "execute_result"
    }
   ],
   "source": [
    "df.shape"
   ]
  },
  {
   "cell_type": "markdown",
   "metadata": {},
   "source": [
    "# Now, lets check for missing values"
   ]
  },
  {
   "cell_type": "code",
   "execution_count": 21,
   "metadata": {},
   "outputs": [
    {
     "data": {
      "text/plain": [
       "Amount.Requested                    5\n",
       "Interest.Rate                       0\n",
       "Debt.To.Income.Ratio                1\n",
       "Monthly.Income                      3\n",
       "Open.CREDIT.Lines                   7\n",
       "Revolving.CREDIT.Balance            5\n",
       "Inquiries.in.the.Last.6.Months      3\n",
       "Employment.Length                  70\n",
       "fico                                0\n",
       "Loan.Length_36 months               0\n",
       "Loan.Purpose_debt_consolidation     0\n",
       "Loan.Purpose_credit_card            0\n",
       "Loan.Purpose_other                  0\n",
       "Loan.Purpose_home_improvement       0\n",
       "Loan.Purpose_major_purchase         0\n",
       "Loan.Purpose_small_business         0\n",
       "Loan.Purpose_car                    0\n",
       "Loan.Purpose_wedding                0\n",
       "Loan.Purpose_medical                0\n",
       "State_CA                            0\n",
       "State_NY                            0\n",
       "State_FL                            0\n",
       "State_TX                            0\n",
       "State_PA                            0\n",
       "State_IL                            0\n",
       "State_GA                            0\n",
       "State_NJ                            0\n",
       "State_VA                            0\n",
       "State_MA                            0\n",
       "State_NC                            0\n",
       "State_OH                            0\n",
       "State_MD                            0\n",
       "State_CO                            0\n",
       "State_WA                            0\n",
       "State_AZ                            0\n",
       "State_CT                            0\n",
       "State_MI                            0\n",
       "State_AL                            0\n",
       "State_MN                            0\n",
       "State_NV                            0\n",
       "State_MO                            0\n",
       "State_SC                            0\n",
       "State_WI                            0\n",
       "State_OR                            0\n",
       "Home.Ownership_MORTGAGE             0\n",
       "Home.Ownership_RENT                 0\n",
       "dtype: int64"
      ]
     },
     "execution_count": 21,
     "metadata": {},
     "output_type": "execute_result"
    }
   ],
   "source": [
    "df.isnull().sum()"
   ]
  },
  {
   "cell_type": "code",
   "execution_count": 22,
   "metadata": {},
   "outputs": [],
   "source": [
    "for col in df.columns:\n",
    "    if col not in ['Interest.Rate'] and df[col].isnull().sum()>0:\n",
    "        df.loc[df[col].isnull(),col] = df[col].mean()"
   ]
  },
  {
   "cell_type": "code",
   "execution_count": 23,
   "metadata": {},
   "outputs": [
    {
     "data": {
      "text/plain": [
       "Amount.Requested                   0\n",
       "Interest.Rate                      0\n",
       "Debt.To.Income.Ratio               0\n",
       "Monthly.Income                     0\n",
       "Open.CREDIT.Lines                  0\n",
       "Revolving.CREDIT.Balance           0\n",
       "Inquiries.in.the.Last.6.Months     0\n",
       "Employment.Length                  0\n",
       "fico                               0\n",
       "Loan.Length_36 months              0\n",
       "Loan.Purpose_debt_consolidation    0\n",
       "Loan.Purpose_credit_card           0\n",
       "Loan.Purpose_other                 0\n",
       "Loan.Purpose_home_improvement      0\n",
       "Loan.Purpose_major_purchase        0\n",
       "Loan.Purpose_small_business        0\n",
       "Loan.Purpose_car                   0\n",
       "Loan.Purpose_wedding               0\n",
       "Loan.Purpose_medical               0\n",
       "State_CA                           0\n",
       "State_NY                           0\n",
       "State_FL                           0\n",
       "State_TX                           0\n",
       "State_PA                           0\n",
       "State_IL                           0\n",
       "State_GA                           0\n",
       "State_NJ                           0\n",
       "State_VA                           0\n",
       "State_MA                           0\n",
       "State_NC                           0\n",
       "State_OH                           0\n",
       "State_MD                           0\n",
       "State_CO                           0\n",
       "State_WA                           0\n",
       "State_AZ                           0\n",
       "State_CT                           0\n",
       "State_MI                           0\n",
       "State_AL                           0\n",
       "State_MN                           0\n",
       "State_NV                           0\n",
       "State_MO                           0\n",
       "State_SC                           0\n",
       "State_WI                           0\n",
       "State_OR                           0\n",
       "Home.Ownership_MORTGAGE            0\n",
       "Home.Ownership_RENT                0\n",
       "dtype: int64"
      ]
     },
     "execution_count": 23,
     "metadata": {},
     "output_type": "execute_result"
    }
   ],
   "source": [
    "df.isnull().sum()"
   ]
  },
  {
   "cell_type": "markdown",
   "metadata": {},
   "source": [
    "# Apply all Regression Models i.e\n",
    "# KNN Regressor, linear regression, Ridge, Lasso, polynomial regression, \n",
    "# SVM both simple and with kernels (rbf, poly, linear), Decison Tree Regressor."
   ]
  },
  {
   "cell_type": "markdown",
   "metadata": {},
   "source": [
    "### Knn Regressor"
   ]
  },
  {
   "cell_type": "code",
   "execution_count": 24,
   "metadata": {},
   "outputs": [],
   "source": [
    "x = df.drop('Interest.Rate',axis=1)\n",
    "y = df['Interest.Rate']"
   ]
  },
  {
   "cell_type": "code",
   "execution_count": 25,
   "metadata": {},
   "outputs": [],
   "source": [
    "from sklearn.model_selection import train_test_split"
   ]
  },
  {
   "cell_type": "code",
   "execution_count": 26,
   "metadata": {},
   "outputs": [],
   "source": [
    "x_train_og,x_test_og,y_train,y_test = train_test_split(x,y,test_size=0.2,random_state=0)"
   ]
  },
  {
   "cell_type": "code",
   "execution_count": 27,
   "metadata": {},
   "outputs": [],
   "source": [
    "from sklearn.preprocessing import MinMaxScaler\n",
    "from sklearn.preprocessing import StandardScaler\n",
    "#scaler = MinMaxScaler()\n",
    "scaler = StandardScaler()"
   ]
  },
  {
   "cell_type": "code",
   "execution_count": 28,
   "metadata": {},
   "outputs": [],
   "source": [
    "x_train = scaler.fit_transform(x_train_og)\n",
    "x_test = scaler.transform(x_test_og)"
   ]
  },
  {
   "cell_type": "code",
   "execution_count": 29,
   "metadata": {},
   "outputs": [],
   "source": [
    "import matplotlib.pyplot as plt\n",
    "from sklearn.neighbors import KNeighborsRegressor"
   ]
  },
  {
   "cell_type": "code",
   "execution_count": 30,
   "metadata": {
    "scrolled": true
   },
   "outputs": [
    {
     "data": {
      "text/plain": [
       "Text(0, 0.5, 'MSE')"
      ]
     },
     "execution_count": 30,
     "metadata": {},
     "output_type": "execute_result"
    },
    {
     "data": {
      "image/png": "[encoded data removed]",
      "text/plain": [
       "<Figure size 1440x360 with 1 Axes>"
      ]
     },
     "metadata": {
      "needs_background": "light"
     },
     "output_type": "display_data"
    }
   ],
   "source": [
    "%matplotlib inline\n",
    "train_score_array = []\n",
    "test_score_array = []\n",
    "\n",
    "for k in range(1,20):\n",
    "    knn_reg = KNeighborsRegressor(k)\n",
    "    knn_reg.fit(x_train, y_train)\n",
    "    train_score_array.append(knn_reg.score(x_train, y_train))\n",
    "    test_score_array.append(knn_reg.score(x_test, y_test))\n",
    "\n",
    "x_axis = range(1,20)\n",
    "plt.subplots(figsize = (20,5))\n",
    "plt.plot(x_axis, train_score_array, c = 'g', label = 'Train Score')\n",
    "plt.plot(x_axis, test_score_array, c = 'b', label = 'Test Score')\n",
    "plt.legend()\n",
    "plt.xlabel('n_neighbors')\n",
    "plt.ylabel('MSE')"
   ]
  },
  {
   "cell_type": "markdown",
   "metadata": {},
   "source": [
    "#### Grid Search"
   ]
  },
  {
   "cell_type": "code",
   "execution_count": 31,
   "metadata": {},
   "outputs": [],
   "source": [
    "params = {'n_neighbors':range(1,20,1)}"
   ]
  },
  {
   "cell_type": "code",
   "execution_count": 32,
   "metadata": {},
   "outputs": [],
   "source": [
    "grid_search = GridSearchCV(knn_reg,params,cv=5)"
   ]
  },
  {
   "cell_type": "code",
   "execution_count": 33,
   "metadata": {},
   "outputs": [
    {
     "data": {
      "text/plain": [
       "GridSearchCV(cv=5, estimator=KNeighborsRegressor(n_neighbors=19),\n",
       "             param_grid={'n_neighbors': range(1, 20)})"
      ]
     },
     "execution_count": 33,
     "metadata": {},
     "output_type": "execute_result"
    }
   ],
   "source": [
    "grid_search.fit(x_train, y_train)"
   ]
  },
  {
   "cell_type": "code",
   "execution_count": 34,
   "metadata": {},
   "outputs": [
    {
     "name": "stdout",
     "output_type": "stream",
     "text": [
      "Best parameters: {'n_neighbors': 5}\n",
      "Best cross-validation score: 0.3062\n"
     ]
    }
   ],
   "source": [
    "print(\"Best parameters: {}\".format(grid_search.best_params_))\n",
    "print(\"Best cross-validation score: {:.4f}\".format(grid_search.best_score_))"
   ]
  },
  {
   "cell_type": "code",
   "execution_count": 35,
   "metadata": {},
   "outputs": [
    {
     "name": "stdout",
     "output_type": "stream",
     "text": [
      "KNN Regressor Train Score:  0.548068523188584\n",
      "KNN Regressor Test Score:  0.3359346361951664\n"
     ]
    }
   ],
   "source": [
    "print('KNN Regressor Train Score: ',grid_search.score(x_train,y_train))\n",
    "print('KNN Regressor Test Score: ',grid_search.score(x_test,y_test))"
   ]
  },
  {
   "cell_type": "markdown",
   "metadata": {},
   "source": [
    "#### Cross Validation"
   ]
  },
  {
   "cell_type": "code",
   "execution_count": 36,
   "metadata": {},
   "outputs": [],
   "source": [
    "from sklearn.model_selection import cross_val_score"
   ]
  },
  {
   "cell_type": "code",
   "execution_count": 37,
   "metadata": {},
   "outputs": [
    {
     "data": {
      "text/html": [
       "<div>\n",
       "<style scoped>\n",
       "    .dataframe tbody tr th:only-of-type {\n",
       "        vertical-align: middle;\n",
       "    }\n",
       "\n",
       "    .dataframe tbody tr th {\n",
       "        vertical-align: top;\n",
       "    }\n",
       "\n",
       "    .dataframe thead th {\n",
       "        text-align: right;\n",
       "    }\n",
       "</style>\n",
       "<table border=\"1\" class=\"dataframe\">\n",
       "  <thead>\n",
       "    <tr style=\"text-align: right;\">\n",
       "      <th></th>\n",
       "      <th>cross validation score</th>\n",
       "    </tr>\n",
       "  </thead>\n",
       "  <tbody>\n",
       "    <tr>\n",
       "      <th>0</th>\n",
       "      <td>0.266089</td>\n",
       "    </tr>\n",
       "    <tr>\n",
       "      <th>1</th>\n",
       "      <td>0.274776</td>\n",
       "    </tr>\n",
       "    <tr>\n",
       "      <th>2</th>\n",
       "      <td>0.273823</td>\n",
       "    </tr>\n",
       "    <tr>\n",
       "      <th>3</th>\n",
       "      <td>0.351204</td>\n",
       "    </tr>\n",
       "    <tr>\n",
       "      <th>4</th>\n",
       "      <td>0.303386</td>\n",
       "    </tr>\n",
       "  </tbody>\n",
       "</table>\n",
       "</div>"
      ],
      "text/plain": [
       "   cross validation score\n",
       "0                0.266089\n",
       "1                0.274776\n",
       "2                0.273823\n",
       "3                0.351204\n",
       "4                0.303386"
      ]
     },
     "execution_count": 37,
     "metadata": {},
     "output_type": "execute_result"
    }
   ],
   "source": [
    "knn_regcs = cross_val_score(grid_search, x_train, y_train)\n",
    "cs=({'cross validation score': knn_regcs})\n",
    "cs1=pd.DataFrame(cs)\n",
    "cs1"
   ]
  },
  {
   "cell_type": "code",
   "execution_count": 38,
   "metadata": {},
   "outputs": [
    {
     "data": {
      "text/html": [
       "<div>\n",
       "<style scoped>\n",
       "    .dataframe tbody tr th:only-of-type {\n",
       "        vertical-align: middle;\n",
       "    }\n",
       "\n",
       "    .dataframe tbody tr th {\n",
       "        vertical-align: top;\n",
       "    }\n",
       "\n",
       "    .dataframe thead th {\n",
       "        text-align: right;\n",
       "    }\n",
       "</style>\n",
       "<table border=\"1\" class=\"dataframe\">\n",
       "  <thead>\n",
       "    <tr style=\"text-align: right;\">\n",
       "      <th></th>\n",
       "      <th>cross validation score</th>\n",
       "    </tr>\n",
       "  </thead>\n",
       "  <tbody>\n",
       "    <tr>\n",
       "      <th>0</th>\n",
       "      <td>0.257188</td>\n",
       "    </tr>\n",
       "    <tr>\n",
       "      <th>1</th>\n",
       "      <td>0.272465</td>\n",
       "    </tr>\n",
       "    <tr>\n",
       "      <th>2</th>\n",
       "      <td>0.324676</td>\n",
       "    </tr>\n",
       "    <tr>\n",
       "      <th>3</th>\n",
       "      <td>0.297325</td>\n",
       "    </tr>\n",
       "    <tr>\n",
       "      <th>4</th>\n",
       "      <td>0.331649</td>\n",
       "    </tr>\n",
       "  </tbody>\n",
       "</table>\n",
       "</div>"
      ],
      "text/plain": [
       "   cross validation score\n",
       "0                0.257188\n",
       "1                0.272465\n",
       "2                0.324676\n",
       "3                0.297325\n",
       "4                0.331649"
      ]
     },
     "execution_count": 38,
     "metadata": {},
     "output_type": "execute_result"
    }
   ],
   "source": [
    "knn_regcs = cross_val_score(grid_search, x_test, y_test)\n",
    "cs=({'cross validation score': knn_regcs})\n",
    "cs2=pd.DataFrame(cs)\n",
    "cs2"
   ]
  },
  {
   "cell_type": "code",
   "execution_count": 39,
   "metadata": {},
   "outputs": [
    {
     "name": "stdout",
     "output_type": "stream",
     "text": [
      "Average Train Score:  cross validation score    0.293856\n",
      "dtype: float64\n",
      "Average Test Score:  cross validation score    0.296661\n",
      "dtype: float64\n"
     ]
    }
   ],
   "source": [
    "print('Average Train Score: ',cs1.mean())\n",
    "print('Average Test Score: ',cs2.mean())\n",
    "full_table = [['KNN Regressor: ',grid_search.best_params_,cs1.mean()[0],cs2.mean()[0],\n",
    "               r2_score(y_test,grid_search.predict(x_test))]]"
   ]
  },
  {
   "cell_type": "code",
   "execution_count": null,
   "metadata": {},
   "outputs": [],
   "source": []
  },
  {
   "cell_type": "code",
   "execution_count": 40,
   "metadata": {},
   "outputs": [],
   "source": [
    "from sklearn.metrics import r2_score"
   ]
  },
  {
   "cell_type": "markdown",
   "metadata": {},
   "source": [
    "### Linear Regression"
   ]
  },
  {
   "cell_type": "code",
   "execution_count": 41,
   "metadata": {},
   "outputs": [
    {
     "name": "stdout",
     "output_type": "stream",
     "text": [
      "Train Score:  0.7653777402948416\n",
      "Test Score:  0.7530779023401493\n"
     ]
    }
   ],
   "source": [
    "from sklearn.linear_model import LinearRegression\n",
    "\n",
    "lreg = LinearRegression(fit_intercept=True)\n",
    "lreg.fit(x_train, y_train)\n",
    "print('Train Score: ',lreg.score(x_train, y_train))\n",
    "print('Test Score: ',lreg.score(x_test, y_test))"
   ]
  },
  {
   "cell_type": "markdown",
   "metadata": {},
   "source": [
    "#### Cross Validation"
   ]
  },
  {
   "cell_type": "code",
   "execution_count": 42,
   "metadata": {
    "scrolled": true
   },
   "outputs": [
    {
     "data": {
      "text/html": [
       "<div>\n",
       "<style scoped>\n",
       "    .dataframe tbody tr th:only-of-type {\n",
       "        vertical-align: middle;\n",
       "    }\n",
       "\n",
       "    .dataframe tbody tr th {\n",
       "        vertical-align: top;\n",
       "    }\n",
       "\n",
       "    .dataframe thead th {\n",
       "        text-align: right;\n",
       "    }\n",
       "</style>\n",
       "<table border=\"1\" class=\"dataframe\">\n",
       "  <thead>\n",
       "    <tr style=\"text-align: right;\">\n",
       "      <th></th>\n",
       "      <th>cross validation score</th>\n",
       "    </tr>\n",
       "  </thead>\n",
       "  <tbody>\n",
       "    <tr>\n",
       "      <th>0</th>\n",
       "      <td>0.257188</td>\n",
       "    </tr>\n",
       "    <tr>\n",
       "      <th>1</th>\n",
       "      <td>0.272465</td>\n",
       "    </tr>\n",
       "    <tr>\n",
       "      <th>2</th>\n",
       "      <td>0.324676</td>\n",
       "    </tr>\n",
       "    <tr>\n",
       "      <th>3</th>\n",
       "      <td>0.297325</td>\n",
       "    </tr>\n",
       "    <tr>\n",
       "      <th>4</th>\n",
       "      <td>0.331649</td>\n",
       "    </tr>\n",
       "  </tbody>\n",
       "</table>\n",
       "</div>"
      ],
      "text/plain": [
       "   cross validation score\n",
       "0                0.257188\n",
       "1                0.272465\n",
       "2                0.324676\n",
       "3                0.297325\n",
       "4                0.331649"
      ]
     },
     "execution_count": 42,
     "metadata": {},
     "output_type": "execute_result"
    }
   ],
   "source": [
    "lr_regcs = cross_val_score(lreg, x_train, y_train)\n",
    "cs=({'cross validation score': knn_regcs})\n",
    "cs1=pd.DataFrame(cs)\n",
    "cs1"
   ]
  },
  {
   "cell_type": "code",
   "execution_count": 43,
   "metadata": {},
   "outputs": [
    {
     "data": {
      "text/html": [
       "<div>\n",
       "<style scoped>\n",
       "    .dataframe tbody tr th:only-of-type {\n",
       "        vertical-align: middle;\n",
       "    }\n",
       "\n",
       "    .dataframe tbody tr th {\n",
       "        vertical-align: top;\n",
       "    }\n",
       "\n",
       "    .dataframe thead th {\n",
       "        text-align: right;\n",
       "    }\n",
       "</style>\n",
       "<table border=\"1\" class=\"dataframe\">\n",
       "  <thead>\n",
       "    <tr style=\"text-align: right;\">\n",
       "      <th></th>\n",
       "      <th>cross validation score</th>\n",
       "    </tr>\n",
       "  </thead>\n",
       "  <tbody>\n",
       "    <tr>\n",
       "      <th>0</th>\n",
       "      <td>0.648897</td>\n",
       "    </tr>\n",
       "    <tr>\n",
       "      <th>1</th>\n",
       "      <td>0.664068</td>\n",
       "    </tr>\n",
       "    <tr>\n",
       "      <th>2</th>\n",
       "      <td>0.780032</td>\n",
       "    </tr>\n",
       "    <tr>\n",
       "      <th>3</th>\n",
       "      <td>0.714864</td>\n",
       "    </tr>\n",
       "    <tr>\n",
       "      <th>4</th>\n",
       "      <td>0.631915</td>\n",
       "    </tr>\n",
       "  </tbody>\n",
       "</table>\n",
       "</div>"
      ],
      "text/plain": [
       "   cross validation score\n",
       "0                0.648897\n",
       "1                0.664068\n",
       "2                0.780032\n",
       "3                0.714864\n",
       "4                0.631915"
      ]
     },
     "execution_count": 43,
     "metadata": {},
     "output_type": "execute_result"
    }
   ],
   "source": [
    "lr_regcs = cross_val_score(lreg, x_test, y_test)\n",
    "cs=({'cross validation score': lr_regcs})\n",
    "cs2=pd.DataFrame(cs)\n",
    "cs2"
   ]
  },
  {
   "cell_type": "code",
   "execution_count": 44,
   "metadata": {},
   "outputs": [
    {
     "name": "stdout",
     "output_type": "stream",
     "text": [
      "Average Train Score:  0.29666054676099\n",
      "Average Test Score:  0.6879553636338607\n"
     ]
    }
   ],
   "source": [
    "print('Average Train Score: ',cs1.mean()[0])\n",
    "print('Average Test Score: ',cs2.mean()[0])\n",
    "full_table += [['Linear Regressor: ',' ',cs1.mean()[0],cs2.mean()[0],\n",
    "               r2_score(y_test,lreg.predict(x_test))]]"
   ]
  },
  {
   "cell_type": "markdown",
   "metadata": {},
   "source": [
    "### Ridge"
   ]
  },
  {
   "cell_type": "code",
   "execution_count": 45,
   "metadata": {},
   "outputs": [],
   "source": [
    "from sklearn.linear_model import Lasso,Ridge\n",
    "from sklearn.model_selection import GridSearchCV"
   ]
  },
  {
   "cell_type": "code",
   "execution_count": 46,
   "metadata": {},
   "outputs": [],
   "source": [
    "lambdas=np.linspace(13,17,100)"
   ]
  },
  {
   "cell_type": "code",
   "execution_count": 47,
   "metadata": {},
   "outputs": [
    {
     "data": {
      "text/plain": [
       "array([13.        , 13.04040404, 13.08080808, 13.12121212, 13.16161616,\n",
       "       13.2020202 , 13.24242424, 13.28282828, 13.32323232, 13.36363636,\n",
       "       13.4040404 , 13.44444444, 13.48484848, 13.52525253, 13.56565657,\n",
       "       13.60606061, 13.64646465, 13.68686869, 13.72727273, 13.76767677,\n",
       "       13.80808081, 13.84848485, 13.88888889, 13.92929293, 13.96969697,\n",
       "       14.01010101, 14.05050505, 14.09090909, 14.13131313, 14.17171717,\n",
       "       14.21212121, 14.25252525, 14.29292929, 14.33333333, 14.37373737,\n",
       "       14.41414141, 14.45454545, 14.49494949, 14.53535354, 14.57575758,\n",
       "       14.61616162, 14.65656566, 14.6969697 , 14.73737374, 14.77777778,\n",
       "       14.81818182, 14.85858586, 14.8989899 , 14.93939394, 14.97979798,\n",
       "       15.02020202, 15.06060606, 15.1010101 , 15.14141414, 15.18181818,\n",
       "       15.22222222, 15.26262626, 15.3030303 , 15.34343434, 15.38383838,\n",
       "       15.42424242, 15.46464646, 15.50505051, 15.54545455, 15.58585859,\n",
       "       15.62626263, 15.66666667, 15.70707071, 15.74747475, 15.78787879,\n",
       "       15.82828283, 15.86868687, 15.90909091, 15.94949495, 15.98989899,\n",
       "       16.03030303, 16.07070707, 16.11111111, 16.15151515, 16.19191919,\n",
       "       16.23232323, 16.27272727, 16.31313131, 16.35353535, 16.39393939,\n",
       "       16.43434343, 16.47474747, 16.51515152, 16.55555556, 16.5959596 ,\n",
       "       16.63636364, 16.67676768, 16.71717172, 16.75757576, 16.7979798 ,\n",
       "       16.83838384, 16.87878788, 16.91919192, 16.95959596, 17.        ])"
      ]
     },
     "execution_count": 47,
     "metadata": {},
     "output_type": "execute_result"
    }
   ],
   "source": [
    "lambdas"
   ]
  },
  {
   "cell_type": "code",
   "execution_count": 48,
   "metadata": {},
   "outputs": [],
   "source": [
    "params={'alpha':lambdas}"
   ]
  },
  {
   "cell_type": "code",
   "execution_count": 49,
   "metadata": {},
   "outputs": [],
   "source": [
    "model=Ridge(fit_intercept=True)"
   ]
  },
  {
   "cell_type": "code",
   "execution_count": 50,
   "metadata": {},
   "outputs": [],
   "source": [
    "train_score_list = []\n",
    "test_score_list = []\n",
    "\n",
    "for alpha in lambdas: \n",
    "    ridge = Ridge(alpha)\n",
    "    ridge.fit(x_train,  y_train)\n",
    "    train_score_list.append(ridge.score(x_train, y_train))\n",
    "    test_score_list.append(ridge.score(x_test, y_test))"
   ]
  },
  {
   "cell_type": "code",
   "execution_count": 51,
   "metadata": {},
   "outputs": [],
   "source": [
    "import matplotlib.pyplot as plt"
   ]
  },
  {
   "cell_type": "code",
   "execution_count": 52,
   "metadata": {},
   "outputs": [
    {
     "data": {
      "image/png": "[encoded data removed]",
      "text/plain": [
       "<Figure size 1440x360 with 1 Axes>"
      ]
     },
     "metadata": {
      "needs_background": "light"
     },
     "output_type": "display_data"
    }
   ],
   "source": [
    "%matplotlib inline\n",
    "import matplotlib.pyplot as plt\n",
    "\n",
    "x_range = np.linspace(1,100,100)\n",
    "\n",
    "plt.subplots(figsize = (20,5))\n",
    "plt.plot(x_range, train_score_list, c = 'g', label = 'Train Score')\n",
    "plt.plot(x_range, test_score_list, c = 'b', label = 'Test Score')\n",
    "plt.xscale('log')\n",
    "plt.legend(loc = 3)\n",
    "plt.xlabel(r'$\\alpha$')\n",
    "plt.grid()"
   ]
  },
  {
   "cell_type": "code",
   "execution_count": 53,
   "metadata": {
    "scrolled": true
   },
   "outputs": [
    {
     "data": {
      "image/png": "[encoded data removed]",
      "text/plain": [
       "<Figure size 1080x360 with 1 Axes>"
      ]
     },
     "metadata": {
      "needs_background": "light"
     },
     "output_type": "display_data"
    }
   ],
   "source": [
    "%matplotlib inline\n",
    "import numpy as np\n",
    "\n",
    "x_range1 = np.linspace(0.001, 1, 100).reshape(-1,1)\n",
    "x_range2 = np.linspace(1, 10000, 10000).reshape(-1,1)\n",
    "\n",
    "x_range = np.append(x_range1, x_range2)\n",
    "coeff = []\n",
    "\n",
    "for alpha in x_range: \n",
    "    ridge = Ridge(alpha)\n",
    "    ridge.fit(x_train,y_train)\n",
    "    coeff.append(ridge.coef_ )\n",
    "    \n",
    "coeff = np.array(coeff)\n",
    "\n",
    "plt.subplots(figsize = (15,5))\n",
    "for i in range(0,13):\n",
    "    plt.plot(x_range, coeff[:,i], label = x.columns[i])\n",
    "\n",
    "plt.axhline(y=0, xmin=0.001, xmax=9999, linewidth=1, c ='gray')\n",
    "plt.xlabel(r'$\\alpha$')\n",
    "plt.xscale('log')\n",
    "plt.legend(loc='upper center', bbox_to_anchor=(0.5, 1.5),\n",
    "          ncol=3, fancybox=True, shadow=True)\n",
    "plt.show()"
   ]
  },
  {
   "cell_type": "markdown",
   "metadata": {},
   "source": [
    "#### Grid Search"
   ]
  },
  {
   "cell_type": "code",
   "execution_count": 54,
   "metadata": {},
   "outputs": [],
   "source": [
    "grid_search = GridSearchCV(model,params,cv=5)"
   ]
  },
  {
   "cell_type": "code",
   "execution_count": 55,
   "metadata": {},
   "outputs": [
    {
     "data": {
      "text/plain": [
       "GridSearchCV(cv=5, estimator=Ridge(),\n",
       "             param_grid={'alpha': array([13.        , 13.04040404, 13.08080808, 13.12121212, 13.16161616,\n",
       "       13.2020202 , 13.24242424, 13.28282828, 13.32323232, 13.36363636,\n",
       "       13.4040404 , 13.44444444, 13.48484848, 13.52525253, 13.56565657,\n",
       "       13.60606061, 13.64646465, 13.68686869, 13.72727273, 13.76767677,\n",
       "       13.80808081, 13.84848485, 13.88888889, 13.92929293, 13.969696...\n",
       "       15.82828283, 15.86868687, 15.90909091, 15.94949495, 15.98989899,\n",
       "       16.03030303, 16.07070707, 16.11111111, 16.15151515, 16.19191919,\n",
       "       16.23232323, 16.27272727, 16.31313131, 16.35353535, 16.39393939,\n",
       "       16.43434343, 16.47474747, 16.51515152, 16.55555556, 16.5959596 ,\n",
       "       16.63636364, 16.67676768, 16.71717172, 16.75757576, 16.7979798 ,\n",
       "       16.83838384, 16.87878788, 16.91919192, 16.95959596, 17.        ])})"
      ]
     },
     "execution_count": 55,
     "metadata": {},
     "output_type": "execute_result"
    }
   ],
   "source": [
    "grid_search.fit(x_train, y_train)"
   ]
  },
  {
   "cell_type": "code",
   "execution_count": 56,
   "metadata": {},
   "outputs": [
    {
     "name": "stdout",
     "output_type": "stream",
     "text": [
      "Best parameters: {'alpha': 15.464646464646465}\n",
      "Best cross-validation score: 0.7500\n"
     ]
    }
   ],
   "source": [
    "print(\"Best parameters: {}\".format(grid_search.best_params_))\n",
    "print(\"Best cross-validation score: {:.4f}\".format(grid_search.best_score_))"
   ]
  },
  {
   "cell_type": "code",
   "execution_count": 57,
   "metadata": {},
   "outputs": [
    {
     "data": {
      "text/html": [
       "<div>\n",
       "<style scoped>\n",
       "    .dataframe tbody tr th:only-of-type {\n",
       "        vertical-align: middle;\n",
       "    }\n",
       "\n",
       "    .dataframe tbody tr th {\n",
       "        vertical-align: top;\n",
       "    }\n",
       "\n",
       "    .dataframe thead th {\n",
       "        text-align: right;\n",
       "    }\n",
       "</style>\n",
       "<table border=\"1\" class=\"dataframe\">\n",
       "  <thead>\n",
       "    <tr style=\"text-align: right;\">\n",
       "      <th></th>\n",
       "      <th>mean_fit_time</th>\n",
       "      <th>std_fit_time</th>\n",
       "      <th>mean_score_time</th>\n",
       "      <th>std_score_time</th>\n",
       "      <th>param_alpha</th>\n",
       "      <th>params</th>\n",
       "      <th>split0_test_score</th>\n",
       "      <th>split1_test_score</th>\n",
       "      <th>split2_test_score</th>\n",
       "      <th>split3_test_score</th>\n",
       "      <th>split4_test_score</th>\n",
       "      <th>mean_test_score</th>\n",
       "      <th>std_test_score</th>\n",
       "      <th>rank_test_score</th>\n",
       "    </tr>\n",
       "  </thead>\n",
       "  <tbody>\n",
       "    <tr>\n",
       "      <th>0</th>\n",
       "      <td>0.001619</td>\n",
       "      <td>0.000834</td>\n",
       "      <td>0.0002</td>\n",
       "      <td>0.0004</td>\n",
       "      <td>13</td>\n",
       "      <td>{'alpha': 13.0}</td>\n",
       "      <td>0.745351</td>\n",
       "      <td>0.743827</td>\n",
       "      <td>0.734591</td>\n",
       "      <td>0.751774</td>\n",
       "      <td>0.774636</td>\n",
       "      <td>0.750036</td>\n",
       "      <td>0.013470</td>\n",
       "      <td>100</td>\n",
       "    </tr>\n",
       "    <tr>\n",
       "      <th>1</th>\n",
       "      <td>0.001088</td>\n",
       "      <td>0.000177</td>\n",
       "      <td>0.0002</td>\n",
       "      <td>0.0004</td>\n",
       "      <td>13.0404</td>\n",
       "      <td>{'alpha': 13.04040404040404}</td>\n",
       "      <td>0.745351</td>\n",
       "      <td>0.743827</td>\n",
       "      <td>0.734590</td>\n",
       "      <td>0.751775</td>\n",
       "      <td>0.774637</td>\n",
       "      <td>0.750036</td>\n",
       "      <td>0.013471</td>\n",
       "      <td>99</td>\n",
       "    </tr>\n",
       "    <tr>\n",
       "      <th>2</th>\n",
       "      <td>0.000802</td>\n",
       "      <td>0.000401</td>\n",
       "      <td>0.0002</td>\n",
       "      <td>0.0004</td>\n",
       "      <td>13.0808</td>\n",
       "      <td>{'alpha': 13.080808080808081}</td>\n",
       "      <td>0.745351</td>\n",
       "      <td>0.743827</td>\n",
       "      <td>0.734589</td>\n",
       "      <td>0.751775</td>\n",
       "      <td>0.774639</td>\n",
       "      <td>0.750036</td>\n",
       "      <td>0.013472</td>\n",
       "      <td>98</td>\n",
       "    </tr>\n",
       "    <tr>\n",
       "      <th>3</th>\n",
       "      <td>0.000800</td>\n",
       "      <td>0.000400</td>\n",
       "      <td>0.0002</td>\n",
       "      <td>0.0004</td>\n",
       "      <td>13.1212</td>\n",
       "      <td>{'alpha': 13.121212121212121}</td>\n",
       "      <td>0.745351</td>\n",
       "      <td>0.743828</td>\n",
       "      <td>0.734588</td>\n",
       "      <td>0.751775</td>\n",
       "      <td>0.774640</td>\n",
       "      <td>0.750036</td>\n",
       "      <td>0.013472</td>\n",
       "      <td>97</td>\n",
       "    </tr>\n",
       "    <tr>\n",
       "      <th>4</th>\n",
       "      <td>0.001116</td>\n",
       "      <td>0.000230</td>\n",
       "      <td>0.0002</td>\n",
       "      <td>0.0004</td>\n",
       "      <td>13.1616</td>\n",
       "      <td>{'alpha': 13.16161616161616}</td>\n",
       "      <td>0.745351</td>\n",
       "      <td>0.743828</td>\n",
       "      <td>0.734587</td>\n",
       "      <td>0.751775</td>\n",
       "      <td>0.774641</td>\n",
       "      <td>0.750036</td>\n",
       "      <td>0.013473</td>\n",
       "      <td>96</td>\n",
       "    </tr>\n",
       "  </tbody>\n",
       "</table>\n",
       "</div>"
      ],
      "text/plain": [
       "   mean_fit_time  std_fit_time  mean_score_time  std_score_time param_alpha  \\\n",
       "0       0.001619      0.000834           0.0002          0.0004          13   \n",
       "1       0.001088      0.000177           0.0002          0.0004     13.0404   \n",
       "2       0.000802      0.000401           0.0002          0.0004     13.0808   \n",
       "3       0.000800      0.000400           0.0002          0.0004     13.1212   \n",
       "4       0.001116      0.000230           0.0002          0.0004     13.1616   \n",
       "\n",
       "                          params  split0_test_score  split1_test_score  \\\n",
       "0                {'alpha': 13.0}           0.745351           0.743827   \n",
       "1   {'alpha': 13.04040404040404}           0.745351           0.743827   \n",
       "2  {'alpha': 13.080808080808081}           0.745351           0.743827   \n",
       "3  {'alpha': 13.121212121212121}           0.745351           0.743828   \n",
       "4   {'alpha': 13.16161616161616}           0.745351           0.743828   \n",
       "\n",
       "   split2_test_score  split3_test_score  split4_test_score  mean_test_score  \\\n",
       "0           0.734591           0.751774           0.774636         0.750036   \n",
       "1           0.734590           0.751775           0.774637         0.750036   \n",
       "2           0.734589           0.751775           0.774639         0.750036   \n",
       "3           0.734588           0.751775           0.774640         0.750036   \n",
       "4           0.734587           0.751775           0.774641         0.750036   \n",
       "\n",
       "   std_test_score  rank_test_score  \n",
       "0        0.013470              100  \n",
       "1        0.013471               99  \n",
       "2        0.013472               98  \n",
       "3        0.013472               97  \n",
       "4        0.013473               96  "
      ]
     },
     "metadata": {},
     "output_type": "display_data"
    }
   ],
   "source": [
    "import pandas as pd\n",
    "# convert to DataFrame\n",
    "results = pd.DataFrame(grid_search.cv_results_)\n",
    "# show the first 5 rows\n",
    "display(results.head())"
   ]
  },
  {
   "cell_type": "code",
   "execution_count": 58,
   "metadata": {
    "scrolled": true
   },
   "outputs": [
    {
     "name": "stdout",
     "output_type": "stream",
     "text": [
      "Ridge Train Score:  0.7652822514780433\n",
      "Ridge Test Score:  0.753645981659013\n"
     ]
    }
   ],
   "source": [
    "print('Ridge Train Score: ',grid_search.score(x_train,y_train))\n",
    "print('Ridge Test Score: ',grid_search.score(x_test,y_test))"
   ]
  },
  {
   "cell_type": "markdown",
   "metadata": {},
   "source": [
    "#### Cross Validation"
   ]
  },
  {
   "cell_type": "code",
   "execution_count": 60,
   "metadata": {},
   "outputs": [
    {
     "data": {
      "text/html": [
       "<div>\n",
       "<style scoped>\n",
       "    .dataframe tbody tr th:only-of-type {\n",
       "        vertical-align: middle;\n",
       "    }\n",
       "\n",
       "    .dataframe tbody tr th {\n",
       "        vertical-align: top;\n",
       "    }\n",
       "\n",
       "    .dataframe thead th {\n",
       "        text-align: right;\n",
       "    }\n",
       "</style>\n",
       "<table border=\"1\" class=\"dataframe\">\n",
       "  <thead>\n",
       "    <tr style=\"text-align: right;\">\n",
       "      <th></th>\n",
       "      <th>cross validation score</th>\n",
       "    </tr>\n",
       "  </thead>\n",
       "  <tbody>\n",
       "    <tr>\n",
       "      <th>0</th>\n",
       "      <td>0.745337</td>\n",
       "    </tr>\n",
       "    <tr>\n",
       "      <th>1</th>\n",
       "      <td>0.743822</td>\n",
       "    </tr>\n",
       "    <tr>\n",
       "      <th>2</th>\n",
       "      <td>0.734511</td>\n",
       "    </tr>\n",
       "    <tr>\n",
       "      <th>3</th>\n",
       "      <td>0.751774</td>\n",
       "    </tr>\n",
       "    <tr>\n",
       "      <th>4</th>\n",
       "      <td>0.774636</td>\n",
       "    </tr>\n",
       "  </tbody>\n",
       "</table>\n",
       "</div>"
      ],
      "text/plain": [
       "   cross validation score\n",
       "0                0.745337\n",
       "1                0.743822\n",
       "2                0.734511\n",
       "3                0.751774\n",
       "4                0.774636"
      ]
     },
     "execution_count": 60,
     "metadata": {},
     "output_type": "execute_result"
    }
   ],
   "source": [
    "ridge_regcs = cross_val_score(grid_search, x_train, y_train)\n",
    "cs=({'cross validation score': ridge_regcs})\n",
    "cs1=pd.DataFrame(cs)\n",
    "cs1\n"
   ]
  },
  {
   "cell_type": "code",
   "execution_count": 61,
   "metadata": {},
   "outputs": [
    {
     "data": {
      "text/html": [
       "<div>\n",
       "<style scoped>\n",
       "    .dataframe tbody tr th:only-of-type {\n",
       "        vertical-align: middle;\n",
       "    }\n",
       "\n",
       "    .dataframe tbody tr th {\n",
       "        vertical-align: top;\n",
       "    }\n",
       "\n",
       "    .dataframe thead th {\n",
       "        text-align: right;\n",
       "    }\n",
       "</style>\n",
       "<table border=\"1\" class=\"dataframe\">\n",
       "  <thead>\n",
       "    <tr style=\"text-align: right;\">\n",
       "      <th></th>\n",
       "      <th>cross validation score</th>\n",
       "    </tr>\n",
       "  </thead>\n",
       "  <tbody>\n",
       "    <tr>\n",
       "      <th>0</th>\n",
       "      <td>0.649642</td>\n",
       "    </tr>\n",
       "    <tr>\n",
       "      <th>1</th>\n",
       "      <td>0.689831</td>\n",
       "    </tr>\n",
       "    <tr>\n",
       "      <th>2</th>\n",
       "      <td>0.776096</td>\n",
       "    </tr>\n",
       "    <tr>\n",
       "      <th>3</th>\n",
       "      <td>0.742853</td>\n",
       "    </tr>\n",
       "    <tr>\n",
       "      <th>4</th>\n",
       "      <td>0.640895</td>\n",
       "    </tr>\n",
       "  </tbody>\n",
       "</table>\n",
       "</div>"
      ],
      "text/plain": [
       "   cross validation score\n",
       "0                0.649642\n",
       "1                0.689831\n",
       "2                0.776096\n",
       "3                0.742853\n",
       "4                0.640895"
      ]
     },
     "execution_count": 61,
     "metadata": {},
     "output_type": "execute_result"
    }
   ],
   "source": [
    "ridge_regcs = cross_val_score(grid_search, x_test, y_test)\n",
    "cs=({'cross validation score': ridge_regcs})\n",
    "cs2=pd.DataFrame(cs)\n",
    "cs2"
   ]
  },
  {
   "cell_type": "code",
   "execution_count": 62,
   "metadata": {},
   "outputs": [
    {
     "name": "stdout",
     "output_type": "stream",
     "text": [
      "Average Train Score:  0.7500159423387744\n",
      "Average Test Score:  0.6998636473742728\n"
     ]
    }
   ],
   "source": [
    "print('Average Train Score: ',cs1.mean()[0])\n",
    "print('Average Test Score: ',cs2.mean()[0])\n",
    "full_table += [['Ridge Regressor: ',grid_search.best_params_,cs1.mean()[0],cs2.mean()[0],\n",
    "               r2_score(y_test,grid_search.predict(x_test))]]"
   ]
  },
  {
   "cell_type": "code",
   "execution_count": null,
   "metadata": {},
   "outputs": [],
   "source": []
  },
  {
   "cell_type": "markdown",
   "metadata": {},
   "source": [
    "### Lasso"
   ]
  },
  {
   "cell_type": "code",
   "execution_count": 63,
   "metadata": {},
   "outputs": [],
   "source": [
    "from sklearn.linear_model import Lasso\n",
    "x_range = np.linspace(0.01,0.1,100)\n",
    "train_score_list = []\n",
    "test_score_list = []\n",
    "\n",
    "for alpha in x_range: \n",
    "    lasso = Lasso(alpha)\n",
    "    lasso.fit(x_train,y_train)\n",
    "    train_score_list.append(lasso.score(x_train,y_train))\n",
    "    test_score_list.append(lasso.score(x_test, y_test))"
   ]
  },
  {
   "cell_type": "code",
   "execution_count": 64,
   "metadata": {},
   "outputs": [
    {
     "data": {
      "image/png": "[encoded data removed]",
      "text/plain": [
       "<Figure size 1440x360 with 1 Axes>"
      ]
     },
     "metadata": {
      "needs_background": "light"
     },
     "output_type": "display_data"
    }
   ],
   "source": [
    "%matplotlib inline\n",
    "plt.subplots(figsize = (20,5))\n",
    "plt.plot(x_range, train_score_list, c = 'g', label = 'Train Score')\n",
    "plt.plot(x_range, test_score_list, c = 'b', label = 'Test Score')\n",
    "plt.xscale('log')\n",
    "plt.legend(loc = 3)\n",
    "plt.xlabel(r'$\\alpha$')\n",
    "plt.grid()"
   ]
  },
  {
   "cell_type": "code",
   "execution_count": 65,
   "metadata": {},
   "outputs": [
    {
     "data": {
      "image/png": "[encoded data removed]",
      "text/plain": [
       "<Figure size 1080x360 with 1 Axes>"
      ]
     },
     "metadata": {
      "needs_background": "light"
     },
     "output_type": "display_data"
    }
   ],
   "source": [
    "%matplotlib inline\n",
    "\n",
    "x_range1 = np.linspace(0.001, 1, 1000).reshape(-1,1)\n",
    "x_range2 = np.linspace(1, 1000, 1000).reshape(-1,1)\n",
    "\n",
    "x_range = np.append(x_range1, x_range2)\n",
    "coeff = []\n",
    "\n",
    "for alpha in x_range: \n",
    "    lasso = Lasso(alpha)\n",
    "    lasso.fit(x_train,y_train)\n",
    "    coeff.append(lasso.coef_ )\n",
    "    \n",
    "coeff = np.array(coeff)\n",
    "\n",
    "plt.subplots(figsize = (15,5))\n",
    "for i in range(0,13):\n",
    "    plt.plot(x_range, coeff[:,i], label = x.columns[i])\n",
    "\n",
    "plt.axhline(y=0, xmin=0.001, xmax=9999, linewidth=1, c ='gray')\n",
    "plt.xlabel(r'$\\alpha$')\n",
    "plt.xscale('log')\n",
    "plt.legend(loc='upper center', bbox_to_anchor=(0.5, 1.5),\n",
    "          ncol=3, fancybox=True, shadow=True)\n",
    "plt.show()"
   ]
  },
  {
   "cell_type": "markdown",
   "metadata": {},
   "source": [
    "#### Grid Search"
   ]
  },
  {
   "cell_type": "code",
   "execution_count": 66,
   "metadata": {},
   "outputs": [],
   "source": [
    "lamdas = np.linspace(0.1,0.001,100)"
   ]
  },
  {
   "cell_type": "code",
   "execution_count": 67,
   "metadata": {},
   "outputs": [],
   "source": [
    "params = {'alpha':lamdas}"
   ]
  },
  {
   "cell_type": "code",
   "execution_count": 68,
   "metadata": {},
   "outputs": [],
   "source": [
    "grid_search = GridSearchCV(Lasso(),params,cv=5)"
   ]
  },
  {
   "cell_type": "code",
   "execution_count": 69,
   "metadata": {},
   "outputs": [
    {
     "data": {
      "text/plain": [
       "GridSearchCV(cv=5, estimator=Lasso(),\n",
       "             param_grid={'alpha': array([0.1  , 0.099, 0.098, 0.097, 0.096, 0.095, 0.094, 0.093, 0.092,\n",
       "       0.091, 0.09 , 0.089, 0.088, 0.087, 0.086, 0.085, 0.084, 0.083,\n",
       "       0.082, 0.081, 0.08 , 0.079, 0.078, 0.077, 0.076, 0.075, 0.074,\n",
       "       0.073, 0.072, 0.071, 0.07 , 0.069, 0.068, 0.067, 0.066, 0.065,\n",
       "       0.064, 0.063, 0.062, 0.061, 0.06 , 0.059, 0.058, 0.057, 0.056,\n",
       "       0.055, 0.054, 0.053, 0.052, 0.051, 0.05 , 0.049, 0.048, 0.047,\n",
       "       0.046, 0.045, 0.044, 0.043, 0.042, 0.041, 0.04 , 0.039, 0.038,\n",
       "       0.037, 0.036, 0.035, 0.034, 0.033, 0.032, 0.031, 0.03 , 0.029,\n",
       "       0.028, 0.027, 0.026, 0.025, 0.024, 0.023, 0.022, 0.021, 0.02 ,\n",
       "       0.019, 0.018, 0.017, 0.016, 0.015, 0.014, 0.013, 0.012, 0.011,\n",
       "       0.01 , 0.009, 0.008, 0.007, 0.006, 0.005, 0.004, 0.003, 0.002,\n",
       "       0.001])})"
      ]
     },
     "execution_count": 69,
     "metadata": {},
     "output_type": "execute_result"
    }
   ],
   "source": [
    "grid_search.fit(x_train, y_train)"
   ]
  },
  {
   "cell_type": "code",
   "execution_count": 70,
   "metadata": {},
   "outputs": [
    {
     "name": "stdout",
     "output_type": "stream",
     "text": [
      "Best parameters: {'alpha': 0.032}\n",
      "Best cross-validation score: 0.7527\n"
     ]
    }
   ],
   "source": [
    "print(\"Best parameters: {}\".format(grid_search.best_params_))\n",
    "print(\"Best cross-validation score: {:.4f}\".format(grid_search.best_score_))"
   ]
  },
  {
   "cell_type": "code",
   "execution_count": 71,
   "metadata": {},
   "outputs": [
    {
     "data": {
      "text/html": [
       "<div>\n",
       "<style scoped>\n",
       "    .dataframe tbody tr th:only-of-type {\n",
       "        vertical-align: middle;\n",
       "    }\n",
       "\n",
       "    .dataframe tbody tr th {\n",
       "        vertical-align: top;\n",
       "    }\n",
       "\n",
       "    .dataframe thead th {\n",
       "        text-align: right;\n",
       "    }\n",
       "</style>\n",
       "<table border=\"1\" class=\"dataframe\">\n",
       "  <thead>\n",
       "    <tr style=\"text-align: right;\">\n",
       "      <th></th>\n",
       "      <th>mean_fit_time</th>\n",
       "      <th>std_fit_time</th>\n",
       "      <th>mean_score_time</th>\n",
       "      <th>std_score_time</th>\n",
       "      <th>param_alpha</th>\n",
       "      <th>params</th>\n",
       "      <th>split0_test_score</th>\n",
       "      <th>split1_test_score</th>\n",
       "      <th>split2_test_score</th>\n",
       "      <th>split3_test_score</th>\n",
       "      <th>split4_test_score</th>\n",
       "      <th>mean_test_score</th>\n",
       "      <th>std_test_score</th>\n",
       "      <th>rank_test_score</th>\n",
       "    </tr>\n",
       "  </thead>\n",
       "  <tbody>\n",
       "    <tr>\n",
       "      <th>0</th>\n",
       "      <td>0.000792</td>\n",
       "      <td>0.000396</td>\n",
       "      <td>0.0006</td>\n",
       "      <td>0.000490</td>\n",
       "      <td>0.1</td>\n",
       "      <td>{'alpha': 0.1}</td>\n",
       "      <td>0.740842</td>\n",
       "      <td>0.750920</td>\n",
       "      <td>0.727092</td>\n",
       "      <td>0.751368</td>\n",
       "      <td>0.782484</td>\n",
       "      <td>0.750541</td>\n",
       "      <td>0.018249</td>\n",
       "      <td>98</td>\n",
       "    </tr>\n",
       "    <tr>\n",
       "      <th>1</th>\n",
       "      <td>0.001060</td>\n",
       "      <td>0.000117</td>\n",
       "      <td>0.0005</td>\n",
       "      <td>0.000447</td>\n",
       "      <td>0.099</td>\n",
       "      <td>{'alpha': 0.099}</td>\n",
       "      <td>0.740905</td>\n",
       "      <td>0.750920</td>\n",
       "      <td>0.727178</td>\n",
       "      <td>0.751446</td>\n",
       "      <td>0.782553</td>\n",
       "      <td>0.750600</td>\n",
       "      <td>0.018245</td>\n",
       "      <td>96</td>\n",
       "    </tr>\n",
       "    <tr>\n",
       "      <th>2</th>\n",
       "      <td>0.001020</td>\n",
       "      <td>0.000039</td>\n",
       "      <td>0.0002</td>\n",
       "      <td>0.000400</td>\n",
       "      <td>0.098</td>\n",
       "      <td>{'alpha': 0.098}</td>\n",
       "      <td>0.740967</td>\n",
       "      <td>0.750919</td>\n",
       "      <td>0.727263</td>\n",
       "      <td>0.751521</td>\n",
       "      <td>0.782619</td>\n",
       "      <td>0.750658</td>\n",
       "      <td>0.018241</td>\n",
       "      <td>95</td>\n",
       "    </tr>\n",
       "    <tr>\n",
       "      <th>3</th>\n",
       "      <td>0.001175</td>\n",
       "      <td>0.000359</td>\n",
       "      <td>0.0002</td>\n",
       "      <td>0.000400</td>\n",
       "      <td>0.097</td>\n",
       "      <td>{'alpha': 0.097}</td>\n",
       "      <td>0.741027</td>\n",
       "      <td>0.750917</td>\n",
       "      <td>0.727347</td>\n",
       "      <td>0.751596</td>\n",
       "      <td>0.782684</td>\n",
       "      <td>0.750714</td>\n",
       "      <td>0.018236</td>\n",
       "      <td>94</td>\n",
       "    </tr>\n",
       "    <tr>\n",
       "      <th>4</th>\n",
       "      <td>0.000800</td>\n",
       "      <td>0.000400</td>\n",
       "      <td>0.0002</td>\n",
       "      <td>0.000400</td>\n",
       "      <td>0.096</td>\n",
       "      <td>{'alpha': 0.096}</td>\n",
       "      <td>0.741087</td>\n",
       "      <td>0.750914</td>\n",
       "      <td>0.727409</td>\n",
       "      <td>0.751670</td>\n",
       "      <td>0.782747</td>\n",
       "      <td>0.750766</td>\n",
       "      <td>0.018236</td>\n",
       "      <td>92</td>\n",
       "    </tr>\n",
       "  </tbody>\n",
       "</table>\n",
       "</div>"
      ],
      "text/plain": [
       "   mean_fit_time  std_fit_time  mean_score_time  std_score_time param_alpha  \\\n",
       "0       0.000792      0.000396           0.0006        0.000490         0.1   \n",
       "1       0.001060      0.000117           0.0005        0.000447       0.099   \n",
       "2       0.001020      0.000039           0.0002        0.000400       0.098   \n",
       "3       0.001175      0.000359           0.0002        0.000400       0.097   \n",
       "4       0.000800      0.000400           0.0002        0.000400       0.096   \n",
       "\n",
       "             params  split0_test_score  split1_test_score  split2_test_score  \\\n",
       "0    {'alpha': 0.1}           0.740842           0.750920           0.727092   \n",
       "1  {'alpha': 0.099}           0.740905           0.750920           0.727178   \n",
       "2  {'alpha': 0.098}           0.740967           0.750919           0.727263   \n",
       "3  {'alpha': 0.097}           0.741027           0.750917           0.727347   \n",
       "4  {'alpha': 0.096}           0.741087           0.750914           0.727409   \n",
       "\n",
       "   split3_test_score  split4_test_score  mean_test_score  std_test_score  \\\n",
       "0           0.751368           0.782484         0.750541        0.018249   \n",
       "1           0.751446           0.782553         0.750600        0.018245   \n",
       "2           0.751521           0.782619         0.750658        0.018241   \n",
       "3           0.751596           0.782684         0.750714        0.018236   \n",
       "4           0.751670           0.782747         0.750766        0.018236   \n",
       "\n",
       "   rank_test_score  \n",
       "0               98  \n",
       "1               96  \n",
       "2               95  \n",
       "3               94  \n",
       "4               92  "
      ]
     },
     "metadata": {},
     "output_type": "display_data"
    }
   ],
   "source": [
    "import pandas as pd\n",
    "# convert to DataFrame\n",
    "results = pd.DataFrame(grid_search.cv_results_)\n",
    "# show the first 5 rows\n",
    "display(results.head())"
   ]
  },
  {
   "cell_type": "code",
   "execution_count": 72,
   "metadata": {},
   "outputs": [
    {
     "name": "stdout",
     "output_type": "stream",
     "text": [
      "Lasso Train Score:  0.7623586849011192\n",
      "Lasso Test Score:  0.754941271330396\n"
     ]
    }
   ],
   "source": [
    "print('Lasso Train Score: ',grid_search.score(x_train,y_train))\n",
    "print('Lasso Test Score: ',grid_search.score(x_test,y_test))"
   ]
  },
  {
   "cell_type": "markdown",
   "metadata": {},
   "source": [
    "#### Cross Validation"
   ]
  },
  {
   "cell_type": "code",
   "execution_count": 73,
   "metadata": {},
   "outputs": [
    {
     "data": {
      "text/html": [
       "<div>\n",
       "<style scoped>\n",
       "    .dataframe tbody tr th:only-of-type {\n",
       "        vertical-align: middle;\n",
       "    }\n",
       "\n",
       "    .dataframe tbody tr th {\n",
       "        vertical-align: top;\n",
       "    }\n",
       "\n",
       "    .dataframe thead th {\n",
       "        text-align: right;\n",
       "    }\n",
       "</style>\n",
       "<table border=\"1\" class=\"dataframe\">\n",
       "  <thead>\n",
       "    <tr style=\"text-align: right;\">\n",
       "      <th></th>\n",
       "      <th>cross validation score</th>\n",
       "    </tr>\n",
       "  </thead>\n",
       "  <tbody>\n",
       "    <tr>\n",
       "      <th>0</th>\n",
       "      <td>0.743160</td>\n",
       "    </tr>\n",
       "    <tr>\n",
       "      <th>1</th>\n",
       "      <td>0.747748</td>\n",
       "    </tr>\n",
       "    <tr>\n",
       "      <th>2</th>\n",
       "      <td>0.730932</td>\n",
       "    </tr>\n",
       "    <tr>\n",
       "      <th>3</th>\n",
       "      <td>0.753966</td>\n",
       "    </tr>\n",
       "    <tr>\n",
       "      <th>4</th>\n",
       "      <td>0.779969</td>\n",
       "    </tr>\n",
       "  </tbody>\n",
       "</table>\n",
       "</div>"
      ],
      "text/plain": [
       "   cross validation score\n",
       "0                0.743160\n",
       "1                0.747748\n",
       "2                0.730932\n",
       "3                0.753966\n",
       "4                0.779969"
      ]
     },
     "execution_count": 73,
     "metadata": {},
     "output_type": "execute_result"
    }
   ],
   "source": [
    "Lasso_regcs = cross_val_score(grid_search, x_train, y_train)\n",
    "cs=({'cross validation score': Lasso_regcs})\n",
    "cs1=pd.DataFrame(cs)\n",
    "cs1\n"
   ]
  },
  {
   "cell_type": "code",
   "execution_count": 74,
   "metadata": {},
   "outputs": [
    {
     "data": {
      "text/html": [
       "<div>\n",
       "<style scoped>\n",
       "    .dataframe tbody tr th:only-of-type {\n",
       "        vertical-align: middle;\n",
       "    }\n",
       "\n",
       "    .dataframe tbody tr th {\n",
       "        vertical-align: top;\n",
       "    }\n",
       "\n",
       "    .dataframe thead th {\n",
       "        text-align: right;\n",
       "    }\n",
       "</style>\n",
       "<table border=\"1\" class=\"dataframe\">\n",
       "  <thead>\n",
       "    <tr style=\"text-align: right;\">\n",
       "      <th></th>\n",
       "      <th>cross validation score</th>\n",
       "    </tr>\n",
       "  </thead>\n",
       "  <tbody>\n",
       "    <tr>\n",
       "      <th>0</th>\n",
       "      <td>0.677839</td>\n",
       "    </tr>\n",
       "    <tr>\n",
       "      <th>1</th>\n",
       "      <td>0.736475</td>\n",
       "    </tr>\n",
       "    <tr>\n",
       "      <th>2</th>\n",
       "      <td>0.804182</td>\n",
       "    </tr>\n",
       "    <tr>\n",
       "      <th>3</th>\n",
       "      <td>0.782530</td>\n",
       "    </tr>\n",
       "    <tr>\n",
       "      <th>4</th>\n",
       "      <td>0.639907</td>\n",
       "    </tr>\n",
       "  </tbody>\n",
       "</table>\n",
       "</div>"
      ],
      "text/plain": [
       "   cross validation score\n",
       "0                0.677839\n",
       "1                0.736475\n",
       "2                0.804182\n",
       "3                0.782530\n",
       "4                0.639907"
      ]
     },
     "execution_count": 74,
     "metadata": {},
     "output_type": "execute_result"
    }
   ],
   "source": [
    "Lasso_regcs = cross_val_score(grid_search, x_test, y_test)\n",
    "cs=({'cross validation score': Lasso_regcs})\n",
    "cs2=pd.DataFrame(cs)\n",
    "cs2"
   ]
  },
  {
   "cell_type": "code",
   "execution_count": 75,
   "metadata": {},
   "outputs": [
    {
     "name": "stdout",
     "output_type": "stream",
     "text": [
      "Average Train Score:  0.7511549915058617\n",
      "Average Test Score:  0.72818680683994\n"
     ]
    }
   ],
   "source": [
    "print('Average Train Score: ',cs1.mean()[0])\n",
    "print('Average Test Score: ',cs2.mean()[0])\n",
    "full_table += [['Lasso Regressor: ',grid_search.best_params_,cs1.mean()[0],cs2.mean()[0],\n",
    "               r2_score(y_test,grid_search.predict(x_test))]]"
   ]
  },
  {
   "cell_type": "code",
   "execution_count": null,
   "metadata": {},
   "outputs": [],
   "source": []
  },
  {
   "cell_type": "markdown",
   "metadata": {},
   "source": [
    "## Polynomial regression"
   ]
  },
  {
   "cell_type": "markdown",
   "metadata": {},
   "source": [
    "##### Fit the Polynomial regression with degree 2"
   ]
  },
  {
   "cell_type": "code",
   "execution_count": 76,
   "metadata": {},
   "outputs": [
    {
     "name": "stdout",
     "output_type": "stream",
     "text": [
      "0.8886831501337835\n",
      "-1.3787898886556733e+21\n"
     ]
    }
   ],
   "source": [
    "from  sklearn.preprocessing  import PolynomialFeatures\n",
    "\n",
    "poly = PolynomialFeatures(degree = 2)\n",
    "x_train_poly = poly.fit_transform(x_train)\n",
    "x_test_poly = poly.transform(x_test)\n",
    "\n",
    "poly_reg = LinearRegression()\n",
    "poly_reg.fit(x_train_poly, y_train)\n",
    "\n",
    "print(poly_reg.score(x_train_poly, y_train))\n",
    "print(poly_reg.score(x_test_poly, y_test))"
   ]
  },
  {
   "cell_type": "markdown",
   "metadata": {},
   "source": [
    "##### Compare Polynomial Regression degree 2 with 3 and 4"
   ]
  },
  {
   "cell_type": "code",
   "execution_count": 77,
   "metadata": {},
   "outputs": [],
   "source": [
    "best_score= poly_reg.score(x_test_poly, y_test)"
   ]
  },
  {
   "cell_type": "code",
   "execution_count": 78,
   "metadata": {},
   "outputs": [],
   "source": [
    "lambdas = [3,4]"
   ]
  },
  {
   "cell_type": "code",
   "execution_count": 79,
   "metadata": {},
   "outputs": [
    {
     "name": "stdout",
     "output_type": "stream",
     "text": [
      "Best score: -29.36\n",
      "Best parameters: {'degree': 4}\n"
     ]
    }
   ],
   "source": [
    "best_parameters = {}\n",
    "for degree in lambdas:\n",
    "    poly = PolynomialFeatures(degree = degree)\n",
    "    x_train_poly = poly.fit_transform(x_train)\n",
    "    x_test_poly = poly.transform(x_test)\n",
    "    poly_reg = LinearRegression()\n",
    "    poly_reg.fit(x_train_poly, y_train)\n",
    "    score = poly_reg.score(x_test_poly, y_test)\n",
    "    if score > best_score:\n",
    "        best_score = score\n",
    "        best_parameters = {'degree': degree}\n",
    "\n",
    "print(\"Best score: {:.2f}\".format(best_score))\n",
    "print(\"Best parameters: {}\".format(best_parameters))\n",
    "    "
   ]
  },
  {
   "cell_type": "markdown",
   "metadata": {},
   "source": [
    "##### Fit the model with the best degree"
   ]
  },
  {
   "cell_type": "code",
   "execution_count": 80,
   "metadata": {},
   "outputs": [
    {
     "name": "stdout",
     "output_type": "stream",
     "text": [
      "1.0\n",
      "-29.36069675996196\n"
     ]
    }
   ],
   "source": [
    "from  sklearn.preprocessing  import PolynomialFeatures\n",
    "\n",
    "poly = PolynomialFeatures(degree = best_parameters['degree'])\n",
    "x_train_poly = poly.fit_transform(x_train)\n",
    "x_test_poly = poly.transform(x_test)\n",
    "\n",
    "poly_reg = LinearRegression()\n",
    "poly_reg.fit(x_train_poly, y_train)\n",
    "\n",
    "print(poly_reg.score(x_train_poly, y_train))\n",
    "print(poly_reg.score(x_test_poly, y_test))"
   ]
  },
  {
   "cell_type": "markdown",
   "metadata": {},
   "source": [
    "##### Model is over fitting"
   ]
  },
  {
   "cell_type": "markdown",
   "metadata": {},
   "source": [
    "#### Cross Validation"
   ]
  },
  {
   "cell_type": "code",
   "execution_count": 81,
   "metadata": {},
   "outputs": [
    {
     "data": {
      "text/html": [
       "<div>\n",
       "<style scoped>\n",
       "    .dataframe tbody tr th:only-of-type {\n",
       "        vertical-align: middle;\n",
       "    }\n",
       "\n",
       "    .dataframe tbody tr th {\n",
       "        vertical-align: top;\n",
       "    }\n",
       "\n",
       "    .dataframe thead th {\n",
       "        text-align: right;\n",
       "    }\n",
       "</style>\n",
       "<table border=\"1\" class=\"dataframe\">\n",
       "  <thead>\n",
       "    <tr style=\"text-align: right;\">\n",
       "      <th></th>\n",
       "      <th>cross validation score</th>\n",
       "    </tr>\n",
       "  </thead>\n",
       "  <tbody>\n",
       "    <tr>\n",
       "      <th>0</th>\n",
       "      <td>-66.043417</td>\n",
       "    </tr>\n",
       "    <tr>\n",
       "      <th>1</th>\n",
       "      <td>-1.845217</td>\n",
       "    </tr>\n",
       "    <tr>\n",
       "      <th>2</th>\n",
       "      <td>-2.521188</td>\n",
       "    </tr>\n",
       "    <tr>\n",
       "      <th>3</th>\n",
       "      <td>-3.893699</td>\n",
       "    </tr>\n",
       "    <tr>\n",
       "      <th>4</th>\n",
       "      <td>-0.956239</td>\n",
       "    </tr>\n",
       "  </tbody>\n",
       "</table>\n",
       "</div>"
      ],
      "text/plain": [
       "   cross validation score\n",
       "0              -66.043417\n",
       "1               -1.845217\n",
       "2               -2.521188\n",
       "3               -3.893699\n",
       "4               -0.956239"
      ]
     },
     "execution_count": 81,
     "metadata": {},
     "output_type": "execute_result"
    }
   ],
   "source": [
    "poly_reg_regcs = cross_val_score(poly_reg, x_train_poly, y_train)\n",
    "cs=({'cross validation score': poly_reg_regcs})\n",
    "cs1=pd.DataFrame(cs)\n",
    "cs1\n"
   ]
  },
  {
   "cell_type": "code",
   "execution_count": 82,
   "metadata": {},
   "outputs": [
    {
     "data": {
      "text/html": [
       "<div>\n",
       "<style scoped>\n",
       "    .dataframe tbody tr th:only-of-type {\n",
       "        vertical-align: middle;\n",
       "    }\n",
       "\n",
       "    .dataframe tbody tr th {\n",
       "        vertical-align: top;\n",
       "    }\n",
       "\n",
       "    .dataframe thead th {\n",
       "        text-align: right;\n",
       "    }\n",
       "</style>\n",
       "<table border=\"1\" class=\"dataframe\">\n",
       "  <thead>\n",
       "    <tr style=\"text-align: right;\">\n",
       "      <th></th>\n",
       "      <th>cross validation score</th>\n",
       "    </tr>\n",
       "  </thead>\n",
       "  <tbody>\n",
       "    <tr>\n",
       "      <th>0</th>\n",
       "      <td>0.309286</td>\n",
       "    </tr>\n",
       "    <tr>\n",
       "      <th>1</th>\n",
       "      <td>-2510.621930</td>\n",
       "    </tr>\n",
       "    <tr>\n",
       "      <th>2</th>\n",
       "      <td>0.230909</td>\n",
       "    </tr>\n",
       "    <tr>\n",
       "      <th>3</th>\n",
       "      <td>0.506494</td>\n",
       "    </tr>\n",
       "    <tr>\n",
       "      <th>4</th>\n",
       "      <td>0.375966</td>\n",
       "    </tr>\n",
       "  </tbody>\n",
       "</table>\n",
       "</div>"
      ],
      "text/plain": [
       "   cross validation score\n",
       "0                0.309286\n",
       "1            -2510.621930\n",
       "2                0.230909\n",
       "3                0.506494\n",
       "4                0.375966"
      ]
     },
     "execution_count": 82,
     "metadata": {},
     "output_type": "execute_result"
    }
   ],
   "source": [
    "poly_reg_regcs = cross_val_score(poly_reg, x_test_poly, y_test)\n",
    "cs=({'cross validation score': poly_reg_regcs})\n",
    "cs2=pd.DataFrame(cs)\n",
    "cs2"
   ]
  },
  {
   "cell_type": "code",
   "execution_count": 83,
   "metadata": {},
   "outputs": [
    {
     "name": "stdout",
     "output_type": "stream",
     "text": [
      "Average Train Score:  -15.051952063785757\n",
      "Average Test Score:  -501.8398551655784\n"
     ]
    }
   ],
   "source": [
    "print('Average Train Score: ',cs1.mean()[0])\n",
    "print('Average Test Score: ',cs2.mean()[0])\n",
    "full_table += [['Polynomial Regressor: ',best_parameters,cs1.mean()[0],cs2.mean()[0],\n",
    "               r2_score(y_test,poly_reg.predict(x_test_poly))]]"
   ]
  },
  {
   "cell_type": "markdown",
   "metadata": {},
   "source": [
    "## LinearSVR"
   ]
  },
  {
   "cell_type": "code",
   "execution_count": 84,
   "metadata": {},
   "outputs": [],
   "source": [
    "from sklearn.svm import LinearSVR"
   ]
  },
  {
   "cell_type": "code",
   "execution_count": 85,
   "metadata": {},
   "outputs": [
    {
     "data": {
      "text/plain": [
       "LinearSVR()"
      ]
     },
     "execution_count": 85,
     "metadata": {},
     "output_type": "execute_result"
    }
   ],
   "source": [
    "LinearSVR()"
   ]
  },
  {
   "cell_type": "code",
   "execution_count": 86,
   "metadata": {},
   "outputs": [],
   "source": [
    "import warnings\n",
    "warnings.filterwarnings('ignore')"
   ]
  },
  {
   "cell_type": "code",
   "execution_count": 87,
   "metadata": {
    "scrolled": true
   },
   "outputs": [],
   "source": [
    "c1 = [0.001, 0.01, 0.1, 1, 10, 100, 1000]\n",
    "\n",
    "\n",
    "LinearTrain = []\n",
    "LinearTest = []\n",
    "\n",
    "for c in c1:\n",
    "    svr = LinearSVR(C=c,max_iter= 10000)\n",
    "    svr.fit(x_train, y_train)\n",
    "    LinearTrain.append(svr.score(x_train, y_train))\n",
    "    LinearTest.append(svr.score(x_test, y_test))\n",
    "              "
   ]
  },
  {
   "cell_type": "code",
   "execution_count": null,
   "metadata": {},
   "outputs": [],
   "source": []
  },
  {
   "cell_type": "code",
   "execution_count": 88,
   "metadata": {},
   "outputs": [
    {
     "data": {
      "text/plain": [
       "<matplotlib.legend.Legend at 0x1f07814ce50>"
      ]
     },
     "execution_count": 88,
     "metadata": {},
     "output_type": "execute_result"
    },
    {
     "data": {
      "image/png": "[encoded data removed]",
      "text/plain": [
       "<Figure size 432x288 with 1 Axes>"
      ]
     },
     "metadata": {
      "needs_background": "light"
     },
     "output_type": "display_data"
    }
   ],
   "source": [
    "%matplotlib inline\n",
    "\n",
    "plt.plot(c1, LinearTrain, label = 'Train Score', c = 'g')\n",
    "plt.plot(c1, LinearTest, label = 'Test Score', c = 'b')\n",
    "plt.xscale('log')\n",
    "plt.xlabel('Values of C')\n",
    "plt.ylabel('Accuracy')\n",
    "plt.legend()"
   ]
  },
  {
   "cell_type": "markdown",
   "metadata": {},
   "source": [
    "#### Grid Search"
   ]
  },
  {
   "cell_type": "code",
   "execution_count": 89,
   "metadata": {},
   "outputs": [],
   "source": [
    "params = {'C':[0.001, 0.01, 0.1, 1, 10, 100, 1000],'max_iter': [10000]}"
   ]
  },
  {
   "cell_type": "code",
   "execution_count": 90,
   "metadata": {},
   "outputs": [],
   "source": [
    "grid_search = GridSearchCV(LinearSVR(),params)"
   ]
  },
  {
   "cell_type": "code",
   "execution_count": 91,
   "metadata": {},
   "outputs": [
    {
     "data": {
      "text/plain": [
       "GridSearchCV(estimator=LinearSVR(),\n",
       "             param_grid={'C': [0.001, 0.01, 0.1, 1, 10, 100, 1000],\n",
       "                         'max_iter': [10000]})"
      ]
     },
     "execution_count": 91,
     "metadata": {},
     "output_type": "execute_result"
    }
   ],
   "source": [
    "grid_search.fit(x_train,y_train)"
   ]
  },
  {
   "cell_type": "code",
   "execution_count": 92,
   "metadata": {},
   "outputs": [
    {
     "name": "stdout",
     "output_type": "stream",
     "text": [
      "Best parameters: {'C': 10, 'max_iter': 10000}\n",
      "Best cross-validation score: 0.7390\n"
     ]
    }
   ],
   "source": [
    "print(\"Best parameters: {}\".format(grid_search.best_params_))\n",
    "print(\"Best cross-validation score: {:.4f}\".format(grid_search.best_score_))"
   ]
  },
  {
   "cell_type": "markdown",
   "metadata": {},
   "source": [
    "#### Cross Validation"
   ]
  },
  {
   "cell_type": "code",
   "execution_count": 93,
   "metadata": {},
   "outputs": [
    {
     "data": {
      "text/html": [
       "<div>\n",
       "<style scoped>\n",
       "    .dataframe tbody tr th:only-of-type {\n",
       "        vertical-align: middle;\n",
       "    }\n",
       "\n",
       "    .dataframe tbody tr th {\n",
       "        vertical-align: top;\n",
       "    }\n",
       "\n",
       "    .dataframe thead th {\n",
       "        text-align: right;\n",
       "    }\n",
       "</style>\n",
       "<table border=\"1\" class=\"dataframe\">\n",
       "  <thead>\n",
       "    <tr style=\"text-align: right;\">\n",
       "      <th></th>\n",
       "      <th>cross validation score</th>\n",
       "    </tr>\n",
       "  </thead>\n",
       "  <tbody>\n",
       "    <tr>\n",
       "      <th>0</th>\n",
       "      <td>0.730363</td>\n",
       "    </tr>\n",
       "    <tr>\n",
       "      <th>1</th>\n",
       "      <td>0.728463</td>\n",
       "    </tr>\n",
       "    <tr>\n",
       "      <th>2</th>\n",
       "      <td>0.713592</td>\n",
       "    </tr>\n",
       "    <tr>\n",
       "      <th>3</th>\n",
       "      <td>0.746270</td>\n",
       "    </tr>\n",
       "    <tr>\n",
       "      <th>4</th>\n",
       "      <td>0.774408</td>\n",
       "    </tr>\n",
       "  </tbody>\n",
       "</table>\n",
       "</div>"
      ],
      "text/plain": [
       "   cross validation score\n",
       "0                0.730363\n",
       "1                0.728463\n",
       "2                0.713592\n",
       "3                0.746270\n",
       "4                0.774408"
      ]
     },
     "execution_count": 93,
     "metadata": {},
     "output_type": "execute_result"
    }
   ],
   "source": [
    "LinearSVMR_regcs = cross_val_score(grid_search, x_train, y_train)\n",
    "cs=({'cross validation score': LinearSVMR_regcs})\n",
    "cs1=pd.DataFrame(cs)\n",
    "cs1"
   ]
  },
  {
   "cell_type": "code",
   "execution_count": 94,
   "metadata": {},
   "outputs": [
    {
     "data": {
      "text/html": [
       "<div>\n",
       "<style scoped>\n",
       "    .dataframe tbody tr th:only-of-type {\n",
       "        vertical-align: middle;\n",
       "    }\n",
       "\n",
       "    .dataframe tbody tr th {\n",
       "        vertical-align: top;\n",
       "    }\n",
       "\n",
       "    .dataframe thead th {\n",
       "        text-align: right;\n",
       "    }\n",
       "</style>\n",
       "<table border=\"1\" class=\"dataframe\">\n",
       "  <thead>\n",
       "    <tr style=\"text-align: right;\">\n",
       "      <th></th>\n",
       "      <th>cross validation score</th>\n",
       "    </tr>\n",
       "  </thead>\n",
       "  <tbody>\n",
       "    <tr>\n",
       "      <th>0</th>\n",
       "      <td>0.662491</td>\n",
       "    </tr>\n",
       "    <tr>\n",
       "      <th>1</th>\n",
       "      <td>0.669836</td>\n",
       "    </tr>\n",
       "    <tr>\n",
       "      <th>2</th>\n",
       "      <td>0.769344</td>\n",
       "    </tr>\n",
       "    <tr>\n",
       "      <th>3</th>\n",
       "      <td>0.711477</td>\n",
       "    </tr>\n",
       "    <tr>\n",
       "      <th>4</th>\n",
       "      <td>0.607405</td>\n",
       "    </tr>\n",
       "  </tbody>\n",
       "</table>\n",
       "</div>"
      ],
      "text/plain": [
       "   cross validation score\n",
       "0                0.662491\n",
       "1                0.669836\n",
       "2                0.769344\n",
       "3                0.711477\n",
       "4                0.607405"
      ]
     },
     "execution_count": 94,
     "metadata": {},
     "output_type": "execute_result"
    }
   ],
   "source": [
    "LinearSVMR_regcs = cross_val_score(grid_search, x_test, y_test)\n",
    "cs=({'cross validation score': LinearSVMR_regcs})\n",
    "cs2=pd.DataFrame(cs)\n",
    "cs2"
   ]
  },
  {
   "cell_type": "code",
   "execution_count": 95,
   "metadata": {},
   "outputs": [
    {
     "name": "stdout",
     "output_type": "stream",
     "text": [
      "Average Train Score:  0.7386192190385596\n",
      "Average Test Score:  0.6841105147527247\n"
     ]
    }
   ],
   "source": [
    "print('Average Train Score: ',cs1.mean()[0])\n",
    "print('Average Test Score: ',cs2.mean()[0])\n",
    "full_table += [['LinearSVM Regressor: ',grid_search.best_params_,cs1.mean()[0],cs2.mean()[0],\n",
    "               r2_score(y_test,grid_search.predict(x_test))]]"
   ]
  },
  {
   "cell_type": "markdown",
   "metadata": {},
   "source": [
    "### SVR w/ Kernel : 'rbf'"
   ]
  },
  {
   "cell_type": "code",
   "execution_count": 97,
   "metadata": {},
   "outputs": [],
   "source": [
    "from sklearn.svm import SVR"
   ]
  },
  {
   "cell_type": "code",
   "execution_count": 98,
   "metadata": {},
   "outputs": [],
   "source": [
    "c1 = [0.001, 0.01, 0.1, 1, 10, 100, 1000]\n",
    "\n",
    "\n",
    "LinearTrain = []\n",
    "LinearTest = []\n",
    "\n",
    "for c in c1:\n",
    "    svr = SVR(C=c,max_iter= 10000)\n",
    "    svr.fit(x_train, y_train)\n",
    "    LinearTrain.append(svr.score(x_train, y_train))\n",
    "    LinearTest.append(svr.score(x_test, y_test))\n",
    "              "
   ]
  },
  {
   "cell_type": "code",
   "execution_count": 99,
   "metadata": {},
   "outputs": [],
   "source": [
    "from sklearn.svm import SVR"
   ]
  },
  {
   "cell_type": "markdown",
   "metadata": {},
   "source": [
    "#### Grid Search"
   ]
  },
  {
   "cell_type": "code",
   "execution_count": 100,
   "metadata": {},
   "outputs": [],
   "source": [
    "params = {'C':[1,10,100,1000,5000],'epsilon':[1.5,2,5,10],'kernel':['rbf']}"
   ]
  },
  {
   "cell_type": "code",
   "execution_count": 101,
   "metadata": {
    "scrolled": true
   },
   "outputs": [],
   "source": [
    "grid_search = GridSearchCV(SVR(),params)"
   ]
  },
  {
   "cell_type": "code",
   "execution_count": 102,
   "metadata": {},
   "outputs": [
    {
     "data": {
      "text/plain": [
       "GridSearchCV(estimator=SVR(),\n",
       "             param_grid={'C': [1, 10, 100, 1000, 5000],\n",
       "                         'epsilon': [1.5, 2, 5, 10], 'kernel': ['rbf']})"
      ]
     },
     "execution_count": 102,
     "metadata": {},
     "output_type": "execute_result"
    }
   ],
   "source": [
    "grid_search.fit(x_train,y_train)"
   ]
  },
  {
   "cell_type": "code",
   "execution_count": 103,
   "metadata": {},
   "outputs": [
    {
     "name": "stdout",
     "output_type": "stream",
     "text": [
      "Best parameters: {'C': 10, 'epsilon': 1.5, 'kernel': 'rbf'}\n",
      "Best cross-validation score: 0.7035\n"
     ]
    }
   ],
   "source": [
    "print(\"Best parameters: {}\".format(grid_search.best_params_))\n",
    "print(\"Best cross-validation score: {:.4f}\".format(grid_search.best_score_))"
   ]
  },
  {
   "cell_type": "markdown",
   "metadata": {},
   "source": [
    "#### Cross Validation"
   ]
  },
  {
   "cell_type": "code",
   "execution_count": 104,
   "metadata": {},
   "outputs": [
    {
     "data": {
      "text/html": [
       "<div>\n",
       "<style scoped>\n",
       "    .dataframe tbody tr th:only-of-type {\n",
       "        vertical-align: middle;\n",
       "    }\n",
       "\n",
       "    .dataframe tbody tr th {\n",
       "        vertical-align: top;\n",
       "    }\n",
       "\n",
       "    .dataframe thead th {\n",
       "        text-align: right;\n",
       "    }\n",
       "</style>\n",
       "<table border=\"1\" class=\"dataframe\">\n",
       "  <thead>\n",
       "    <tr style=\"text-align: right;\">\n",
       "      <th></th>\n",
       "      <th>cross validation score</th>\n",
       "    </tr>\n",
       "  </thead>\n",
       "  <tbody>\n",
       "    <tr>\n",
       "      <th>0</th>\n",
       "      <td>0.695020</td>\n",
       "    </tr>\n",
       "    <tr>\n",
       "      <th>1</th>\n",
       "      <td>0.706903</td>\n",
       "    </tr>\n",
       "    <tr>\n",
       "      <th>2</th>\n",
       "      <td>0.676121</td>\n",
       "    </tr>\n",
       "    <tr>\n",
       "      <th>3</th>\n",
       "      <td>0.733528</td>\n",
       "    </tr>\n",
       "    <tr>\n",
       "      <th>4</th>\n",
       "      <td>0.705820</td>\n",
       "    </tr>\n",
       "  </tbody>\n",
       "</table>\n",
       "</div>"
      ],
      "text/plain": [
       "   cross validation score\n",
       "0                0.695020\n",
       "1                0.706903\n",
       "2                0.676121\n",
       "3                0.733528\n",
       "4                0.705820"
      ]
     },
     "execution_count": 104,
     "metadata": {},
     "output_type": "execute_result"
    }
   ],
   "source": [
    "SVMR_regcs_rbf = cross_val_score(grid_search, x_train, y_train)\n",
    "cs=({'cross validation score': SVMR_regcs_rbf})\n",
    "cs1=pd.DataFrame(cs)\n",
    "cs1"
   ]
  },
  {
   "cell_type": "code",
   "execution_count": 105,
   "metadata": {},
   "outputs": [
    {
     "data": {
      "text/html": [
       "<div>\n",
       "<style scoped>\n",
       "    .dataframe tbody tr th:only-of-type {\n",
       "        vertical-align: middle;\n",
       "    }\n",
       "\n",
       "    .dataframe tbody tr th {\n",
       "        vertical-align: top;\n",
       "    }\n",
       "\n",
       "    .dataframe thead th {\n",
       "        text-align: right;\n",
       "    }\n",
       "</style>\n",
       "<table border=\"1\" class=\"dataframe\">\n",
       "  <thead>\n",
       "    <tr style=\"text-align: right;\">\n",
       "      <th></th>\n",
       "      <th>cross validation score</th>\n",
       "    </tr>\n",
       "  </thead>\n",
       "  <tbody>\n",
       "    <tr>\n",
       "      <th>0</th>\n",
       "      <td>0.612866</td>\n",
       "    </tr>\n",
       "    <tr>\n",
       "      <th>1</th>\n",
       "      <td>0.469669</td>\n",
       "    </tr>\n",
       "    <tr>\n",
       "      <th>2</th>\n",
       "      <td>0.691920</td>\n",
       "    </tr>\n",
       "    <tr>\n",
       "      <th>3</th>\n",
       "      <td>0.582621</td>\n",
       "    </tr>\n",
       "    <tr>\n",
       "      <th>4</th>\n",
       "      <td>0.591150</td>\n",
       "    </tr>\n",
       "  </tbody>\n",
       "</table>\n",
       "</div>"
      ],
      "text/plain": [
       "   cross validation score\n",
       "0                0.612866\n",
       "1                0.469669\n",
       "2                0.691920\n",
       "3                0.582621\n",
       "4                0.591150"
      ]
     },
     "execution_count": 105,
     "metadata": {},
     "output_type": "execute_result"
    }
   ],
   "source": [
    "SVMR_regcs_rbf = cross_val_score(grid_search, x_test, y_test)\n",
    "cs=({'cross validation score': SVMR_regcs_rbf})\n",
    "cs2=pd.DataFrame(cs)\n",
    "cs2"
   ]
  },
  {
   "cell_type": "code",
   "execution_count": 106,
   "metadata": {},
   "outputs": [
    {
     "name": "stdout",
     "output_type": "stream",
     "text": [
      "Average Train Score:  0.7034785312796115\n",
      "Average Test Score:  0.5896453848946022\n"
     ]
    }
   ],
   "source": [
    "print('Average Train Score: ',cs1.mean()[0])\n",
    "print('Average Test Score: ',cs2.mean()[0])\n",
    "full_table += [['SVM Regressor w/ rbf: ',grid_search.best_params_,cs1.mean()[0],cs2.mean()[0],\n",
    "               r2_score(y_test,grid_search.predict(x_test))]]"
   ]
  },
  {
   "cell_type": "code",
   "execution_count": null,
   "metadata": {},
   "outputs": [],
   "source": []
  },
  {
   "cell_type": "markdown",
   "metadata": {},
   "source": [
    "### SVR w/ Kernel : 'poly'"
   ]
  },
  {
   "cell_type": "markdown",
   "metadata": {},
   "source": [
    "#### Grid Search"
   ]
  },
  {
   "cell_type": "code",
   "execution_count": 107,
   "metadata": {},
   "outputs": [],
   "source": [
    "params = {'C':[1,10,100,1000,5000],'epsilon':[0.1,1,1.5,2],'kernel':['poly']}"
   ]
  },
  {
   "cell_type": "code",
   "execution_count": 108,
   "metadata": {},
   "outputs": [],
   "source": [
    "grid_search = GridSearchCV(SVR(),params)"
   ]
  },
  {
   "cell_type": "code",
   "execution_count": 109,
   "metadata": {},
   "outputs": [
    {
     "data": {
      "text/plain": [
       "GridSearchCV(estimator=SVR(),\n",
       "             param_grid={'C': [1, 10, 100, 1000, 5000],\n",
       "                         'epsilon': [0.1, 1, 1.5, 2], 'kernel': ['poly']})"
      ]
     },
     "execution_count": 109,
     "metadata": {},
     "output_type": "execute_result"
    }
   ],
   "source": [
    "grid_search.fit(x_train,y_train)"
   ]
  },
  {
   "cell_type": "code",
   "execution_count": 110,
   "metadata": {},
   "outputs": [
    {
     "name": "stdout",
     "output_type": "stream",
     "text": [
      "Best parameters: {'C': 10, 'epsilon': 1, 'kernel': 'poly'}\n",
      "Best cross-validation score: 0.5981\n"
     ]
    }
   ],
   "source": [
    "print(\"Best parameters: {}\".format(grid_search.best_params_))\n",
    "print(\"Best cross-validation score: {:.4f}\".format(grid_search.best_score_))"
   ]
  },
  {
   "cell_type": "markdown",
   "metadata": {},
   "source": [
    "#### Cross Validation"
   ]
  },
  {
   "cell_type": "code",
   "execution_count": 111,
   "metadata": {},
   "outputs": [
    {
     "data": {
      "text/html": [
       "<div>\n",
       "<style scoped>\n",
       "    .dataframe tbody tr th:only-of-type {\n",
       "        vertical-align: middle;\n",
       "    }\n",
       "\n",
       "    .dataframe tbody tr th {\n",
       "        vertical-align: top;\n",
       "    }\n",
       "\n",
       "    .dataframe thead th {\n",
       "        text-align: right;\n",
       "    }\n",
       "</style>\n",
       "<table border=\"1\" class=\"dataframe\">\n",
       "  <thead>\n",
       "    <tr style=\"text-align: right;\">\n",
       "      <th></th>\n",
       "      <th>cross validation score</th>\n",
       "    </tr>\n",
       "  </thead>\n",
       "  <tbody>\n",
       "    <tr>\n",
       "      <th>0</th>\n",
       "      <td>0.222413</td>\n",
       "    </tr>\n",
       "    <tr>\n",
       "      <th>1</th>\n",
       "      <td>0.580790</td>\n",
       "    </tr>\n",
       "    <tr>\n",
       "      <th>2</th>\n",
       "      <td>0.606389</td>\n",
       "    </tr>\n",
       "    <tr>\n",
       "      <th>3</th>\n",
       "      <td>0.610646</td>\n",
       "    </tr>\n",
       "    <tr>\n",
       "      <th>4</th>\n",
       "      <td>0.511922</td>\n",
       "    </tr>\n",
       "  </tbody>\n",
       "</table>\n",
       "</div>"
      ],
      "text/plain": [
       "   cross validation score\n",
       "0                0.222413\n",
       "1                0.580790\n",
       "2                0.606389\n",
       "3                0.610646\n",
       "4                0.511922"
      ]
     },
     "execution_count": 111,
     "metadata": {},
     "output_type": "execute_result"
    }
   ],
   "source": [
    "SVMR_regcs_poly = cross_val_score(grid_search, x_train, y_train)\n",
    "cs=({'cross validation score': SVMR_regcs_poly})\n",
    "cs1=pd.DataFrame(cs)\n",
    "cs1"
   ]
  },
  {
   "cell_type": "code",
   "execution_count": 112,
   "metadata": {},
   "outputs": [
    {
     "data": {
      "text/html": [
       "<div>\n",
       "<style scoped>\n",
       "    .dataframe tbody tr th:only-of-type {\n",
       "        vertical-align: middle;\n",
       "    }\n",
       "\n",
       "    .dataframe tbody tr th {\n",
       "        vertical-align: top;\n",
       "    }\n",
       "\n",
       "    .dataframe thead th {\n",
       "        text-align: right;\n",
       "    }\n",
       "</style>\n",
       "<table border=\"1\" class=\"dataframe\">\n",
       "  <thead>\n",
       "    <tr style=\"text-align: right;\">\n",
       "      <th></th>\n",
       "      <th>cross validation score</th>\n",
       "    </tr>\n",
       "  </thead>\n",
       "  <tbody>\n",
       "    <tr>\n",
       "      <th>0</th>\n",
       "      <td>0.057898</td>\n",
       "    </tr>\n",
       "    <tr>\n",
       "      <th>1</th>\n",
       "      <td>-42.267191</td>\n",
       "    </tr>\n",
       "    <tr>\n",
       "      <th>2</th>\n",
       "      <td>0.441847</td>\n",
       "    </tr>\n",
       "    <tr>\n",
       "      <th>3</th>\n",
       "      <td>0.059458</td>\n",
       "    </tr>\n",
       "    <tr>\n",
       "      <th>4</th>\n",
       "      <td>0.100879</td>\n",
       "    </tr>\n",
       "  </tbody>\n",
       "</table>\n",
       "</div>"
      ],
      "text/plain": [
       "   cross validation score\n",
       "0                0.057898\n",
       "1              -42.267191\n",
       "2                0.441847\n",
       "3                0.059458\n",
       "4                0.100879"
      ]
     },
     "execution_count": 112,
     "metadata": {},
     "output_type": "execute_result"
    }
   ],
   "source": [
    "SVMR_regcs_poly = cross_val_score(grid_search, x_test, y_test)\n",
    "cs=({'cross validation score': SVMR_regcs_poly})\n",
    "cs2=pd.DataFrame(cs)\n",
    "cs2"
   ]
  },
  {
   "cell_type": "code",
   "execution_count": 113,
   "metadata": {},
   "outputs": [
    {
     "name": "stdout",
     "output_type": "stream",
     "text": [
      "Average Train Score:  0.5064317722804267\n",
      "Average Test Score:  -8.321421835909154\n"
     ]
    }
   ],
   "source": [
    "print('Average Train Score: ',cs1.mean()[0])\n",
    "print('Average Test Score: ',cs2.mean()[0])\n",
    "full_table += [['SVM Regressor w/ poly: ',grid_search.best_params_,cs1.mean()[0],cs2.mean()[0],\n",
    "               r2_score(y_test,grid_search.predict(x_test))]]"
   ]
  },
  {
   "cell_type": "markdown",
   "metadata": {},
   "source": [
    "### SVR w/ Kernel : 'linear'"
   ]
  },
  {
   "cell_type": "markdown",
   "metadata": {},
   "source": [
    "#### Grid Search"
   ]
  },
  {
   "cell_type": "code",
   "execution_count": 114,
   "metadata": {},
   "outputs": [],
   "source": [
    "params = {'C':[15,20],'epsilon':[1.5,2],'kernel':['linear']}"
   ]
  },
  {
   "cell_type": "code",
   "execution_count": 115,
   "metadata": {},
   "outputs": [],
   "source": [
    "grid_search = GridSearchCV(SVR(),params)"
   ]
  },
  {
   "cell_type": "code",
   "execution_count": 116,
   "metadata": {},
   "outputs": [
    {
     "data": {
      "text/plain": [
       "GridSearchCV(estimator=SVR(),\n",
       "             param_grid={'C': [15, 20], 'epsilon': [1.5, 2],\n",
       "                         'kernel': ['linear']})"
      ]
     },
     "execution_count": 116,
     "metadata": {},
     "output_type": "execute_result"
    }
   ],
   "source": [
    "grid_search.fit(x_train,y_train)"
   ]
  },
  {
   "cell_type": "code",
   "execution_count": 117,
   "metadata": {},
   "outputs": [
    {
     "name": "stdout",
     "output_type": "stream",
     "text": [
      "Best parameters: {'C': 15, 'epsilon': 1.5, 'kernel': 'linear'}\n",
      "Best cross-validation score: 0.7501\n"
     ]
    }
   ],
   "source": [
    "print(\"Best parameters: {}\".format(grid_search.best_params_))\n",
    "print(\"Best cross-validation score: {:.4f}\".format(grid_search.best_score_))"
   ]
  },
  {
   "cell_type": "markdown",
   "metadata": {},
   "source": [
    "#### Cross Validation"
   ]
  },
  {
   "cell_type": "code",
   "execution_count": 119,
   "metadata": {},
   "outputs": [
    {
     "data": {
      "text/html": [
       "<div>\n",
       "<style scoped>\n",
       "    .dataframe tbody tr th:only-of-type {\n",
       "        vertical-align: middle;\n",
       "    }\n",
       "\n",
       "    .dataframe tbody tr th {\n",
       "        vertical-align: top;\n",
       "    }\n",
       "\n",
       "    .dataframe thead th {\n",
       "        text-align: right;\n",
       "    }\n",
       "</style>\n",
       "<table border=\"1\" class=\"dataframe\">\n",
       "  <thead>\n",
       "    <tr style=\"text-align: right;\">\n",
       "      <th></th>\n",
       "      <th>cross validation score</th>\n",
       "    </tr>\n",
       "  </thead>\n",
       "  <tbody>\n",
       "    <tr>\n",
       "      <th>0</th>\n",
       "      <td>0.742180</td>\n",
       "    </tr>\n",
       "    <tr>\n",
       "      <th>1</th>\n",
       "      <td>0.745674</td>\n",
       "    </tr>\n",
       "    <tr>\n",
       "      <th>2</th>\n",
       "      <td>0.738342</td>\n",
       "    </tr>\n",
       "    <tr>\n",
       "      <th>3</th>\n",
       "      <td>0.746513</td>\n",
       "    </tr>\n",
       "    <tr>\n",
       "      <th>4</th>\n",
       "      <td>0.767716</td>\n",
       "    </tr>\n",
       "  </tbody>\n",
       "</table>\n",
       "</div>"
      ],
      "text/plain": [
       "   cross validation score\n",
       "0                0.742180\n",
       "1                0.745674\n",
       "2                0.738342\n",
       "3                0.746513\n",
       "4                0.767716"
      ]
     },
     "execution_count": 119,
     "metadata": {},
     "output_type": "execute_result"
    }
   ],
   "source": [
    "SVMR_regcs_linear = cross_val_score(grid_search, x_train, y_train)\n",
    "cs=({'cross validation score': SVMR_regcs_linear})\n",
    "cs1=pd.DataFrame(cs)\n",
    "cs1"
   ]
  },
  {
   "cell_type": "code",
   "execution_count": 120,
   "metadata": {},
   "outputs": [
    {
     "data": {
      "text/html": [
       "<div>\n",
       "<style scoped>\n",
       "    .dataframe tbody tr th:only-of-type {\n",
       "        vertical-align: middle;\n",
       "    }\n",
       "\n",
       "    .dataframe tbody tr th {\n",
       "        vertical-align: top;\n",
       "    }\n",
       "\n",
       "    .dataframe thead th {\n",
       "        text-align: right;\n",
       "    }\n",
       "</style>\n",
       "<table border=\"1\" class=\"dataframe\">\n",
       "  <thead>\n",
       "    <tr style=\"text-align: right;\">\n",
       "      <th></th>\n",
       "      <th>cross validation score</th>\n",
       "    </tr>\n",
       "  </thead>\n",
       "  <tbody>\n",
       "    <tr>\n",
       "      <th>0</th>\n",
       "      <td>0.641546</td>\n",
       "    </tr>\n",
       "    <tr>\n",
       "      <th>1</th>\n",
       "      <td>0.654887</td>\n",
       "    </tr>\n",
       "    <tr>\n",
       "      <th>2</th>\n",
       "      <td>0.792990</td>\n",
       "    </tr>\n",
       "    <tr>\n",
       "      <th>3</th>\n",
       "      <td>0.759607</td>\n",
       "    </tr>\n",
       "    <tr>\n",
       "      <th>4</th>\n",
       "      <td>0.632474</td>\n",
       "    </tr>\n",
       "  </tbody>\n",
       "</table>\n",
       "</div>"
      ],
      "text/plain": [
       "   cross validation score\n",
       "0                0.641546\n",
       "1                0.654887\n",
       "2                0.792990\n",
       "3                0.759607\n",
       "4                0.632474"
      ]
     },
     "execution_count": 120,
     "metadata": {},
     "output_type": "execute_result"
    }
   ],
   "source": [
    "SVMR_regcs_linear = cross_val_score(grid_search, x_test, y_test)\n",
    "cs=({'cross validation score': SVMR_regcs_linear})\n",
    "cs2=pd.DataFrame(cs)\n",
    "cs2"
   ]
  },
  {
   "cell_type": "code",
   "execution_count": 121,
   "metadata": {},
   "outputs": [
    {
     "name": "stdout",
     "output_type": "stream",
     "text": [
      "Average Train Score:  0.7480850161189896\n",
      "Average Test Score:  0.6963007768380219\n"
     ]
    }
   ],
   "source": [
    "print('Average Train Score: ',cs1.mean()[0])\n",
    "print('Average Test Score: ',cs2.mean()[0])\n",
    "full_table += [['SVM Regressor w/ linear: ',grid_search.best_params_,cs1.mean()[0],cs2.mean()[0],\n",
    "               r2_score(y_test,grid_search.predict(x_test))]]"
   ]
  },
  {
   "cell_type": "markdown",
   "metadata": {},
   "source": [
    "## Decision Tree Regressor"
   ]
  },
  {
   "cell_type": "code",
   "execution_count": 122,
   "metadata": {},
   "outputs": [],
   "source": [
    "from sklearn.tree import DecisionTreeRegressor\n",
    "from sklearn.preprocessing import StandardScaler"
   ]
  },
  {
   "cell_type": "code",
   "execution_count": 123,
   "metadata": {},
   "outputs": [],
   "source": [
    "scaler = StandardScaler()"
   ]
  },
  {
   "cell_type": "code",
   "execution_count": 124,
   "metadata": {},
   "outputs": [],
   "source": [
    "x_train = scaler.fit_transform(x_train_og)\n",
    "x_test = scaler.transform(x_test_og)"
   ]
  },
  {
   "cell_type": "markdown",
   "metadata": {},
   "source": [
    "#### Grid Search"
   ]
  },
  {
   "cell_type": "code",
   "execution_count": 125,
   "metadata": {},
   "outputs": [],
   "source": [
    "params ={'criterion':['mse'],\n",
    "    'max_depth':[6,8,10,12,14],\n",
    "    'min_samples_split':[3,4,5,6],\n",
    "    'min_samples_leaf':[10,20,30,40,50],\n",
    "    'ccp_alpha':np.linspace(0.0,1,5) }"
   ]
  },
  {
   "cell_type": "code",
   "execution_count": 126,
   "metadata": {},
   "outputs": [],
   "source": [
    "grid_search = GridSearchCV(DecisionTreeRegressor(),params,cv=5)"
   ]
  },
  {
   "cell_type": "code",
   "execution_count": 127,
   "metadata": {},
   "outputs": [
    {
     "data": {
      "text/plain": [
       "GridSearchCV(cv=5, estimator=DecisionTreeRegressor(),\n",
       "             param_grid={'ccp_alpha': array([0.  , 0.25, 0.5 , 0.75, 1.  ]),\n",
       "                         'criterion': ['mse'], 'max_depth': [6, 8, 10, 12, 14],\n",
       "                         'min_samples_leaf': [10, 20, 30, 40, 50],\n",
       "                         'min_samples_split': [3, 4, 5, 6]})"
      ]
     },
     "execution_count": 127,
     "metadata": {},
     "output_type": "execute_result"
    }
   ],
   "source": [
    "grid_search.fit(x_train,y_train)"
   ]
  },
  {
   "cell_type": "code",
   "execution_count": 128,
   "metadata": {},
   "outputs": [
    {
     "name": "stdout",
     "output_type": "stream",
     "text": [
      "Best parameters: {'ccp_alpha': 0.0, 'criterion': 'mse', 'max_depth': 8, 'min_samples_leaf': 20, 'min_samples_split': 3}\n",
      "Best cross-validation score: 0.7515\n"
     ]
    }
   ],
   "source": [
    "print(\"Best parameters: {}\".format(grid_search.best_params_))\n",
    "print(\"Best cross-validation score: {:.4f}\".format(grid_search.best_score_))"
   ]
  },
  {
   "cell_type": "code",
   "execution_count": 129,
   "metadata": {},
   "outputs": [
    {
     "data": {
      "text/html": [
       "<div>\n",
       "<style scoped>\n",
       "    .dataframe tbody tr th:only-of-type {\n",
       "        vertical-align: middle;\n",
       "    }\n",
       "\n",
       "    .dataframe tbody tr th {\n",
       "        vertical-align: top;\n",
       "    }\n",
       "\n",
       "    .dataframe thead th {\n",
       "        text-align: right;\n",
       "    }\n",
       "</style>\n",
       "<table border=\"1\" class=\"dataframe\">\n",
       "  <thead>\n",
       "    <tr style=\"text-align: right;\">\n",
       "      <th></th>\n",
       "      <th>mean_fit_time</th>\n",
       "      <th>std_fit_time</th>\n",
       "      <th>mean_score_time</th>\n",
       "      <th>std_score_time</th>\n",
       "      <th>param_ccp_alpha</th>\n",
       "      <th>param_criterion</th>\n",
       "      <th>param_max_depth</th>\n",
       "      <th>param_min_samples_leaf</th>\n",
       "      <th>param_min_samples_split</th>\n",
       "      <th>params</th>\n",
       "      <th>split0_test_score</th>\n",
       "      <th>split1_test_score</th>\n",
       "      <th>split2_test_score</th>\n",
       "      <th>split3_test_score</th>\n",
       "      <th>split4_test_score</th>\n",
       "      <th>mean_test_score</th>\n",
       "      <th>std_test_score</th>\n",
       "      <th>rank_test_score</th>\n",
       "    </tr>\n",
       "  </thead>\n",
       "  <tbody>\n",
       "    <tr>\n",
       "      <th>0</th>\n",
       "      <td>0.004243</td>\n",
       "      <td>0.000485</td>\n",
       "      <td>0.000239</td>\n",
       "      <td>0.000478</td>\n",
       "      <td>0</td>\n",
       "      <td>mse</td>\n",
       "      <td>6</td>\n",
       "      <td>10</td>\n",
       "      <td>3</td>\n",
       "      <td>{'ccp_alpha': 0.0, 'criterion': 'mse', 'max_de...</td>\n",
       "      <td>0.742108</td>\n",
       "      <td>0.742734</td>\n",
       "      <td>0.731605</td>\n",
       "      <td>0.773495</td>\n",
       "      <td>0.746026</td>\n",
       "      <td>0.747194</td>\n",
       "      <td>0.014014</td>\n",
       "      <td>17</td>\n",
       "    </tr>\n",
       "    <tr>\n",
       "      <th>1</th>\n",
       "      <td>0.003800</td>\n",
       "      <td>0.000400</td>\n",
       "      <td>0.000200</td>\n",
       "      <td>0.000400</td>\n",
       "      <td>0</td>\n",
       "      <td>mse</td>\n",
       "      <td>6</td>\n",
       "      <td>10</td>\n",
       "      <td>4</td>\n",
       "      <td>{'ccp_alpha': 0.0, 'criterion': 'mse', 'max_de...</td>\n",
       "      <td>0.742108</td>\n",
       "      <td>0.742734</td>\n",
       "      <td>0.731605</td>\n",
       "      <td>0.773495</td>\n",
       "      <td>0.746026</td>\n",
       "      <td>0.747194</td>\n",
       "      <td>0.014014</td>\n",
       "      <td>17</td>\n",
       "    </tr>\n",
       "    <tr>\n",
       "      <th>2</th>\n",
       "      <td>0.003800</td>\n",
       "      <td>0.000400</td>\n",
       "      <td>0.000400</td>\n",
       "      <td>0.000490</td>\n",
       "      <td>0</td>\n",
       "      <td>mse</td>\n",
       "      <td>6</td>\n",
       "      <td>10</td>\n",
       "      <td>5</td>\n",
       "      <td>{'ccp_alpha': 0.0, 'criterion': 'mse', 'max_de...</td>\n",
       "      <td>0.742108</td>\n",
       "      <td>0.742734</td>\n",
       "      <td>0.731605</td>\n",
       "      <td>0.773495</td>\n",
       "      <td>0.746026</td>\n",
       "      <td>0.747194</td>\n",
       "      <td>0.014014</td>\n",
       "      <td>17</td>\n",
       "    </tr>\n",
       "    <tr>\n",
       "      <th>3</th>\n",
       "      <td>0.003599</td>\n",
       "      <td>0.000490</td>\n",
       "      <td>0.000400</td>\n",
       "      <td>0.000490</td>\n",
       "      <td>0</td>\n",
       "      <td>mse</td>\n",
       "      <td>6</td>\n",
       "      <td>10</td>\n",
       "      <td>6</td>\n",
       "      <td>{'ccp_alpha': 0.0, 'criterion': 'mse', 'max_de...</td>\n",
       "      <td>0.742108</td>\n",
       "      <td>0.742734</td>\n",
       "      <td>0.731605</td>\n",
       "      <td>0.773495</td>\n",
       "      <td>0.746026</td>\n",
       "      <td>0.747194</td>\n",
       "      <td>0.014014</td>\n",
       "      <td>20</td>\n",
       "    </tr>\n",
       "    <tr>\n",
       "      <th>4</th>\n",
       "      <td>0.003722</td>\n",
       "      <td>0.000391</td>\n",
       "      <td>0.000400</td>\n",
       "      <td>0.000490</td>\n",
       "      <td>0</td>\n",
       "      <td>mse</td>\n",
       "      <td>6</td>\n",
       "      <td>20</td>\n",
       "      <td>3</td>\n",
       "      <td>{'ccp_alpha': 0.0, 'criterion': 'mse', 'max_de...</td>\n",
       "      <td>0.748955</td>\n",
       "      <td>0.745254</td>\n",
       "      <td>0.727450</td>\n",
       "      <td>0.762684</td>\n",
       "      <td>0.745381</td>\n",
       "      <td>0.745945</td>\n",
       "      <td>0.011244</td>\n",
       "      <td>21</td>\n",
       "    </tr>\n",
       "  </tbody>\n",
       "</table>\n",
       "</div>"
      ],
      "text/plain": [
       "   mean_fit_time  std_fit_time  mean_score_time  std_score_time  \\\n",
       "0       0.004243      0.000485         0.000239        0.000478   \n",
       "1       0.003800      0.000400         0.000200        0.000400   \n",
       "2       0.003800      0.000400         0.000400        0.000490   \n",
       "3       0.003599      0.000490         0.000400        0.000490   \n",
       "4       0.003722      0.000391         0.000400        0.000490   \n",
       "\n",
       "  param_ccp_alpha param_criterion param_max_depth param_min_samples_leaf  \\\n",
       "0               0             mse               6                     10   \n",
       "1               0             mse               6                     10   \n",
       "2               0             mse               6                     10   \n",
       "3               0             mse               6                     10   \n",
       "4               0             mse               6                     20   \n",
       "\n",
       "  param_min_samples_split                                             params  \\\n",
       "0                       3  {'ccp_alpha': 0.0, 'criterion': 'mse', 'max_de...   \n",
       "1                       4  {'ccp_alpha': 0.0, 'criterion': 'mse', 'max_de...   \n",
       "2                       5  {'ccp_alpha': 0.0, 'criterion': 'mse', 'max_de...   \n",
       "3                       6  {'ccp_alpha': 0.0, 'criterion': 'mse', 'max_de...   \n",
       "4                       3  {'ccp_alpha': 0.0, 'criterion': 'mse', 'max_de...   \n",
       "\n",
       "   split0_test_score  split1_test_score  split2_test_score  split3_test_score  \\\n",
       "0           0.742108           0.742734           0.731605           0.773495   \n",
       "1           0.742108           0.742734           0.731605           0.773495   \n",
       "2           0.742108           0.742734           0.731605           0.773495   \n",
       "3           0.742108           0.742734           0.731605           0.773495   \n",
       "4           0.748955           0.745254           0.727450           0.762684   \n",
       "\n",
       "   split4_test_score  mean_test_score  std_test_score  rank_test_score  \n",
       "0           0.746026         0.747194        0.014014               17  \n",
       "1           0.746026         0.747194        0.014014               17  \n",
       "2           0.746026         0.747194        0.014014               17  \n",
       "3           0.746026         0.747194        0.014014               20  \n",
       "4           0.745381         0.745945        0.011244               21  "
      ]
     },
     "metadata": {},
     "output_type": "display_data"
    }
   ],
   "source": [
    "import pandas as pd\n",
    "# convert to DataFrame\n",
    "results = pd.DataFrame(grid_search.cv_results_)\n",
    "# show the first 5 rows\n",
    "display(results.head())"
   ]
  },
  {
   "cell_type": "code",
   "execution_count": 130,
   "metadata": {},
   "outputs": [
    {
     "name": "stdout",
     "output_type": "stream",
     "text": [
      "Decision Tree Regressor Train Score:  0.8194769732080798\n",
      "Decision Tree Regressor Test Score:  0.778528914059624\n"
     ]
    }
   ],
   "source": [
    "print('Decision Tree Regressor Train Score: ',grid_search.score(x_train,y_train))\n",
    "print('Decision Tree Regressor Test Score: ',grid_search.score(x_test,y_test))"
   ]
  },
  {
   "cell_type": "markdown",
   "metadata": {},
   "source": [
    "#### Cross Validation"
   ]
  },
  {
   "cell_type": "code",
   "execution_count": 131,
   "metadata": {},
   "outputs": [],
   "source": [
    "from sklearn.model_selection import cross_val_score"
   ]
  },
  {
   "cell_type": "code",
   "execution_count": 132,
   "metadata": {},
   "outputs": [
    {
     "data": {
      "text/html": [
       "<div>\n",
       "<style scoped>\n",
       "    .dataframe tbody tr th:only-of-type {\n",
       "        vertical-align: middle;\n",
       "    }\n",
       "\n",
       "    .dataframe tbody tr th {\n",
       "        vertical-align: top;\n",
       "    }\n",
       "\n",
       "    .dataframe thead th {\n",
       "        text-align: right;\n",
       "    }\n",
       "</style>\n",
       "<table border=\"1\" class=\"dataframe\">\n",
       "  <thead>\n",
       "    <tr style=\"text-align: right;\">\n",
       "      <th></th>\n",
       "      <th>cross-validation score</th>\n",
       "    </tr>\n",
       "  </thead>\n",
       "  <tbody>\n",
       "    <tr>\n",
       "      <th>0</th>\n",
       "      <td>0.742108</td>\n",
       "    </tr>\n",
       "    <tr>\n",
       "      <th>1</th>\n",
       "      <td>0.750981</td>\n",
       "    </tr>\n",
       "    <tr>\n",
       "      <th>2</th>\n",
       "      <td>0.731822</td>\n",
       "    </tr>\n",
       "    <tr>\n",
       "      <th>3</th>\n",
       "      <td>0.767691</td>\n",
       "    </tr>\n",
       "    <tr>\n",
       "      <th>4</th>\n",
       "      <td>0.746026</td>\n",
       "    </tr>\n",
       "  </tbody>\n",
       "</table>\n",
       "</div>"
      ],
      "text/plain": [
       "   cross-validation score\n",
       "0                0.742108\n",
       "1                0.750981\n",
       "2                0.731822\n",
       "3                0.767691\n",
       "4                0.746026"
      ]
     },
     "execution_count": 132,
     "metadata": {},
     "output_type": "execute_result"
    }
   ],
   "source": [
    "dtcs = cross_val_score(grid_search, x_train, y_train)\n",
    "cs=({'cross-validation score': dtcs})\n",
    "cs1=pd.DataFrame(cs)\n",
    "cs1"
   ]
  },
  {
   "cell_type": "code",
   "execution_count": 133,
   "metadata": {},
   "outputs": [
    {
     "data": {
      "text/html": [
       "<div>\n",
       "<style scoped>\n",
       "    .dataframe tbody tr th:only-of-type {\n",
       "        vertical-align: middle;\n",
       "    }\n",
       "\n",
       "    .dataframe tbody tr th {\n",
       "        vertical-align: top;\n",
       "    }\n",
       "\n",
       "    .dataframe thead th {\n",
       "        text-align: right;\n",
       "    }\n",
       "</style>\n",
       "<table border=\"1\" class=\"dataframe\">\n",
       "  <thead>\n",
       "    <tr style=\"text-align: right;\">\n",
       "      <th></th>\n",
       "      <th>cross-validation score</th>\n",
       "    </tr>\n",
       "  </thead>\n",
       "  <tbody>\n",
       "    <tr>\n",
       "      <th>0</th>\n",
       "      <td>0.670545</td>\n",
       "    </tr>\n",
       "    <tr>\n",
       "      <th>1</th>\n",
       "      <td>0.694720</td>\n",
       "    </tr>\n",
       "    <tr>\n",
       "      <th>2</th>\n",
       "      <td>0.757933</td>\n",
       "    </tr>\n",
       "    <tr>\n",
       "      <th>3</th>\n",
       "      <td>0.765904</td>\n",
       "    </tr>\n",
       "    <tr>\n",
       "      <th>4</th>\n",
       "      <td>0.549513</td>\n",
       "    </tr>\n",
       "  </tbody>\n",
       "</table>\n",
       "</div>"
      ],
      "text/plain": [
       "   cross-validation score\n",
       "0                0.670545\n",
       "1                0.694720\n",
       "2                0.757933\n",
       "3                0.765904\n",
       "4                0.549513"
      ]
     },
     "execution_count": 133,
     "metadata": {},
     "output_type": "execute_result"
    }
   ],
   "source": [
    "dtcs = cross_val_score(grid_search, x_test, y_test)\n",
    "cs=({'cross-validation score': dtcs})\n",
    "cs2=pd.DataFrame(cs)\n",
    "cs2"
   ]
  },
  {
   "cell_type": "code",
   "execution_count": 134,
   "metadata": {
    "scrolled": true
   },
   "outputs": [
    {
     "name": "stdout",
     "output_type": "stream",
     "text": [
      "Average Train Score:  cross-validation score    0.747726\n",
      "dtype: float64\n",
      "Average Test Score:  cross-validation score    0.687723\n",
      "dtype: float64\n"
     ]
    }
   ],
   "source": [
    "print('Average Train Score: ',cs1.mean())\n",
    "print('Average Test Score: ',cs2.mean())\n",
    "full_table += [['Decision Tree Regressor: ',grid_search.best_params_,cs1.mean()[0],cs2.mean()[0],\n",
    "               r2_score(y_test,grid_search.predict(x_test))]]"
   ]
  },
  {
   "cell_type": "code",
   "execution_count": null,
   "metadata": {},
   "outputs": [],
   "source": []
  },
  {
   "cell_type": "code",
   "execution_count": 135,
   "metadata": {},
   "outputs": [
    {
     "data": {
      "text/html": [
       "<div>\n",
       "<style scoped>\n",
       "    .dataframe tbody tr th:only-of-type {\n",
       "        vertical-align: middle;\n",
       "    }\n",
       "\n",
       "    .dataframe tbody tr th {\n",
       "        vertical-align: top;\n",
       "    }\n",
       "\n",
       "    .dataframe thead th {\n",
       "        text-align: right;\n",
       "    }\n",
       "</style>\n",
       "<table border=\"1\" class=\"dataframe\">\n",
       "  <thead>\n",
       "    <tr style=\"text-align: right;\">\n",
       "      <th></th>\n",
       "      <th>model</th>\n",
       "      <th>Hyperparameters</th>\n",
       "      <th>Average train score</th>\n",
       "      <th>Average Test score</th>\n",
       "      <th>r2_score</th>\n",
       "    </tr>\n",
       "    <tr>\n",
       "      <th>model</th>\n",
       "      <th></th>\n",
       "      <th></th>\n",
       "      <th></th>\n",
       "      <th></th>\n",
       "      <th></th>\n",
       "    </tr>\n",
       "  </thead>\n",
       "  <tbody>\n",
       "    <tr>\n",
       "      <th>KNN Regressor:</th>\n",
       "      <td>KNN Regressor:</td>\n",
       "      <td>{'n_neighbors': 5}</td>\n",
       "      <td>0.293856</td>\n",
       "      <td>0.296661</td>\n",
       "      <td>0.335935</td>\n",
       "    </tr>\n",
       "    <tr>\n",
       "      <th>Linear Regressor:</th>\n",
       "      <td>Linear Regressor:</td>\n",
       "      <td></td>\n",
       "      <td>0.296661</td>\n",
       "      <td>0.687955</td>\n",
       "      <td>0.753078</td>\n",
       "    </tr>\n",
       "    <tr>\n",
       "      <th>Ridge Regressor:</th>\n",
       "      <td>Ridge Regressor:</td>\n",
       "      <td>{'alpha': 15.464646464646465}</td>\n",
       "      <td>0.750016</td>\n",
       "      <td>0.699864</td>\n",
       "      <td>0.753646</td>\n",
       "    </tr>\n",
       "    <tr>\n",
       "      <th>Lasso Regressor:</th>\n",
       "      <td>Lasso Regressor:</td>\n",
       "      <td>{'alpha': 0.032}</td>\n",
       "      <td>0.751155</td>\n",
       "      <td>0.728187</td>\n",
       "      <td>0.754941</td>\n",
       "    </tr>\n",
       "    <tr>\n",
       "      <th>Polynomial Regressor:</th>\n",
       "      <td>Polynomial Regressor:</td>\n",
       "      <td>{'degree': 4}</td>\n",
       "      <td>-15.051952</td>\n",
       "      <td>-501.839855</td>\n",
       "      <td>-29.360697</td>\n",
       "    </tr>\n",
       "    <tr>\n",
       "      <th>LinearSVM Regressor:</th>\n",
       "      <td>LinearSVM Regressor:</td>\n",
       "      <td>{'C': 10, 'max_iter': 10000}</td>\n",
       "      <td>0.738619</td>\n",
       "      <td>0.684111</td>\n",
       "      <td>0.748209</td>\n",
       "    </tr>\n",
       "    <tr>\n",
       "      <th>SVM Regressor w/ rbf:</th>\n",
       "      <td>SVM Regressor w/ rbf:</td>\n",
       "      <td>{'C': 10, 'epsilon': 1.5, 'kernel': 'rbf'}</td>\n",
       "      <td>0.703479</td>\n",
       "      <td>0.589645</td>\n",
       "      <td>0.715013</td>\n",
       "    </tr>\n",
       "    <tr>\n",
       "      <th>SVM Regressor w/ poly:</th>\n",
       "      <td>SVM Regressor w/ poly:</td>\n",
       "      <td>{'C': 10, 'epsilon': 1, 'kernel': 'poly'}</td>\n",
       "      <td>0.506432</td>\n",
       "      <td>-8.321422</td>\n",
       "      <td>-3.671765</td>\n",
       "    </tr>\n",
       "    <tr>\n",
       "      <th>SVM Regressor w/ linear:</th>\n",
       "      <td>SVM Regressor w/ linear:</td>\n",
       "      <td>{'C': 15, 'epsilon': 1.5, 'kernel': 'linear'}</td>\n",
       "      <td>0.748085</td>\n",
       "      <td>0.696301</td>\n",
       "      <td>0.752905</td>\n",
       "    </tr>\n",
       "    <tr>\n",
       "      <th>Decision Tree Regressor:</th>\n",
       "      <td>Decision Tree Regressor:</td>\n",
       "      <td>{'ccp_alpha': 0.0, 'criterion': 'mse', 'max_de...</td>\n",
       "      <td>0.747726</td>\n",
       "      <td>0.687723</td>\n",
       "      <td>0.778529</td>\n",
       "    </tr>\n",
       "  </tbody>\n",
       "</table>\n",
       "</div>"
      ],
      "text/plain": [
       "                                               model  \\\n",
       "model                                                  \n",
       "KNN Regressor:                       KNN Regressor:    \n",
       "Linear Regressor:                 Linear Regressor:    \n",
       "Ridge Regressor:                   Ridge Regressor:    \n",
       "Lasso Regressor:                   Lasso Regressor:    \n",
       "Polynomial Regressor:         Polynomial Regressor:    \n",
       "LinearSVM Regressor:           LinearSVM Regressor:    \n",
       "SVM Regressor w/ rbf:         SVM Regressor w/ rbf:    \n",
       "SVM Regressor w/ poly:       SVM Regressor w/ poly:    \n",
       "SVM Regressor w/ linear:   SVM Regressor w/ linear:    \n",
       "Decision Tree Regressor:   Decision Tree Regressor:    \n",
       "\n",
       "                                                             Hyperparameters  \\\n",
       "model                                                                          \n",
       "KNN Regressor:                                            {'n_neighbors': 5}   \n",
       "Linear Regressor:                                                              \n",
       "Ridge Regressor:                               {'alpha': 15.464646464646465}   \n",
       "Lasso Regressor:                                            {'alpha': 0.032}   \n",
       "Polynomial Regressor:                                          {'degree': 4}   \n",
       "LinearSVM Regressor:                            {'C': 10, 'max_iter': 10000}   \n",
       "SVM Regressor w/ rbf:             {'C': 10, 'epsilon': 1.5, 'kernel': 'rbf'}   \n",
       "SVM Regressor w/ poly:             {'C': 10, 'epsilon': 1, 'kernel': 'poly'}   \n",
       "SVM Regressor w/ linear:       {'C': 15, 'epsilon': 1.5, 'kernel': 'linear'}   \n",
       "Decision Tree Regressor:   {'ccp_alpha': 0.0, 'criterion': 'mse', 'max_de...   \n",
       "\n",
       "                           Average train score  Average Test score   r2_score  \n",
       "model                                                                          \n",
       "KNN Regressor:                        0.293856            0.296661   0.335935  \n",
       "Linear Regressor:                     0.296661            0.687955   0.753078  \n",
       "Ridge Regressor:                      0.750016            0.699864   0.753646  \n",
       "Lasso Regressor:                      0.751155            0.728187   0.754941  \n",
       "Polynomial Regressor:               -15.051952         -501.839855 -29.360697  \n",
       "LinearSVM Regressor:                  0.738619            0.684111   0.748209  \n",
       "SVM Regressor w/ rbf:                 0.703479            0.589645   0.715013  \n",
       "SVM Regressor w/ poly:                0.506432           -8.321422  -3.671765  \n",
       "SVM Regressor w/ linear:              0.748085            0.696301   0.752905  \n",
       "Decision Tree Regressor:              0.747726            0.687723   0.778529  "
      ]
     },
     "execution_count": 135,
     "metadata": {},
     "output_type": "execute_result"
    }
   ],
   "source": [
    "full_table1 = pd.DataFrame(full_table,columns=['model','Hyperparameters','Average train score',\n",
    "                                               'Average Test score','r2_score'])\n",
    "full_table1.index = full_table1['model']\n",
    "full_table1.round(2)\n",
    "full_table1"
   ]
  },
  {
   "cell_type": "code",
   "execution_count": null,
   "metadata": {},
   "outputs": [],
   "source": []
  },
  {
   "cell_type": "markdown",
   "metadata": {},
   "source": [
    "#### The above table enables us to compare all the different models on 3 metrics Average Train Score , Average Test Score and     r2_score. "
   ]
  },
  {
   "cell_type": "markdown",
   "metadata": {},
   "source": [
    "#### We can see that Lasso Regressor has the highest Average Train score and Average Test score and has the second highest r2_score making it the best performing model. "
   ]
  },
  {
   "cell_type": "markdown",
   "metadata": {},
   "source": [
    "#### Hence, we will move forward with the Lasso Regressor for the entire dataset"
   ]
  },
  {
   "cell_type": "code",
   "execution_count": 140,
   "metadata": {},
   "outputs": [
    {
     "name": "stdout",
     "output_type": "stream",
     "text": [
      "Cross-validation scores: [0.73730364 0.73963116 0.77016175 0.76946212 0.76199597]\n",
      "Average cross-validation score: 0.7557\n"
     ]
    }
   ],
   "source": [
    "from sklearn.model_selection import cross_val_score\n",
    "scaler = StandardScaler()\n",
    "x = scaler.fit_transform(x)\n",
    "y = df['Interest.Rate']\n",
    "model = Lasso(alpha=0.032)\n",
    "\n",
    "scores = cross_val_score(model, x, y)\n",
    "print(\"Cross-validation scores: {}\".format(scores))\n",
    "print(\"Average cross-validation score: %.4f\"%scores.mean())"
   ]
  },
  {
   "cell_type": "code",
   "execution_count": null,
   "metadata": {},
   "outputs": [],
   "source": []
  }
 ],
 "metadata": {
  "kernelspec": {
   "display_name": "Python 3",
   "language": "python",
   "name": "python3"
  },
  "language_info": {
   "codemirror_mode": {
    "name": "ipython",
    "version": 3
   },
   "file_extension": ".py",
   "mimetype": "text/x-python",
   "name": "python",
   "nbconvert_exporter": "python",
   "pygments_lexer": "ipython3",
   "version": "3.8.5"
  }
 },
 "nbformat": 4,
 "nbformat_minor": 4
}
