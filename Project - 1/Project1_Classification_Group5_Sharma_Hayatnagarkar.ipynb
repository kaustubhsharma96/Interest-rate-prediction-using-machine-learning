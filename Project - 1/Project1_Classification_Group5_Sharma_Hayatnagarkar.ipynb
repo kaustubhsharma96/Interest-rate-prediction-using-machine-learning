{
 "cells": [
  {
   "cell_type": "markdown",
   "metadata": {},
   "source": [
    " ##                            MIS 6341: ML Project 1 \n",
    " \n",
    "                     Group 5: Shishir Sharma(sxs200126) , Spurti Hayatnagarkar(sxh180041)\n",
    "                             "
   ]
  },
  {
   "cell_type": "markdown",
   "metadata": {},
   "source": [
    " ## Classification Task"
   ]
  },
  {
   "cell_type": "markdown",
   "metadata": {},
   "source": [
    "# Dataset : Airline Passenger Satisfaction\n",
    "\n",
    "source: https://www.kaggle.com/teejmahal20/airline-passenger-satisfaction\n",
    "\n",
    "The dataset contains 25976Rows and 24 Colums.\n",
    "Total no of Missing values: 39366"
   ]
  },
  {
   "cell_type": "markdown",
   "metadata": {},
   "source": [
    "### Data Preprossing :"
   ]
  },
  {
   "cell_type": "code",
   "execution_count": 1,
   "metadata": {},
   "outputs": [],
   "source": [
    "import numpy as np \n",
    "import pandas as pd \n",
    "import matplotlib.pyplot as plt\n",
    "import warnings\n",
    "warnings.filterwarnings(\"ignore\")"
   ]
  },
  {
   "cell_type": "code",
   "execution_count": 2,
   "metadata": {},
   "outputs": [
    {
     "name": "stdout",
     "output_type": "stream",
     "text": [
      "Shape of dataset: (25976, 25)\n"
     ]
    }
   ],
   "source": [
    "airlinedf=pd.read_csv('test.csv')\n",
    "print('Shape of dataset:', airlinedf.shape) "
   ]
  },
  {
   "cell_type": "code",
   "execution_count": 3,
   "metadata": {},
   "outputs": [
    {
     "data": {
      "text/html": [
       "<div>\n",
       "<style scoped>\n",
       "    .dataframe tbody tr th:only-of-type {\n",
       "        vertical-align: middle;\n",
       "    }\n",
       "\n",
       "    .dataframe tbody tr th {\n",
       "        vertical-align: top;\n",
       "    }\n",
       "\n",
       "    .dataframe thead th {\n",
       "        text-align: right;\n",
       "    }\n",
       "</style>\n",
       "<table border=\"1\" class=\"dataframe\">\n",
       "  <thead>\n",
       "    <tr style=\"text-align: right;\">\n",
       "      <th></th>\n",
       "      <th>Unnamed: 0</th>\n",
       "      <th>id</th>\n",
       "      <th>Gender</th>\n",
       "      <th>Customer Type</th>\n",
       "      <th>Age</th>\n",
       "      <th>Type of Travel</th>\n",
       "      <th>Class</th>\n",
       "      <th>Flight Distance</th>\n",
       "      <th>Inflight wifi service</th>\n",
       "      <th>Departure/Arrival time convenient</th>\n",
       "      <th>...</th>\n",
       "      <th>Inflight entertainment</th>\n",
       "      <th>On-board service</th>\n",
       "      <th>Leg room service</th>\n",
       "      <th>Baggage handling</th>\n",
       "      <th>Checkin service</th>\n",
       "      <th>Inflight service</th>\n",
       "      <th>Cleanliness</th>\n",
       "      <th>Departure Delay in Minutes</th>\n",
       "      <th>Arrival Delay in Minutes</th>\n",
       "      <th>satisfaction</th>\n",
       "    </tr>\n",
       "  </thead>\n",
       "  <tbody>\n",
       "    <tr>\n",
       "      <th>0</th>\n",
       "      <td>0</td>\n",
       "      <td>19556</td>\n",
       "      <td>Female</td>\n",
       "      <td>Loyal Customer</td>\n",
       "      <td>52</td>\n",
       "      <td>Business travel</td>\n",
       "      <td>Eco</td>\n",
       "      <td>160</td>\n",
       "      <td>5</td>\n",
       "      <td>4</td>\n",
       "      <td>...</td>\n",
       "      <td>5</td>\n",
       "      <td>5</td>\n",
       "      <td>5</td>\n",
       "      <td>5</td>\n",
       "      <td>2</td>\n",
       "      <td>5</td>\n",
       "      <td>5</td>\n",
       "      <td>50</td>\n",
       "      <td>44.0</td>\n",
       "      <td>satisfied</td>\n",
       "    </tr>\n",
       "    <tr>\n",
       "      <th>1</th>\n",
       "      <td>1</td>\n",
       "      <td>90035</td>\n",
       "      <td>Female</td>\n",
       "      <td>Loyal Customer</td>\n",
       "      <td>36</td>\n",
       "      <td>Business travel</td>\n",
       "      <td>Business</td>\n",
       "      <td>2863</td>\n",
       "      <td>1</td>\n",
       "      <td>1</td>\n",
       "      <td>...</td>\n",
       "      <td>4</td>\n",
       "      <td>4</td>\n",
       "      <td>4</td>\n",
       "      <td>4</td>\n",
       "      <td>3</td>\n",
       "      <td>4</td>\n",
       "      <td>5</td>\n",
       "      <td>0</td>\n",
       "      <td>0.0</td>\n",
       "      <td>satisfied</td>\n",
       "    </tr>\n",
       "    <tr>\n",
       "      <th>2</th>\n",
       "      <td>2</td>\n",
       "      <td>12360</td>\n",
       "      <td>Male</td>\n",
       "      <td>disloyal Customer</td>\n",
       "      <td>20</td>\n",
       "      <td>Business travel</td>\n",
       "      <td>Eco</td>\n",
       "      <td>192</td>\n",
       "      <td>2</td>\n",
       "      <td>0</td>\n",
       "      <td>...</td>\n",
       "      <td>2</td>\n",
       "      <td>4</td>\n",
       "      <td>1</td>\n",
       "      <td>3</td>\n",
       "      <td>2</td>\n",
       "      <td>2</td>\n",
       "      <td>2</td>\n",
       "      <td>0</td>\n",
       "      <td>0.0</td>\n",
       "      <td>neutral or dissatisfied</td>\n",
       "    </tr>\n",
       "    <tr>\n",
       "      <th>3</th>\n",
       "      <td>3</td>\n",
       "      <td>77959</td>\n",
       "      <td>Male</td>\n",
       "      <td>Loyal Customer</td>\n",
       "      <td>44</td>\n",
       "      <td>Business travel</td>\n",
       "      <td>Business</td>\n",
       "      <td>3377</td>\n",
       "      <td>0</td>\n",
       "      <td>0</td>\n",
       "      <td>...</td>\n",
       "      <td>1</td>\n",
       "      <td>1</td>\n",
       "      <td>1</td>\n",
       "      <td>1</td>\n",
       "      <td>3</td>\n",
       "      <td>1</td>\n",
       "      <td>4</td>\n",
       "      <td>0</td>\n",
       "      <td>6.0</td>\n",
       "      <td>satisfied</td>\n",
       "    </tr>\n",
       "    <tr>\n",
       "      <th>4</th>\n",
       "      <td>4</td>\n",
       "      <td>36875</td>\n",
       "      <td>Female</td>\n",
       "      <td>Loyal Customer</td>\n",
       "      <td>49</td>\n",
       "      <td>Business travel</td>\n",
       "      <td>Eco</td>\n",
       "      <td>1182</td>\n",
       "      <td>2</td>\n",
       "      <td>3</td>\n",
       "      <td>...</td>\n",
       "      <td>2</td>\n",
       "      <td>2</td>\n",
       "      <td>2</td>\n",
       "      <td>2</td>\n",
       "      <td>4</td>\n",
       "      <td>2</td>\n",
       "      <td>4</td>\n",
       "      <td>0</td>\n",
       "      <td>20.0</td>\n",
       "      <td>satisfied</td>\n",
       "    </tr>\n",
       "    <tr>\n",
       "      <th>5</th>\n",
       "      <td>5</td>\n",
       "      <td>39177</td>\n",
       "      <td>Male</td>\n",
       "      <td>Loyal Customer</td>\n",
       "      <td>16</td>\n",
       "      <td>Business travel</td>\n",
       "      <td>Eco</td>\n",
       "      <td>311</td>\n",
       "      <td>3</td>\n",
       "      <td>3</td>\n",
       "      <td>...</td>\n",
       "      <td>5</td>\n",
       "      <td>4</td>\n",
       "      <td>3</td>\n",
       "      <td>1</td>\n",
       "      <td>1</td>\n",
       "      <td>2</td>\n",
       "      <td>5</td>\n",
       "      <td>0</td>\n",
       "      <td>0.0</td>\n",
       "      <td>satisfied</td>\n",
       "    </tr>\n",
       "    <tr>\n",
       "      <th>6</th>\n",
       "      <td>6</td>\n",
       "      <td>79433</td>\n",
       "      <td>Female</td>\n",
       "      <td>Loyal Customer</td>\n",
       "      <td>77</td>\n",
       "      <td>Business travel</td>\n",
       "      <td>Business</td>\n",
       "      <td>3987</td>\n",
       "      <td>5</td>\n",
       "      <td>5</td>\n",
       "      <td>...</td>\n",
       "      <td>5</td>\n",
       "      <td>5</td>\n",
       "      <td>5</td>\n",
       "      <td>5</td>\n",
       "      <td>4</td>\n",
       "      <td>5</td>\n",
       "      <td>3</td>\n",
       "      <td>0</td>\n",
       "      <td>0.0</td>\n",
       "      <td>satisfied</td>\n",
       "    </tr>\n",
       "    <tr>\n",
       "      <th>7</th>\n",
       "      <td>7</td>\n",
       "      <td>97286</td>\n",
       "      <td>Female</td>\n",
       "      <td>Loyal Customer</td>\n",
       "      <td>43</td>\n",
       "      <td>Business travel</td>\n",
       "      <td>Business</td>\n",
       "      <td>2556</td>\n",
       "      <td>2</td>\n",
       "      <td>2</td>\n",
       "      <td>...</td>\n",
       "      <td>4</td>\n",
       "      <td>4</td>\n",
       "      <td>4</td>\n",
       "      <td>4</td>\n",
       "      <td>5</td>\n",
       "      <td>4</td>\n",
       "      <td>3</td>\n",
       "      <td>77</td>\n",
       "      <td>65.0</td>\n",
       "      <td>satisfied</td>\n",
       "    </tr>\n",
       "    <tr>\n",
       "      <th>8</th>\n",
       "      <td>8</td>\n",
       "      <td>27508</td>\n",
       "      <td>Male</td>\n",
       "      <td>Loyal Customer</td>\n",
       "      <td>47</td>\n",
       "      <td>Business travel</td>\n",
       "      <td>Eco</td>\n",
       "      <td>556</td>\n",
       "      <td>5</td>\n",
       "      <td>2</td>\n",
       "      <td>...</td>\n",
       "      <td>5</td>\n",
       "      <td>2</td>\n",
       "      <td>2</td>\n",
       "      <td>5</td>\n",
       "      <td>3</td>\n",
       "      <td>3</td>\n",
       "      <td>5</td>\n",
       "      <td>1</td>\n",
       "      <td>0.0</td>\n",
       "      <td>satisfied</td>\n",
       "    </tr>\n",
       "    <tr>\n",
       "      <th>9</th>\n",
       "      <td>9</td>\n",
       "      <td>62482</td>\n",
       "      <td>Female</td>\n",
       "      <td>Loyal Customer</td>\n",
       "      <td>46</td>\n",
       "      <td>Business travel</td>\n",
       "      <td>Business</td>\n",
       "      <td>1744</td>\n",
       "      <td>2</td>\n",
       "      <td>2</td>\n",
       "      <td>...</td>\n",
       "      <td>4</td>\n",
       "      <td>4</td>\n",
       "      <td>4</td>\n",
       "      <td>4</td>\n",
       "      <td>5</td>\n",
       "      <td>4</td>\n",
       "      <td>4</td>\n",
       "      <td>28</td>\n",
       "      <td>14.0</td>\n",
       "      <td>satisfied</td>\n",
       "    </tr>\n",
       "    <tr>\n",
       "      <th>10</th>\n",
       "      <td>10</td>\n",
       "      <td>47583</td>\n",
       "      <td>Female</td>\n",
       "      <td>Loyal Customer</td>\n",
       "      <td>47</td>\n",
       "      <td>Business travel</td>\n",
       "      <td>Eco</td>\n",
       "      <td>1235</td>\n",
       "      <td>4</td>\n",
       "      <td>1</td>\n",
       "      <td>...</td>\n",
       "      <td>3</td>\n",
       "      <td>3</td>\n",
       "      <td>4</td>\n",
       "      <td>3</td>\n",
       "      <td>1</td>\n",
       "      <td>3</td>\n",
       "      <td>4</td>\n",
       "      <td>29</td>\n",
       "      <td>19.0</td>\n",
       "      <td>satisfied</td>\n",
       "    </tr>\n",
       "    <tr>\n",
       "      <th>11</th>\n",
       "      <td>11</td>\n",
       "      <td>115550</td>\n",
       "      <td>Female</td>\n",
       "      <td>Loyal Customer</td>\n",
       "      <td>33</td>\n",
       "      <td>Business travel</td>\n",
       "      <td>Business</td>\n",
       "      <td>325</td>\n",
       "      <td>2</td>\n",
       "      <td>5</td>\n",
       "      <td>...</td>\n",
       "      <td>2</td>\n",
       "      <td>2</td>\n",
       "      <td>2</td>\n",
       "      <td>2</td>\n",
       "      <td>3</td>\n",
       "      <td>2</td>\n",
       "      <td>4</td>\n",
       "      <td>18</td>\n",
       "      <td>7.0</td>\n",
       "      <td>neutral or dissatisfied</td>\n",
       "    </tr>\n",
       "    <tr>\n",
       "      <th>12</th>\n",
       "      <td>12</td>\n",
       "      <td>119987</td>\n",
       "      <td>Female</td>\n",
       "      <td>Loyal Customer</td>\n",
       "      <td>46</td>\n",
       "      <td>Business travel</td>\n",
       "      <td>Business</td>\n",
       "      <td>1009</td>\n",
       "      <td>5</td>\n",
       "      <td>5</td>\n",
       "      <td>...</td>\n",
       "      <td>5</td>\n",
       "      <td>5</td>\n",
       "      <td>5</td>\n",
       "      <td>5</td>\n",
       "      <td>5</td>\n",
       "      <td>5</td>\n",
       "      <td>3</td>\n",
       "      <td>0</td>\n",
       "      <td>0.0</td>\n",
       "      <td>satisfied</td>\n",
       "    </tr>\n",
       "    <tr>\n",
       "      <th>13</th>\n",
       "      <td>13</td>\n",
       "      <td>42141</td>\n",
       "      <td>Female</td>\n",
       "      <td>Loyal Customer</td>\n",
       "      <td>60</td>\n",
       "      <td>Business travel</td>\n",
       "      <td>Business</td>\n",
       "      <td>451</td>\n",
       "      <td>1</td>\n",
       "      <td>1</td>\n",
       "      <td>...</td>\n",
       "      <td>5</td>\n",
       "      <td>5</td>\n",
       "      <td>5</td>\n",
       "      <td>5</td>\n",
       "      <td>3</td>\n",
       "      <td>5</td>\n",
       "      <td>5</td>\n",
       "      <td>117</td>\n",
       "      <td>113.0</td>\n",
       "      <td>satisfied</td>\n",
       "    </tr>\n",
       "    <tr>\n",
       "      <th>14</th>\n",
       "      <td>14</td>\n",
       "      <td>2274</td>\n",
       "      <td>Female</td>\n",
       "      <td>Loyal Customer</td>\n",
       "      <td>52</td>\n",
       "      <td>Business travel</td>\n",
       "      <td>Business</td>\n",
       "      <td>925</td>\n",
       "      <td>2</td>\n",
       "      <td>2</td>\n",
       "      <td>...</td>\n",
       "      <td>4</td>\n",
       "      <td>4</td>\n",
       "      <td>4</td>\n",
       "      <td>4</td>\n",
       "      <td>3</td>\n",
       "      <td>4</td>\n",
       "      <td>5</td>\n",
       "      <td>10</td>\n",
       "      <td>0.0</td>\n",
       "      <td>satisfied</td>\n",
       "    </tr>\n",
       "  </tbody>\n",
       "</table>\n",
       "<p>15 rows × 25 columns</p>\n",
       "</div>"
      ],
      "text/plain": [
       "    Unnamed: 0      id  Gender      Customer Type  Age   Type of Travel  \\\n",
       "0            0   19556  Female     Loyal Customer   52  Business travel   \n",
       "1            1   90035  Female     Loyal Customer   36  Business travel   \n",
       "2            2   12360    Male  disloyal Customer   20  Business travel   \n",
       "3            3   77959    Male     Loyal Customer   44  Business travel   \n",
       "4            4   36875  Female     Loyal Customer   49  Business travel   \n",
       "5            5   39177    Male     Loyal Customer   16  Business travel   \n",
       "6            6   79433  Female     Loyal Customer   77  Business travel   \n",
       "7            7   97286  Female     Loyal Customer   43  Business travel   \n",
       "8            8   27508    Male     Loyal Customer   47  Business travel   \n",
       "9            9   62482  Female     Loyal Customer   46  Business travel   \n",
       "10          10   47583  Female     Loyal Customer   47  Business travel   \n",
       "11          11  115550  Female     Loyal Customer   33  Business travel   \n",
       "12          12  119987  Female     Loyal Customer   46  Business travel   \n",
       "13          13   42141  Female     Loyal Customer   60  Business travel   \n",
       "14          14    2274  Female     Loyal Customer   52  Business travel   \n",
       "\n",
       "       Class  Flight Distance  Inflight wifi service  \\\n",
       "0        Eco              160                      5   \n",
       "1   Business             2863                      1   \n",
       "2        Eco              192                      2   \n",
       "3   Business             3377                      0   \n",
       "4        Eco             1182                      2   \n",
       "5        Eco              311                      3   \n",
       "6   Business             3987                      5   \n",
       "7   Business             2556                      2   \n",
       "8        Eco              556                      5   \n",
       "9   Business             1744                      2   \n",
       "10       Eco             1235                      4   \n",
       "11  Business              325                      2   \n",
       "12  Business             1009                      5   \n",
       "13  Business              451                      1   \n",
       "14  Business              925                      2   \n",
       "\n",
       "    Departure/Arrival time convenient  ...  Inflight entertainment  \\\n",
       "0                                   4  ...                       5   \n",
       "1                                   1  ...                       4   \n",
       "2                                   0  ...                       2   \n",
       "3                                   0  ...                       1   \n",
       "4                                   3  ...                       2   \n",
       "5                                   3  ...                       5   \n",
       "6                                   5  ...                       5   \n",
       "7                                   2  ...                       4   \n",
       "8                                   2  ...                       5   \n",
       "9                                   2  ...                       4   \n",
       "10                                  1  ...                       3   \n",
       "11                                  5  ...                       2   \n",
       "12                                  5  ...                       5   \n",
       "13                                  1  ...                       5   \n",
       "14                                  2  ...                       4   \n",
       "\n",
       "    On-board service  Leg room service  Baggage handling  Checkin service  \\\n",
       "0                  5                 5                 5                2   \n",
       "1                  4                 4                 4                3   \n",
       "2                  4                 1                 3                2   \n",
       "3                  1                 1                 1                3   \n",
       "4                  2                 2                 2                4   \n",
       "5                  4                 3                 1                1   \n",
       "6                  5                 5                 5                4   \n",
       "7                  4                 4                 4                5   \n",
       "8                  2                 2                 5                3   \n",
       "9                  4                 4                 4                5   \n",
       "10                 3                 4                 3                1   \n",
       "11                 2                 2                 2                3   \n",
       "12                 5                 5                 5                5   \n",
       "13                 5                 5                 5                3   \n",
       "14                 4                 4                 4                3   \n",
       "\n",
       "    Inflight service  Cleanliness  Departure Delay in Minutes  \\\n",
       "0                  5            5                          50   \n",
       "1                  4            5                           0   \n",
       "2                  2            2                           0   \n",
       "3                  1            4                           0   \n",
       "4                  2            4                           0   \n",
       "5                  2            5                           0   \n",
       "6                  5            3                           0   \n",
       "7                  4            3                          77   \n",
       "8                  3            5                           1   \n",
       "9                  4            4                          28   \n",
       "10                 3            4                          29   \n",
       "11                 2            4                          18   \n",
       "12                 5            3                           0   \n",
       "13                 5            5                         117   \n",
       "14                 4            5                          10   \n",
       "\n",
       "    Arrival Delay in Minutes             satisfaction  \n",
       "0                       44.0                satisfied  \n",
       "1                        0.0                satisfied  \n",
       "2                        0.0  neutral or dissatisfied  \n",
       "3                        6.0                satisfied  \n",
       "4                       20.0                satisfied  \n",
       "5                        0.0                satisfied  \n",
       "6                        0.0                satisfied  \n",
       "7                       65.0                satisfied  \n",
       "8                        0.0                satisfied  \n",
       "9                       14.0                satisfied  \n",
       "10                      19.0                satisfied  \n",
       "11                       7.0  neutral or dissatisfied  \n",
       "12                       0.0                satisfied  \n",
       "13                     113.0                satisfied  \n",
       "14                       0.0                satisfied  \n",
       "\n",
       "[15 rows x 25 columns]"
      ]
     },
     "execution_count": 3,
     "metadata": {},
     "output_type": "execute_result"
    }
   ],
   "source": [
    "airlinedf.head(15)"
   ]
  },
  {
   "cell_type": "code",
   "execution_count": 4,
   "metadata": {},
   "outputs": [
    {
     "data": {
      "text/html": [
       "<div>\n",
       "<style scoped>\n",
       "    .dataframe tbody tr th:only-of-type {\n",
       "        vertical-align: middle;\n",
       "    }\n",
       "\n",
       "    .dataframe tbody tr th {\n",
       "        vertical-align: top;\n",
       "    }\n",
       "\n",
       "    .dataframe thead th {\n",
       "        text-align: right;\n",
       "    }\n",
       "</style>\n",
       "<table border=\"1\" class=\"dataframe\">\n",
       "  <thead>\n",
       "    <tr style=\"text-align: right;\">\n",
       "      <th></th>\n",
       "      <th>Unnamed: 0</th>\n",
       "      <th>id</th>\n",
       "      <th>Age</th>\n",
       "      <th>Flight Distance</th>\n",
       "      <th>Inflight wifi service</th>\n",
       "      <th>Departure/Arrival time convenient</th>\n",
       "      <th>Ease of Online booking</th>\n",
       "      <th>Gate location</th>\n",
       "      <th>Food and drink</th>\n",
       "      <th>Online boarding</th>\n",
       "      <th>Seat comfort</th>\n",
       "      <th>Inflight entertainment</th>\n",
       "      <th>On-board service</th>\n",
       "      <th>Leg room service</th>\n",
       "      <th>Baggage handling</th>\n",
       "      <th>Checkin service</th>\n",
       "      <th>Inflight service</th>\n",
       "      <th>Cleanliness</th>\n",
       "      <th>Departure Delay in Minutes</th>\n",
       "      <th>Arrival Delay in Minutes</th>\n",
       "    </tr>\n",
       "  </thead>\n",
       "  <tbody>\n",
       "    <tr>\n",
       "      <th>count</th>\n",
       "      <td>25976.000000</td>\n",
       "      <td>25976.000000</td>\n",
       "      <td>25976.000000</td>\n",
       "      <td>25976.000000</td>\n",
       "      <td>25976.000000</td>\n",
       "      <td>25976.000000</td>\n",
       "      <td>25976.000000</td>\n",
       "      <td>25976.000000</td>\n",
       "      <td>25976.000000</td>\n",
       "      <td>25976.000000</td>\n",
       "      <td>25976.000000</td>\n",
       "      <td>25976.000000</td>\n",
       "      <td>25976.000000</td>\n",
       "      <td>25976.000000</td>\n",
       "      <td>25976.000000</td>\n",
       "      <td>25976.000000</td>\n",
       "      <td>25976.000000</td>\n",
       "      <td>25976.000000</td>\n",
       "      <td>25976.00000</td>\n",
       "      <td>25893.000000</td>\n",
       "    </tr>\n",
       "    <tr>\n",
       "      <th>mean</th>\n",
       "      <td>12987.500000</td>\n",
       "      <td>65005.657992</td>\n",
       "      <td>39.620958</td>\n",
       "      <td>1193.788459</td>\n",
       "      <td>2.724746</td>\n",
       "      <td>3.046812</td>\n",
       "      <td>2.756775</td>\n",
       "      <td>2.977094</td>\n",
       "      <td>3.215353</td>\n",
       "      <td>3.261665</td>\n",
       "      <td>3.449222</td>\n",
       "      <td>3.357753</td>\n",
       "      <td>3.385664</td>\n",
       "      <td>3.350169</td>\n",
       "      <td>3.633238</td>\n",
       "      <td>3.314175</td>\n",
       "      <td>3.649253</td>\n",
       "      <td>3.286226</td>\n",
       "      <td>14.30609</td>\n",
       "      <td>14.740857</td>\n",
       "    </tr>\n",
       "    <tr>\n",
       "      <th>std</th>\n",
       "      <td>7498.769632</td>\n",
       "      <td>37611.526647</td>\n",
       "      <td>15.135685</td>\n",
       "      <td>998.683999</td>\n",
       "      <td>1.335384</td>\n",
       "      <td>1.533371</td>\n",
       "      <td>1.412951</td>\n",
       "      <td>1.282133</td>\n",
       "      <td>1.331506</td>\n",
       "      <td>1.355536</td>\n",
       "      <td>1.320090</td>\n",
       "      <td>1.338299</td>\n",
       "      <td>1.282088</td>\n",
       "      <td>1.318862</td>\n",
       "      <td>1.176525</td>\n",
       "      <td>1.269332</td>\n",
       "      <td>1.180681</td>\n",
       "      <td>1.319330</td>\n",
       "      <td>37.42316</td>\n",
       "      <td>37.517539</td>\n",
       "    </tr>\n",
       "    <tr>\n",
       "      <th>min</th>\n",
       "      <td>0.000000</td>\n",
       "      <td>17.000000</td>\n",
       "      <td>7.000000</td>\n",
       "      <td>31.000000</td>\n",
       "      <td>0.000000</td>\n",
       "      <td>0.000000</td>\n",
       "      <td>0.000000</td>\n",
       "      <td>1.000000</td>\n",
       "      <td>0.000000</td>\n",
       "      <td>0.000000</td>\n",
       "      <td>1.000000</td>\n",
       "      <td>0.000000</td>\n",
       "      <td>0.000000</td>\n",
       "      <td>0.000000</td>\n",
       "      <td>1.000000</td>\n",
       "      <td>1.000000</td>\n",
       "      <td>0.000000</td>\n",
       "      <td>0.000000</td>\n",
       "      <td>0.00000</td>\n",
       "      <td>0.000000</td>\n",
       "    </tr>\n",
       "    <tr>\n",
       "      <th>25%</th>\n",
       "      <td>6493.750000</td>\n",
       "      <td>32170.500000</td>\n",
       "      <td>27.000000</td>\n",
       "      <td>414.000000</td>\n",
       "      <td>2.000000</td>\n",
       "      <td>2.000000</td>\n",
       "      <td>2.000000</td>\n",
       "      <td>2.000000</td>\n",
       "      <td>2.000000</td>\n",
       "      <td>2.000000</td>\n",
       "      <td>2.000000</td>\n",
       "      <td>2.000000</td>\n",
       "      <td>2.000000</td>\n",
       "      <td>2.000000</td>\n",
       "      <td>3.000000</td>\n",
       "      <td>3.000000</td>\n",
       "      <td>3.000000</td>\n",
       "      <td>2.000000</td>\n",
       "      <td>0.00000</td>\n",
       "      <td>0.000000</td>\n",
       "    </tr>\n",
       "    <tr>\n",
       "      <th>50%</th>\n",
       "      <td>12987.500000</td>\n",
       "      <td>65319.500000</td>\n",
       "      <td>40.000000</td>\n",
       "      <td>849.000000</td>\n",
       "      <td>3.000000</td>\n",
       "      <td>3.000000</td>\n",
       "      <td>3.000000</td>\n",
       "      <td>3.000000</td>\n",
       "      <td>3.000000</td>\n",
       "      <td>4.000000</td>\n",
       "      <td>4.000000</td>\n",
       "      <td>4.000000</td>\n",
       "      <td>4.000000</td>\n",
       "      <td>4.000000</td>\n",
       "      <td>4.000000</td>\n",
       "      <td>3.000000</td>\n",
       "      <td>4.000000</td>\n",
       "      <td>3.000000</td>\n",
       "      <td>0.00000</td>\n",
       "      <td>0.000000</td>\n",
       "    </tr>\n",
       "    <tr>\n",
       "      <th>75%</th>\n",
       "      <td>19481.250000</td>\n",
       "      <td>97584.250000</td>\n",
       "      <td>51.000000</td>\n",
       "      <td>1744.000000</td>\n",
       "      <td>4.000000</td>\n",
       "      <td>4.000000</td>\n",
       "      <td>4.000000</td>\n",
       "      <td>4.000000</td>\n",
       "      <td>4.000000</td>\n",
       "      <td>4.000000</td>\n",
       "      <td>5.000000</td>\n",
       "      <td>4.000000</td>\n",
       "      <td>4.000000</td>\n",
       "      <td>4.000000</td>\n",
       "      <td>5.000000</td>\n",
       "      <td>4.000000</td>\n",
       "      <td>5.000000</td>\n",
       "      <td>4.000000</td>\n",
       "      <td>12.00000</td>\n",
       "      <td>13.000000</td>\n",
       "    </tr>\n",
       "    <tr>\n",
       "      <th>max</th>\n",
       "      <td>25975.000000</td>\n",
       "      <td>129877.000000</td>\n",
       "      <td>85.000000</td>\n",
       "      <td>4983.000000</td>\n",
       "      <td>5.000000</td>\n",
       "      <td>5.000000</td>\n",
       "      <td>5.000000</td>\n",
       "      <td>5.000000</td>\n",
       "      <td>5.000000</td>\n",
       "      <td>5.000000</td>\n",
       "      <td>5.000000</td>\n",
       "      <td>5.000000</td>\n",
       "      <td>5.000000</td>\n",
       "      <td>5.000000</td>\n",
       "      <td>5.000000</td>\n",
       "      <td>5.000000</td>\n",
       "      <td>5.000000</td>\n",
       "      <td>5.000000</td>\n",
       "      <td>1128.00000</td>\n",
       "      <td>1115.000000</td>\n",
       "    </tr>\n",
       "  </tbody>\n",
       "</table>\n",
       "</div>"
      ],
      "text/plain": [
       "         Unnamed: 0             id           Age  Flight Distance  \\\n",
       "count  25976.000000   25976.000000  25976.000000     25976.000000   \n",
       "mean   12987.500000   65005.657992     39.620958      1193.788459   \n",
       "std     7498.769632   37611.526647     15.135685       998.683999   \n",
       "min        0.000000      17.000000      7.000000        31.000000   \n",
       "25%     6493.750000   32170.500000     27.000000       414.000000   \n",
       "50%    12987.500000   65319.500000     40.000000       849.000000   \n",
       "75%    19481.250000   97584.250000     51.000000      1744.000000   \n",
       "max    25975.000000  129877.000000     85.000000      4983.000000   \n",
       "\n",
       "       Inflight wifi service  Departure/Arrival time convenient  \\\n",
       "count           25976.000000                       25976.000000   \n",
       "mean                2.724746                           3.046812   \n",
       "std                 1.335384                           1.533371   \n",
       "min                 0.000000                           0.000000   \n",
       "25%                 2.000000                           2.000000   \n",
       "50%                 3.000000                           3.000000   \n",
       "75%                 4.000000                           4.000000   \n",
       "max                 5.000000                           5.000000   \n",
       "\n",
       "       Ease of Online booking  Gate location  Food and drink  Online boarding  \\\n",
       "count            25976.000000   25976.000000    25976.000000     25976.000000   \n",
       "mean                 2.756775       2.977094        3.215353         3.261665   \n",
       "std                  1.412951       1.282133        1.331506         1.355536   \n",
       "min                  0.000000       1.000000        0.000000         0.000000   \n",
       "25%                  2.000000       2.000000        2.000000         2.000000   \n",
       "50%                  3.000000       3.000000        3.000000         4.000000   \n",
       "75%                  4.000000       4.000000        4.000000         4.000000   \n",
       "max                  5.000000       5.000000        5.000000         5.000000   \n",
       "\n",
       "       Seat comfort  Inflight entertainment  On-board service  \\\n",
       "count  25976.000000            25976.000000      25976.000000   \n",
       "mean       3.449222                3.357753          3.385664   \n",
       "std        1.320090                1.338299          1.282088   \n",
       "min        1.000000                0.000000          0.000000   \n",
       "25%        2.000000                2.000000          2.000000   \n",
       "50%        4.000000                4.000000          4.000000   \n",
       "75%        5.000000                4.000000          4.000000   \n",
       "max        5.000000                5.000000          5.000000   \n",
       "\n",
       "       Leg room service  Baggage handling  Checkin service  Inflight service  \\\n",
       "count      25976.000000      25976.000000     25976.000000      25976.000000   \n",
       "mean           3.350169          3.633238         3.314175          3.649253   \n",
       "std            1.318862          1.176525         1.269332          1.180681   \n",
       "min            0.000000          1.000000         1.000000          0.000000   \n",
       "25%            2.000000          3.000000         3.000000          3.000000   \n",
       "50%            4.000000          4.000000         3.000000          4.000000   \n",
       "75%            4.000000          5.000000         4.000000          5.000000   \n",
       "max            5.000000          5.000000         5.000000          5.000000   \n",
       "\n",
       "        Cleanliness  Departure Delay in Minutes  Arrival Delay in Minutes  \n",
       "count  25976.000000                 25976.00000              25893.000000  \n",
       "mean       3.286226                    14.30609                 14.740857  \n",
       "std        1.319330                    37.42316                 37.517539  \n",
       "min        0.000000                     0.00000                  0.000000  \n",
       "25%        2.000000                     0.00000                  0.000000  \n",
       "50%        3.000000                     0.00000                  0.000000  \n",
       "75%        4.000000                    12.00000                 13.000000  \n",
       "max        5.000000                  1128.00000               1115.000000  "
      ]
     },
     "execution_count": 4,
     "metadata": {},
     "output_type": "execute_result"
    }
   ],
   "source": [
    "airlinedf.describe()"
   ]
  },
  {
   "cell_type": "markdown",
   "metadata": {},
   "source": [
    " There were no missing values present in the dataset. So I am generating missing values."
   ]
  },
  {
   "cell_type": "code",
   "execution_count": 5,
   "metadata": {},
   "outputs": [],
   "source": [
    "cols = [2,6,7,17,14,18]\n",
    "np.random.seed(0)\n",
    "masking_array = np.random.randint(120, size = (airlinedf.shape[0], 6)) < 90\n",
    "airlinedf[airlinedf.columns[cols]] = airlinedf[airlinedf.columns[cols]].where(masking_array, np.nan)\n"
   ]
  },
  {
   "cell_type": "markdown",
   "metadata": {},
   "source": [
    "Checking the null values "
   ]
  },
  {
   "cell_type": "code",
   "execution_count": 6,
   "metadata": {},
   "outputs": [
    {
     "name": "stdout",
     "output_type": "stream",
     "text": [
      "\n",
      " Total no of Missing values: 39366\n"
     ]
    }
   ],
   "source": [
    "print('\\n Total no of Missing values:',airlinedf.isnull().values.sum())"
   ]
  },
  {
   "cell_type": "code",
   "execution_count": 7,
   "metadata": {},
   "outputs": [
    {
     "name": "stdout",
     "output_type": "stream",
     "text": [
      "Missing values : \n",
      " Unnamed: 0                              0\n",
      "id                                      0\n",
      "Gender                               6588\n",
      "Customer Type                           0\n",
      "Age                                     0\n",
      "Type of Travel                          0\n",
      "Class                                6490\n",
      "Flight Distance                      6571\n",
      "Inflight wifi service                   0\n",
      "Departure/Arrival time convenient       0\n",
      "Ease of Online booking                  0\n",
      "Gate location                           0\n",
      "Food and drink                          0\n",
      "Online boarding                         0\n",
      "Seat comfort                         6476\n",
      "Inflight entertainment                  0\n",
      "On-board service                        0\n",
      "Leg room service                     6576\n",
      "Baggage handling                     6582\n",
      "Checkin service                         0\n",
      "Inflight service                        0\n",
      "Cleanliness                             0\n",
      "Departure Delay in Minutes              0\n",
      "Arrival Delay in Minutes               83\n",
      "satisfaction                            0\n",
      "dtype: int64\n"
     ]
    }
   ],
   "source": [
    "print('Missing values : \\n',airlinedf.isnull().sum())"
   ]
  },
  {
   "cell_type": "code",
   "execution_count": 8,
   "metadata": {},
   "outputs": [],
   "source": [
    "airlinedf.drop(['id'],inplace=True, axis = 1) # dropping this column because it will be not useful."
   ]
  },
  {
   "cell_type": "code",
   "execution_count": 9,
   "metadata": {},
   "outputs": [
    {
     "data": {
      "text/plain": [
       "array(['satisfied', 'neutral or dissatisfied'], dtype=object)"
      ]
     },
     "execution_count": 9,
     "metadata": {},
     "output_type": "execute_result"
    }
   ],
   "source": [
    "airlinedf['satisfaction'].unique()"
   ]
  },
  {
   "cell_type": "markdown",
   "metadata": {},
   "source": [
    "I am mapping 'satisfaction' variable to 0 and 1"
   ]
  },
  {
   "cell_type": "code",
   "execution_count": 10,
   "metadata": {},
   "outputs": [],
   "source": [
    "airlinedf['satisfaction']= airlinedf['satisfaction'].map({'satisfied':1,'neutral or dissatisfied':0})"
   ]
  },
  {
   "cell_type": "code",
   "execution_count": 11,
   "metadata": {},
   "outputs": [
    {
     "data": {
      "text/plain": [
       "0    14573\n",
       "1    11403\n",
       "Name: satisfaction, dtype: int64"
      ]
     },
     "execution_count": 11,
     "metadata": {},
     "output_type": "execute_result"
    }
   ],
   "source": [
    "airlinedf['satisfaction'].value_counts()"
   ]
  },
  {
   "cell_type": "markdown",
   "metadata": {},
   "source": [
    "There are some missing value in 'Gender' column , replacing them with most frequent gender travel\n",
    "and mapping column to 0 and 1 "
   ]
  },
  {
   "cell_type": "code",
   "execution_count": 12,
   "metadata": {},
   "outputs": [
    {
     "data": {
      "text/plain": [
       "Female    9792\n",
       "Male      9596\n",
       "Name: Gender, dtype: int64"
      ]
     },
     "execution_count": 12,
     "metadata": {},
     "output_type": "execute_result"
    }
   ],
   "source": [
    "airlinedf['Gender'].value_counts()"
   ]
  },
  {
   "cell_type": "code",
   "execution_count": 13,
   "metadata": {},
   "outputs": [
    {
     "data": {
      "text/plain": [
       "array(['Female', nan, 'Male'], dtype=object)"
      ]
     },
     "execution_count": 13,
     "metadata": {},
     "output_type": "execute_result"
    }
   ],
   "source": [
    "airlinedf['Gender'].unique()"
   ]
  },
  {
   "cell_type": "code",
   "execution_count": 14,
   "metadata": {},
   "outputs": [],
   "source": [
    "airlinedf['Gender'].fillna('Female',inplace = True)\n"
   ]
  },
  {
   "cell_type": "code",
   "execution_count": 15,
   "metadata": {},
   "outputs": [],
   "source": [
    "airlinedf['Gender']= airlinedf['Gender'].map({'Male':1,'Female':0})\n"
   ]
  },
  {
   "cell_type": "code",
   "execution_count": 16,
   "metadata": {},
   "outputs": [
    {
     "data": {
      "text/plain": [
       "0    16380\n",
       "1     9596\n",
       "Name: Gender, dtype: int64"
      ]
     },
     "execution_count": 16,
     "metadata": {},
     "output_type": "execute_result"
    }
   ],
   "source": [
    "airlinedf['Gender'].value_counts()\n"
   ]
  },
  {
   "cell_type": "markdown",
   "metadata": {},
   "source": [
    "Here 'Customer type' column mapping 0 and 1 "
   ]
  },
  {
   "cell_type": "code",
   "execution_count": 17,
   "metadata": {},
   "outputs": [
    {
     "data": {
      "text/plain": [
       "array(['Loyal Customer', 'disloyal Customer'], dtype=object)"
      ]
     },
     "execution_count": 17,
     "metadata": {},
     "output_type": "execute_result"
    }
   ],
   "source": [
    "airlinedf['Customer Type'].unique()"
   ]
  },
  {
   "cell_type": "code",
   "execution_count": 18,
   "metadata": {},
   "outputs": [],
   "source": [
    "airlinedf['Customer Type']= airlinedf['Customer Type'].map({'Loyal Customer':1,'disloyal Customer':0})\n",
    "\n"
   ]
  },
  {
   "cell_type": "code",
   "execution_count": 19,
   "metadata": {},
   "outputs": [
    {
     "data": {
      "text/plain": [
       "1    21177\n",
       "0     4799\n",
       "Name: Customer Type, dtype: int64"
      ]
     },
     "execution_count": 19,
     "metadata": {},
     "output_type": "execute_result"
    }
   ],
   "source": [
    "airlinedf['Customer Type'].value_counts()"
   ]
  },
  {
   "cell_type": "markdown",
   "metadata": {},
   "source": [
    "In the 'Class' column, missing values are replaced by most frequent class and using one hot vector ."
   ]
  },
  {
   "cell_type": "code",
   "execution_count": 20,
   "metadata": {},
   "outputs": [
    {
     "data": {
      "text/plain": [
       "array(['Eco', 'Business', nan, 'Eco Plus'], dtype=object)"
      ]
     },
     "execution_count": 20,
     "metadata": {},
     "output_type": "execute_result"
    }
   ],
   "source": [
    "airlinedf['Class'].unique()"
   ]
  },
  {
   "cell_type": "code",
   "execution_count": 21,
   "metadata": {},
   "outputs": [
    {
     "data": {
      "text/plain": [
       "Business    9393\n",
       "Eco         8640\n",
       "Eco Plus    1453\n",
       "Name: Class, dtype: int64"
      ]
     },
     "execution_count": 21,
     "metadata": {},
     "output_type": "execute_result"
    }
   ],
   "source": [
    "airlinedf['Class'].value_counts()\n"
   ]
  },
  {
   "cell_type": "code",
   "execution_count": 22,
   "metadata": {},
   "outputs": [],
   "source": [
    "airlinedf['Class'].fillna('Eco',inplace = True)"
   ]
  },
  {
   "cell_type": "code",
   "execution_count": 23,
   "metadata": {},
   "outputs": [
    {
     "data": {
      "text/plain": [
       "Eco         15130\n",
       "Business     9393\n",
       "Eco Plus     1453\n",
       "Name: Class, dtype: int64"
      ]
     },
     "execution_count": 23,
     "metadata": {},
     "output_type": "execute_result"
    }
   ],
   "source": [
    "airlinedf['Class'].value_counts()"
   ]
  },
  {
   "cell_type": "code",
   "execution_count": 24,
   "metadata": {},
   "outputs": [],
   "source": [
    "one_hot = pd.get_dummies(airlinedf['Class'],prefix='Class')\n",
    "airlinedf = airlinedf.drop('Class',axis = 1)\n",
    "airlinedf = airlinedf.join(one_hot)"
   ]
  },
  {
   "cell_type": "code",
   "execution_count": 25,
   "metadata": {},
   "outputs": [
    {
     "data": {
      "text/plain": [
       "Business travel    18038\n",
       "Personal Travel     7938\n",
       "Name: Type of Travel, dtype: int64"
      ]
     },
     "execution_count": 25,
     "metadata": {},
     "output_type": "execute_result"
    }
   ],
   "source": [
    "#airlinedf = airlinedf(['Type of Travel'])\n",
    "airlinedf['Type of Travel'].value_counts()\n"
   ]
  },
  {
   "cell_type": "code",
   "execution_count": 26,
   "metadata": {},
   "outputs": [],
   "source": [
    "one_hot = pd.get_dummies(airlinedf['Type of Travel'],prefix='Type of Travel')\n",
    "airlinedf = airlinedf.drop('Type of Travel',axis = 1)\n",
    "airlinedf = airlinedf.join(one_hot)"
   ]
  },
  {
   "cell_type": "code",
   "execution_count": 27,
   "metadata": {},
   "outputs": [
    {
     "data": {
      "text/plain": [
       "337.0     138\n",
       "594.0      84\n",
       "862.0      78\n",
       "391.0      74\n",
       "447.0      73\n",
       "         ... \n",
       "2215.0      1\n",
       "1950.0      1\n",
       "2527.0      1\n",
       "2871.0      1\n",
       "434.0       1\n",
       "Name: Flight Distance, Length: 3049, dtype: int64"
      ]
     },
     "execution_count": 27,
     "metadata": {},
     "output_type": "execute_result"
    }
   ],
   "source": [
    "airlinedf['Flight Distance'].value_counts()"
   ]
  },
  {
   "cell_type": "markdown",
   "metadata": {},
   "source": [
    "Missing values in 'Flight Distance' column replace by median of flight distance ."
   ]
  },
  {
   "cell_type": "code",
   "execution_count": 28,
   "metadata": {},
   "outputs": [],
   "source": [
    "airlinedf['Flight Distance'].fillna(airlinedf['Flight Distance'].median(), inplace=True)\n"
   ]
  },
  {
   "cell_type": "code",
   "execution_count": 29,
   "metadata": {},
   "outputs": [
    {
     "data": {
      "text/plain": [
       "array([ 3., nan,  2.,  4.,  5.,  1.])"
      ]
     },
     "execution_count": 29,
     "metadata": {},
     "output_type": "execute_result"
    }
   ],
   "source": [
    "airlinedf['Seat comfort'].unique()\n"
   ]
  },
  {
   "cell_type": "code",
   "execution_count": 30,
   "metadata": {},
   "outputs": [
    {
     "data": {
      "text/plain": [
       "4.0    6054\n",
       "5.0    4955\n",
       "3.0    3539\n",
       "2.0    2682\n",
       "1.0    2270\n",
       "Name: Seat comfort, dtype: int64"
      ]
     },
     "execution_count": 30,
     "metadata": {},
     "output_type": "execute_result"
    }
   ],
   "source": [
    "airlinedf['Seat comfort'].value_counts()"
   ]
  },
  {
   "cell_type": "code",
   "execution_count": 31,
   "metadata": {},
   "outputs": [],
   "source": [
    "airlinedf['Seat comfort'].fillna(4.0, inplace=True)"
   ]
  },
  {
   "cell_type": "code",
   "execution_count": 32,
   "metadata": {},
   "outputs": [
    {
     "data": {
      "text/plain": [
       "4.0    12530\n",
       "5.0     4955\n",
       "3.0     3539\n",
       "2.0     2682\n",
       "1.0     2270\n",
       "Name: Seat comfort, dtype: int64"
      ]
     },
     "execution_count": 32,
     "metadata": {},
     "output_type": "execute_result"
    }
   ],
   "source": [
    "airlinedf['Seat comfort'].value_counts()"
   ]
  },
  {
   "cell_type": "code",
   "execution_count": 33,
   "metadata": {},
   "outputs": [
    {
     "data": {
      "text/plain": [
       "4.0    5293\n",
       "5.0    4709\n",
       "3.0    3705\n",
       "2.0    3681\n",
       "1.0    1909\n",
       "0.0     103\n",
       "Name: Leg room service, dtype: int64"
      ]
     },
     "execution_count": 33,
     "metadata": {},
     "output_type": "execute_result"
    }
   ],
   "source": [
    "airlinedf['Leg room service'].value_counts()\n",
    "\n",
    "\n"
   ]
  },
  {
   "cell_type": "code",
   "execution_count": 34,
   "metadata": {},
   "outputs": [],
   "source": [
    "airlinedf['Leg room service'].fillna(1.0, inplace=True)"
   ]
  },
  {
   "cell_type": "code",
   "execution_count": 35,
   "metadata": {},
   "outputs": [
    {
     "data": {
      "text/plain": [
       "4.0    6988\n",
       "5.0    5046\n",
       "3.0    3898\n",
       "2.0    2104\n",
       "1.0    1358\n",
       "Name: Baggage handling, dtype: int64"
      ]
     },
     "execution_count": 35,
     "metadata": {},
     "output_type": "execute_result"
    }
   ],
   "source": [
    "airlinedf['Baggage handling'].value_counts()\n",
    "\n",
    "\n"
   ]
  },
  {
   "cell_type": "code",
   "execution_count": 36,
   "metadata": {},
   "outputs": [],
   "source": [
    "airlinedf['Baggage handling'].fillna(3.0, inplace=True)"
   ]
  },
  {
   "cell_type": "code",
   "execution_count": 37,
   "metadata": {},
   "outputs": [
    {
     "data": {
      "text/plain": [
       "0.0      14594\n",
       "1.0        536\n",
       "2.0        523\n",
       "3.0        490\n",
       "4.0        466\n",
       "         ...  \n",
       "347.0        1\n",
       "350.0        1\n",
       "320.0        1\n",
       "159.0        1\n",
       "403.0        1\n",
       "Name: Arrival Delay in Minutes, Length: 320, dtype: int64"
      ]
     },
     "execution_count": 37,
     "metadata": {},
     "output_type": "execute_result"
    }
   ],
   "source": [
    "airlinedf['Arrival Delay in Minutes'].value_counts()\n"
   ]
  },
  {
   "cell_type": "code",
   "execution_count": 38,
   "metadata": {},
   "outputs": [],
   "source": [
    "\n",
    "airlinedf['Arrival Delay in Minutes'].fillna(airlinedf['Arrival Delay in Minutes'].median(), inplace=True)"
   ]
  },
  {
   "cell_type": "code",
   "execution_count": 39,
   "metadata": {},
   "outputs": [
    {
     "data": {
      "text/plain": [
       "Unnamed: 0                           0\n",
       "Gender                               0\n",
       "Customer Type                        0\n",
       "Age                                  0\n",
       "Flight Distance                      0\n",
       "Inflight wifi service                0\n",
       "Departure/Arrival time convenient    0\n",
       "Ease of Online booking               0\n",
       "Gate location                        0\n",
       "Food and drink                       0\n",
       "Online boarding                      0\n",
       "Seat comfort                         0\n",
       "Inflight entertainment               0\n",
       "On-board service                     0\n",
       "Leg room service                     0\n",
       "Baggage handling                     0\n",
       "Checkin service                      0\n",
       "Inflight service                     0\n",
       "Cleanliness                          0\n",
       "Departure Delay in Minutes           0\n",
       "Arrival Delay in Minutes             0\n",
       "satisfaction                         0\n",
       "Class_Business                       0\n",
       "Class_Eco                            0\n",
       "Class_Eco Plus                       0\n",
       "Type of Travel_Business travel       0\n",
       "Type of Travel_Personal Travel       0\n",
       "dtype: int64"
      ]
     },
     "execution_count": 39,
     "metadata": {},
     "output_type": "execute_result"
    }
   ],
   "source": [
    "airlinedf.isnull().sum()"
   ]
  },
  {
   "cell_type": "code",
   "execution_count": 40,
   "metadata": {},
   "outputs": [
    {
     "data": {
      "text/plain": [
       "(5000, 27)"
      ]
     },
     "execution_count": 40,
     "metadata": {},
     "output_type": "execute_result"
    }
   ],
   "source": [
    "airlinedf1=airlinedf.sample(n=5000)\n",
    "airlinedf1.shape"
   ]
  },
  {
   "cell_type": "code",
   "execution_count": 41,
   "metadata": {},
   "outputs": [],
   "source": [
    "target_var=airlinedf1['satisfaction']\n",
    "airlinedf1 = airlinedf1.drop('satisfaction',axis=1)"
   ]
  },
  {
   "cell_type": "markdown",
   "metadata": {},
   "source": [
    "## Data Preparation"
   ]
  },
  {
   "cell_type": "code",
   "execution_count": 42,
   "metadata": {},
   "outputs": [],
   "source": [
    "from sklearn.model_selection import train_test_split\n",
    "from sklearn.preprocessing import MinMaxScaler\n"
   ]
  },
  {
   "cell_type": "code",
   "execution_count": 43,
   "metadata": {},
   "outputs": [],
   "source": [
    "xtrainss, xtestss, ytrainss, ytestss = train_test_split(airlinedf1, target_var, random_state=0,test_size=0.2)\n"
   ]
  },
  {
   "cell_type": "markdown",
   "metadata": {},
   "source": [
    "MinMax Scaler helps normalize the data. Since the scale of values in the columns are different, they can have different impact on the coefficients of the models. In order normalize the impact of features during prediction we used the Min Max Scalar."
   ]
  },
  {
   "cell_type": "code",
   "execution_count": 44,
   "metadata": {},
   "outputs": [],
   "source": [
    "scaler = MinMaxScaler()\n",
    "XTrainss = scaler.fit_transform(xtrainss)\n",
    "XTestss = scaler.transform(xtestss)"
   ]
  },
  {
   "cell_type": "code",
   "execution_count": 45,
   "metadata": {},
   "outputs": [],
   "source": [
    "XTrainss  = pd.DataFrame(XTrainss)\n",
    "XTestss = pd.DataFrame(XTestss)\n",
    "XTrainss.columns = airlinedf1.columns\n",
    "XTestss.columns = airlinedf1.columns"
   ]
  },
  {
   "cell_type": "markdown",
   "metadata": {},
   "source": [
    "# Classifications :"
   ]
  },
  {
   "cell_type": "markdown",
   "metadata": {},
   "source": [
    "# 1. K-Nearest neighbor classification"
   ]
  },
  {
   "cell_type": "code",
   "execution_count": 46,
   "metadata": {},
   "outputs": [],
   "source": [
    "from sklearn.neighbors import KNeighborsClassifier\n",
    "\n",
    "knn_tr_sc = []\n",
    "knn_te_sc = []\n",
    "\n",
    "for k in range(1,20):\n",
    "    knnc = KNeighborsClassifier(k)\n",
    "    knnc.fit(XTrainss, ytrainss)\n",
    "    knn_tr_sc.append(knnc.score(XTrainss, ytrainss))\n",
    "    knn_te_sc.append(knnc.score(XTestss, ytestss))"
   ]
  },
  {
   "cell_type": "code",
   "execution_count": 47,
   "metadata": {},
   "outputs": [
    {
     "data": {
      "text/plain": [
       "<matplotlib.legend.Legend at 0x7fccbbd198b0>"
      ]
     },
     "execution_count": 47,
     "metadata": {},
     "output_type": "execute_result"
    },
    {
     "data": {
      "image/png": "[encoded data removed]",
      "text/plain": [
       "<Figure size 1080x432 with 1 Axes>"
      ]
     },
     "metadata": {
      "needs_background": "light"
     },
     "output_type": "display_data"
    }
   ],
   "source": [
    "r_n = range(1,20)\n",
    "%matplotlib inline\n",
    "\n",
    "plt.subplots(figsize = (15,6))\n",
    "plt.plot(r_n, knn_tr_sc, label = 'Knn_trainkernalizeds', )\n",
    "plt.plot(r_n, knn_te_sc, label = 'Knn_testkernalizeds', )\n",
    "plt.xlabel('Values of n in knn')\n",
    "plt.ylabel(' knn_accuracy')\n",
    "plt.xticks(range(1,20))\n",
    "plt.legend()"
   ]
  },
  {
   "cell_type": "markdown",
   "metadata": {},
   "source": [
    " __The graph shows, k=10 is the best value of number of neighbor__"
   ]
  },
  {
   "cell_type": "code",
   "execution_count": 48,
   "metadata": {},
   "outputs": [
    {
     "name": "stdout",
     "output_type": "stream",
     "text": [
      "No of Neighbors: 10\n",
      "Knn Train score: 0.8958\n",
      "Knn Train score: 0.8820\n"
     ]
    }
   ],
   "source": [
    "knnc = KNeighborsClassifier(10)\n",
    "knnc.fit(XTrainss, ytrainss)\n",
    "print (\"No of Neighbors:\", 10)\n",
    "print('Knn Train score: {:.4f}'.format(knnc.score(XTrainss, ytrainss)))\n",
    "print('Knn Train score: {:.4f}'.format(knnc.score(XTestss, ytestss)))\n"
   ]
  },
  {
   "cell_type": "markdown",
   "metadata": {},
   "source": [
    "### Knn cross validation score "
   ]
  },
  {
   "cell_type": "code",
   "execution_count": 49,
   "metadata": {},
   "outputs": [
    {
     "data": {
      "text/html": [
       "<div>\n",
       "<style scoped>\n",
       "    .dataframe tbody tr th:only-of-type {\n",
       "        vertical-align: middle;\n",
       "    }\n",
       "\n",
       "    .dataframe tbody tr th {\n",
       "        vertical-align: top;\n",
       "    }\n",
       "\n",
       "    .dataframe thead th {\n",
       "        text-align: right;\n",
       "    }\n",
       "</style>\n",
       "<table border=\"1\" class=\"dataframe\">\n",
       "  <thead>\n",
       "    <tr style=\"text-align: right;\">\n",
       "      <th></th>\n",
       "      <th>knncross-validation score</th>\n",
       "    </tr>\n",
       "  </thead>\n",
       "  <tbody>\n",
       "    <tr>\n",
       "      <th>0</th>\n",
       "      <td>0.88250</td>\n",
       "    </tr>\n",
       "    <tr>\n",
       "      <th>1</th>\n",
       "      <td>0.88250</td>\n",
       "    </tr>\n",
       "    <tr>\n",
       "      <th>2</th>\n",
       "      <td>0.88000</td>\n",
       "    </tr>\n",
       "    <tr>\n",
       "      <th>3</th>\n",
       "      <td>0.88125</td>\n",
       "    </tr>\n",
       "    <tr>\n",
       "      <th>4</th>\n",
       "      <td>0.87750</td>\n",
       "    </tr>\n",
       "  </tbody>\n",
       "</table>\n",
       "</div>"
      ],
      "text/plain": [
       "   knncross-validation score\n",
       "0                    0.88250\n",
       "1                    0.88250\n",
       "2                    0.88000\n",
       "3                    0.88125\n",
       "4                    0.87750"
      ]
     },
     "execution_count": 49,
     "metadata": {},
     "output_type": "execute_result"
    }
   ],
   "source": [
    "from sklearn.model_selection import cross_val_score\n",
    "\n",
    "knncs = cross_val_score(knnc, XTrainss, ytrainss)\n",
    "cs=({'knncross-validation score': knncs})\n",
    "cs1=pd.DataFrame(cs)\n",
    "cs1"
   ]
  },
  {
   "cell_type": "code",
   "execution_count": 50,
   "metadata": {},
   "outputs": [
    {
     "name": "stdout",
     "output_type": "stream",
     "text": [
      "Cross validation score for Knn 0.8807500000000001\n"
     ]
    }
   ],
   "source": [
    "print(\"Cross validation score for Knn\",knncs.mean())"
   ]
  },
  {
   "cell_type": "markdown",
   "metadata": {},
   "source": [
    "### Knn cross validation score with cross fold "
   ]
  },
  {
   "cell_type": "code",
   "execution_count": 51,
   "metadata": {},
   "outputs": [
    {
     "data": {
      "text/html": [
       "<div>\n",
       "<style scoped>\n",
       "    .dataframe tbody tr th:only-of-type {\n",
       "        vertical-align: middle;\n",
       "    }\n",
       "\n",
       "    .dataframe tbody tr th {\n",
       "        vertical-align: top;\n",
       "    }\n",
       "\n",
       "    .dataframe thead th {\n",
       "        text-align: right;\n",
       "    }\n",
       "</style>\n",
       "<table border=\"1\" class=\"dataframe\">\n",
       "  <thead>\n",
       "    <tr style=\"text-align: right;\">\n",
       "      <th></th>\n",
       "      <th>knncross validation score</th>\n",
       "    </tr>\n",
       "  </thead>\n",
       "  <tbody>\n",
       "    <tr>\n",
       "      <th>0</th>\n",
       "      <td>0.88250</td>\n",
       "    </tr>\n",
       "    <tr>\n",
       "      <th>1</th>\n",
       "      <td>0.88250</td>\n",
       "    </tr>\n",
       "    <tr>\n",
       "      <th>2</th>\n",
       "      <td>0.88000</td>\n",
       "    </tr>\n",
       "    <tr>\n",
       "      <th>3</th>\n",
       "      <td>0.88125</td>\n",
       "    </tr>\n",
       "    <tr>\n",
       "      <th>4</th>\n",
       "      <td>0.87750</td>\n",
       "    </tr>\n",
       "  </tbody>\n",
       "</table>\n",
       "</div>"
      ],
      "text/plain": [
       "   knncross validation score\n",
       "0                    0.88250\n",
       "1                    0.88250\n",
       "2                    0.88000\n",
       "3                    0.88125\n",
       "4                    0.87750"
      ]
     },
     "execution_count": 51,
     "metadata": {},
     "output_type": "execute_result"
    }
   ],
   "source": [
    "from sklearn.model_selection import cross_val_score\n",
    "\n",
    "knncs = cross_val_score(knnc, XTrainss, ytrainss, cv=5)\n",
    "cs=({'knncross validation score': knncs})\n",
    "cs1=pd.DataFrame(cs)\n",
    "cs1\n"
   ]
  },
  {
   "cell_type": "code",
   "execution_count": 52,
   "metadata": {},
   "outputs": [
    {
     "name": "stdout",
     "output_type": "stream",
     "text": [
      "cross validation score for Knn : 0.8807500000000001\n"
     ]
    }
   ],
   "source": [
    "print(\"cross validation score for Knn :\",knncs.mean())"
   ]
  },
  {
   "cell_type": "markdown",
   "metadata": {},
   "source": [
    "###  Grid search for KNN "
   ]
  },
  {
   "cell_type": "code",
   "execution_count": 53,
   "metadata": {},
   "outputs": [],
   "source": [
    "from sklearn.model_selection import GridSearchCV\n",
    "paramgridknn = {'n_neighbors':range(1,20), \n",
    "                  'p': [1,2],\n",
    "                'weights': ['distance','uniform'],\n",
    "                'metric': ['euclidean','manhattan'],\n",
    "                   }\n",
    "\n",
    "gsknn = GridSearchCV(KNeighborsClassifier(), paramgridknn , cv = 5)\n",
    "gs_model = gsknn.fit(XTrainss, ytrainss)"
   ]
  },
  {
   "cell_type": "code",
   "execution_count": 54,
   "metadata": {},
   "outputs": [
    {
     "name": "stdout",
     "output_type": "stream",
     "text": [
      "GrideSearch knn score : 0.9005000000000001\n",
      "GrideSearch knn parameters : {'metric': 'manhattan', 'n_neighbors': 8, 'p': 1, 'weights': 'distance'}\n"
     ]
    }
   ],
   "source": [
    "print('GrideSearch knn score :',gs_model.best_score_)\n",
    "print('GrideSearch knn parameters :',gs_model.best_params_)"
   ]
  },
  {
   "cell_type": "markdown",
   "metadata": {},
   "source": [
    "### Knn classifier using best parameters "
   ]
  },
  {
   "cell_type": "code",
   "execution_count": 55,
   "metadata": {},
   "outputs": [
    {
     "name": "stdout",
     "output_type": "stream",
     "text": [
      "Knn train score: 1.0000 \n",
      "Knn test score: 0.9040 \n"
     ]
    }
   ],
   "source": [
    "best_knncs = KNeighborsClassifier(metric= 'manhattan', n_neighbors = 8, weights = 'distance',p = 1)\n",
    "\n",
    "best_knncs.fit(XTrainss, ytrainss)\n",
    "y_pred_knncs = best_knncs.predict(XTestss)\n",
    "\n",
    "print('Knn train score: {:.4f} '.format(best_knncs.score(XTrainss, ytrainss)))\n",
    "print('Knn test score: {:.4f} '.format(best_knncs.score(XTestss, ytestss)))\n"
   ]
  },
  {
   "cell_type": "code",
   "execution_count": 56,
   "metadata": {},
   "outputs": [
    {
     "name": "stdout",
     "output_type": "stream",
     "text": [
      "Knn-matrix \n",
      "[[546  66]\n",
      " [ 30 358]]\n"
     ]
    }
   ],
   "source": [
    "from sklearn.metrics import confusion_matrix\n",
    "knncon_mat = confusion_matrix(y_pred_knncs,ytestss)\n",
    "print(\"Knn-matrix \\n{}\".format(knncon_mat))\n"
   ]
  },
  {
   "cell_type": "code",
   "execution_count": 57,
   "metadata": {},
   "outputs": [
    {
     "data": {
      "image/png": "[encoded data removed]",
      "text/plain": [
       "<Figure size 432x288 with 1 Axes>"
      ]
     },
     "metadata": {
      "needs_background": "light"
     },
     "output_type": "display_data"
    }
   ],
   "source": [
    "import mglearn\n",
    "%matplotlib inline\n",
    "\n",
    "scoresimage_ = mglearn.tools.heatmap(\n",
    "    confusion_matrix(y_pred_knncs, ytestss), xlabel = 'Predicted label',\n",
    "    ylabel='True label', xticklabels = ['Satisfied','Dissatisfied'],\n",
    "    yticklabels=['Satisfied','Dissatisfied'], fmt=\"%d\")\n",
    "plt.title(\"Confusion matrix (KNN)\")\n",
    "plt.gca().invert_yaxis()"
   ]
  },
  {
   "cell_type": "code",
   "execution_count": 1,
   "metadata": {},
   "outputs": [
    {
     "ename": "NameError",
     "evalue": "name 'ytestss' is not defined",
     "output_type": "error",
     "traceback": [
      "\u001b[1;31m---------------------------------------------------------------------------\u001b[0m",
      "\u001b[1;31mNameError\u001b[0m                                 Traceback (most recent call last)",
      "\u001b[1;32m<ipython-input-1-48d4d20e8890>\u001b[0m in \u001b[0;36m<module>\u001b[1;34m\u001b[0m\n\u001b[0;32m      2\u001b[0m \u001b[1;32mfrom\u001b[0m \u001b[0msklearn\u001b[0m\u001b[1;33m.\u001b[0m\u001b[0mmetrics\u001b[0m \u001b[1;32mimport\u001b[0m \u001b[0mroc_auc_score\u001b[0m\u001b[1;33m\u001b[0m\u001b[1;33m\u001b[0m\u001b[0m\n\u001b[0;32m      3\u001b[0m \u001b[1;33m\u001b[0m\u001b[0m\n\u001b[1;32m----> 4\u001b[1;33m \u001b[0mKnn_recall_Score\u001b[0m \u001b[1;33m=\u001b[0m \u001b[0mrecall_score\u001b[0m\u001b[1;33m(\u001b[0m\u001b[0mytestss\u001b[0m\u001b[1;33m,\u001b[0m \u001b[0mbest_knncs\u001b[0m\u001b[1;33m.\u001b[0m\u001b[0mpredict\u001b[0m\u001b[1;33m(\u001b[0m\u001b[0mXTestss\u001b[0m\u001b[1;33m)\u001b[0m\u001b[1;33m)\u001b[0m\u001b[1;33m\u001b[0m\u001b[1;33m\u001b[0m\u001b[0m\n\u001b[0m\u001b[0;32m      5\u001b[0m \u001b[0mprint\u001b[0m\u001b[1;33m(\u001b[0m\u001b[1;34m'KNN Recall score : {:.4f} '\u001b[0m\u001b[1;33m.\u001b[0m\u001b[0mformat\u001b[0m\u001b[1;33m(\u001b[0m\u001b[0mrecall_score\u001b[0m\u001b[1;33m(\u001b[0m\u001b[0mytestss\u001b[0m\u001b[1;33m,\u001b[0m \u001b[0mbest_knncs\u001b[0m\u001b[1;33m.\u001b[0m\u001b[0mpredict\u001b[0m\u001b[1;33m(\u001b[0m\u001b[0mXTestss\u001b[0m\u001b[1;33m)\u001b[0m\u001b[1;33m)\u001b[0m\u001b[1;33m)\u001b[0m\u001b[1;33m)\u001b[0m\u001b[1;33m\u001b[0m\u001b[1;33m\u001b[0m\u001b[0m\n\u001b[0;32m      6\u001b[0m \u001b[1;33m\u001b[0m\u001b[0m\n",
      "\u001b[1;31mNameError\u001b[0m: name 'ytestss' is not defined"
     ]
    }
   ],
   "source": [
    "from sklearn.metrics import recall_score , precision_score, f1_score\n",
    "from sklearn.metrics import roc_auc_score\n",
    "\n",
    "Knn_recall_Score = recall_score(ytestss, best_knncs.predict(XTestss))\n",
    "print('KNN Recall score : {:.4f} '.format(recall_score(ytestss, best_knncs.predict(XTestss))))\n",
    "\n",
    "Knn_Precision_Score = precision_score(ytestss, best_knncs.predict(XTestss))\n",
    "print('KNN Precision score : {:.4f} '.format(precision_score(ytestss, best_knncs.predict(XTestss))))\n",
    "\n",
    "Knn_f1_Score = f1_score(ytestss, best_knncs.predict(XTestss))\n",
    "print('KNN F1 score : {:.4f} '.format(f1_score(ytestss, best_knncs.predict(XTestss))))\n",
    "\n"
   ]
  },
  {
   "cell_type": "code",
   "execution_count": 2,
   "metadata": {},
   "outputs": [
    {
     "ename": "NameError",
     "evalue": "name 'ytestss' is not defined",
     "output_type": "error",
     "traceback": [
      "\u001b[1;31m---------------------------------------------------------------------------\u001b[0m",
      "\u001b[1;31mNameError\u001b[0m                                 Traceback (most recent call last)",
      "\u001b[1;32m<ipython-input-2-b19d8d879758>\u001b[0m in \u001b[0;36m<module>\u001b[1;34m\u001b[0m\n\u001b[0;32m      2\u001b[0m \u001b[1;32mfrom\u001b[0m \u001b[0msklearn\u001b[0m\u001b[1;33m.\u001b[0m\u001b[0mmetrics\u001b[0m \u001b[1;32mimport\u001b[0m \u001b[0mprecision_recall_curve\u001b[0m\u001b[1;33m\u001b[0m\u001b[1;33m\u001b[0m\u001b[0m\n\u001b[0;32m      3\u001b[0m \u001b[0mget_ipython\u001b[0m\u001b[1;33m(\u001b[0m\u001b[1;33m)\u001b[0m\u001b[1;33m.\u001b[0m\u001b[0mrun_line_magic\u001b[0m\u001b[1;33m(\u001b[0m\u001b[1;34m'matplotlib'\u001b[0m\u001b[1;33m,\u001b[0m \u001b[1;34m'inline'\u001b[0m\u001b[1;33m)\u001b[0m\u001b[1;33m\u001b[0m\u001b[1;33m\u001b[0m\u001b[0m\n\u001b[1;32m----> 4\u001b[1;33m \u001b[0mprecision\u001b[0m\u001b[1;33m,\u001b[0m \u001b[0mrecall\u001b[0m\u001b[1;33m,\u001b[0m \u001b[0mthresholds\u001b[0m \u001b[1;33m=\u001b[0m \u001b[0mprecision_recall_curve\u001b[0m\u001b[1;33m(\u001b[0m\u001b[0mytestss\u001b[0m\u001b[1;33m,\u001b[0m \u001b[0mbest_knncs\u001b[0m\u001b[1;33m.\u001b[0m\u001b[0mpredict_proba\u001b[0m\u001b[1;33m(\u001b[0m\u001b[0mXTestss\u001b[0m\u001b[1;33m)\u001b[0m\u001b[1;33m[\u001b[0m\u001b[1;33m:\u001b[0m\u001b[1;33m,\u001b[0m\u001b[1;36m1\u001b[0m\u001b[1;33m]\u001b[0m\u001b[1;33m)\u001b[0m\u001b[1;33m\u001b[0m\u001b[1;33m\u001b[0m\u001b[0m\n\u001b[0m\u001b[0;32m      5\u001b[0m \u001b[1;33m\u001b[0m\u001b[0m\n\u001b[0;32m      6\u001b[0m \u001b[0mcl_z\u001b[0m \u001b[1;33m=\u001b[0m \u001b[0mnp\u001b[0m\u001b[1;33m.\u001b[0m\u001b[0margmin\u001b[0m\u001b[1;33m(\u001b[0m\u001b[0mnp\u001b[0m\u001b[1;33m.\u001b[0m\u001b[0mabs\u001b[0m\u001b[1;33m(\u001b[0m\u001b[0mthresholds\u001b[0m\u001b[1;33m-\u001b[0m\u001b[1;36m0.5\u001b[0m\u001b[1;33m)\u001b[0m\u001b[1;33m)\u001b[0m\u001b[1;33m\u001b[0m\u001b[1;33m\u001b[0m\u001b[0m\n",
      "\u001b[1;31mNameError\u001b[0m: name 'ytestss' is not defined"
     ]
    }
   ],
   "source": [
    "import mglearn\n",
    "from sklearn.metrics import precision_recall_curve\n",
    "%matplotlib inline\n",
    "precision, recall, thresholds = precision_recall_curve(ytestss, best_knncs.predict_proba(XTestss)[:,1])\n",
    "\n",
    "cl_z = np.argmin(np.abs(thresholds-0.5))\n",
    "\n",
    "plt.plot(precision[cl_z], recall[cl_z], 'o', markersize=10,\n",
    "         label = \"thresholds-0.5\", fillstyle = \"none\", c = 'k', mew = 2)\n",
    "\n",
    "plt.plot(precision, recall, label=\"precision recall curve\")\n",
    "plt.xlabel(\"Precision\")\n",
    "plt.ylabel(\"Recall\")\n",
    "plt.legend(loc=\"best\")"
   ]
  },
  {
   "cell_type": "code",
   "execution_count": 60,
   "metadata": {},
   "outputs": [
    {
     "name": "stdout",
     "output_type": "stream",
     "text": [
      "              precision    recall  f1-score   support\n",
      "\n",
      " disatisfied       0.95      0.89      0.92       612\n",
      "   satisfied       0.84      0.92      0.88       388\n",
      "\n",
      "    accuracy                           0.90      1000\n",
      "   macro avg       0.90      0.91      0.90      1000\n",
      "weighted avg       0.91      0.90      0.90      1000\n",
      "\n"
     ]
    }
   ],
   "source": [
    "from sklearn.metrics import classification_report\n",
    "print(classification_report(y_pred_knncs, ytestss,target_names=[\"disatisfied\", \"satisfied\"]))"
   ]
  },
  {
   "cell_type": "code",
   "execution_count": 61,
   "metadata": {},
   "outputs": [
    {
     "name": "stdout",
     "output_type": "stream",
     "text": [
      "Summary of Knn: [['KNN Classification', {'metric': 'manhattan', 'n_neighbors': 8, 'p': 1, 'weights': 'distance'}, 1.0, 0.904, 0.8443396226415094, 0.9226804123711341, 0.8817733990147784]]\n"
     ]
    }
   ],
   "source": [
    " CompTable = [['KNN Classification', gs_model.best_params_, best_knncs.score(XTrainss, ytrainss),best_knncs.score(XTestss, ytestss),\n",
    "              recall_score(ytestss, best_knncs.predict(XTestss)),precision_score(ytestss, best_knncs.predict(XTestss)),\n",
    "              f1_score(ytestss, best_knncs.predict(XTestss))]]\n",
    " print('Summary of Knn:',CompTable)"
   ]
  },
  {
   "cell_type": "markdown",
   "metadata": {},
   "source": [
    "# 2. Logistic Regression"
   ]
  },
  {
   "cell_type": "code",
   "execution_count": 62,
   "metadata": {},
   "outputs": [],
   "source": [
    "from sklearn.linear_model import LogisticRegression\n",
    "c1 = [0.001, 0.01, 0.1, 1, 10, 100, 1000]\n",
    "trainlogl1 = []\n",
    "trainlogl2 = []\n",
    "testlogl1 = []\n",
    "testlogl2 = []\n",
    "\n",
    "for c in c1:\n",
    "    logl1 = LogisticRegression(penalty = 'l1', C = c, solver = 'liblinear', max_iter = 500)\n",
    "    logl2 = LogisticRegression(penalty = 'l2', C = c, solver = 'lbfgs', max_iter = 500)\n",
    "    logl1.fit(XTrainss, ytrainss)\n",
    "    logl2.fit(XTrainss, ytrainss)\n",
    "    trainlogl1.append(logl1.score(XTrainss, ytrainss))\n",
    "    trainlogl2.append(logl2.score(XTrainss, ytrainss))\n",
    "    testlogl1.append(logl1.score(XTestss, ytestss))\n",
    "    testlogl2.append(logl2.score(XTestss, ytestss))\n"
   ]
  },
  {
   "cell_type": "code",
   "execution_count": 63,
   "metadata": {},
   "outputs": [
    {
     "data": {
      "image/png": "[encoded data removed]",
      "text/plain": [
       "<Figure size 1440x360 with 1 Axes>"
      ]
     },
     "metadata": {
      "needs_background": "light"
     },
     "output_type": "display_data"
    }
   ],
   "source": [
    "%matplotlib inline\n",
    "\n",
    "plt.subplots(figsize = (20,5))\n",
    "plt.plot(c1, trainlogl1, label = 'Train score with l1')\n",
    "plt.plot(c1, testlogl1, label = 'Test score with l1')\n",
    "plt.plot(c1, trainlogl2, label = 'Train score with l2')\n",
    "plt.plot(c1, testlogl2, label = 'Test score with l2')\n",
    "plt.legend()\n",
    "plt.xlabel('Values of C')\n",
    "plt.ylabel('Accuracy')\n",
    "plt.xscale('log')"
   ]
  },
  {
   "cell_type": "markdown",
   "metadata": {},
   "source": [
    "__From the graph c=0.1 and penalty =l2 is best parameter__"
   ]
  },
  {
   "cell_type": "code",
   "execution_count": 64,
   "metadata": {},
   "outputs": [
    {
     "name": "stdout",
     "output_type": "stream",
     "text": [
      "Train score for Logistic regression: 0.86825\n",
      "Test score for Logistic regression: 0.859\n"
     ]
    }
   ],
   "source": [
    "log = LogisticRegression(C=0.1,penalty='l2')\n",
    "log.fit(XTrainss, ytrainss)\n",
    "\n",
    "print('Train score for Logistic regression:',(log.score(XTrainss, ytrainss)))\n",
    "print('Test score for Logistic regression:',(log.score(XTestss, ytestss)))"
   ]
  },
  {
   "cell_type": "markdown",
   "metadata": {},
   "source": [
    "###  Cross validation for Logistic Regression\n"
   ]
  },
  {
   "cell_type": "code",
   "execution_count": 65,
   "metadata": {},
   "outputs": [
    {
     "data": {
      "text/html": [
       "<div>\n",
       "<style scoped>\n",
       "    .dataframe tbody tr th:only-of-type {\n",
       "        vertical-align: middle;\n",
       "    }\n",
       "\n",
       "    .dataframe tbody tr th {\n",
       "        vertical-align: top;\n",
       "    }\n",
       "\n",
       "    .dataframe thead th {\n",
       "        text-align: right;\n",
       "    }\n",
       "</style>\n",
       "<table border=\"1\" class=\"dataframe\">\n",
       "  <thead>\n",
       "    <tr style=\"text-align: right;\">\n",
       "      <th></th>\n",
       "      <th>Logistic Regression_Cross-validation score</th>\n",
       "    </tr>\n",
       "  </thead>\n",
       "  <tbody>\n",
       "    <tr>\n",
       "      <th>0</th>\n",
       "      <td>0.85625</td>\n",
       "    </tr>\n",
       "    <tr>\n",
       "      <th>1</th>\n",
       "      <td>0.86250</td>\n",
       "    </tr>\n",
       "    <tr>\n",
       "      <th>2</th>\n",
       "      <td>0.86250</td>\n",
       "    </tr>\n",
       "    <tr>\n",
       "      <th>3</th>\n",
       "      <td>0.87875</td>\n",
       "    </tr>\n",
       "    <tr>\n",
       "      <th>4</th>\n",
       "      <td>0.86500</td>\n",
       "    </tr>\n",
       "  </tbody>\n",
       "</table>\n",
       "</div>"
      ],
      "text/plain": [
       "   Logistic Regression_Cross-validation score\n",
       "0                                     0.85625\n",
       "1                                     0.86250\n",
       "2                                     0.86250\n",
       "3                                     0.87875\n",
       "4                                     0.86500"
      ]
     },
     "execution_count": 65,
     "metadata": {},
     "output_type": "execute_result"
    }
   ],
   "source": [
    "log_scores = cross_val_score(log, XTrainss, ytrainss)\n",
    "cs=({'Logistic Regression_Cross-validation score': log_scores})\n",
    "cs1=pd.DataFrame(cs)\n",
    "cs1"
   ]
  },
  {
   "cell_type": "code",
   "execution_count": 66,
   "metadata": {},
   "outputs": [
    {
     "name": "stdout",
     "output_type": "stream",
     "text": [
      "Average cross validation score for Logistic regression 0.865\n"
     ]
    }
   ],
   "source": [
    "print(\"Average cross validation score for Logistic regression\",log_scores.mean())\n"
   ]
  },
  {
   "cell_type": "markdown",
   "metadata": {},
   "source": [
    "### Cross validation score with cross fold for Logistic regression"
   ]
  },
  {
   "cell_type": "code",
   "execution_count": 67,
   "metadata": {},
   "outputs": [
    {
     "data": {
      "text/html": [
       "<div>\n",
       "<style scoped>\n",
       "    .dataframe tbody tr th:only-of-type {\n",
       "        vertical-align: middle;\n",
       "    }\n",
       "\n",
       "    .dataframe tbody tr th {\n",
       "        vertical-align: top;\n",
       "    }\n",
       "\n",
       "    .dataframe thead th {\n",
       "        text-align: right;\n",
       "    }\n",
       "</style>\n",
       "<table border=\"1\" class=\"dataframe\">\n",
       "  <thead>\n",
       "    <tr style=\"text-align: right;\">\n",
       "      <th></th>\n",
       "      <th>Cross-validation score for Logistic Regression</th>\n",
       "    </tr>\n",
       "  </thead>\n",
       "  <tbody>\n",
       "    <tr>\n",
       "      <th>0</th>\n",
       "      <td>0.85625</td>\n",
       "    </tr>\n",
       "    <tr>\n",
       "      <th>1</th>\n",
       "      <td>0.86250</td>\n",
       "    </tr>\n",
       "    <tr>\n",
       "      <th>2</th>\n",
       "      <td>0.86250</td>\n",
       "    </tr>\n",
       "    <tr>\n",
       "      <th>3</th>\n",
       "      <td>0.87875</td>\n",
       "    </tr>\n",
       "    <tr>\n",
       "      <th>4</th>\n",
       "      <td>0.86500</td>\n",
       "    </tr>\n",
       "  </tbody>\n",
       "</table>\n",
       "</div>"
      ],
      "text/plain": [
       "   Cross-validation score for Logistic Regression\n",
       "0                                         0.85625\n",
       "1                                         0.86250\n",
       "2                                         0.86250\n",
       "3                                         0.87875\n",
       "4                                         0.86500"
      ]
     },
     "execution_count": 67,
     "metadata": {},
     "output_type": "execute_result"
    }
   ],
   "source": [
    "log_scores = cross_val_score(log, XTrainss, ytrainss, cv=5)\n",
    "cs=({'Cross-validation score for Logistic Regression': log_scores})\n",
    "cs1=pd.DataFrame(cs)\n",
    "cs1"
   ]
  },
  {
   "cell_type": "code",
   "execution_count": 68,
   "metadata": {},
   "outputs": [
    {
     "name": "stdout",
     "output_type": "stream",
     "text": [
      "Average cross validation score with cross fold for Logistic regression 0.865\n"
     ]
    }
   ],
   "source": [
    "print(\"Average cross validation score with cross fold for Logistic regression\",log_scores.mean())\n"
   ]
  },
  {
   "cell_type": "markdown",
   "metadata": {},
   "source": [
    "### Grid search CV with Logistic Regression"
   ]
  },
  {
   "cell_type": "code",
   "execution_count": 69,
   "metadata": {},
   "outputs": [
    {
     "name": "stdout",
     "output_type": "stream",
     "text": [
      "Fitting 5 folds for each of 2786 candidates, totalling 13930 fits\n",
      "Best logistic grid search score 0.8695\n",
      "Best logistic grid search Parameter {'C': 10, 'max_iter': 19, 'penalty': 'l2'}\n"
     ]
    }
   ],
   "source": [
    "param_grid_log = { 'max_iter' : range(1,200), \n",
    "                  'penalty' : ['l1','l2'],\n",
    "                'C' : [0.001, 0.01, 0.1, 1, 10, 100, 1000]}\n",
    "\n",
    "gslog = GridSearchCV(estimator = log, param_grid = param_grid_log, cv = 5, verbose = 1, n_jobs = -1)\n",
    "gslog_model = gslog.fit(XTrainss, ytrainss)\n",
    "\n",
    "print('Best logistic grid search score',gslog_model.best_score_)\n",
    "print('Best logistic grid search Parameter',gslog.best_params_)"
   ]
  },
  {
   "cell_type": "markdown",
   "metadata": {},
   "source": [
    "### Logistic regression using best parameters "
   ]
  },
  {
   "cell_type": "code",
   "execution_count": 70,
   "metadata": {},
   "outputs": [
    {
     "name": "stdout",
     "output_type": "stream",
     "text": [
      "Best logistic train score: 0.8705\n",
      "Best logistic test score: 0.8550\n"
     ]
    }
   ],
   "source": [
    "best_log = LogisticRegression(penalty ='l2', C = 10, max_iter = 19)\n",
    "\n",
    "bestlogmodel=best_log.fit(XTrainss,ytrainss)\n",
    "ypredlog = best_log.predict(XTestss)\n",
    "\n",
    "print('Best logistic train score: {:.4f}'.format(best_log.score(XTrainss, ytrainss)))\n",
    "print('Best logistic test score: {:.4f}'.format(best_log.score(XTestss, ytestss)))"
   ]
  },
  {
   "cell_type": "code",
   "execution_count": 71,
   "metadata": {},
   "outputs": [
    {
     "name": "stdout",
     "output_type": "stream",
     "text": [
      "              precision    recall  f1-score   support\n",
      "\n",
      " disatisfied       0.89      0.86      0.88       595\n",
      "   satisfied       0.81      0.84      0.83       405\n",
      "\n",
      "    accuracy                           0.85      1000\n",
      "   macro avg       0.85      0.85      0.85      1000\n",
      "weighted avg       0.86      0.85      0.86      1000\n",
      "\n"
     ]
    }
   ],
   "source": [
    "print(classification_report(ypredlog,ytestss,target_names=[\"disatisfied\", \"satisfied\"]))"
   ]
  },
  {
   "cell_type": "code",
   "execution_count": 72,
   "metadata": {},
   "outputs": [
    {
     "name": "stdout",
     "output_type": "stream",
     "text": [
      "[[513  82]\n",
      " [ 63 342]]\n"
     ]
    }
   ],
   "source": [
    "print(confusion_matrix(ypredlog,ytestss))"
   ]
  },
  {
   "cell_type": "code",
   "execution_count": 73,
   "metadata": {},
   "outputs": [
    {
     "data": {
      "image/png": "[encoded data removed]",
      "text/plain": [
       "<Figure size 432x288 with 1 Axes>"
      ]
     },
     "metadata": {
      "needs_background": "light"
     },
     "output_type": "display_data"
    }
   ],
   "source": [
    "import mglearn\n",
    "%matplotlib inline\n",
    "\n",
    "scoresimage_ = mglearn.tools.heatmap(\n",
    "    confusion_matrix(ypredlog, ytestss), xlabel = 'Predicted label',\n",
    "    ylabel='True label', xticklabels = ['Satisfied','Dissatisfied'],\n",
    "    yticklabels=['Satisfied','Dissatisfied'], fmt=\"%d\")\n",
    "plt.title(\"Confusion matrix (KNN)\")\n",
    "plt.gca().invert_yaxis()"
   ]
  },
  {
   "cell_type": "code",
   "execution_count": 74,
   "metadata": {},
   "outputs": [
    {
     "name": "stdout",
     "output_type": "stream",
     "text": [
      "Logistic recall score: 0.81\n",
      " Logistic precision score: 0.84\n",
      "Logistic f1 score: 0.83\n"
     ]
    }
   ],
   "source": [
    "Logistic_recallScore = recall_score(ytestss, ypredlog)\n",
    "print(\"Logistic recall score: {:.2f}\".format(recall_score(ytestss, ypredlog)))\n",
    "Logistic_precision_score = precision_score(ytestss, ypredlog)\n",
    "print(\" Logistic precision score: {:.2f}\".format(precision_score(ytestss, ypredlog)))\n",
    "Logistic_f1_score = recall_score(ytestss,ypredlog)\n",
    "print(\"Logistic f1 score: {:.2f}\".format(f1_score(ytestss,ypredlog)))\n"
   ]
  },
  {
   "cell_type": "code",
   "execution_count": 75,
   "metadata": {},
   "outputs": [
    {
     "data": {
      "text/plain": [
       "<matplotlib.legend.Legend at 0x7fcc83190df0>"
      ]
     },
     "execution_count": 75,
     "metadata": {},
     "output_type": "execute_result"
    },
    {
     "data": {
      "image/png": "[encoded data removed]",
      "text/plain": [
       "<Figure size 432x288 with 1 Axes>"
      ]
     },
     "metadata": {
      "needs_background": "light"
     },
     "output_type": "display_data"
    }
   ],
   "source": [
    "\n",
    "%matplotlib inline\n",
    "\n",
    "precision, recall, thresholds = precision_recall_curve(ytestss, best_log.predict_proba(XTestss)[:,1])\n",
    "\n",
    "closezero_ = np.argmin(np.abs(thresholds-0.5))\n",
    "\n",
    "plt.plot(precision[closezero_], recall[closezero_], 'o', markersize=10,\n",
    "         label=\"thresholds-0.5\", fillstyle=\"none\", c='k', mew=2)\n",
    "\n",
    "plt.plot(precision, recall, label=\"Precision recall curve\")\n",
    "plt.xlabel(\"Precision\")\n",
    "plt.ylabel(\"Recall\")\n",
    "plt.legend(loc=\"best\")"
   ]
  },
  {
   "cell_type": "code",
   "execution_count": 76,
   "metadata": {},
   "outputs": [
    {
     "name": "stdout",
     "output_type": "stream",
     "text": [
      "Summary of Logistic regression: [['Logistic Regression', {'C': 10, 'max_iter': 19, 'penalty': 'l2'}, 'Logistic Train Score:', 'Logistic Train Score:', 0.8705, 'Logistic Test Score:', 0.855]]\n"
     ]
    }
   ],
   "source": [
    "CompTable =  CompTable + [['Logistic Regression', gslog.best_params_,\n",
    "                            best_log.score(XTrainss, ytrainss), \n",
    "                            best_log.score(XTestss, ytestss),\n",
    "                            recall_score(ytestss, ypredlog),precision_score(ytestss, ypredlog),\n",
    "                            f1_score(ytestss,ypredlog)\n",
    "                          ]]\n",
    "\n",
    "print('Summary of Logistic regression:', [['Logistic Regression',gslog.best_params_,'Logistic Train Score:',\n",
    "                            'Logistic Train Score:',best_log.score(XTrainss, ytrainss), \n",
    "                            'Logistic Test Score:',best_log.score(XTestss, ytestss)]])"
   ]
  },
  {
   "cell_type": "markdown",
   "metadata": {},
   "source": [
    "# 3. Linear Support Vector Machine Classifier"
   ]
  },
  {
   "cell_type": "code",
   "execution_count": 77,
   "metadata": {},
   "outputs": [],
   "source": [
    "from sklearn.svm import LinearSVC,SVC\n",
    "\n",
    "c1 = [0.001, 0.01, 0.1, 1, 10, 100, 1000]\n",
    "\n",
    "LinearTrain = []\n",
    "LinearTest = []\n",
    "\n",
    "for c in c1:\n",
    "    LinearSVM = LinearSVC(C = c)\n",
    "    LinearSVM.fit(XTrainss, ytrainss)\n",
    "    LinearTrain.append(LinearSVM.score(XTrainss, ytrainss))\n",
    "    LinearTest.append(LinearSVM.score(XTestss, ytestss))\n",
    "              "
   ]
  },
  {
   "cell_type": "code",
   "execution_count": 78,
   "metadata": {},
   "outputs": [
    {
     "data": {
      "text/plain": [
       "<matplotlib.legend.Legend at 0x7fcc83eb2fd0>"
      ]
     },
     "execution_count": 78,
     "metadata": {},
     "output_type": "execute_result"
    },
    {
     "data": {
      "image/png": "[encoded data removed]",
      "text/plain": [
       "<Figure size 432x288 with 1 Axes>"
      ]
     },
     "metadata": {
      "needs_background": "light"
     },
     "output_type": "display_data"
    }
   ],
   "source": [
    "%matplotlib inline\n",
    "\n",
    "plt.plot(c1, LinearTrain, label = 'Train Score', c = 'g')\n",
    "plt.plot(c1, LinearTest, label = 'Test Score', c = 'b')\n",
    "plt.xscale('log')\n",
    "plt.xlabel('Values of C')\n",
    "plt.ylabel('Accuracy')\n",
    "plt.legend()"
   ]
  },
  {
   "cell_type": "markdown",
   "metadata": {},
   "source": [
    "__Accurancy drops at c= 0.01__"
   ]
  },
  {
   "cell_type": "code",
   "execution_count": 79,
   "metadata": {},
   "outputs": [
    {
     "name": "stdout",
     "output_type": "stream",
     "text": [
      "Train score:  0.8615\n",
      "Test score:   0.861\n"
     ]
    }
   ],
   "source": [
    "svm = LinearSVC(C = 0.01)\n",
    "svm.fit(XTrainss, ytrainss)\n",
    "\n",
    "print('Train score: ',(svm.score(XTrainss, ytrainss)))\n",
    "print('Test score:  ',(svm.score(XTestss, ytestss)))"
   ]
  },
  {
   "cell_type": "markdown",
   "metadata": {},
   "source": [
    "### Cross validation score"
   ]
  },
  {
   "cell_type": "code",
   "execution_count": 80,
   "metadata": {},
   "outputs": [
    {
     "data": {
      "text/html": [
       "<div>\n",
       "<style scoped>\n",
       "    .dataframe tbody tr th:only-of-type {\n",
       "        vertical-align: middle;\n",
       "    }\n",
       "\n",
       "    .dataframe tbody tr th {\n",
       "        vertical-align: top;\n",
       "    }\n",
       "\n",
       "    .dataframe thead th {\n",
       "        text-align: right;\n",
       "    }\n",
       "</style>\n",
       "<table border=\"1\" class=\"dataframe\">\n",
       "  <thead>\n",
       "    <tr style=\"text-align: right;\">\n",
       "      <th></th>\n",
       "      <th>Cross-validation scores for SVM</th>\n",
       "    </tr>\n",
       "  </thead>\n",
       "  <tbody>\n",
       "    <tr>\n",
       "      <th>0</th>\n",
       "      <td>0.84750</td>\n",
       "    </tr>\n",
       "    <tr>\n",
       "      <th>1</th>\n",
       "      <td>0.85750</td>\n",
       "    </tr>\n",
       "    <tr>\n",
       "      <th>2</th>\n",
       "      <td>0.86125</td>\n",
       "    </tr>\n",
       "    <tr>\n",
       "      <th>3</th>\n",
       "      <td>0.86625</td>\n",
       "    </tr>\n",
       "    <tr>\n",
       "      <th>4</th>\n",
       "      <td>0.86250</td>\n",
       "    </tr>\n",
       "  </tbody>\n",
       "</table>\n",
       "</div>"
      ],
      "text/plain": [
       "   Cross-validation scores for SVM\n",
       "0                          0.84750\n",
       "1                          0.85750\n",
       "2                          0.86125\n",
       "3                          0.86625\n",
       "4                          0.86250"
      ]
     },
     "execution_count": 80,
     "metadata": {},
     "output_type": "execute_result"
    }
   ],
   "source": [
    "from sklearn.model_selection import cross_val_score\n",
    "svm_scores = cross_val_score(svm, XTrainss, ytrainss)\n",
    "cs = ({'Cross-validation scores for SVM':svm_scores })\n",
    "cs1 =pd.DataFrame(cs)\n",
    "cs1"
   ]
  },
  {
   "cell_type": "code",
   "execution_count": 81,
   "metadata": {},
   "outputs": [
    {
     "name": "stdout",
     "output_type": "stream",
     "text": [
      "Average cross-validation score for SVM:  0.859\n"
     ]
    }
   ],
   "source": [
    "print(\"Average cross-validation score for SVM: \",(svm_scores.mean()))\n"
   ]
  },
  {
   "cell_type": "markdown",
   "metadata": {},
   "source": [
    "### Cross validation with cross fold "
   ]
  },
  {
   "cell_type": "code",
   "execution_count": 82,
   "metadata": {},
   "outputs": [
    {
     "data": {
      "text/html": [
       "<div>\n",
       "<style scoped>\n",
       "    .dataframe tbody tr th:only-of-type {\n",
       "        vertical-align: middle;\n",
       "    }\n",
       "\n",
       "    .dataframe tbody tr th {\n",
       "        vertical-align: top;\n",
       "    }\n",
       "\n",
       "    .dataframe thead th {\n",
       "        text-align: right;\n",
       "    }\n",
       "</style>\n",
       "<table border=\"1\" class=\"dataframe\">\n",
       "  <thead>\n",
       "    <tr style=\"text-align: right;\">\n",
       "      <th></th>\n",
       "      <th>Cross-validation scores for SVM</th>\n",
       "    </tr>\n",
       "  </thead>\n",
       "  <tbody>\n",
       "    <tr>\n",
       "      <th>0</th>\n",
       "      <td>0.84750</td>\n",
       "    </tr>\n",
       "    <tr>\n",
       "      <th>1</th>\n",
       "      <td>0.85750</td>\n",
       "    </tr>\n",
       "    <tr>\n",
       "      <th>2</th>\n",
       "      <td>0.86125</td>\n",
       "    </tr>\n",
       "    <tr>\n",
       "      <th>3</th>\n",
       "      <td>0.86625</td>\n",
       "    </tr>\n",
       "    <tr>\n",
       "      <th>4</th>\n",
       "      <td>0.86250</td>\n",
       "    </tr>\n",
       "  </tbody>\n",
       "</table>\n",
       "</div>"
      ],
      "text/plain": [
       "   Cross-validation scores for SVM \n",
       "0                           0.84750\n",
       "1                           0.85750\n",
       "2                           0.86125\n",
       "3                           0.86625\n",
       "4                           0.86250"
      ]
     },
     "execution_count": 82,
     "metadata": {},
     "output_type": "execute_result"
    }
   ],
   "source": [
    "svm_scores = cross_val_score(svm, XTrainss, ytrainss,cv=5)\n",
    "cs = ({'Cross-validation scores for SVM ':svm_scores })\n",
    "cs1 =pd.DataFrame(cs)\n",
    "cs1"
   ]
  },
  {
   "cell_type": "code",
   "execution_count": 83,
   "metadata": {},
   "outputs": [
    {
     "name": "stdout",
     "output_type": "stream",
     "text": [
      "Average cross-validation score with cross fold for SVM: 0.86\n"
     ]
    }
   ],
   "source": [
    "print(\"Average cross-validation score with cross fold for SVM: {:.2f}\".format(svm_scores.mean()))\n"
   ]
  },
  {
   "cell_type": "markdown",
   "metadata": {},
   "source": [
    "### Grid search with Linear SVM classifier"
   ]
  },
  {
   "cell_type": "code",
   "execution_count": 84,
   "metadata": {},
   "outputs": [],
   "source": [
    "from sklearn.model_selection import GridSearchCV\n",
    "paramgridsvm = { 'max_iter' : range(1,150),\n",
    "                'C' : [ 0.01, 0.1, 1, 10, 100, 1000]}\n",
    "\n",
    "svmgs = GridSearchCV(estimator =LinearSVM, param_grid = paramgridsvm ,cv = 5, n_jobs = -1)\n",
    "\n",
    "svmgsmodel= svmgs.fit(XTrainss, ytrainss)"
   ]
  },
  {
   "cell_type": "code",
   "execution_count": 85,
   "metadata": {},
   "outputs": [
    {
     "name": "stdout",
     "output_type": "stream",
     "text": [
      "Best grid search score for SVM : 0.8712500000000001\n",
      "Best grid search Parameter for SVM : {'C': 1, 'max_iter': 65}\n"
     ]
    }
   ],
   "source": [
    "print('Best grid search score for SVM :',svmgsmodel.best_score_)\n",
    "print('Best grid search Parameter for SVM :',svmgsmodel.best_params_)"
   ]
  },
  {
   "cell_type": "markdown",
   "metadata": {},
   "source": [
    "### Using best parameter from grid serach linear SVM CLASSIFICATION "
   ]
  },
  {
   "cell_type": "code",
   "execution_count": 86,
   "metadata": {},
   "outputs": [
    {
     "name": "stdout",
     "output_type": "stream",
     "text": [
      "Best SVM Train score:  0.865\n",
      "Best SVM Test score:  0.861\n"
     ]
    }
   ],
   "source": [
    "bestSVM = LinearSVC(C = 1 ,max_iter = 45)\n",
    "bestSVM.fit(XTrainss, ytrainss)\n",
    "ypredSVM = bestSVM.predict(XTestss)\n",
    " \n",
    "print('Best SVM Train score: ',(bestSVM.score(XTrainss, ytrainss)))\n",
    "print('Best SVM Test score: ',(bestSVM.score(XTestss, ytestss)))"
   ]
  },
  {
   "cell_type": "code",
   "execution_count": 87,
   "metadata": {},
   "outputs": [
    {
     "name": "stdout",
     "output_type": "stream",
     "text": [
      "[[509  72]\n",
      " [ 67 352]]\n"
     ]
    }
   ],
   "source": [
    "from sklearn.metrics import confusion_matrix\n",
    "print(confusion_matrix(ypredSVM, ytestss))\n"
   ]
  },
  {
   "cell_type": "code",
   "execution_count": 88,
   "metadata": {},
   "outputs": [
    {
     "data": {
      "image/png": "[encoded data removed]",
      "text/plain": [
       "<Figure size 432x288 with 1 Axes>"
      ]
     },
     "metadata": {
      "needs_background": "light"
     },
     "output_type": "display_data"
    }
   ],
   "source": [
    "%matplotlib inline\n",
    "\n",
    "scoresimage_ = mglearn.tools.heatmap(\n",
    "    confusion_matrix(ypredSVM, ytestss), xlabel = 'Predicted label',\n",
    "    ylabel='True label', xticklabels = ['Satisfied','Dissatisfied'],\n",
    "    yticklabels=['Satisfied','Dissatisfied'], fmt=\"%d\")\n",
    "plt.title(\"Confusion matrix\")\n",
    "plt.gca().invert_yaxis()"
   ]
  },
  {
   "cell_type": "code",
   "execution_count": 89,
   "metadata": {},
   "outputs": [
    {
     "name": "stdout",
     "output_type": "stream",
     "text": [
      "              precision    recall  f1-score   support\n",
      "\n",
      "           0       0.88      0.88      0.88       581\n",
      "           1       0.83      0.84      0.84       419\n",
      "\n",
      "    accuracy                           0.86      1000\n",
      "   macro avg       0.86      0.86      0.86      1000\n",
      "weighted avg       0.86      0.86      0.86      1000\n",
      "\n"
     ]
    }
   ],
   "source": [
    "print(classification_report(ypredSVM,ytestss))\n"
   ]
  },
  {
   "cell_type": "code",
   "execution_count": 90,
   "metadata": {},
   "outputs": [
    {
     "name": "stdout",
     "output_type": "stream",
     "text": [
      "SVM recall score: 0.83\n",
      "SVM precision score: 0.84\n",
      "SVM f1 score: 0.84\n"
     ]
    }
   ],
   "source": [
    "LinearSVC_recallScore = recall_score(ytestss, ypredSVM)\n",
    "print(\"SVM recall score: {:.2f}\".format(recall_score(ytestss,ypredSVM)))\n",
    "LinearSVC_precision_score = precision_score(ytestss, ypredSVM)\n",
    "print(\"SVM precision score: {:.2f}\".format(precision_score(ytestss, ypredSVM)))\n",
    "LinearSVC_f1_score = recall_score(ytestss,ypredSVM)\n",
    "print(\"SVM f1 score: {:.2f}\".format(f1_score(ytestss,ypredSVM)))\n"
   ]
  },
  {
   "cell_type": "code",
   "execution_count": 91,
   "metadata": {},
   "outputs": [
    {
     "data": {
      "text/plain": [
       "<matplotlib.legend.Legend at 0x7fcc83177310>"
      ]
     },
     "execution_count": 91,
     "metadata": {},
     "output_type": "execute_result"
    },
    {
     "data": {
      "image/png": "[encoded data removed]",
      "text/plain": [
       "<Figure size 432x288 with 1 Axes>"
      ]
     },
     "metadata": {
      "needs_background": "light"
     },
     "output_type": "display_data"
    }
   ],
   "source": [
    "import mglearn\n",
    "%matplotlib inline\n",
    "\n",
    "precision, recall, thresholds = precision_recall_curve(ytestss, bestSVM.decision_function(XTestss))\n",
    "\n",
    "closezero_ = np.argmin(np.abs(thresholds))\n",
    "\n",
    "plt.plot(precision[closezero_], recall[closezero_], 'o', markersize=10,\n",
    "         label=\"threshold\", fillstyle=\"none\", c='k', mew=2)\n",
    "\n",
    "plt.plot(precision, recall, label=\"precision recall curve\")\n",
    "plt.xlabel(\"Precision\")\n",
    "plt.ylabel(\"Recall\")\n",
    "plt.legend(loc=\"best\")"
   ]
  },
  {
   "cell_type": "code",
   "execution_count": 92,
   "metadata": {},
   "outputs": [
    {
     "name": "stdout",
     "output_type": "stream",
     "text": [
      "Summary of SVM: [['Linear SVM Classifier', {'C': 1, 'max_iter': 65}, 'Train Score:', 0.865, 'Test Score:', 0.861]]\n"
     ]
    }
   ],
   "source": [
    " CompTable =  CompTable+ [['Linear SVM Classifier', svmgsmodel.best_params_,\n",
    "                            bestSVM.score(XTrainss, ytrainss), \n",
    "                           bestSVM.score(XTestss, ytestss),\n",
    "                           recall_score(ytestss,ypredSVM),precision_score(ytestss, ypredSVM),\n",
    "                           f1_score(ytestss,ypredSVM)\n",
    "                          ]]\n",
    "\n",
    "print('Summary of SVM:',[['Linear SVM Classifier', svmgsmodel.best_params_,\n",
    "                           'Train Score:', bestSVM.score(XTrainss, ytrainss), \n",
    "                           'Test Score:',bestSVM.score(XTestss, ytestss),]])"
   ]
  },
  {
   "cell_type": "markdown",
   "metadata": {},
   "source": [
    "# 4.kernalized support vector machine\n"
   ]
  },
  {
   "cell_type": "markdown",
   "metadata": {},
   "source": [
    "To run Kernalized SVM with 25976 rows , it will be very hard so here I am running model with random1000 rows ."
   ]
  },
  {
   "cell_type": "code",
   "execution_count": 93,
   "metadata": {},
   "outputs": [
    {
     "data": {
      "text/plain": [
       "(1000, 27)"
      ]
     },
     "execution_count": 93,
     "metadata": {},
     "output_type": "execute_result"
    }
   ],
   "source": [
    "k_arilinedf=airlinedf.sample(n=1000,random_state=0)\n",
    "k_arilinedf.shape"
   ]
  },
  {
   "cell_type": "code",
   "execution_count": 94,
   "metadata": {},
   "outputs": [],
   "source": [
    "ky_sample = k_arilinedf['satisfaction']\n",
    "kx_sample = k_arilinedf.drop(['satisfaction'],axis =1)\n",
    "\n",
    "xtraink, xtestk, ytraink, ytestk = train_test_split(kx_sample, ky_sample, random_state = 2)"
   ]
  },
  {
   "cell_type": "code",
   "execution_count": 95,
   "metadata": {},
   "outputs": [
    {
     "data": {
      "text/html": [
       "<div>\n",
       "<style scoped>\n",
       "    .dataframe tbody tr th:only-of-type {\n",
       "        vertical-align: middle;\n",
       "    }\n",
       "\n",
       "    .dataframe tbody tr th {\n",
       "        vertical-align: top;\n",
       "    }\n",
       "\n",
       "    .dataframe thead th {\n",
       "        text-align: right;\n",
       "    }\n",
       "</style>\n",
       "<table border=\"1\" class=\"dataframe\">\n",
       "  <thead>\n",
       "    <tr style=\"text-align: right;\">\n",
       "      <th></th>\n",
       "      <th>Unnamed: 0</th>\n",
       "      <th>Gender</th>\n",
       "      <th>Customer Type</th>\n",
       "      <th>Age</th>\n",
       "      <th>Flight Distance</th>\n",
       "      <th>Inflight wifi service</th>\n",
       "      <th>Departure/Arrival time convenient</th>\n",
       "      <th>Ease of Online booking</th>\n",
       "      <th>Gate location</th>\n",
       "      <th>Food and drink</th>\n",
       "      <th>...</th>\n",
       "      <th>Checkin service</th>\n",
       "      <th>Inflight service</th>\n",
       "      <th>Cleanliness</th>\n",
       "      <th>Departure Delay in Minutes</th>\n",
       "      <th>Arrival Delay in Minutes</th>\n",
       "      <th>Class_Business</th>\n",
       "      <th>Class_Eco</th>\n",
       "      <th>Class_Eco Plus</th>\n",
       "      <th>Type of Travel_Business travel</th>\n",
       "      <th>Type of Travel_Personal Travel</th>\n",
       "    </tr>\n",
       "  </thead>\n",
       "  <tbody>\n",
       "    <tr>\n",
       "      <th>1467</th>\n",
       "      <td>1467</td>\n",
       "      <td>1</td>\n",
       "      <td>0</td>\n",
       "      <td>15</td>\n",
       "      <td>844.0</td>\n",
       "      <td>5</td>\n",
       "      <td>3</td>\n",
       "      <td>5</td>\n",
       "      <td>3</td>\n",
       "      <td>5</td>\n",
       "      <td>...</td>\n",
       "      <td>5</td>\n",
       "      <td>2</td>\n",
       "      <td>5</td>\n",
       "      <td>0</td>\n",
       "      <td>0.0</td>\n",
       "      <td>0</td>\n",
       "      <td>1</td>\n",
       "      <td>0</td>\n",
       "      <td>1</td>\n",
       "      <td>0</td>\n",
       "    </tr>\n",
       "    <tr>\n",
       "      <th>1583</th>\n",
       "      <td>1583</td>\n",
       "      <td>0</td>\n",
       "      <td>1</td>\n",
       "      <td>41</td>\n",
       "      <td>2347.0</td>\n",
       "      <td>5</td>\n",
       "      <td>5</td>\n",
       "      <td>5</td>\n",
       "      <td>5</td>\n",
       "      <td>5</td>\n",
       "      <td>...</td>\n",
       "      <td>3</td>\n",
       "      <td>5</td>\n",
       "      <td>3</td>\n",
       "      <td>0</td>\n",
       "      <td>0.0</td>\n",
       "      <td>0</td>\n",
       "      <td>1</td>\n",
       "      <td>0</td>\n",
       "      <td>1</td>\n",
       "      <td>0</td>\n",
       "    </tr>\n",
       "    <tr>\n",
       "      <th>1194</th>\n",
       "      <td>1194</td>\n",
       "      <td>1</td>\n",
       "      <td>1</td>\n",
       "      <td>44</td>\n",
       "      <td>844.0</td>\n",
       "      <td>2</td>\n",
       "      <td>2</td>\n",
       "      <td>2</td>\n",
       "      <td>2</td>\n",
       "      <td>3</td>\n",
       "      <td>...</td>\n",
       "      <td>3</td>\n",
       "      <td>4</td>\n",
       "      <td>3</td>\n",
       "      <td>98</td>\n",
       "      <td>84.0</td>\n",
       "      <td>1</td>\n",
       "      <td>0</td>\n",
       "      <td>0</td>\n",
       "      <td>1</td>\n",
       "      <td>0</td>\n",
       "    </tr>\n",
       "    <tr>\n",
       "      <th>20291</th>\n",
       "      <td>20291</td>\n",
       "      <td>1</td>\n",
       "      <td>1</td>\n",
       "      <td>55</td>\n",
       "      <td>95.0</td>\n",
       "      <td>3</td>\n",
       "      <td>1</td>\n",
       "      <td>1</td>\n",
       "      <td>1</td>\n",
       "      <td>3</td>\n",
       "      <td>...</td>\n",
       "      <td>1</td>\n",
       "      <td>4</td>\n",
       "      <td>1</td>\n",
       "      <td>0</td>\n",
       "      <td>0.0</td>\n",
       "      <td>1</td>\n",
       "      <td>0</td>\n",
       "      <td>0</td>\n",
       "      <td>1</td>\n",
       "      <td>0</td>\n",
       "    </tr>\n",
       "    <tr>\n",
       "      <th>8220</th>\n",
       "      <td>8220</td>\n",
       "      <td>1</td>\n",
       "      <td>1</td>\n",
       "      <td>29</td>\n",
       "      <td>436.0</td>\n",
       "      <td>4</td>\n",
       "      <td>4</td>\n",
       "      <td>4</td>\n",
       "      <td>4</td>\n",
       "      <td>4</td>\n",
       "      <td>...</td>\n",
       "      <td>5</td>\n",
       "      <td>2</td>\n",
       "      <td>4</td>\n",
       "      <td>5</td>\n",
       "      <td>13.0</td>\n",
       "      <td>0</td>\n",
       "      <td>1</td>\n",
       "      <td>0</td>\n",
       "      <td>0</td>\n",
       "      <td>1</td>\n",
       "    </tr>\n",
       "  </tbody>\n",
       "</table>\n",
       "<p>5 rows × 26 columns</p>\n",
       "</div>"
      ],
      "text/plain": [
       "       Unnamed: 0  Gender  Customer Type  Age  Flight Distance  \\\n",
       "1467         1467       1              0   15            844.0   \n",
       "1583         1583       0              1   41           2347.0   \n",
       "1194         1194       1              1   44            844.0   \n",
       "20291       20291       1              1   55             95.0   \n",
       "8220         8220       1              1   29            436.0   \n",
       "\n",
       "       Inflight wifi service  Departure/Arrival time convenient  \\\n",
       "1467                       5                                  3   \n",
       "1583                       5                                  5   \n",
       "1194                       2                                  2   \n",
       "20291                      3                                  1   \n",
       "8220                       4                                  4   \n",
       "\n",
       "       Ease of Online booking  Gate location  Food and drink  ...  \\\n",
       "1467                        5              3               5  ...   \n",
       "1583                        5              5               5  ...   \n",
       "1194                        2              2               3  ...   \n",
       "20291                       1              1               3  ...   \n",
       "8220                        4              4               4  ...   \n",
       "\n",
       "       Checkin service  Inflight service  Cleanliness  \\\n",
       "1467                 5                 2            5   \n",
       "1583                 3                 5            3   \n",
       "1194                 3                 4            3   \n",
       "20291                1                 4            1   \n",
       "8220                 5                 2            4   \n",
       "\n",
       "       Departure Delay in Minutes  Arrival Delay in Minutes  Class_Business  \\\n",
       "1467                            0                       0.0               0   \n",
       "1583                            0                       0.0               0   \n",
       "1194                           98                      84.0               1   \n",
       "20291                           0                       0.0               1   \n",
       "8220                            5                      13.0               0   \n",
       "\n",
       "       Class_Eco  Class_Eco Plus  Type of Travel_Business travel  \\\n",
       "1467           1               0                               1   \n",
       "1583           1               0                               1   \n",
       "1194           0               0                               1   \n",
       "20291          0               0                               1   \n",
       "8220           1               0                               0   \n",
       "\n",
       "       Type of Travel_Personal Travel  \n",
       "1467                                0  \n",
       "1583                                0  \n",
       "1194                                0  \n",
       "20291                               0  \n",
       "8220                                1  \n",
       "\n",
       "[5 rows x 26 columns]"
      ]
     },
     "execution_count": 95,
     "metadata": {},
     "output_type": "execute_result"
    }
   ],
   "source": [
    "scaler_new = MinMaxScaler()\n",
    "XtrainK = scaler_new.fit_transform(xtraink)\n",
    "XtestK = scaler_new.fit_transform(xtestk)\n",
    "pd.DataFrame(xtraink).head()"
   ]
  },
  {
   "cell_type": "code",
   "execution_count": 96,
   "metadata": {},
   "outputs": [],
   "source": [
    "from sklearn.svm import LinearSVC\n",
    "from sklearn import svm\n",
    "from sklearn import metrics\n",
    "c_range = [0.001,0.01, 0.1, 1, 10,100]\n",
    "\n",
    "trainkernalized = []\n",
    "testkernalized = []\n",
    "for C in c_range:\n",
    "    \n",
    "    KernalizedSVM = svm.SVC(kernel = 'linear', C = C)\n",
    "    KernalizedSVM.fit(XTrainss,ytrainss) \n",
    "   \n",
    "    trainkernalized.append(KernalizedSVM.score(XtrainK,ytraink))\n",
    "    testkernalized.append(KernalizedSVM.score(XtestK, ytestk))"
   ]
  },
  {
   "cell_type": "code",
   "execution_count": 97,
   "metadata": {},
   "outputs": [
    {
     "data": {
      "text/plain": [
       "<matplotlib.legend.Legend at 0x7fcc8356e430>"
      ]
     },
     "execution_count": 97,
     "metadata": {},
     "output_type": "execute_result"
    },
    {
     "data": {
      "image/png": "[encoded data removed]",
      "text/plain": [
       "<Figure size 432x288 with 1 Axes>"
      ]
     },
     "metadata": {
      "needs_background": "light"
     },
     "output_type": "display_data"
    }
   ],
   "source": [
    "%matplotlib inline\n",
    "plt.plot(c_range, trainkernalized, label = 'Train Score', c = 'g')\n",
    "plt.plot(c_range, testkernalized, label = 'Test Score', c='b')\n",
    "plt.xscale('log')\n",
    "plt.xlabel('Values of C')\n",
    "plt.ylabel('Accuracy')\n",
    "\n",
    "plt.legend()"
   ]
  },
  {
   "cell_type": "markdown",
   "metadata": {},
   "source": [
    "__From the graph I am selecting c=0.01__"
   ]
  },
  {
   "cell_type": "code",
   "execution_count": 98,
   "metadata": {},
   "outputs": [
    {
     "name": "stdout",
     "output_type": "stream",
     "text": [
      "Train score 0.8685 \n",
      "Test score: 0.8590 \n"
     ]
    }
   ],
   "source": [
    "KernalizedSVM = SVC(kernel = 'linear', C = 0.01)\n",
    "KernalizedSVM.fit(XTrainss, ytrainss) \n",
    "print(\"Train score {:.4f} \".format(KernalizedSVM.score(XTrainss, ytrainss)))\n",
    "print(\"Test score: {:.4f} \".format(KernalizedSVM.score(XTestss, ytestss)))\n"
   ]
  },
  {
   "cell_type": "markdown",
   "metadata": {},
   "source": [
    "### Grid search with svm including cross validation "
   ]
  },
  {
   "cell_type": "code",
   "execution_count": 99,
   "metadata": {},
   "outputs": [
    {
     "data": {
      "text/plain": [
       "SVC(C=100, gamma=0.01)"
      ]
     },
     "execution_count": 99,
     "metadata": {},
     "output_type": "execute_result"
    }
   ],
   "source": [
    "BestScore=0\n",
    "\n",
    "for gamma in [0.001, 0.01, 0.1, 1, 10, 100]:\n",
    "    for C in [0.001, 0.01, 0.1, 1, 10, 100]:\n",
    "        \n",
    "        svm = SVC(gamma = gamma, C=C)\n",
    "        CvScores = cross_val_score(svm, XtrainK, ytraink, cv=5)\n",
    "        CvSscore = np.mean(CvScores)\n",
    "\n",
    "        if CvSscore > BestScore:\n",
    "            BestScore = CvSscore\n",
    "            best_parameters = {'C': C, 'gamma': gamma}\n",
    "            \n",
    "\n",
    "svm = SVC(**best_parameters)\n",
    "svm.fit(XtrainK, ytraink)"
   ]
  },
  {
   "cell_type": "code",
   "execution_count": 100,
   "metadata": {},
   "outputs": [
    {
     "data": {
      "text/plain": [
       "GridSearchCV(cv=5, estimator=SVC(), n_jobs=-1,\n",
       "             param_grid={'C': [0.001, 0.01, 0.1, 1, 10, 100],\n",
       "                         'gamma': [0.001, 0.01, 0.1, 1, 10, 100],\n",
       "                         'kernel': ['rbf', 'poly', 'linear']})"
      ]
     },
     "execution_count": 100,
     "metadata": {},
     "output_type": "execute_result"
    }
   ],
   "source": [
    "from sklearn.model_selection import GridSearchCV\n",
    "\n",
    "paramgridsvm = {'C':[0.001, 0.01, 0.1, 1, 10, 100],\n",
    "                    'gamma':[0.001, 0.01, 0.1, 1, 10, 100], \n",
    "                    'kernel':['rbf','poly','linear']}\n",
    "svck = SVC()\n",
    "svckernel = GridSearchCV(svck, paramgridsvm, cv = 5, n_jobs= -1)\n",
    "svckernel.fit(XtrainK,ytraink)\n"
   ]
  },
  {
   "cell_type": "code",
   "execution_count": 101,
   "metadata": {},
   "outputs": [
    {
     "name": "stdout",
     "output_type": "stream",
     "text": [
      "Best score- Kernelized SVM grid serach:  0.8933333333333333\n",
      "Best parameters- Kernelized SVM grid serach:  {'C': 0.01, 'gamma': 1, 'kernel': 'poly'}\n"
     ]
    }
   ],
   "source": [
    "print(\"Best score- Kernelized SVM grid serach: \",svckernel.best_score_)\n",
    "print(\"Best parameters- Kernelized SVM grid serach: \",svckernel.best_params_)"
   ]
  },
  {
   "cell_type": "markdown",
   "metadata": {},
   "source": [
    "### a. kernel type : rbf"
   ]
  },
  {
   "cell_type": "code",
   "execution_count": 102,
   "metadata": {},
   "outputs": [
    {
     "name": "stdout",
     "output_type": "stream",
     "text": [
      "[LibSVM]Train score: 0.5667 \n",
      "Test score: 0.5240 \n"
     ]
    }
   ],
   "source": [
    "BestRbf = SVC(C = 0.01, gamma = 1, kernel= 'rbf', verbose = True)\n",
    "\n",
    "BestRbf.fit(XtrainK,ytraink)\n",
    "ypredRbf = BestRbf.predict(XtestK)\n",
    "\n",
    "print('Train score: {:.4f} '.format(BestRbf.score(XtrainK, ytraink)))\n",
    "print('Test score: {:.4f} '.format(BestRbf.score(XtestK, ytestk)))"
   ]
  },
  {
   "cell_type": "code",
   "execution_count": 103,
   "metadata": {},
   "outputs": [
    {
     "name": "stdout",
     "output_type": "stream",
     "text": [
      "              precision    recall  f1-score   support\n",
      "\n",
      "           0       1.00      0.52      0.69       250\n",
      "           1       0.00      0.00      0.00         0\n",
      "\n",
      "    accuracy                           0.52       250\n",
      "   macro avg       0.50      0.26      0.34       250\n",
      "weighted avg       1.00      0.52      0.69       250\n",
      "\n"
     ]
    }
   ],
   "source": [
    "print(classification_report(ypredRbf,ytestk ))\n"
   ]
  },
  {
   "cell_type": "code",
   "execution_count": 104,
   "metadata": {},
   "outputs": [
    {
     "name": "stdout",
     "output_type": "stream",
     "text": [
      "[[131 119]\n",
      " [  0   0]]\n"
     ]
    }
   ],
   "source": [
    "print(confusion_matrix(ypredRbf,ytestk))"
   ]
  },
  {
   "cell_type": "code",
   "execution_count": 105,
   "metadata": {},
   "outputs": [
    {
     "data": {
      "image/png": "[encoded data removed]",
      "text/plain": [
       "<Figure size 432x288 with 1 Axes>"
      ]
     },
     "metadata": {
      "needs_background": "light"
     },
     "output_type": "display_data"
    }
   ],
   "source": [
    "%matplotlib inline\n",
    "\n",
    "scoresimage_ = mglearn.tools.heatmap(\n",
    "    confusion_matrix(ypredRbf, ytestk), xlabel = 'Predicted label',\n",
    "    ylabel='True label', xticklabels = ['Satisfied','Dissatisfied'],\n",
    "    yticklabels=['Satisfied','Dissatisfied'], fmt=\"%d\")\n",
    "plt.title(\"Confusion matrix (KNN)\")\n",
    "plt.gca().invert_yaxis()"
   ]
  },
  {
   "cell_type": "code",
   "execution_count": 106,
   "metadata": {},
   "outputs": [
    {
     "name": "stdout",
     "output_type": "stream",
     "text": [
      "Kernalized rbf Recall score: 0.00\n",
      "Kernalized rbf Preision score: 0.00\n",
      "Kernalized rbf F1 score: 0.00\n"
     ]
    }
   ],
   "source": [
    "KernalizedSVM_rbf_recall_score = recall_score(ytestk, BestRbf.predict(XtestK))\n",
    "print(\"Kernalized rbf Recall score: {:.2f}\".format(recall_score(ytestk, BestRbf.predict(XtestK))))\n",
    "KernalizedSVM_rbf_precision_score = precision_score(ytestk, BestRbf.predict(XtestK))\n",
    "print(\"Kernalized rbf Preision score: {:.2f}\".format(precision_score(ytestk, BestRbf.predict(XtestK))))\n",
    "KernalizedSVM_rbf_f1_score = f1_score(ytestk, BestRbf.predict(XtestK))\n",
    "print(\"Kernalized rbf F1 score: {:.2f}\".format(f1_score(ytestk, BestRbf.predict(XtestK))))"
   ]
  },
  {
   "cell_type": "code",
   "execution_count": 107,
   "metadata": {},
   "outputs": [
    {
     "name": "stdout",
     "output_type": "stream",
     "text": [
      "The summary kernel rbf: [['Kernalized SVM rbg Classifier', 'C=0.01 & gamma = 1', 'Train Score:', 0.5575, 'Test Score:', 0.576]]\n"
     ]
    }
   ],
   "source": [
    "CompTable = CompTable + [['Kernalized SVM rbg Classifier', svckernel.best_params_ ,\n",
    "                          BestRbf.score(XTrainss, ytrainss), \n",
    "                          BestRbf.score(XTestss, ytestss),\n",
    "                          recall_score(ytestk, BestRbf.predict(XtestK)),\n",
    "                          precision_score(ytestk, BestRbf.predict(XtestK)),  \n",
    "                            f1_score(ytestk, BestRbf.predict(XtestK))]]\n",
    "print('The summary kernel rbf:',[['Kernalized SVM rbg Classifier', 'C=0.01 & gamma = 1' ,\n",
    "                          'Train Score:',BestRbf.score(XTrainss, ytrainss), \n",
    "                          'Test Score:',BestRbf.score(XTestss, ytestss)]])"
   ]
  },
  {
   "cell_type": "markdown",
   "metadata": {},
   "source": [
    "### kernel type linear"
   ]
  },
  {
   "cell_type": "code",
   "execution_count": 108,
   "metadata": {},
   "outputs": [
    {
     "name": "stdout",
     "output_type": "stream",
     "text": [
      "[LibSVM]Train score:  0.8573333333333333\n",
      "Test score:  0.844\n"
     ]
    }
   ],
   "source": [
    "BestLinear = SVC(C = 0.01, cache_size = 200, gamma = 1, kernel= 'linear', verbose = True)\n",
    "\n",
    "BestLinear.fit(XtrainK,ytraink)\n",
    "ypredLinear = BestLinear.predict(XtestK)\n",
    "\n",
    "print('Train score: ',(BestLinear.score(XtrainK, ytraink)))\n",
    "print('Test score: ',(BestLinear.score(XtestK, ytestk)))\n"
   ]
  },
  {
   "cell_type": "code",
   "execution_count": 109,
   "metadata": {},
   "outputs": [
    {
     "name": "stdout",
     "output_type": "stream",
     "text": [
      "[[120  28]\n",
      " [ 11  91]]\n"
     ]
    }
   ],
   "source": [
    "print(confusion_matrix(ypredLinear,ytestk))"
   ]
  },
  {
   "cell_type": "code",
   "execution_count": 110,
   "metadata": {},
   "outputs": [
    {
     "data": {
      "image/png": "[encoded data removed]",
      "text/plain": [
       "<Figure size 432x288 with 1 Axes>"
      ]
     },
     "metadata": {
      "needs_background": "light"
     },
     "output_type": "display_data"
    }
   ],
   "source": [
    "%matplotlib inline\n",
    "\n",
    "scoresimage_ = mglearn.tools.heatmap(\n",
    "    confusion_matrix(ypredLinear, ytestk), xlabel = 'Predicted label',\n",
    "    ylabel='True label', xticklabels = ['Satisfied','Dissatisfied'],\n",
    "    yticklabels=['Satisfied','Dissatisfied'], fmt=\"%d\")\n",
    "plt.title(\"Confusion matrix (KNN)\")\n",
    "plt.gca().invert_yaxis()\n"
   ]
  },
  {
   "cell_type": "code",
   "execution_count": 111,
   "metadata": {},
   "outputs": [
    {
     "name": "stdout",
     "output_type": "stream",
     "text": [
      "Recall score: 0.76\n",
      "Preision score: 0.89\n",
      "F1 score: 0.82\n"
     ]
    }
   ],
   "source": [
    "KernalizedSVM_linear_recall_score = recall_score(ytestk, BestLinear.predict(XtestK))\n",
    "print(\"Recall score: {:.2f}\".format(recall_score(ytestk, BestLinear.predict(XtestK))))\n",
    "\n",
    "KernalizedSVM_linear_precision_score = precision_score(ytestk, BestLinear.predict(XtestK))\n",
    "print(\"Preision score: {:.2f}\".format(precision_score(ytestk, BestLinear.predict(XtestK))))\n",
    "\n",
    "KernalizedSVM_linear_f1_score = f1_score(ytestk, BestLinear.predict(XtestK))\n",
    "print(\"F1 score: {:.2f}\".format(f1_score(ytestk, BestLinear.predict(XtestK))))"
   ]
  },
  {
   "cell_type": "code",
   "execution_count": 112,
   "metadata": {},
   "outputs": [
    {
     "name": "stdout",
     "output_type": "stream",
     "text": [
      "The summary of kernalized linear modes : [['Kernalized SVM Linear Classifier', 'C=0.01 & gamma = 1', 'Train SCores:', 0.83675, 'Test Scores:', 0.825]]\n"
     ]
    }
   ],
   "source": [
    " CompTable =  CompTable + [['Kernalized Linear Classifier', svckernel.best_params_  ,  \n",
    "                            BestLinear.score(XTrainss, ytrainss), \n",
    "                            BestLinear.score(XTestss, ytestss),\n",
    "                           recall_score(ytestk, BestLinear.predict(XtestK)),\n",
    "                           precision_score(ytestk, BestLinear.predict(XtestK)),\n",
    "                           f1_score(ytestk, BestLinear.predict(XtestK))]]\n",
    "print('The summary of kernalized linear modes :',[['Kernalized SVM Linear Classifier', 'C=0.01 & gamma = 1' ,  \n",
    "                            'Train SCores:',BestLinear.score(XTrainss, ytrainss), \n",
    "                            'Test Scores:',BestLinear.score(XTestss, ytestss)]])\n"
   ]
  },
  {
   "cell_type": "markdown",
   "metadata": {},
   "source": [
    "### kernel type : \"poly\""
   ]
  },
  {
   "cell_type": "code",
   "execution_count": 113,
   "metadata": {},
   "outputs": [
    {
     "name": "stdout",
     "output_type": "stream",
     "text": [
      "[LibSVM]Train score:   0.9506666666666667\n",
      "Test score:   0.868\n"
     ]
    }
   ],
   "source": [
    "BestPoly = SVC(C = 0.01, cache_size = 200, gamma = 1, kernel= 'poly', verbose = True)\n",
    "\n",
    "BestPoly.fit(XtrainK,ytraink)\n",
    "y_pred_poly = BestPoly.predict(XtestK)\n",
    "\n",
    "print('Train score:  ',(BestPoly.score(XtrainK, ytraink)))\n",
    "print('Test score:  ',format(BestPoly.score(XtestK, ytestk)))"
   ]
  },
  {
   "cell_type": "code",
   "execution_count": 114,
   "metadata": {},
   "outputs": [
    {
     "name": "stdout",
     "output_type": "stream",
     "text": [
      "              precision    recall  f1-score   support\n",
      "\n",
      "           0       0.95      0.82      0.88       152\n",
      "           1       0.77      0.94      0.85        98\n",
      "\n",
      "    accuracy                           0.87       250\n",
      "   macro avg       0.86      0.88      0.87       250\n",
      "weighted avg       0.88      0.87      0.87       250\n",
      "\n"
     ]
    }
   ],
   "source": [
    "print(classification_report(y_pred_poly,ytestk))\n"
   ]
  },
  {
   "cell_type": "code",
   "execution_count": 115,
   "metadata": {},
   "outputs": [
    {
     "name": "stdout",
     "output_type": "stream",
     "text": [
      "[[125  27]\n",
      " [  6  92]]\n"
     ]
    }
   ],
   "source": [
    "print(confusion_matrix(y_pred_poly,ytestk))\n"
   ]
  },
  {
   "cell_type": "code",
   "execution_count": 116,
   "metadata": {},
   "outputs": [
    {
     "data": {
      "image/png": "[encoded data removed]",
      "text/plain": [
       "<Figure size 432x288 with 1 Axes>"
      ]
     },
     "metadata": {
      "needs_background": "light"
     },
     "output_type": "display_data"
    }
   ],
   "source": [
    "%matplotlib inline\n",
    "\n",
    "scoresimage_ = mglearn.tools.heatmap(\n",
    "    confusion_matrix(y_pred_poly, ytestk), xlabel = 'Predicted label',\n",
    "    ylabel='True label', xticklabels = ['Satisfied','Dissatisfied'],\n",
    "    yticklabels=['Satisfied','Dissatisfied'], fmt=\"%d\")\n",
    "plt.title(\"Confusion matrix (KNN)\")\n",
    "plt.gca().invert_yaxis()\n"
   ]
  },
  {
   "cell_type": "code",
   "execution_count": 117,
   "metadata": {},
   "outputs": [
    {
     "name": "stdout",
     "output_type": "stream",
     "text": [
      "Recall score: 0.77\n",
      "Preision score: 0.94\n",
      "F1 score: 0.85\n"
     ]
    }
   ],
   "source": [
    "KernalizedSVM_poly_recall_score = recall_score(ytestk, BestPoly.predict(XtestK))\n",
    "print(\"Recall score: {:.2f}\".format(recall_score(ytestk, BestPoly.predict(XtestK))))\n",
    "\n",
    "KernalizedSVM_poly_precision_score = precision_score(ytestk, BestPoly.predict(XtestK))\n",
    "print(\"Preision score: {:.2f}\".format(precision_score(ytestk, BestPoly.predict(XtestK))))\n",
    "\n",
    "KernalizedSVM_poly_f1_score = f1_score(ytestk, BestPoly.predict(XtestK))\n",
    "print(\"F1 score: {:.2f}\".format(f1_score(ytestk, BestPoly.predict(XtestK))))\n",
    "\n"
   ]
  },
  {
   "cell_type": "code",
   "execution_count": 118,
   "metadata": {},
   "outputs": [
    {
     "name": "stdout",
     "output_type": "stream",
     "text": [
      "The summary of kernalized poly model : [['Kernalized poly SVM Classifier', 'C=0.001 & gamma = 0.001', 0.8955, 0.895]]\n"
     ]
    }
   ],
   "source": [
    "CompTable = CompTable + [['Kernalized poly SVM Classifier', svckernel.best_params_ ,\n",
    "                        BestPoly.score(XTrainss, ytrainss),BestPoly.score(XTestss, ytestss),\n",
    "                        recall_score(ytestk, BestPoly.predict(XtestK)),\n",
    "                        precision_score(ytestk, BestPoly.predict(XtestK)),\n",
    "                        f1_score(ytestk, BestPoly.predict(XtestK))]]\n",
    "\n",
    "print('The summary of kernalized poly model :',[['Kernalized poly SVM Classifier', 'C=0.001 & gamma = 0.001' ,\n",
    "                          BestPoly.score(XTrainss, ytrainss),\n",
    "                          BestPoly.score(XTestss, ytestss)]])"
   ]
  },
  {
   "cell_type": "markdown",
   "metadata": {},
   "source": [
    "# 5.Decision Tress Classification "
   ]
  },
  {
   "cell_type": "code",
   "execution_count": 119,
   "metadata": {},
   "outputs": [],
   "source": [
    "from sklearn.tree import DecisionTreeClassifier\n",
    "\n",
    "TreeTrain = []\n",
    "TreeTest = []\n",
    "\n",
    "for d in range(1,20):\n",
    "    DTreess = DecisionTreeClassifier(max_depth = d, random_state = 0)\n",
    "    DTreess.fit(XTrainss, ytrainss)\n",
    "    TreeTrain.append(DTreess.score(XTrainss, ytrainss))\n",
    "    TreeTest.append(DTreess.score(XTestss, ytestss))\n"
   ]
  },
  {
   "cell_type": "code",
   "execution_count": 120,
   "metadata": {},
   "outputs": [
    {
     "data": {
      "text/plain": [
       "<matplotlib.legend.Legend at 0x7fcc83cd67c0>"
      ]
     },
     "execution_count": 120,
     "metadata": {},
     "output_type": "execute_result"
    },
    {
     "data": {
      "image/png": "[encoded data removed]",
      "text/plain": [
       "<Figure size 432x288 with 1 Axes>"
      ]
     },
     "metadata": {
      "needs_background": "light"
     },
     "output_type": "display_data"
    }
   ],
   "source": [
    "xaxis = range(1,20)\n",
    "\n",
    "plt.plot(xaxis, TreeTrain, label = 'Train Score', c = 'r')\n",
    "plt.plot(xaxis, TreeTest, label = 'Test Score', c = 'b')\n",
    "plt.xlabel('Max_depth')\n",
    "plt.ylabel('Accuracy')\n",
    "plt.legend()"
   ]
  },
  {
   "cell_type": "code",
   "execution_count": 121,
   "metadata": {},
   "outputs": [
    {
     "name": "stdout",
     "output_type": "stream",
     "text": [
      "Train score:   0.93225\n",
      "Test score:  0.927\n"
     ]
    }
   ],
   "source": [
    "DTreess = DecisionTreeClassifier(max_depth = 6)\n",
    "\n",
    "DTreess.fit(XTrainss, ytrainss)\n",
    "y_pred_DTreess = DTreess.predict(XTestss)\n",
    "\n",
    "print('Train score:  ',(DTreess.score(XTrainss, ytrainss)))\n",
    "print('Test score: ',(DTreess.score(XTestss, ytestss)))\n"
   ]
  },
  {
   "cell_type": "code",
   "execution_count": 122,
   "metadata": {},
   "outputs": [
    {
     "data": {
      "image/png": "[encoded data removed]",
      "text/plain": [
       "<Figure size 1440x504 with 1 Axes>"
      ]
     },
     "metadata": {
      "needs_background": "light"
     },
     "output_type": "display_data"
    }
   ],
   "source": [
    "%matplotlib inline\n",
    "\n",
    "def plot_feature_importances_cancer(model):\n",
    "    fig, ax = plt.subplots(figsize=(20, 7))\n",
    "    n_features = XTrainss.shape[1]\n",
    "    plt.barh(range(n_features), model.feature_importances_, align='center')\n",
    "    plt.yticks(np.arange(n_features), XTrainss.columns)\n",
    "    plt.xlabel(\"Feature importance\")\n",
    "    plt.ylabel(\"Feature\")\n",
    "    plt.ylim(-1, n_features)\n",
    "\n",
    "plot_feature_importances_cancer(DTreess)"
   ]
  },
  {
   "cell_type": "markdown",
   "metadata": {},
   "source": [
    "### Cross validation for decision tree"
   ]
  },
  {
   "cell_type": "code",
   "execution_count": 123,
   "metadata": {},
   "outputs": [
    {
     "data": {
      "text/html": [
       "<div>\n",
       "<style scoped>\n",
       "    .dataframe tbody tr th:only-of-type {\n",
       "        vertical-align: middle;\n",
       "    }\n",
       "\n",
       "    .dataframe tbody tr th {\n",
       "        vertical-align: top;\n",
       "    }\n",
       "\n",
       "    .dataframe thead th {\n",
       "        text-align: right;\n",
       "    }\n",
       "</style>\n",
       "<table border=\"1\" class=\"dataframe\">\n",
       "  <thead>\n",
       "    <tr style=\"text-align: right;\">\n",
       "      <th></th>\n",
       "      <th>Cross-Validation scores</th>\n",
       "    </tr>\n",
       "  </thead>\n",
       "  <tbody>\n",
       "    <tr>\n",
       "      <th>0</th>\n",
       "      <td>0.9075</td>\n",
       "    </tr>\n",
       "    <tr>\n",
       "      <th>1</th>\n",
       "      <td>0.9275</td>\n",
       "    </tr>\n",
       "    <tr>\n",
       "      <th>2</th>\n",
       "      <td>0.9275</td>\n",
       "    </tr>\n",
       "    <tr>\n",
       "      <th>3</th>\n",
       "      <td>0.9225</td>\n",
       "    </tr>\n",
       "    <tr>\n",
       "      <th>4</th>\n",
       "      <td>0.9025</td>\n",
       "    </tr>\n",
       "    <tr>\n",
       "      <th>5</th>\n",
       "      <td>0.9225</td>\n",
       "    </tr>\n",
       "    <tr>\n",
       "      <th>6</th>\n",
       "      <td>0.9175</td>\n",
       "    </tr>\n",
       "    <tr>\n",
       "      <th>7</th>\n",
       "      <td>0.9200</td>\n",
       "    </tr>\n",
       "    <tr>\n",
       "      <th>8</th>\n",
       "      <td>0.9300</td>\n",
       "    </tr>\n",
       "    <tr>\n",
       "      <th>9</th>\n",
       "      <td>0.8825</td>\n",
       "    </tr>\n",
       "  </tbody>\n",
       "</table>\n",
       "</div>"
      ],
      "text/plain": [
       "   Cross-Validation scores\n",
       "0                   0.9075\n",
       "1                   0.9275\n",
       "2                   0.9275\n",
       "3                   0.9225\n",
       "4                   0.9025\n",
       "5                   0.9225\n",
       "6                   0.9175\n",
       "7                   0.9200\n",
       "8                   0.9300\n",
       "9                   0.8825"
      ]
     },
     "execution_count": 123,
     "metadata": {},
     "output_type": "execute_result"
    }
   ],
   "source": [
    "DTreess_scores = cross_val_score(DTreess, XTrainss,ytrainss, cv = 10)\n",
    "\n",
    "\n",
    "cs=({\"Cross-Validation scores\": DTreess_scores})\n",
    "cs1=pd.DataFrame(cs)\n",
    "cs1\n",
    "\n"
   ]
  },
  {
   "cell_type": "code",
   "execution_count": 124,
   "metadata": {},
   "outputs": [
    {
     "name": "stdout",
     "output_type": "stream",
     "text": [
      "Average cross-validation score: 0.92\n"
     ]
    }
   ],
   "source": [
    "print(\"Average cross-validation score: {:.2f}\".format(DTreess_scores.mean()))"
   ]
  },
  {
   "cell_type": "markdown",
   "metadata": {},
   "source": [
    "### Grid searchCV for Decision Tree"
   ]
  },
  {
   "cell_type": "code",
   "execution_count": 125,
   "metadata": {},
   "outputs": [
    {
     "name": "stdout",
     "output_type": "stream",
     "text": [
      "Fitting 10 folds for each of 912 candidates, totalling 9120 fits\n",
      "Best score _KNN GrideSearch : 0.9242937853107345\n",
      "Best Parameter _KNN GrideSearch : {'max_depth': 7, 'min_samples_leaf': 23}\n"
     ]
    }
   ],
   "source": [
    "param_grid_DTreess = {'max_depth' : range(1,20), 'min_samples_leaf' : range(2,50)}\n",
    "\n",
    "DTreess_class = GridSearchCV(estimator = DTreess, cv = 10, param_grid = param_grid_DTreess , scoring = 'recall', verbose = 1, n_jobs = -1)\n",
    "DTreess_model = DTreess_class.fit(XTrainss, ytrainss)\n",
    "\n",
    "print('Best score _KNN GrideSearch :',DTreess_model.best_score_)\n",
    "\n",
    "print('Best Parameter _KNN GrideSearch :',DTreess_model.best_params_)"
   ]
  },
  {
   "cell_type": "markdown",
   "metadata": {},
   "source": [
    "__using best parameter from grid search__\n"
   ]
  },
  {
   "cell_type": "code",
   "execution_count": 126,
   "metadata": {},
   "outputs": [],
   "source": [
    "best_DTreess = DecisionTreeClassifier(max_depth = 7, min_samples_leaf = 23)\n",
    "\n",
    "best_DTreess.fit(XTrainss, ytrainss)\n",
    "y_pred_DTreess = best_DTreess.predict(XTestss)\n"
   ]
  },
  {
   "cell_type": "code",
   "execution_count": 127,
   "metadata": {},
   "outputs": [
    {
     "name": "stdout",
     "output_type": "stream",
     "text": [
      "Train score: 0.9260 \n",
      "Test score: 0.9290 \n"
     ]
    }
   ],
   "source": [
    "print('Train score: {:.4f} '.format(best_DTreess.score(XTrainss, ytrainss)))\n",
    "print('Test score: {:.4f} '.format(best_DTreess.score(XTestss, ytestss)))\n"
   ]
  },
  {
   "cell_type": "code",
   "execution_count": 128,
   "metadata": {},
   "outputs": [
    {
     "name": "stdout",
     "output_type": "stream",
     "text": [
      "              precision    recall  f1-score   support\n",
      "\n",
      "           0       0.93      0.95      0.94       561\n",
      "           1       0.93      0.90      0.92       439\n",
      "\n",
      "    accuracy                           0.93      1000\n",
      "   macro avg       0.93      0.93      0.93      1000\n",
      "weighted avg       0.93      0.93      0.93      1000\n",
      "\n"
     ]
    }
   ],
   "source": [
    "print(classification_report(y_pred_DTreess, ytestss))\n"
   ]
  },
  {
   "cell_type": "code",
   "execution_count": 129,
   "metadata": {},
   "outputs": [
    {
     "name": "stdout",
     "output_type": "stream",
     "text": [
      "[[533  28]\n",
      " [ 43 396]]\n"
     ]
    }
   ],
   "source": [
    "print(confusion_matrix(y_pred_DTreess,ytestss))"
   ]
  },
  {
   "cell_type": "code",
   "execution_count": 130,
   "metadata": {},
   "outputs": [
    {
     "data": {
      "image/png": "[encoded data removed]",
      "text/plain": [
       "<Figure size 432x288 with 1 Axes>"
      ]
     },
     "metadata": {
      "needs_background": "light"
     },
     "output_type": "display_data"
    }
   ],
   "source": [
    "%matplotlib inline\n",
    "\n",
    "scoresimage_ = mglearn.tools.heatmap(\n",
    "    confusion_matrix(y_pred_DTreess, ytestss), xlabel = 'Predicted label',\n",
    "    ylabel='True label', xticklabels = ['Satisfied','Dissatisfied'],\n",
    "    yticklabels=['Satisfied','Dissatisfied'], fmt=\"%d\")\n",
    "plt.title(\"Confusion matrix (KNN)\")\n",
    "plt.gca().invert_yaxis()\n"
   ]
  },
  {
   "cell_type": "code",
   "execution_count": 131,
   "metadata": {},
   "outputs": [
    {
     "name": "stdout",
     "output_type": "stream",
     "text": [
      "Recall score : 0.9340\n",
      "precision score : 0.9021 \n",
      "f1 score : 0.9177 \n"
     ]
    }
   ],
   "source": [
    "Decision_recall_score = recall_score(ytestss, best_DTreess.predict(XTestss))\n",
    "print('Recall score : {:.4f}'.format(recall_score(ytestss, best_DTreess.predict(XTestss))))\n",
    "\n",
    "Decision_precision_score = precision_score(ytestss,best_DTreess.predict(XTestss))\n",
    "print('precision score : {:.4f} '.format(precision_score(ytestss, best_DTreess.predict(XTestss))))\n",
    "\n",
    "Decision_f1_score = f1_score(ytestss, best_DTreess.predict(XTestss))\n",
    "print('f1 score : {:.4f} '.format(f1_score(ytestss, best_DTreess.predict(XTestss))))\n"
   ]
  },
  {
   "cell_type": "code",
   "execution_count": 132,
   "metadata": {},
   "outputs": [
    {
     "data": {
      "text/plain": [
       "<matplotlib.legend.Legend at 0x7fcc83ceb370>"
      ]
     },
     "execution_count": 132,
     "metadata": {},
     "output_type": "execute_result"
    },
    {
     "data": {
      "image/png": "[encoded data removed]",
      "text/plain": [
       "<Figure size 432x288 with 1 Axes>"
      ]
     },
     "metadata": {
      "needs_background": "light"
     },
     "output_type": "display_data"
    }
   ],
   "source": [
    "import mglearn\n",
    "%matplotlib inline\n",
    "\n",
    "precision, recall, thresholds = precision_recall_curve(ytestss, best_DTreess.predict_proba(XTestss)[:,1])\n",
    "\n",
    "closezero_ = np.argmin(np.abs(thresholds-0.5))\n",
    "\n",
    "plt.plot(precision[closezero_], recall[closezero_], 'o', markersize=10,\n",
    "         label=\"thresholds-0.5\", fillstyle=\"none\", c='k', mew=2)\n",
    "\n",
    "plt.plot(precision, recall, label=\"precision recall curve\")\n",
    "plt.xlabel(\"Precision\")\n",
    "plt.ylabel(\"Recall\")\n",
    "plt.legend(loc=\"best\")"
   ]
  },
  {
   "cell_type": "code",
   "execution_count": 146,
   "metadata": {},
   "outputs": [],
   "source": [
    "from sklearn.tree import DecisionTreeClassifier, plot_tree\n",
    "\n",
    "DTreess_names= airlinedf1.columns\n",
    "DTreess_target=target_var.unique().astype(str).tolist()\n",
    "\n"
   ]
  },
  {
   "cell_type": "code",
   "execution_count": 160,
   "metadata": {},
   "outputs": [
    {
     "data": {
      "text/plain": [
       "<function matplotlib.pyplot.show(close=None, block=None)>"
      ]
     },
     "execution_count": 160,
     "metadata": {},
     "output_type": "execute_result"
    },
    {
     "data": {
      "image/png": "[encoded data removed]",
      "text/plain": [
       "<Figure size 1800x1440 with 1 Axes>"
      ]
     },
     "metadata": {
      "needs_background": "light"
     },
     "output_type": "display_data"
    }
   ],
   "source": [
    "plt.figure(figsize=(25,20))\n",
    "plot_tree(best_DTreess,feature_names=DTreess_names,class_names=DTreess_target,\n",
    "          filled=True,rounded=True,fontsize=11)\n",
    "plt.savefig('Decision Tree.png')\n",
    "plt.show"
   ]
  },
  {
   "cell_type": "code",
   "execution_count": 133,
   "metadata": {},
   "outputs": [
    {
     "name": "stdout",
     "output_type": "stream",
     "text": [
      "The summary of decision tress is: [['Decision Tress Classifier', 'Max depth =7', 'Train SCores:', 0.926, 'Test Scores:', 0.929]]\n"
     ]
    }
   ],
   "source": [
    "CompTable = CompTable + [['Decision Tress Classifier', DTreess_model.best_params_, \n",
    "                          best_DTreess.score(XTrainss, ytrainss),best_DTreess.score(XTestss, ytestss),\n",
    "                         recall_score(ytestss, best_DTreess.predict(XTestss)),\n",
    "                         precision_score(ytestss, best_DTreess.predict(XTestss)),\n",
    "                          f1_score(ytestss, best_DTreess.predict(XTestss))\n",
    "                         ]]\n",
    "print('The summary of decision tress is:',[['Decision Tress Classifier', 'Max depth =7', \n",
    "                          'Train SCores:',best_DTreess.score(XTrainss, ytrainss),\n",
    "                          'Test Scores:',best_DTreess.score(XTestss, ytestss) ]])\n"
   ]
  },
  {
   "cell_type": "markdown",
   "metadata": {},
   "source": [
    "\n",
    "# Comparison of all Models"
   ]
  },
  {
   "cell_type": "code",
   "execution_count": 134,
   "metadata": {},
   "outputs": [
    {
     "data": {
      "text/html": [
       "<div>\n",
       "<style scoped>\n",
       "    .dataframe tbody tr th:only-of-type {\n",
       "        vertical-align: middle;\n",
       "    }\n",
       "\n",
       "    .dataframe tbody tr th {\n",
       "        vertical-align: top;\n",
       "    }\n",
       "\n",
       "    .dataframe thead th {\n",
       "        text-align: right;\n",
       "    }\n",
       "</style>\n",
       "<table border=\"1\" class=\"dataframe\">\n",
       "  <thead>\n",
       "    <tr style=\"text-align: right;\">\n",
       "      <th></th>\n",
       "      <th>Model name</th>\n",
       "      <th>Model parameter</th>\n",
       "      <th>Train accuracy</th>\n",
       "      <th>Test accuracy</th>\n",
       "      <th>recall_Score</th>\n",
       "      <th>Precision_Score</th>\n",
       "      <th>F1_Score</th>\n",
       "    </tr>\n",
       "    <tr>\n",
       "      <th>Model name</th>\n",
       "      <th></th>\n",
       "      <th></th>\n",
       "      <th></th>\n",
       "      <th></th>\n",
       "      <th></th>\n",
       "      <th></th>\n",
       "      <th></th>\n",
       "    </tr>\n",
       "  </thead>\n",
       "  <tbody>\n",
       "    <tr>\n",
       "      <th>KNN Classification</th>\n",
       "      <td>KNN Classification</td>\n",
       "      <td>{'metric': 'manhattan', 'n_neighbors': 8, 'p':...</td>\n",
       "      <td>1.00000</td>\n",
       "      <td>0.904</td>\n",
       "      <td>0.844340</td>\n",
       "      <td>0.922680</td>\n",
       "      <td>0.881773</td>\n",
       "    </tr>\n",
       "    <tr>\n",
       "      <th>Logistic Regression</th>\n",
       "      <td>Logistic Regression</td>\n",
       "      <td>{'C': 10, 'max_iter': 19, 'penalty': 'l2'}</td>\n",
       "      <td>0.87050</td>\n",
       "      <td>0.855</td>\n",
       "      <td>0.806604</td>\n",
       "      <td>0.844444</td>\n",
       "      <td>0.825090</td>\n",
       "    </tr>\n",
       "    <tr>\n",
       "      <th>Linear SVM Classifier</th>\n",
       "      <td>Linear SVM Classifier</td>\n",
       "      <td>{'C': 1, 'max_iter': 65}</td>\n",
       "      <td>0.86500</td>\n",
       "      <td>0.861</td>\n",
       "      <td>0.830189</td>\n",
       "      <td>0.840095</td>\n",
       "      <td>0.835113</td>\n",
       "    </tr>\n",
       "    <tr>\n",
       "      <th>Kernalized SVM rbg Classifier</th>\n",
       "      <td>Kernalized SVM rbg Classifier</td>\n",
       "      <td>{'C': 0.01, 'gamma': 1, 'kernel': 'poly'}</td>\n",
       "      <td>0.55750</td>\n",
       "      <td>0.576</td>\n",
       "      <td>0.000000</td>\n",
       "      <td>0.000000</td>\n",
       "      <td>0.000000</td>\n",
       "    </tr>\n",
       "    <tr>\n",
       "      <th>Kernalized Linear Classifier</th>\n",
       "      <td>Kernalized Linear Classifier</td>\n",
       "      <td>{'C': 0.01, 'gamma': 1, 'kernel': 'poly'}</td>\n",
       "      <td>0.83675</td>\n",
       "      <td>0.825</td>\n",
       "      <td>0.764706</td>\n",
       "      <td>0.892157</td>\n",
       "      <td>0.823529</td>\n",
       "    </tr>\n",
       "    <tr>\n",
       "      <th>Kernalized poly SVM Classifier</th>\n",
       "      <td>Kernalized poly SVM Classifier</td>\n",
       "      <td>{'C': 0.01, 'gamma': 1, 'kernel': 'poly'}</td>\n",
       "      <td>0.89550</td>\n",
       "      <td>0.895</td>\n",
       "      <td>0.773109</td>\n",
       "      <td>0.938776</td>\n",
       "      <td>0.847926</td>\n",
       "    </tr>\n",
       "    <tr>\n",
       "      <th>Decision Tress Classifier</th>\n",
       "      <td>Decision Tress Classifier</td>\n",
       "      <td>{'max_depth': 7, 'min_samples_leaf': 23}</td>\n",
       "      <td>0.92600</td>\n",
       "      <td>0.929</td>\n",
       "      <td>0.933962</td>\n",
       "      <td>0.902050</td>\n",
       "      <td>0.917729</td>\n",
       "    </tr>\n",
       "  </tbody>\n",
       "</table>\n",
       "</div>"
      ],
      "text/plain": [
       "                                                    Model name  \\\n",
       "Model name                                                       \n",
       "KNN Classification                          KNN Classification   \n",
       "Logistic Regression                        Logistic Regression   \n",
       "Linear SVM Classifier                    Linear SVM Classifier   \n",
       "Kernalized SVM rbg Classifier    Kernalized SVM rbg Classifier   \n",
       "Kernalized Linear Classifier      Kernalized Linear Classifier   \n",
       "Kernalized poly SVM Classifier  Kernalized poly SVM Classifier   \n",
       "Decision Tress Classifier            Decision Tress Classifier   \n",
       "\n",
       "                                                                  Model parameter  \\\n",
       "Model name                                                                          \n",
       "KNN Classification              {'metric': 'manhattan', 'n_neighbors': 8, 'p':...   \n",
       "Logistic Regression                    {'C': 10, 'max_iter': 19, 'penalty': 'l2'}   \n",
       "Linear SVM Classifier                                    {'C': 1, 'max_iter': 65}   \n",
       "Kernalized SVM rbg Classifier           {'C': 0.01, 'gamma': 1, 'kernel': 'poly'}   \n",
       "Kernalized Linear Classifier            {'C': 0.01, 'gamma': 1, 'kernel': 'poly'}   \n",
       "Kernalized poly SVM Classifier          {'C': 0.01, 'gamma': 1, 'kernel': 'poly'}   \n",
       "Decision Tress Classifier                {'max_depth': 7, 'min_samples_leaf': 23}   \n",
       "\n",
       "                                Train accuracy   Test accuracy   recall_Score  \\\n",
       "Model name                                                                      \n",
       "KNN Classification                      1.00000           0.904      0.844340   \n",
       "Logistic Regression                     0.87050           0.855      0.806604   \n",
       "Linear SVM Classifier                   0.86500           0.861      0.830189   \n",
       "Kernalized SVM rbg Classifier           0.55750           0.576      0.000000   \n",
       "Kernalized Linear Classifier            0.83675           0.825      0.764706   \n",
       "Kernalized poly SVM Classifier          0.89550           0.895      0.773109   \n",
       "Decision Tress Classifier               0.92600           0.929      0.933962   \n",
       "\n",
       "                                Precision_Score  F1_Score  \n",
       "Model name                                                 \n",
       "KNN Classification                     0.922680  0.881773  \n",
       "Logistic Regression                    0.844444  0.825090  \n",
       "Linear SVM Classifier                  0.840095  0.835113  \n",
       "Kernalized SVM rbg Classifier          0.000000  0.000000  \n",
       "Kernalized Linear Classifier           0.892157  0.823529  \n",
       "Kernalized poly SVM Classifier         0.938776  0.847926  \n",
       "Decision Tress Classifier              0.902050  0.917729  "
      ]
     },
     "execution_count": 134,
     "metadata": {},
     "output_type": "execute_result"
    }
   ],
   "source": [
    "CompTable1 = pd.DataFrame(CompTable,columns = ['Model name','Model parameter', 'Train accuracy ', 'Test accuracy ','recall_Score',\n",
    "                                              'Precision_Score','F1_Score'])\n",
    "CompTable1.index = CompTable1['Model name']\n",
    "CompTable1.round(2)\n",
    "CompTable1"
   ]
  },
  {
   "cell_type": "markdown",
   "metadata": {},
   "source": [
    "Based on the table above, we can compare the Test accuracy, Recall Score, Precision Score and F1 Score for each of the models that were ran on the airline data for predicting 'satisfaction'. \n",
    "\n",
    "The Decision Tree classifier performed the best when using the measures of Test Accuracy, Recall Score and F1 Score. It performed the third best when using the Precision score.\n",
    "\n",
    "Even though the Precision score is lower for the Decision Tree, it still had the best F1 score which is based on the Precision and Recall metrics. Hence, the Decision Tree Classifier is the best model for Classification for the airline data in this project."
   ]
  }
 ],
 "metadata": {
  "kernelspec": {
   "display_name": "Python 3",
   "language": "python",
   "name": "python3"
  },
  "language_info": {
   "codemirror_mode": {
    "name": "ipython",
    "version": 3
   },
   "file_extension": ".py",
   "mimetype": "text/x-python",
   "name": "python",
   "nbconvert_exporter": "python",
   "pygments_lexer": "ipython3",
   "version": "3.8.5"
  }
 },
 "nbformat": 4,
 "nbformat_minor": 5
}
