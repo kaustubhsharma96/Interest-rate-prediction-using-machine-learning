{
 "cells": [
  {
   "cell_type": "markdown",
   "metadata": {},
   "source": [
    "# <font color='red'> Project 2\n",
    "\n",
    "### Project Description:\n",
    "- Use the same datasets as Project 1.\n",
    "- Preprocess data: Explore data and apply data scaling.You can use the same preprocessing steps as it was used in Project 1. \n",
    "- Apply recommended changes if there is any. \n",
    "\n",
    "### Regression Task:\n",
    "- Apply any two models with bagging and any two models with pasting. \n",
    "- Apply any two models with AdaBoost boosting. \n",
    "- Apply gradient boosting. \n",
    "- Apply PCA on data and then apply all the models in project 1 again on the post PCA data. Compare your results with results in project 1. You don't need to apply all the models twice. Just copy the result from project 1, prepare a similar table for all the models after PCA and compare. Does PCA help in getting better results? \n",
    "- Apply deep learning models (MLP) covered in class. \n",
    "\n",
    "### Classification Task:\n",
    "- Apply two voting classifiers - one with hard voting and one with soft voting. \n",
    "- Apply any two models with bagging and any two models with pasting. \n",
    "- Apply any two models with AdaBoost boosting. \n",
    "- Apply one model with gradient boosting. \n",
    "- Apply PCA on data and then apply all the models in project 1 again on data you get from PCA. Compare your results with results in project 1. You don't need to apply all the models twice. Just copy the result table from project 1, prepare a similar table for all the models after PCA and compare both tables. Does PCA help in getting better results?\n",
    "- Apply deep learning models covered in class. \n",
    "- In all the classification tasks, consider the evaluation function you used in Project 1. \n",
    "\n",
    "### Deliverables:\n",
    "- Use markdown to provide inline comments for this project. \n",
    "- Use markdown to create final report for this project. \n",
    "- Your outputs should be clearly executed in the notebook i.e. we should not need to rerun the code to obtain the outputs. \n",
    "- Visualization encouraged. \n",
    "- If you are submitting two different files, then please only one group member submit both the files. If you submit two files separately from different accounts, it will be submitted as two different attempts.\n",
    "- If you are submitting two different files, then please follow below naming convention:\n",
    "    - ``Project2_Regression_GroupXX_Lastname1_Lastname2.ipynb``\n",
    "    - ``Project2_Classification_GroupXX_Lastname1_Lastname2.ipynb``\n",
    "  \n",
    "  then zip these two files and the csv files of the two datasets into one file and submit. \n",
    "- If you are submitting a single file, then please follow below naming convention:\n",
    "    - ``Project2_Both_GroupXX_Lastname1_Lastname2.ipynb``\n",
    "    \n",
    "    then zip this file and the csv files of the two datasets into one file and submit. "
   ]
  }
 ],
 "metadata": {
  "kernelspec": {
   "display_name": "Python 3",
   "language": "python",
   "name": "python3"
  },
  "language_info": {
   "codemirror_mode": {
    "name": "ipython",
    "version": 3
   },
   "file_extension": ".py",
   "mimetype": "text/x-python",
   "name": "python",
   "nbconvert_exporter": "python",
   "pygments_lexer": "ipython3",
   "version": "3.8.5"
  }
 },
 "nbformat": 4,
 "nbformat_minor": 2
}
