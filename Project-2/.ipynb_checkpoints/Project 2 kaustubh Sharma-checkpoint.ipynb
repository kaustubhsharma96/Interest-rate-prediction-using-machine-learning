{
 "cells": [
  {
   "cell_type": "markdown",
   "metadata": {},
   "source": [
    "# MIS 6341 : AML Project 1"
   ]
  },
  {
   "cell_type": "markdown",
   "metadata": {},
   "source": [
    "### Group 23 : Tejas Kulkarni , Kaustubh Sharma"
   ]
  },
  {
   "cell_type": "markdown",
   "metadata": {},
   "source": [
    "## Regression Task"
   ]
  },
  {
   "cell_type": "markdown",
   "metadata": {},
   "source": [
    "## Interest rate prediction using customer loan data"
   ]
  },
  {
   "cell_type": "markdown",
   "metadata": {},
   "source": [
    "Number of rows: *2200* ; Number of columns : *15* "
   ]
  },
  {
   "cell_type": "code",
   "execution_count": 1,
   "metadata": {},
   "outputs": [],
   "source": [
    "import pandas as pd\n",
    "import numpy as np\n",
    "from sklearn.model_selection import GridSearchCV\n",
    "from sklearn.metrics import r2_score"
   ]
  },
  {
   "cell_type": "code",
   "execution_count": 2,
   "metadata": {},
   "outputs": [],
   "source": [
    "df = pd.read_csv('loan_data_cleaned.csv')"
   ]
  },
  {
   "cell_type": "code",
   "execution_count": 3,
   "metadata": {},
   "outputs": [],
   "source": [
    "x = df.drop('Interest.Rate',axis=1)\n",
    "y = df['Interest.Rate']"
   ]
  },
  {
   "cell_type": "code",
   "execution_count": 4,
   "metadata": {},
   "outputs": [],
   "source": [
    "from sklearn.model_selection import train_test_split"
   ]
  },
  {
   "cell_type": "code",
   "execution_count": 5,
   "metadata": {},
   "outputs": [],
   "source": [
    "x_train_og,x_test_og,y_train,y_test = train_test_split(x,y,test_size=0.2,random_state=0)"
   ]
  },
  {
   "cell_type": "code",
   "execution_count": 6,
   "metadata": {},
   "outputs": [],
   "source": [
    "from sklearn.preprocessing import MinMaxScaler\n",
    "from sklearn.preprocessing import StandardScaler\n",
    "#scaler = MinMaxScaler()\n",
    "scaler = StandardScaler()"
   ]
  },
  {
   "cell_type": "code",
   "execution_count": 7,
   "metadata": {},
   "outputs": [],
   "source": [
    "x_train = scaler.fit_transform(x_train_og)\n",
    "x_test = scaler.transform(x_test_og)"
   ]
  },
  {
   "cell_type": "markdown",
   "metadata": {},
   "source": [
    "### 1. Apply any two models with bagging and any two models with pasting."
   ]
  },
  {
   "cell_type": "markdown",
   "metadata": {},
   "source": [
    "#### Applying Ridge with bagging"
   ]
  },
  {
   "cell_type": "code",
   "execution_count": 8,
   "metadata": {},
   "outputs": [],
   "source": [
    "from sklearn.linear_model import Lasso,Ridge\n",
    "from sklearn.model_selection import GridSearchCV"
   ]
  },
  {
   "cell_type": "code",
   "execution_count": 9,
   "metadata": {},
   "outputs": [
    {
     "name": "stdout",
     "output_type": "stream",
     "text": [
      "Best parameters: {'alpha': 15.141414141414142}\n",
      "Best cross-validation score: 0.7499\n"
     ]
    }
   ],
   "source": [
    "lambdas=np.linspace(13,17,100)\n",
    "model=Ridge(fit_intercept=True,random_state=0)\n",
    "params={'alpha':lambdas}\n",
    "grid_search_ridge = GridSearchCV(model,params,cv=5)\n",
    "grid_search_ridge.fit(x_train, y_train)\n",
    "print(\"Best parameters: {}\".format(grid_search_ridge.best_params_))\n",
    "print(\"Best cross-validation score: {:.4f}\".format(grid_search_ridge.best_score_))"
   ]
  },
  {
   "cell_type": "code",
   "execution_count": 10,
   "metadata": {},
   "outputs": [],
   "source": [
    "from sklearn.ensemble import BaggingRegressor"
   ]
  },
  {
   "cell_type": "code",
   "execution_count": 11,
   "metadata": {
    "scrolled": true
   },
   "outputs": [
    {
     "name": "stdout",
     "output_type": "stream",
     "text": [
      " Best Parameters: {'max_features': 0.5, 'max_samples': 0.4, 'n_estimators': 300}\n"
     ]
    }
   ],
   "source": [
    "paramgridls = {'n_estimators':[200, 300, 400, 500], \n",
    "              'max_samples':[0.1, 0.2, 0.3, 0.4, 0.5], \n",
    "              'max_features':[0.1, 0.2, 0.3, 0.5]}\n",
    "\n",
    "baggrid = BaggingRegressor(Ridge(alpha = grid_search_ridge.best_params_['alpha'],random_state=0))\n",
    "baggrid = GridSearchCV(baggrid, param_grid=paramgridls , cv = 5, n_jobs = -1)\n",
    "baggrid.fit(x_train, y_train)\n",
    "\n",
    "\n",
    "print(' Best Parameters:',baggrid.best_params_)\n",
    "#print(' Best Score:',baggrid.best_score_)\n"
   ]
  },
  {
   "cell_type": "markdown",
   "metadata": {},
   "source": [
    "#### Bagging"
   ]
  },
  {
   "cell_type": "code",
   "execution_count": 12,
   "metadata": {},
   "outputs": [],
   "source": [
    "model = Ridge(fit_intercept=True,alpha=grid_search_ridge.best_params_['alpha'])\n",
    "bag_reg = BaggingRegressor(model, n_estimators=baggrid.best_params_['n_estimators'],\n",
    "                           max_samples=baggrid.best_params_['max_samples'],max_features=baggrid.best_params_['max_features'],\n",
    "                           bootstrap=True, random_state=0, oob_score = True)\n",
    "\n",
    "bag_reg.fit(x_train, y_train)\n",
    "y_pred = bag_reg.predict(x_test)"
   ]
  },
  {
   "cell_type": "code",
   "execution_count": 13,
   "metadata": {},
   "outputs": [
    {
     "name": "stdout",
     "output_type": "stream",
     "text": [
      "Train score: 0.57\n",
      "Test score: 0.58\n",
      "Out-of-bag score: 0.56\n"
     ]
    }
   ],
   "source": [
    "print('Train score: %.2f'%bag_reg.score(x_train, y_train))\n",
    "print('Test score: %.2f'%bag_reg.score(x_test, y_test))\n",
    "print('Out-of-bag score: %.2f'%bag_reg.oob_score_)"
   ]
  },
  {
   "cell_type": "markdown",
   "metadata": {},
   "source": [
    "#### Pasting"
   ]
  },
  {
   "cell_type": "code",
   "execution_count": 14,
   "metadata": {},
   "outputs": [],
   "source": [
    "model = Ridge(fit_intercept=True,alpha=grid_search_ridge.best_params_['alpha'])\n",
    "bag_reg = BaggingRegressor(model, n_estimators=baggrid.best_params_['n_estimators'],\n",
    "                           max_samples=baggrid.best_params_['max_samples'],max_features=baggrid.best_params_['max_features'],\n",
    "                           bootstrap=False, random_state=0)\n",
    "\n",
    "bag_reg.fit(x_train, y_train)\n",
    "y_pred = bag_reg.predict(x_test)"
   ]
  },
  {
   "cell_type": "code",
   "execution_count": 15,
   "metadata": {},
   "outputs": [
    {
     "name": "stdout",
     "output_type": "stream",
     "text": [
      "Train score: 0.57\n",
      "Test score: 0.58\n"
     ]
    }
   ],
   "source": [
    "print('Train score: %.2f'%bag_reg.score(x_train, y_train))\n",
    "print('Test score: %.2f'%bag_reg.score(x_test, y_test))"
   ]
  },
  {
   "cell_type": "code",
   "execution_count": null,
   "metadata": {},
   "outputs": [],
   "source": []
  },
  {
   "cell_type": "markdown",
   "metadata": {},
   "source": [
    "#### Applying Lasso with bagging"
   ]
  },
  {
   "cell_type": "code",
   "execution_count": 16,
   "metadata": {},
   "outputs": [
    {
     "name": "stdout",
     "output_type": "stream",
     "text": [
      "Best parameters: {'alpha': 0.032}\n",
      "Best cross-validation score: 0.7526\n"
     ]
    }
   ],
   "source": [
    "lamdas = np.linspace(0.1,0.001,100)\n",
    "model=Lasso()\n",
    "params={'alpha':lamdas}\n",
    "grid_search_lasso = GridSearchCV(model,params,cv=5)\n",
    "grid_search_lasso.fit(x_train, y_train)\n",
    "print(\"Best parameters: {}\".format(grid_search_lasso.best_params_))\n",
    "print(\"Best cross-validation score: {:.4f}\".format(grid_search_lasso.best_score_))"
   ]
  },
  {
   "cell_type": "code",
   "execution_count": 17,
   "metadata": {},
   "outputs": [
    {
     "name": "stdout",
     "output_type": "stream",
     "text": [
      " Best Parameters: {'max_features': 0.5, 'max_samples': 0.4, 'n_estimators': 200}\n"
     ]
    }
   ],
   "source": [
    "paramgridls = {'n_estimators':[200, 300, 400, 500], \n",
    "              'max_samples':[0.1, 0.2, 0.3, 0.4, 0.5], \n",
    "              'max_features':[0.1, 0.2, 0.3, 0.5]}\n",
    "\n",
    "baggrid = BaggingRegressor(Lasso(alpha = grid_search_lasso.best_params_['alpha'],random_state=0))\n",
    "baggrid = GridSearchCV(baggrid, param_grid=paramgridls , cv = 5, n_jobs = -1)\n",
    "baggrid.fit(x_train, y_train)\n",
    "\n",
    "\n",
    "print(' Best Parameters:',baggrid.best_params_)\n",
    "#print(' Best Score:',baggrid.best_score_)\n"
   ]
  },
  {
   "cell_type": "markdown",
   "metadata": {},
   "source": [
    "#### Bagging"
   ]
  },
  {
   "cell_type": "code",
   "execution_count": 18,
   "metadata": {},
   "outputs": [],
   "source": [
    "model = Lasso(fit_intercept=True,alpha=grid_search_lasso.best_params_['alpha'],random_state=0)\n",
    "bag_reg = BaggingRegressor(model, n_estimators=baggrid.best_params_['n_estimators'],\n",
    "                           max_samples=baggrid.best_params_['max_samples'],max_features=baggrid.best_params_['max_features'],\n",
    "                           bootstrap=True, random_state=0, oob_score = True)\n",
    "\n",
    "bag_reg.fit(x_train, y_train)\n",
    "y_pred = bag_reg.predict(x_test)"
   ]
  },
  {
   "cell_type": "code",
   "execution_count": 19,
   "metadata": {},
   "outputs": [
    {
     "name": "stdout",
     "output_type": "stream",
     "text": [
      "Train score: 0.57\n",
      "Test score: 0.58\n",
      "Out-of-bag score: 0.56\n"
     ]
    }
   ],
   "source": [
    "print('Train score: %.2f'%bag_reg.score(x_train, y_train))\n",
    "print('Test score: %.2f'%bag_reg.score(x_test, y_test))\n",
    "print('Out-of-bag score: %.2f'%bag_reg.oob_score_)"
   ]
  },
  {
   "cell_type": "markdown",
   "metadata": {},
   "source": [
    "#### Pasting"
   ]
  },
  {
   "cell_type": "code",
   "execution_count": 20,
   "metadata": {},
   "outputs": [],
   "source": [
    "model = Lasso(fit_intercept=True,alpha=grid_search_lasso.best_params_['alpha'],random_state=0)\n",
    "bag_reg = BaggingRegressor(model, n_estimators=baggrid.best_params_['n_estimators'],\n",
    "                           max_samples=baggrid.best_params_['max_samples'],max_features=baggrid.best_params_['max_features'],\n",
    "                           bootstrap=False, random_state=0)\n",
    "\n",
    "bag_reg.fit(x_train, y_train)\n",
    "y_pred = bag_reg.predict(x_test)"
   ]
  },
  {
   "cell_type": "code",
   "execution_count": 21,
   "metadata": {},
   "outputs": [
    {
     "name": "stdout",
     "output_type": "stream",
     "text": [
      "Train score: 0.5731\n",
      "Test score: 0.5798\n"
     ]
    }
   ],
   "source": [
    "print('Train score: %.4f'%bag_reg.score(x_train, y_train))\n",
    "print('Test score: %.4f'%bag_reg.score(x_test, y_test))"
   ]
  },
  {
   "cell_type": "markdown",
   "metadata": {},
   "source": [
    "### 2. Apply any two models with AdaBoost boosting."
   ]
  },
  {
   "cell_type": "markdown",
   "metadata": {},
   "source": [
    "#### Applying AdaBoost to ridge"
   ]
  },
  {
   "cell_type": "code",
   "execution_count": 22,
   "metadata": {},
   "outputs": [
    {
     "name": "stdout",
     "output_type": "stream",
     "text": [
      " best parametes {'learning_rate': 0.001, 'n_estimators': 300}\n"
     ]
    }
   ],
   "source": [
    "from sklearn.ensemble import AdaBoostRegressor\n",
    "\n",
    "param_grid = {'n_estimators': [100,200,300,400,500] ,\n",
    "              'learning_rate': [0.001,0.01,0.1,1]}\n",
    "\n",
    "\n",
    "grid_ad = GridSearchCV(AdaBoostRegressor(Ridge(alpha=grid_search_ridge.best_params_['alpha']),random_state=0), param_grid)\n",
    "grid_ad.fit(x_train, y_train)\n",
    "\n",
    "print(' best parametes',grid_ad.best_params_)\n"
   ]
  },
  {
   "cell_type": "code",
   "execution_count": 23,
   "metadata": {},
   "outputs": [
    {
     "name": "stdout",
     "output_type": "stream",
     "text": [
      "Train score: 0.7655\n",
      "Test score: 0.7536\n"
     ]
    }
   ],
   "source": [
    "model = AdaBoostRegressor(Ridge(alpha=grid_search_ridge.best_params_['alpha'],random_state=0),\n",
    "                                learning_rate= grid_ad.best_params_['learning_rate'],n_estimators=grid_ad.best_params_['n_estimators'])\n",
    "model.fit(x_train,y_train)\n",
    "print('Train score: %.4f'%model.score(x_train, y_train))\n",
    "print('Test score: %.4f'%model.score(x_test, y_test))"
   ]
  },
  {
   "cell_type": "markdown",
   "metadata": {},
   "source": [
    "### Decision Tree Ada Boost Regressor"
   ]
  },
  {
   "cell_type": "code",
   "execution_count": 24,
   "metadata": {},
   "outputs": [],
   "source": [
    "import warnings\n",
    "warnings.filterwarnings('ignore')"
   ]
  },
  {
   "cell_type": "code",
   "execution_count": 25,
   "metadata": {},
   "outputs": [
    {
     "name": "stdout",
     "output_type": "stream",
     "text": [
      "Best parameters: {'ccp_alpha': 0.0, 'criterion': 'mse', 'max_depth': 8, 'min_samples_leaf': 20, 'min_samples_split': 3}\n",
      "Best cross-validation score: 0.7499\n"
     ]
    }
   ],
   "source": [
    "from sklearn.tree import DecisionTreeRegressor\n",
    "params ={'criterion':['mse'],\n",
    "    'max_depth':[6,8,10,12,14],\n",
    "    'min_samples_split':[3,4,5,6],\n",
    "    'min_samples_leaf':[10,20,30,40,50],\n",
    "    'ccp_alpha':np.linspace(0.0,1,5) }\n",
    "grid_search_dt = GridSearchCV(DecisionTreeRegressor(random_state=0),params,cv=5)\n",
    "grid_search_dt.fit(x_train,y_train)\n",
    "print(\"Best parameters: {}\".format(grid_search_dt.best_params_))\n",
    "print(\"Best cross-validation score: {:.4f}\".format(grid_search_dt.best_score_))"
   ]
  },
  {
   "cell_type": "code",
   "execution_count": 26,
   "metadata": {},
   "outputs": [
    {
     "name": "stdout",
     "output_type": "stream",
     "text": [
      " best parametes {'learning_rate': 0.01, 'n_estimators': 400}\n"
     ]
    }
   ],
   "source": [
    "from sklearn.ensemble import AdaBoostRegressor\n",
    "\n",
    "param_grid = {'n_estimators': [100,200,300,400,500] ,\n",
    "              'learning_rate': [0.001,0.01,0.1,1]}\n",
    "\n",
    "\n",
    "grid_ad = GridSearchCV( AdaBoostRegressor (DecisionTreeRegressor(ccp_alpha=grid_search_dt.best_params_['ccp_alpha'],\n",
    "                                          criterion=grid_search_dt.best_params_['criterion'],\n",
    "                                          max_depth=grid_search_dt.best_params_['max_depth'],\n",
    "                                          min_samples_leaf=grid_search_dt.best_params_['min_samples_leaf'],\n",
    "                                          min_samples_split=grid_search_dt.best_params_['min_samples_split'],\n",
    "                                          random_state=0)), param_grid)\n",
    "grid_ad.fit(x_train, y_train)\n",
    "\n",
    "print(' best parametes',grid_ad.best_params_)\n"
   ]
  },
  {
   "cell_type": "code",
   "execution_count": 27,
   "metadata": {
    "scrolled": true
   },
   "outputs": [
    {
     "name": "stdout",
     "output_type": "stream",
     "text": [
      "Train score: 0.8705\n",
      "Test score: 0.8132\n"
     ]
    }
   ],
   "source": [
    "model = AdaBoostRegressor(DecisionTreeRegressor(ccp_alpha=grid_search_dt.best_params_['ccp_alpha'],\n",
    "                                          criterion=grid_search_dt.best_params_['criterion'],\n",
    "                                          max_depth=grid_search_dt.best_params_['max_depth'],\n",
    "                                          min_samples_leaf=grid_search_dt.best_params_['min_samples_leaf'],\n",
    "                                          min_samples_split=grid_search_dt.best_params_['min_samples_split'],\n",
    "                                          random_state=0),\n",
    "                                learning_rate= grid_ad.best_params_['learning_rate'],n_estimators=grid_ad.best_params_['n_estimators'])\n",
    "model.fit(x_train,y_train)\n",
    "print('Train score: %.4f'%model.score(x_train, y_train))\n",
    "print('Test score: %.4f'%model.score(x_test, y_test))"
   ]
  },
  {
   "cell_type": "markdown",
   "metadata": {},
   "source": [
    "#### Ada Boost Regressor worked best on the Decision Tree Regrssor the Test score had a formidable increase from 0.74 to 0.81"
   ]
  },
  {
   "cell_type": "code",
   "execution_count": 28,
   "metadata": {},
   "outputs": [],
   "source": [
    "from sklearn.metrics import mean_squared_error,r2_score,mean_absolute_error"
   ]
  },
  {
   "cell_type": "code",
   "execution_count": 29,
   "metadata": {},
   "outputs": [
    {
     "name": "stdout",
     "output_type": "stream",
     "text": [
      "\n",
      " Mean Squared Error: 3.300310576464986 \n",
      " R2 Score: 0.8131562283610335\n",
      " Mean Absolute Error: 1.394905078302232\n"
     ]
    }
   ],
   "source": [
    "pred= model.predict(x_test)\n",
    "print(f'\\n Mean Squared Error: {(mean_squared_error(y_test, pred))} \\n R2 Score: {r2_score(y_test,pred)}\\n Mean Absolute Error: {mean_absolute_error(y_test,pred)}')\n"
   ]
  },
  {
   "cell_type": "markdown",
   "metadata": {},
   "source": [
    "### 3. Apply gradient boosting."
   ]
  },
  {
   "cell_type": "markdown",
   "metadata": {},
   "source": [
    "#### Apply Gradient Boosting Regressor"
   ]
  },
  {
   "cell_type": "code",
   "execution_count": 30,
   "metadata": {},
   "outputs": [
    {
     "name": "stdout",
     "output_type": "stream",
     "text": [
      " Best parameters: {'learning_rate': 0.1, 'max_depth': 2, 'n_estimators': 200}\n"
     ]
    }
   ],
   "source": [
    "from  sklearn.ensemble import GradientBoostingRegressor\n",
    "param_grid = {'max_depth':[1, 2, 5], \n",
    "              'n_estimators':[200, 500, 1000], \n",
    "              'learning_rate':[0.001, 0.01, 0.1] }\n",
    "\n",
    "\n",
    "gb_clfgb= GradientBoostingRegressor(random_state=0)\n",
    "grid_gb = GridSearchCV(gb_clfgb, param_grid, cv = 5,n_jobs=-1 )\n",
    "grid_gb.fit(x_train, y_train)\n",
    "\n",
    "print(\" Best parameters: {}\".format(grid_gb.best_params_))\n",
    "#print(\" Best score: {}\".format(grid_gb.best_score_))"
   ]
  },
  {
   "cell_type": "code",
   "execution_count": 31,
   "metadata": {},
   "outputs": [
    {
     "name": "stdout",
     "output_type": "stream",
     "text": [
      "Train score: 0.8712\n",
      "Test score: 0.8347\n"
     ]
    }
   ],
   "source": [
    "print('Train score: %.4f'%grid_gb.score(x_train, y_train))\n",
    "print('Test score: %.4f'%grid_gb.score(x_test, y_test))"
   ]
  },
  {
   "cell_type": "code",
   "execution_count": 32,
   "metadata": {},
   "outputs": [
    {
     "name": "stdout",
     "output_type": "stream",
     "text": [
      "\n",
      " Mean Squared Error: 2.9201505058982495 \n",
      " R2 Score: 0.8346786092901964\n",
      " Mean Absolute Error: 1.2562085900647555\n"
     ]
    }
   ],
   "source": [
    "pred= grid_gb.predict(x_test)\n",
    "print(f'\\n Mean Squared Error: {(mean_squared_error(y_test, pred))} \\n R2 Score: {r2_score(y_test,pred)}\\n Mean Absolute Error: {mean_absolute_error(y_test,pred)}')\n"
   ]
  },
  {
   "cell_type": "markdown",
   "metadata": {},
   "source": [
    "### 4. Apply PCA on data and then apply all the models in project 1 again on the post PCA data. Compare your results with results in project 1. You don't need to apply all the models twice. Just copy the result from project 1, prepare a similar table for all the models after PCA and compare. Does PCA help in getting better results?"
   ]
  },
  {
   "cell_type": "code",
   "execution_count": 33,
   "metadata": {},
   "outputs": [],
   "source": [
    "from sklearn.decomposition import PCA"
   ]
  },
  {
   "cell_type": "code",
   "execution_count": 34,
   "metadata": {},
   "outputs": [],
   "source": [
    "pca = PCA(n_components = 0.95)\n",
    "x_train_pca = pca.fit_transform(x_train)\n",
    "x_test_pca = pca.transform(x_test)"
   ]
  },
  {
   "cell_type": "code",
   "execution_count": 35,
   "metadata": {},
   "outputs": [],
   "source": [
    "x_train_pca =pca.inverse_transform(x_train_pca)\n",
    "x_test_pca =pca.inverse_transform(x_test_pca)"
   ]
  },
  {
   "cell_type": "markdown",
   "metadata": {},
   "source": [
    "### KNN Regressor with PCA"
   ]
  },
  {
   "cell_type": "code",
   "execution_count": 36,
   "metadata": {},
   "outputs": [],
   "source": [
    "from sklearn.neighbors import KNeighborsRegressor"
   ]
  },
  {
   "cell_type": "code",
   "execution_count": 37,
   "metadata": {},
   "outputs": [],
   "source": [
    "knn_reg = KNeighborsRegressor()"
   ]
  },
  {
   "cell_type": "code",
   "execution_count": 38,
   "metadata": {},
   "outputs": [
    {
     "name": "stdout",
     "output_type": "stream",
     "text": [
      "Best parameters: {'n_neighbors': 6}\n",
      "Best cross-validation score: 0.2979\n"
     ]
    }
   ],
   "source": [
    "params = {'n_neighbors':range(1,20,1)}\n",
    "grid_search = GridSearchCV(knn_reg,params,cv=5)\n",
    "grid_search.fit(x_train_pca, y_train)\n",
    "print(\"Best parameters: {}\".format(grid_search.best_params_))\n",
    "print(\"Best cross-validation score: {:.4f}\".format(grid_search.best_score_))"
   ]
  },
  {
   "cell_type": "code",
   "execution_count": 39,
   "metadata": {},
   "outputs": [
    {
     "name": "stdout",
     "output_type": "stream",
     "text": [
      "KNN Regressor Train Score:  0.5143996281943496\n",
      "KNN Regressor Test Score:  0.33915964853506686\n"
     ]
    }
   ],
   "source": [
    "print('KNN Regressor Train Score: ',grid_search.score(x_train_pca,y_train))\n",
    "print('KNN Regressor Test Score: ',grid_search.score(x_test_pca,y_test))"
   ]
  },
  {
   "cell_type": "code",
   "execution_count": 40,
   "metadata": {},
   "outputs": [],
   "source": [
    "\n",
    "full_table = [['KNN Regressor: ',grid_search.best_params_,grid_search.score(x_train_pca,y_train),grid_search.score(x_test_pca,y_test),\n",
    "               r2_score(y_test,grid_search.predict(x_test_pca))]]"
   ]
  },
  {
   "cell_type": "code",
   "execution_count": null,
   "metadata": {},
   "outputs": [],
   "source": []
  },
  {
   "cell_type": "markdown",
   "metadata": {},
   "source": [
    "### Linear Regressor with PCA"
   ]
  },
  {
   "cell_type": "code",
   "execution_count": 41,
   "metadata": {},
   "outputs": [],
   "source": [
    "from sklearn.linear_model import LinearRegression\n",
    "from sklearn.metrics import mean_squared_error,mean_absolute_error"
   ]
  },
  {
   "cell_type": "code",
   "execution_count": 42,
   "metadata": {},
   "outputs": [
    {
     "name": "stdout",
     "output_type": "stream",
     "text": [
      " Training score : 0.747713340597516\n",
      " Testing score  : 0.738015437738011\n",
      "\n",
      " Mean Squared Error: 2.1511759966633726 \n",
      " R2 Score: 0.738015437738011\n",
      " Mean Absolute Error: 1.710015625434432\n"
     ]
    }
   ],
   "source": [
    "linregrr=LinearRegression()\n",
    "linregrr.fit(x_train_pca, y_train)\n",
    "\n",
    "print(' Training score :',linregrr.score(x_train_pca, y_train))\n",
    "print(' Testing score  :',linregrr.score(x_test_pca, y_test))\n",
    "pred= linregrr.predict(x_test_pca)\n",
    "print(f'\\n Mean Squared Error: {np.sqrt(mean_squared_error(y_test, pred))} \\n R2 Score: {r2_score(y_test,pred)}\\n Mean Absolute Error: {mean_absolute_error(y_test,pred)}')\n"
   ]
  },
  {
   "cell_type": "code",
   "execution_count": 43,
   "metadata": {},
   "outputs": [],
   "source": [
    "\n",
    "full_table += [['Linear Regressor: ',' ',linregrr.score(x_train_pca,y_train),linregrr.score(x_test_pca,y_test),\n",
    "               r2_score(y_test,linregrr.predict(x_test_pca))]]"
   ]
  },
  {
   "cell_type": "markdown",
   "metadata": {},
   "source": [
    "### Ridge with PCA"
   ]
  },
  {
   "cell_type": "code",
   "execution_count": 44,
   "metadata": {},
   "outputs": [
    {
     "name": "stdout",
     "output_type": "stream",
     "text": [
      "Best parameters: {'alpha': 15.969696969696969}\n",
      "Best cross-validation score: 0.7324\n"
     ]
    }
   ],
   "source": [
    "lambdas=np.linspace(13,20,100)\n",
    "params={'alpha':lambdas}\n",
    "model=Ridge(fit_intercept=True, random_state=0)\n",
    "grid_search = GridSearchCV(model,params,cv=5)\n",
    "grid_search.fit(x_train_pca, y_train)\n",
    "print(\"Best parameters: {}\".format(grid_search.best_params_))\n",
    "print(\"Best cross-validation score: {:.4f}\".format(grid_search.best_score_))"
   ]
  },
  {
   "cell_type": "code",
   "execution_count": 45,
   "metadata": {},
   "outputs": [
    {
     "name": "stdout",
     "output_type": "stream",
     "text": [
      "Ridge Train Score:  0.7478852973290508\n",
      "Ridge Test Score:  0.7376315713785951\n"
     ]
    }
   ],
   "source": [
    "print('Ridge Train Score: ',grid_search.score(x_train_pca,y_train))\n",
    "print('Ridge Test Score: ',grid_search.score(x_test_pca,y_test))"
   ]
  },
  {
   "cell_type": "code",
   "execution_count": 46,
   "metadata": {},
   "outputs": [],
   "source": [
    "\n",
    "full_table += [['Ridge Regressor: ',grid_search.best_params_,grid_search.score(x_train_pca,y_train),grid_search.score(x_test_pca,y_test),\n",
    "               r2_score(y_test,grid_search.predict(x_test_pca))]]"
   ]
  },
  {
   "cell_type": "code",
   "execution_count": 47,
   "metadata": {},
   "outputs": [
    {
     "data": {
      "text/plain": [
       "[['KNN Regressor: ',\n",
       "  {'n_neighbors': 6},\n",
       "  0.5143996281943496,\n",
       "  0.33915964853506686,\n",
       "  0.33915964853506686],\n",
       " ['Linear Regressor: ',\n",
       "  ' ',\n",
       "  0.747713340597516,\n",
       "  0.738015437738011,\n",
       "  0.738015437738011],\n",
       " ['Ridge Regressor: ',\n",
       "  {'alpha': 15.969696969696969},\n",
       "  0.7478852973290508,\n",
       "  0.7376315713785951,\n",
       "  0.7376315713785951]]"
      ]
     },
     "execution_count": 47,
     "metadata": {},
     "output_type": "execute_result"
    }
   ],
   "source": [
    "full_table"
   ]
  },
  {
   "cell_type": "markdown",
   "metadata": {},
   "source": [
    "### Lasso with PCA"
   ]
  },
  {
   "cell_type": "code",
   "execution_count": 48,
   "metadata": {},
   "outputs": [
    {
     "name": "stdout",
     "output_type": "stream",
     "text": [
      "Best parameters: {'alpha': 0.1}\n",
      "Best cross-validation score: 0.7356\n"
     ]
    }
   ],
   "source": [
    "lambdas=np.linspace(0.1,1,100)\n",
    "params={'alpha':lambdas}\n",
    "model=Lasso(fit_intercept=True,random_state=0)\n",
    "grid_search = GridSearchCV(model,params,cv=5)\n",
    "grid_search.fit(x_train_pca, y_train)\n",
    "print(\"Best parameters: {}\".format(grid_search.best_params_))\n",
    "print(\"Best cross-validation score: {:.4f}\".format(grid_search.best_score_))"
   ]
  },
  {
   "cell_type": "code",
   "execution_count": 49,
   "metadata": {},
   "outputs": [
    {
     "name": "stdout",
     "output_type": "stream",
     "text": [
      "Lasso Train Score:  0.7392664464592089\n",
      "Lasso Test Score:  0.7377555442840982\n"
     ]
    }
   ],
   "source": [
    "print('Lasso Train Score: ',grid_search.score(x_train_pca,y_train))\n",
    "print('Lasso Test Score: ',grid_search.score(x_test_pca,y_test))"
   ]
  },
  {
   "cell_type": "code",
   "execution_count": 50,
   "metadata": {},
   "outputs": [],
   "source": [
    "\n",
    "full_table += [['Lasso Regressor: ',grid_search.best_params_,grid_search.score(x_train_pca,y_train),grid_search.score(x_test_pca,y_test),\n",
    "               r2_score(y_test,grid_search.predict(x_test_pca))]]"
   ]
  },
  {
   "cell_type": "markdown",
   "metadata": {},
   "source": [
    "### Polynomoial Regression with PCA"
   ]
  },
  {
   "cell_type": "markdown",
   "metadata": {},
   "source": [
    "##### Fit the Polynomial regression with degree 2"
   ]
  },
  {
   "cell_type": "code",
   "execution_count": 51,
   "metadata": {},
   "outputs": [
    {
     "name": "stdout",
     "output_type": "stream",
     "text": [
      "0.8780344161516338\n",
      "-2.0772917437739646e+23\n"
     ]
    }
   ],
   "source": [
    "from  sklearn.preprocessing  import PolynomialFeatures\n",
    "\n",
    "poly = PolynomialFeatures(degree = 2)\n",
    "x_train_poly = poly.fit_transform(x_train_pca)\n",
    "x_test_poly = poly.transform(x_test_pca)\n",
    "\n",
    "poly_reg = LinearRegression()\n",
    "poly_reg.fit(x_train_poly, y_train)\n",
    "\n",
    "print(poly_reg.score(x_train_poly, y_train))\n",
    "print(poly_reg.score(x_test_poly, y_test))"
   ]
  },
  {
   "cell_type": "markdown",
   "metadata": {},
   "source": [
    "##### Compare Polynomial Regression degree 2 with 3 and 4"
   ]
  },
  {
   "cell_type": "code",
   "execution_count": 52,
   "metadata": {},
   "outputs": [],
   "source": [
    "best_score= poly_reg.score(x_test_poly, y_test)"
   ]
  },
  {
   "cell_type": "code",
   "execution_count": 53,
   "metadata": {},
   "outputs": [],
   "source": [
    "lambdas = [3,4]"
   ]
  },
  {
   "cell_type": "code",
   "execution_count": 54,
   "metadata": {},
   "outputs": [
    {
     "name": "stdout",
     "output_type": "stream",
     "text": [
      "Best score: -33.95\n",
      "Best parameters: {'degree': 4}\n"
     ]
    }
   ],
   "source": [
    "best_parameters = {}\n",
    "for degree in lambdas:\n",
    "    poly = PolynomialFeatures(degree = degree)\n",
    "    x_train_poly = poly.fit_transform(x_train_pca)\n",
    "    x_test_poly = poly.transform(x_test_pca)\n",
    "    poly_reg = LinearRegression()\n",
    "    poly_reg.fit(x_train_poly, y_train)\n",
    "    score = poly_reg.score(x_test_poly, y_test)\n",
    "    if score > best_score:\n",
    "        best_score = score\n",
    "        best_parameters = {'degree': degree}\n",
    "\n",
    "print(\"Best score: {:.2f}\".format(best_score))\n",
    "print(\"Best parameters: {}\".format(best_parameters))\n",
    "    "
   ]
  },
  {
   "cell_type": "markdown",
   "metadata": {},
   "source": [
    "##### Fit the model with the best degree"
   ]
  },
  {
   "cell_type": "code",
   "execution_count": 55,
   "metadata": {},
   "outputs": [
    {
     "name": "stdout",
     "output_type": "stream",
     "text": [
      "1.0\n",
      "-33.94963851107548\n"
     ]
    }
   ],
   "source": [
    "from  sklearn.preprocessing  import PolynomialFeatures\n",
    "\n",
    "poly = PolynomialFeatures(degree = best_parameters['degree'])\n",
    "x_train_poly = poly.fit_transform(x_train_pca)\n",
    "x_test_poly = poly.transform(x_test_pca)\n",
    "\n",
    "poly_reg = LinearRegression()\n",
    "poly_reg.fit(x_train_poly, y_train)\n",
    "\n",
    "print(poly_reg.score(x_train_poly, y_train))\n",
    "print(poly_reg.score(x_test_poly, y_test))"
   ]
  },
  {
   "cell_type": "markdown",
   "metadata": {},
   "source": [
    "#### Model is over-fitting"
   ]
  },
  {
   "cell_type": "code",
   "execution_count": 56,
   "metadata": {},
   "outputs": [],
   "source": [
    "\n",
    "full_table += [['Polynomial Regressor: ',best_parameters,poly_reg.score(x_train_poly,y_train),poly_reg.score(x_test_poly,y_test),\n",
    "               r2_score(y_test,poly_reg.predict(x_test_poly))]]"
   ]
  },
  {
   "cell_type": "code",
   "execution_count": null,
   "metadata": {},
   "outputs": [],
   "source": []
  },
  {
   "cell_type": "markdown",
   "metadata": {},
   "source": [
    "### LinearSVR with PCA"
   ]
  },
  {
   "cell_type": "code",
   "execution_count": 57,
   "metadata": {},
   "outputs": [],
   "source": [
    "from sklearn.svm import LinearSVR\n",
    "import warnings\n",
    "warnings.filterwarnings('ignore')\n"
   ]
  },
  {
   "cell_type": "code",
   "execution_count": 58,
   "metadata": {},
   "outputs": [
    {
     "name": "stdout",
     "output_type": "stream",
     "text": [
      "Best parameters: {'C': 10, 'max_iter': 1000}\n",
      "Best cross-validation score: 0.7241\n"
     ]
    }
   ],
   "source": [
    "params = {'C':[0.001, 0.01, 0.1, 1, 10, 100, 1000],'max_iter': [1000,10000]}\n",
    "grid_search = GridSearchCV(LinearSVR(random_state=0),params)\n",
    "grid_search.fit(x_train_pca,y_train)\n",
    "print(\"Best parameters: {}\".format(grid_search.best_params_))\n",
    "print(\"Best cross-validation score: {:.4f}\".format(grid_search.best_score_))"
   ]
  },
  {
   "cell_type": "code",
   "execution_count": 59,
   "metadata": {},
   "outputs": [
    {
     "name": "stdout",
     "output_type": "stream",
     "text": [
      "LinearSVR Train Score:  0.737708626428641\n",
      "LinearSVR Test Score:  0.7316131972302815\n"
     ]
    }
   ],
   "source": [
    "print('LinearSVR Train Score: ',grid_search.score(x_train_pca,y_train))\n",
    "print('LinearSVR Test Score: ',grid_search.score(x_test_pca,y_test))"
   ]
  },
  {
   "cell_type": "code",
   "execution_count": 60,
   "metadata": {},
   "outputs": [],
   "source": [
    "\n",
    "full_table += [['LinearSVR Regressor: ',grid_search.best_params_,grid_search.score(x_train_pca,y_train),grid_search.score(x_test_pca,y_test),\n",
    "               r2_score(y_test,grid_search.predict(x_test_pca))]]"
   ]
  },
  {
   "cell_type": "markdown",
   "metadata": {},
   "source": [
    "### SVR w/ Kernel : 'rbf'"
   ]
  },
  {
   "cell_type": "code",
   "execution_count": 62,
   "metadata": {},
   "outputs": [
    {
     "name": "stdout",
     "output_type": "stream",
     "text": [
      "Best parameters: {'C': 10, 'epsilon': 1, 'kernel': 'rbf'}\n",
      "Best cross-validation score: 0.6923\n"
     ]
    }
   ],
   "source": [
    "from sklearn.svm import SVR\n",
    "params = {'C':[1,10,100,1000,5000],'epsilon':[1,1.5,2,5,10],'kernel':['rbf']}\n",
    "grid_search = GridSearchCV(SVR(),params)\n",
    "grid_search.fit(x_train_pca,y_train)\n",
    "print(\"Best parameters: {}\".format(grid_search.best_params_))\n",
    "print(\"Best cross-validation score: {:.4f}\".format(grid_search.best_score_))"
   ]
  },
  {
   "cell_type": "code",
   "execution_count": 63,
   "metadata": {},
   "outputs": [
    {
     "name": "stdout",
     "output_type": "stream",
     "text": [
      "SVM Regressor w/ rbf Train Score:  0.8736915806799034\n",
      "SVM Regressor w/ rbf Test Score  0.7091449272532566\n"
     ]
    }
   ],
   "source": [
    "print('SVM Regressor w/ rbf Train Score: ',grid_search.score(x_train_pca,y_train))\n",
    "print('SVM Regressor w/ rbf Test Score ',grid_search.score(x_test_pca,y_test))"
   ]
  },
  {
   "cell_type": "code",
   "execution_count": 64,
   "metadata": {},
   "outputs": [],
   "source": [
    "\n",
    "full_table += [['SVM Regressor w/ rbf: ',grid_search.best_params_,grid_search.score(x_train_pca,y_train),grid_search.score(x_test_pca,y_test),\n",
    "               r2_score(y_test,grid_search.predict(x_test_pca))]]"
   ]
  },
  {
   "cell_type": "code",
   "execution_count": null,
   "metadata": {},
   "outputs": [],
   "source": []
  },
  {
   "cell_type": "markdown",
   "metadata": {},
   "source": [
    "### SVR w/ Kernel : 'poly'"
   ]
  },
  {
   "cell_type": "code",
   "execution_count": 66,
   "metadata": {},
   "outputs": [
    {
     "name": "stdout",
     "output_type": "stream",
     "text": [
      "Best parameters: {'C': 10, 'epsilon': 1.5, 'kernel': 'poly'}\n",
      "Best cross-validation score: 0.5859\n"
     ]
    }
   ],
   "source": [
    "params = {'C':[1,10,100,1000,5000],'epsilon':[0.1,1,1.5,2],'kernel':['poly']}\n",
    "grid_search = GridSearchCV(SVR(),params)\n",
    "grid_search.fit(x_train_pca,y_train)\n",
    "print(\"Best parameters: {}\".format(grid_search.best_params_))\n",
    "print(\"Best cross-validation score: {:.4f}\".format(grid_search.best_score_))"
   ]
  },
  {
   "cell_type": "code",
   "execution_count": 67,
   "metadata": {},
   "outputs": [
    {
     "name": "stdout",
     "output_type": "stream",
     "text": [
      "SVM Regressor w/ poly Train Score:  0.8136203037114796\n",
      "SVM Regressor w/ poly Test Score:  -0.284947991836102\n"
     ]
    }
   ],
   "source": [
    "print('SVM Regressor w/ poly Train Score: ',grid_search.score(x_train_pca,y_train))\n",
    "print('SVM Regressor w/ poly Test Score: ',grid_search.score(x_test_pca,y_test))"
   ]
  },
  {
   "cell_type": "code",
   "execution_count": 68,
   "metadata": {},
   "outputs": [],
   "source": [
    "\n",
    "full_table += [['SVM Regressor w/ poly: ',grid_search.best_params_,grid_search.score(x_train_pca,y_train),grid_search.score(x_test_pca,y_test),\n",
    "               r2_score(y_test,grid_search.predict(x_test_pca))]]"
   ]
  },
  {
   "cell_type": "markdown",
   "metadata": {},
   "source": [
    "### SVR w/ Kernel : 'linear'"
   ]
  },
  {
   "cell_type": "code",
   "execution_count": 69,
   "metadata": {},
   "outputs": [
    {
     "name": "stdout",
     "output_type": "stream",
     "text": [
      "Best parameters: {'C': 15, 'epsilon': 1.5, 'kernel': 'linear'}\n",
      "Best cross-validation score: 0.7326\n"
     ]
    }
   ],
   "source": [
    "params = {'C':[10,15,20],'epsilon':[1.5,2],'kernel':['linear']}\n",
    "grid_search = GridSearchCV(SVR(),params)\n",
    "grid_search.fit(x_train_pca,y_train)\n",
    "print(\"Best parameters: {}\".format(grid_search.best_params_))\n",
    "print(\"Best cross-validation score: {:.4f}\".format(grid_search.best_score_))"
   ]
  },
  {
   "cell_type": "code",
   "execution_count": 70,
   "metadata": {},
   "outputs": [
    {
     "name": "stdout",
     "output_type": "stream",
     "text": [
      "SVM Regressor w/ linear Train Score:  0.7457977189981425\n",
      "SVM Regressor w/ linear Test Score:  0.7333964148794789\n"
     ]
    }
   ],
   "source": [
    "print('SVM Regressor w/ linear Train Score: ',grid_search.score(x_train_pca,y_train))\n",
    "print('SVM Regressor w/ linear Test Score: ',grid_search.score(x_test_pca,y_test))"
   ]
  },
  {
   "cell_type": "code",
   "execution_count": 71,
   "metadata": {},
   "outputs": [],
   "source": [
    "\n",
    "full_table += [['SVM Regressor w/ linear: ',grid_search.best_params_,grid_search.score(x_train_pca,y_train),grid_search.score(x_test_pca,y_test),\n",
    "               r2_score(y_test,grid_search.predict(x_test_pca))]]"
   ]
  },
  {
   "cell_type": "markdown",
   "metadata": {},
   "source": [
    "### Decision Tree Regressor"
   ]
  },
  {
   "cell_type": "code",
   "execution_count": 72,
   "metadata": {},
   "outputs": [],
   "source": [
    "from sklearn.tree import DecisionTreeRegressor"
   ]
  },
  {
   "cell_type": "code",
   "execution_count": 73,
   "metadata": {},
   "outputs": [
    {
     "name": "stdout",
     "output_type": "stream",
     "text": [
      "Best parameters: {'ccp_alpha': 0.0, 'criterion': 'mse', 'max_depth': 6, 'min_samples_leaf': 20, 'min_samples_split': 3}\n",
      "Best cross-validation score: 0.7073\n"
     ]
    }
   ],
   "source": [
    "params ={'criterion':['mse'],\n",
    "    'max_depth':[6,8,10,12,14],\n",
    "    'min_samples_split':[3,4,5,6],\n",
    "    'min_samples_leaf':[10,20,30,40,50],\n",
    "    'ccp_alpha':np.linspace(0.0,1,5) }\n",
    "grid_search = GridSearchCV(DecisionTreeRegressor(random_state=0),params,cv=5)\n",
    "grid_search.fit(x_train_pca,y_train)\n",
    "print(\"Best parameters: {}\".format(grid_search.best_params_))\n",
    "print(\"Best cross-validation score: {:.4f}\".format(grid_search.best_score_))"
   ]
  },
  {
   "cell_type": "code",
   "execution_count": 74,
   "metadata": {},
   "outputs": [
    {
     "name": "stdout",
     "output_type": "stream",
     "text": [
      "Decision Tree Regressor Train Score:  0.7190891537428562\n",
      "Decision Tree Regressor Test Score:  0.718179669206187\n"
     ]
    }
   ],
   "source": [
    "print('Decision Tree Regressor Train Score: ',grid_search.score(x_train,y_train))\n",
    "print('Decision Tree Regressor Test Score: ',grid_search.score(x_test,y_test))"
   ]
  },
  {
   "cell_type": "code",
   "execution_count": 75,
   "metadata": {},
   "outputs": [],
   "source": [
    "\n",
    "full_table += [['Decision Tree Regressor: ',grid_search.best_params_,grid_search.score(x_train_pca,y_train),grid_search.score(x_test_pca,y_test),\n",
    "               r2_score(y_test,grid_search.predict(x_test_pca))]]"
   ]
  },
  {
   "cell_type": "code",
   "execution_count": 76,
   "metadata": {},
   "outputs": [
    {
     "data": {
      "text/html": [
       "<div>\n",
       "<style scoped>\n",
       "    .dataframe tbody tr th:only-of-type {\n",
       "        vertical-align: middle;\n",
       "    }\n",
       "\n",
       "    .dataframe tbody tr th {\n",
       "        vertical-align: top;\n",
       "    }\n",
       "\n",
       "    .dataframe thead th {\n",
       "        text-align: right;\n",
       "    }\n",
       "</style>\n",
       "<table border=\"1\" class=\"dataframe\">\n",
       "  <thead>\n",
       "    <tr style=\"text-align: right;\">\n",
       "      <th></th>\n",
       "      <th>model</th>\n",
       "      <th>Hyperparameters</th>\n",
       "      <th>Train score</th>\n",
       "      <th>Test score</th>\n",
       "      <th>r2_score</th>\n",
       "    </tr>\n",
       "    <tr>\n",
       "      <th>model</th>\n",
       "      <th></th>\n",
       "      <th></th>\n",
       "      <th></th>\n",
       "      <th></th>\n",
       "      <th></th>\n",
       "    </tr>\n",
       "  </thead>\n",
       "  <tbody>\n",
       "    <tr>\n",
       "      <th>KNN Regressor:</th>\n",
       "      <td>KNN Regressor:</td>\n",
       "      <td>{'n_neighbors': 6}</td>\n",
       "      <td>0.514400</td>\n",
       "      <td>0.339160</td>\n",
       "      <td>0.339160</td>\n",
       "    </tr>\n",
       "    <tr>\n",
       "      <th>Linear Regressor:</th>\n",
       "      <td>Linear Regressor:</td>\n",
       "      <td></td>\n",
       "      <td>0.747713</td>\n",
       "      <td>0.738015</td>\n",
       "      <td>0.738015</td>\n",
       "    </tr>\n",
       "    <tr>\n",
       "      <th>Ridge Regressor:</th>\n",
       "      <td>Ridge Regressor:</td>\n",
       "      <td>{'alpha': 15.969696969696969}</td>\n",
       "      <td>0.747885</td>\n",
       "      <td>0.737632</td>\n",
       "      <td>0.737632</td>\n",
       "    </tr>\n",
       "    <tr>\n",
       "      <th>Lasso Regressor:</th>\n",
       "      <td>Lasso Regressor:</td>\n",
       "      <td>{'alpha': 0.1}</td>\n",
       "      <td>0.739266</td>\n",
       "      <td>0.737756</td>\n",
       "      <td>0.737756</td>\n",
       "    </tr>\n",
       "    <tr>\n",
       "      <th>Polynomial Regressor:</th>\n",
       "      <td>Polynomial Regressor:</td>\n",
       "      <td>{'degree': 4}</td>\n",
       "      <td>1.000000</td>\n",
       "      <td>-33.949639</td>\n",
       "      <td>-33.949639</td>\n",
       "    </tr>\n",
       "    <tr>\n",
       "      <th>LinearSVR Regressor:</th>\n",
       "      <td>LinearSVR Regressor:</td>\n",
       "      <td>{'C': 10, 'max_iter': 1000}</td>\n",
       "      <td>0.737709</td>\n",
       "      <td>0.731613</td>\n",
       "      <td>0.731613</td>\n",
       "    </tr>\n",
       "    <tr>\n",
       "      <th>SVM Regressor w/ rbf:</th>\n",
       "      <td>SVM Regressor w/ rbf:</td>\n",
       "      <td>{'C': 10, 'epsilon': 1, 'kernel': 'rbf'}</td>\n",
       "      <td>0.873692</td>\n",
       "      <td>0.709145</td>\n",
       "      <td>0.709145</td>\n",
       "    </tr>\n",
       "    <tr>\n",
       "      <th>SVM Regressor w/ poly:</th>\n",
       "      <td>SVM Regressor w/ poly:</td>\n",
       "      <td>{'C': 10, 'epsilon': 1.5, 'kernel': 'poly'}</td>\n",
       "      <td>0.813620</td>\n",
       "      <td>-0.284948</td>\n",
       "      <td>-0.284948</td>\n",
       "    </tr>\n",
       "    <tr>\n",
       "      <th>SVM Regressor w/ linear:</th>\n",
       "      <td>SVM Regressor w/ linear:</td>\n",
       "      <td>{'C': 15, 'epsilon': 1.5, 'kernel': 'linear'}</td>\n",
       "      <td>0.745798</td>\n",
       "      <td>0.733396</td>\n",
       "      <td>0.733396</td>\n",
       "    </tr>\n",
       "    <tr>\n",
       "      <th>Decision Tree Regressor:</th>\n",
       "      <td>Decision Tree Regressor:</td>\n",
       "      <td>{'ccp_alpha': 0.0, 'criterion': 'mse', 'max_de...</td>\n",
       "      <td>0.811746</td>\n",
       "      <td>0.722659</td>\n",
       "      <td>0.722659</td>\n",
       "    </tr>\n",
       "  </tbody>\n",
       "</table>\n",
       "</div>"
      ],
      "text/plain": [
       "                                               model  \\\n",
       "model                                                  \n",
       "KNN Regressor:                       KNN Regressor:    \n",
       "Linear Regressor:                 Linear Regressor:    \n",
       "Ridge Regressor:                   Ridge Regressor:    \n",
       "Lasso Regressor:                   Lasso Regressor:    \n",
       "Polynomial Regressor:         Polynomial Regressor:    \n",
       "LinearSVR Regressor:           LinearSVR Regressor:    \n",
       "SVM Regressor w/ rbf:         SVM Regressor w/ rbf:    \n",
       "SVM Regressor w/ poly:       SVM Regressor w/ poly:    \n",
       "SVM Regressor w/ linear:   SVM Regressor w/ linear:    \n",
       "Decision Tree Regressor:   Decision Tree Regressor:    \n",
       "\n",
       "                                                             Hyperparameters  \\\n",
       "model                                                                          \n",
       "KNN Regressor:                                            {'n_neighbors': 6}   \n",
       "Linear Regressor:                                                              \n",
       "Ridge Regressor:                               {'alpha': 15.969696969696969}   \n",
       "Lasso Regressor:                                              {'alpha': 0.1}   \n",
       "Polynomial Regressor:                                          {'degree': 4}   \n",
       "LinearSVR Regressor:                             {'C': 10, 'max_iter': 1000}   \n",
       "SVM Regressor w/ rbf:               {'C': 10, 'epsilon': 1, 'kernel': 'rbf'}   \n",
       "SVM Regressor w/ poly:           {'C': 10, 'epsilon': 1.5, 'kernel': 'poly'}   \n",
       "SVM Regressor w/ linear:       {'C': 15, 'epsilon': 1.5, 'kernel': 'linear'}   \n",
       "Decision Tree Regressor:   {'ccp_alpha': 0.0, 'criterion': 'mse', 'max_de...   \n",
       "\n",
       "                           Train score  Test score   r2_score  \n",
       "model                                                          \n",
       "KNN Regressor:                0.514400    0.339160   0.339160  \n",
       "Linear Regressor:             0.747713    0.738015   0.738015  \n",
       "Ridge Regressor:              0.747885    0.737632   0.737632  \n",
       "Lasso Regressor:              0.739266    0.737756   0.737756  \n",
       "Polynomial Regressor:         1.000000  -33.949639 -33.949639  \n",
       "LinearSVR Regressor:          0.737709    0.731613   0.731613  \n",
       "SVM Regressor w/ rbf:         0.873692    0.709145   0.709145  \n",
       "SVM Regressor w/ poly:        0.813620   -0.284948  -0.284948  \n",
       "SVM Regressor w/ linear:      0.745798    0.733396   0.733396  \n",
       "Decision Tree Regressor:      0.811746    0.722659   0.722659  "
      ]
     },
     "execution_count": 76,
     "metadata": {},
     "output_type": "execute_result"
    }
   ],
   "source": [
    "full_table1 = pd.DataFrame(full_table,columns=['model','Hyperparameters','Train score',\n",
    "                                               'Test score','r2_score'])\n",
    "full_table1.index = full_table1['model']\n",
    "full_table1.round(2)\n",
    "full_table1"
   ]
  },
  {
   "cell_type": "code",
   "execution_count": null,
   "metadata": {},
   "outputs": [],
   "source": []
  },
  {
   "cell_type": "markdown",
   "metadata": {
    "scrolled": true
   },
   "source": [
    "### Report Table without PCA"
   ]
  },
  {
   "cell_type": "code",
   "execution_count": null,
   "metadata": {
    "scrolled": true
   },
   "outputs": [],
   "source": []
  },
  {
   "cell_type": "code",
   "execution_count": 135,
   "metadata": {
    "scrolled": false
   },
   "outputs": [
    {
     "data": {
      "text/html": [
       "<div>\n",
       "<style scoped>\n",
       "    .dataframe tbody tr th:only-of-type {\n",
       "        vertical-align: middle;\n",
       "    }\n",
       "\n",
       "    .dataframe tbody tr th {\n",
       "        vertical-align: top;\n",
       "    }\n",
       "\n",
       "    .dataframe thead th {\n",
       "        text-align: right;\n",
       "    }\n",
       "</style>\n",
       "<table border=\"1\" class=\"dataframe\">\n",
       "  <thead>\n",
       "    <tr style=\"text-align: right;\">\n",
       "      <th></th>\n",
       "      <th>model</th>\n",
       "      <th>Hyperparameters</th>\n",
       "      <th>Average train score</th>\n",
       "      <th>Average Test score</th>\n",
       "      <th>r2_score</th>\n",
       "    </tr>\n",
       "    <tr>\n",
       "      <th>model</th>\n",
       "      <th></th>\n",
       "      <th></th>\n",
       "      <th></th>\n",
       "      <th></th>\n",
       "      <th></th>\n",
       "    </tr>\n",
       "  </thead>\n",
       "  <tbody>\n",
       "    <tr>\n",
       "      <th>KNN Regressor:</th>\n",
       "      <td>KNN Regressor:</td>\n",
       "      <td>{'n_neighbors': 5}</td>\n",
       "      <td>0.293856</td>\n",
       "      <td>0.296661</td>\n",
       "      <td>0.335935</td>\n",
       "    </tr>\n",
       "    <tr>\n",
       "      <th>Linear Regressor:</th>\n",
       "      <td>Linear Regressor:</td>\n",
       "      <td></td>\n",
       "      <td>0.296661</td>\n",
       "      <td>0.687955</td>\n",
       "      <td>0.753078</td>\n",
       "    </tr>\n",
       "    <tr>\n",
       "      <th>Ridge Regressor:</th>\n",
       "      <td>Ridge Regressor:</td>\n",
       "      <td>{'alpha': 15.464646464646465}</td>\n",
       "      <td>0.750016</td>\n",
       "      <td>0.699864</td>\n",
       "      <td>0.753646</td>\n",
       "    </tr>\n",
       "    <tr>\n",
       "      <th>Lasso Regressor:</th>\n",
       "      <td>Lasso Regressor:</td>\n",
       "      <td>{'alpha': 0.032}</td>\n",
       "      <td>0.751155</td>\n",
       "      <td>0.728187</td>\n",
       "      <td>0.754941</td>\n",
       "    </tr>\n",
       "    <tr>\n",
       "      <th>Polynomial Regressor:</th>\n",
       "      <td>Polynomial Regressor:</td>\n",
       "      <td>{'degree': 4}</td>\n",
       "      <td>-15.051952</td>\n",
       "      <td>-501.839855</td>\n",
       "      <td>-29.360697</td>\n",
       "    </tr>\n",
       "    <tr>\n",
       "      <th>LinearSVM Regressor:</th>\n",
       "      <td>LinearSVM Regressor:</td>\n",
       "      <td>{'C': 10, 'max_iter': 10000}</td>\n",
       "      <td>0.738619</td>\n",
       "      <td>0.684111</td>\n",
       "      <td>0.748209</td>\n",
       "    </tr>\n",
       "    <tr>\n",
       "      <th>SVM Regressor w/ rbf:</th>\n",
       "      <td>SVM Regressor w/ rbf:</td>\n",
       "      <td>{'C': 10, 'epsilon': 1.5, 'kernel': 'rbf'}</td>\n",
       "      <td>0.703479</td>\n",
       "      <td>0.589645</td>\n",
       "      <td>0.715013</td>\n",
       "    </tr>\n",
       "    <tr>\n",
       "      <th>SVM Regressor w/ poly:</th>\n",
       "      <td>SVM Regressor w/ poly:</td>\n",
       "      <td>{'C': 10, 'epsilon': 1, 'kernel': 'poly'}</td>\n",
       "      <td>0.506432</td>\n",
       "      <td>-8.321422</td>\n",
       "      <td>-3.671765</td>\n",
       "    </tr>\n",
       "    <tr>\n",
       "      <th>SVM Regressor w/ linear:</th>\n",
       "      <td>SVM Regressor w/ linear:</td>\n",
       "      <td>{'C': 15, 'epsilon': 1.5, 'kernel': 'linear'}</td>\n",
       "      <td>0.748085</td>\n",
       "      <td>0.696301</td>\n",
       "      <td>0.752905</td>\n",
       "    </tr>\n",
       "    <tr>\n",
       "      <th>Decision Tree Regressor:</th>\n",
       "      <td>Decision Tree Regressor:</td>\n",
       "      <td>{'ccp_alpha': 0.0, 'criterion': 'mse', 'max_de...</td>\n",
       "      <td>0.747726</td>\n",
       "      <td>0.687723</td>\n",
       "      <td>0.778529</td>\n",
       "    </tr>\n",
       "  </tbody>\n",
       "</table>\n",
       "</div>"
      ],
      "text/plain": [
       "                                               model  \\\n",
       "model                                                  \n",
       "KNN Regressor:                       KNN Regressor:    \n",
       "Linear Regressor:                 Linear Regressor:    \n",
       "Ridge Regressor:                   Ridge Regressor:    \n",
       "Lasso Regressor:                   Lasso Regressor:    \n",
       "Polynomial Regressor:         Polynomial Regressor:    \n",
       "LinearSVM Regressor:           LinearSVM Regressor:    \n",
       "SVM Regressor w/ rbf:         SVM Regressor w/ rbf:    \n",
       "SVM Regressor w/ poly:       SVM Regressor w/ poly:    \n",
       "SVM Regressor w/ linear:   SVM Regressor w/ linear:    \n",
       "Decision Tree Regressor:   Decision Tree Regressor:    \n",
       "\n",
       "                                                             Hyperparameters  \\\n",
       "model                                                                          \n",
       "KNN Regressor:                                            {'n_neighbors': 5}   \n",
       "Linear Regressor:                                                              \n",
       "Ridge Regressor:                               {'alpha': 15.464646464646465}   \n",
       "Lasso Regressor:                                            {'alpha': 0.032}   \n",
       "Polynomial Regressor:                                          {'degree': 4}   \n",
       "LinearSVM Regressor:                            {'C': 10, 'max_iter': 10000}   \n",
       "SVM Regressor w/ rbf:             {'C': 10, 'epsilon': 1.5, 'kernel': 'rbf'}   \n",
       "SVM Regressor w/ poly:             {'C': 10, 'epsilon': 1, 'kernel': 'poly'}   \n",
       "SVM Regressor w/ linear:       {'C': 15, 'epsilon': 1.5, 'kernel': 'linear'}   \n",
       "Decision Tree Regressor:   {'ccp_alpha': 0.0, 'criterion': 'mse', 'max_de...   \n",
       "\n",
       "                           Average train score  Average Test score   r2_score  \n",
       "model                                                                          \n",
       "KNN Regressor:                        0.293856            0.296661   0.335935  \n",
       "Linear Regressor:                     0.296661            0.687955   0.753078  \n",
       "Ridge Regressor:                      0.750016            0.699864   0.753646  \n",
       "Lasso Regressor:                      0.751155            0.728187   0.754941  \n",
       "Polynomial Regressor:               -15.051952         -501.839855 -29.360697  \n",
       "LinearSVM Regressor:                  0.738619            0.684111   0.748209  \n",
       "SVM Regressor w/ rbf:                 0.703479            0.589645   0.715013  \n",
       "SVM Regressor w/ poly:                0.506432           -8.321422  -3.671765  \n",
       "SVM Regressor w/ linear:              0.748085            0.696301   0.752905  \n",
       "Decision Tree Regressor:              0.747726            0.687723   0.778529  "
      ]
     },
     "execution_count": 135,
     "metadata": {},
     "output_type": "execute_result"
    }
   ],
   "source": []
  },
  {
   "cell_type": "code",
   "execution_count": null,
   "metadata": {
    "scrolled": true
   },
   "outputs": [],
   "source": []
  },
  {
   "cell_type": "markdown",
   "metadata": {
    "scrolled": false
   },
   "source": [
    "#### The above two tables show the comparision between all supervised models Run with PCA and without PCA. As we can see the Train scores\n",
    "\n",
    "#### and r2 scores have dropped for all models. Ridge and Lasso were the best performers in project 1. After PCA the scores for ridge\n",
    "\n",
    "#### and lasso are still close to theyre previous scores showing that they are pretty robust models."
   ]
  },
  {
   "cell_type": "code",
   "execution_count": null,
   "metadata": {
    "scrolled": true
   },
   "outputs": [],
   "source": []
  },
  {
   "cell_type": "markdown",
   "metadata": {
    "scrolled": false
   },
   "source": [
    "## 5.Apply deep learning models (MLP) covered in class."
   ]
  },
  {
   "cell_type": "code",
   "execution_count": 77,
   "metadata": {},
   "outputs": [],
   "source": [
    "from keras.models import Sequential\n",
    "from keras.layers import Dense\n",
    "import tensorflow as tf\n",
    "#from keras.wrappers.scikit_learn import KerasRegressor\n",
    "from scikeras.wrappers import KerasClassifier, KerasRegressor\n",
    "import pandas as pd\n",
    "import numpy as np\n",
    "from sklearn.model_selection import GridSearchCV\n",
    "from sklearn.metrics import r2_score"
   ]
  },
  {
   "cell_type": "code",
   "execution_count": 78,
   "metadata": {},
   "outputs": [],
   "source": [
    "from keras.models import Sequential\n",
    "from keras.layers import Dense"
   ]
  },
  {
   "cell_type": "markdown",
   "metadata": {},
   "source": [
    "#### Build a Model"
   ]
  },
  {
   "cell_type": "code",
   "execution_count": 79,
   "metadata": {},
   "outputs": [],
   "source": [
    "# step 1: build the model\n",
    "def build_model():\n",
    "    model = Sequential()\n",
    "    model.add(Dense(16, input_dim = x_train.shape[1], activation='sigmoid', kernel_initializer = 'zero', name = 'input_layer'))\n",
    "    model.add(Dense(8, activation='relu', name = 'hidden_layer'))\n",
    "    model.add(Dense(1, name = 'output_layer'))\n",
    "    model.compile(loss = 'mse',optimizer = 'adam', metrics = ['mse','mae'])\n",
    "    return model\n",
    "\n",
    "\n",
    "#model.summary()\n",
    "\n",
    "# Compile\n",
    "#model.compile(loss = 'mse',optimizer = 'adam', metrics = ['mse','mae'])"
   ]
  },
  {
   "cell_type": "code",
   "execution_count": 80,
   "metadata": {
    "scrolled": true
   },
   "outputs": [],
   "source": [
    "model = KerasRegressor(build_fn = build_model, verbose = 0,random_state=0)"
   ]
  },
  {
   "cell_type": "code",
   "execution_count": 81,
   "metadata": {},
   "outputs": [],
   "source": [
    "import warnings\n",
    "warnings.filterwarnings('ignore')"
   ]
  },
  {
   "cell_type": "code",
   "execution_count": 82,
   "metadata": {},
   "outputs": [
    {
     "name": "stdout",
     "output_type": "stream",
     "text": [
      "Best parameters: {'batch_size': 10, 'epochs': 100}\n"
     ]
    }
   ],
   "source": [
    "param_grid = {'batch_size':[10,50,100,150] , 'epochs':[10, 50, 100]}\n",
    "grid_searchdpl = GridSearchCV(estimator= model, param_grid = param_grid, cv = 5, n_jobs=-1)\n",
    "grid_searchdpl.fit(x_train,y_train)\n",
    "print(\"Best parameters: {}\".format(grid_searchdpl.best_params_))\n",
    "#print(\"Best cross-validation score: {:.4f}\".format(grid_searchdpl.best_score_))"
   ]
  },
  {
   "cell_type": "code",
   "execution_count": 83,
   "metadata": {},
   "outputs": [],
   "source": [
    "tf.random.set_seed(0)"
   ]
  },
  {
   "cell_type": "markdown",
   "metadata": {},
   "source": [
    "#### Step 3: Model training"
   ]
  },
  {
   "cell_type": "code",
   "execution_count": 84,
   "metadata": {},
   "outputs": [
    {
     "name": "stdout",
     "output_type": "stream",
     "text": [
      "Epoch 1/100\n",
      "176/176 [==============================] - 0s 713us/step - loss: 150.1618 - mse: 150.1618 - mae: 11.5093\n",
      "Epoch 2/100\n",
      "176/176 [==============================] - 0s 581us/step - loss: 48.3407 - mse: 48.3407 - mae: 5.7568\n",
      "Epoch 3/100\n",
      "176/176 [==============================] - 0s 563us/step - loss: 7.5732 - mse: 7.5732 - mae: 2.1416\n",
      "Epoch 4/100\n",
      "176/176 [==============================] - 0s 601us/step - loss: 5.2347 - mse: 5.2347 - mae: 1.8032\n",
      "Epoch 5/100\n",
      "176/176 [==============================] - 0s 574us/step - loss: 4.6256 - mse: 4.6256 - mae: 1.6827\n",
      "Epoch 6/100\n",
      "176/176 [==============================] - 0s 617us/step - loss: 4.3684 - mse: 4.3684 - mae: 1.6290\n",
      "Epoch 7/100\n",
      "176/176 [==============================] - 0s 848us/step - loss: 4.2502 - mse: 4.2502 - mae: 1.5961\n",
      "Epoch 8/100\n",
      "176/176 [==============================] - 0s 679us/step - loss: 4.2013 - mse: 4.2013 - mae: 1.5847\n",
      "Epoch 9/100\n",
      "176/176 [==============================] - 0s 689us/step - loss: 4.1788 - mse: 4.1788 - mae: 1.5815\n",
      "Epoch 10/100\n",
      "176/176 [==============================] - 0s 735us/step - loss: 4.1494 - mse: 4.1494 - mae: 1.5755\n",
      "Epoch 11/100\n",
      "176/176 [==============================] - 0s 837us/step - loss: 4.1426 - mse: 4.1426 - mae: 1.5743\n",
      "Epoch 12/100\n",
      "176/176 [==============================] - 0s 842us/step - loss: 4.1316 - mse: 4.1316 - mae: 1.5713\n",
      "Epoch 13/100\n",
      "176/176 [==============================] - 0s 831us/step - loss: 4.1322 - mse: 4.1322 - mae: 1.5712\n",
      "Epoch 14/100\n",
      "176/176 [==============================] - 0s 662us/step - loss: 4.0832 - mse: 4.0832 - mae: 1.5596\n",
      "Epoch 15/100\n",
      "176/176 [==============================] - 0s 688us/step - loss: 4.0712 - mse: 4.0712 - mae: 1.5563\n",
      "Epoch 16/100\n",
      "176/176 [==============================] - 0s 665us/step - loss: 4.0537 - mse: 4.0537 - mae: 1.5563\n",
      "Epoch 17/100\n",
      "176/176 [==============================] - 0s 839us/step - loss: 4.0380 - mse: 4.0380 - mae: 1.5564\n",
      "Epoch 18/100\n",
      "176/176 [==============================] - 0s 787us/step - loss: 4.0333 - mse: 4.0333 - mae: 1.5504\n",
      "Epoch 19/100\n",
      "176/176 [==============================] - 0s 841us/step - loss: 3.9987 - mse: 3.9987 - mae: 1.5384\n",
      "Epoch 20/100\n",
      "176/176 [==============================] - 0s 841us/step - loss: 3.9669 - mse: 3.9669 - mae: 1.5353\n",
      "Epoch 21/100\n",
      "176/176 [==============================] - 0s 743us/step - loss: 3.9541 - mse: 3.9541 - mae: 1.5316\n",
      "Epoch 22/100\n",
      "176/176 [==============================] - 0s 742us/step - loss: 3.9023 - mse: 3.9023 - mae: 1.5194\n",
      "Epoch 23/100\n",
      "176/176 [==============================] - 0s 682us/step - loss: 3.8809 - mse: 3.8809 - mae: 1.5193\n",
      "Epoch 24/100\n",
      "176/176 [==============================] - 0s 620us/step - loss: 3.8506 - mse: 3.8506 - mae: 1.5064\n",
      "Epoch 25/100\n",
      "176/176 [==============================] - 0s 699us/step - loss: 3.8181 - mse: 3.8181 - mae: 1.5044\n",
      "Epoch 26/100\n",
      "176/176 [==============================] - 0s 760us/step - loss: 3.7719 - mse: 3.7719 - mae: 1.4850\n",
      "Epoch 27/100\n",
      "176/176 [==============================] - 0s 708us/step - loss: 3.7473 - mse: 3.7473 - mae: 1.4836\n",
      "Epoch 28/100\n",
      "176/176 [==============================] - 0s 665us/step - loss: 3.7176 - mse: 3.7176 - mae: 1.4759\n",
      "Epoch 29/100\n",
      "176/176 [==============================] - 0s 715us/step - loss: 3.6843 - mse: 3.6843 - mae: 1.4659\n",
      "Epoch 30/100\n",
      "176/176 [==============================] - 0s 644us/step - loss: 3.6513 - mse: 3.6513 - mae: 1.4614\n",
      "Epoch 31/100\n",
      "176/176 [==============================] - 0s 603us/step - loss: 3.6332 - mse: 3.6332 - mae: 1.4561\n",
      "Epoch 32/100\n",
      "176/176 [==============================] - 0s 611us/step - loss: 3.6068 - mse: 3.6068 - mae: 1.4516\n",
      "Epoch 33/100\n",
      "176/176 [==============================] - 0s 656us/step - loss: 3.5608 - mse: 3.5608 - mae: 1.4428\n",
      "Epoch 34/100\n",
      "176/176 [==============================] - 0s 616us/step - loss: 3.5399 - mse: 3.5399 - mae: 1.4340\n",
      "Epoch 35/100\n",
      "176/176 [==============================] - 0s 660us/step - loss: 3.5154 - mse: 3.5154 - mae: 1.4277\n",
      "Epoch 36/100\n",
      "176/176 [==============================] - 0s 634us/step - loss: 3.4913 - mse: 3.4913 - mae: 1.4205\n",
      "Epoch 37/100\n",
      "176/176 [==============================] - 0s 648us/step - loss: 3.4540 - mse: 3.4540 - mae: 1.4182\n",
      "Epoch 38/100\n",
      "176/176 [==============================] - 0s 644us/step - loss: 3.4445 - mse: 3.4445 - mae: 1.4104\n",
      "Epoch 39/100\n",
      "176/176 [==============================] - 0s 624us/step - loss: 3.4191 - mse: 3.4191 - mae: 1.4054\n",
      "Epoch 40/100\n",
      "176/176 [==============================] - 0s 643us/step - loss: 3.3978 - mse: 3.3978 - mae: 1.4019\n",
      "Epoch 41/100\n",
      "176/176 [==============================] - 0s 627us/step - loss: 3.3779 - mse: 3.3779 - mae: 1.3913\n",
      "Epoch 42/100\n",
      "176/176 [==============================] - 0s 634us/step - loss: 3.3576 - mse: 3.3576 - mae: 1.3850\n",
      "Epoch 43/100\n",
      "176/176 [==============================] - 0s 610us/step - loss: 3.3508 - mse: 3.3508 - mae: 1.3886\n",
      "Epoch 44/100\n",
      "176/176 [==============================] - 0s 645us/step - loss: 3.3177 - mse: 3.3177 - mae: 1.3764\n",
      "Epoch 45/100\n",
      "176/176 [==============================] - 0s 621us/step - loss: 3.3060 - mse: 3.3060 - mae: 1.3753\n",
      "Epoch 46/100\n",
      "176/176 [==============================] - 0s 618us/step - loss: 3.2986 - mse: 3.2986 - mae: 1.3746\n",
      "Epoch 47/100\n",
      "176/176 [==============================] - 0s 587us/step - loss: 3.2857 - mse: 3.2857 - mae: 1.3657\n",
      "Epoch 48/100\n",
      "176/176 [==============================] - 0s 613us/step - loss: 3.2597 - mse: 3.2597 - mae: 1.3595\n",
      "Epoch 49/100\n",
      "176/176 [==============================] - 0s 613us/step - loss: 3.2536 - mse: 3.2536 - mae: 1.3598\n",
      "Epoch 50/100\n",
      "176/176 [==============================] - 0s 599us/step - loss: 3.2360 - mse: 3.2360 - mae: 1.3568\n",
      "Epoch 51/100\n",
      "176/176 [==============================] - 0s 610us/step - loss: 3.2329 - mse: 3.2329 - mae: 1.3602\n",
      "Epoch 52/100\n",
      "176/176 [==============================] - 0s 609us/step - loss: 3.2104 - mse: 3.2104 - mae: 1.3541\n",
      "Epoch 53/100\n",
      "176/176 [==============================] - 0s 586us/step - loss: 3.2015 - mse: 3.2015 - mae: 1.3495\n",
      "Epoch 54/100\n",
      "176/176 [==============================] - 0s 633us/step - loss: 3.1880 - mse: 3.1880 - mae: 1.3460\n",
      "Epoch 55/100\n",
      "176/176 [==============================] - 0s 592us/step - loss: 3.1638 - mse: 3.1638 - mae: 1.3410\n",
      "Epoch 56/100\n",
      "176/176 [==============================] - 0s 590us/step - loss: 3.1737 - mse: 3.1737 - mae: 1.3499\n",
      "Epoch 57/100\n",
      "176/176 [==============================] - 0s 618us/step - loss: 3.1465 - mse: 3.1465 - mae: 1.3327\n",
      "Epoch 58/100\n",
      "176/176 [==============================] - 0s 615us/step - loss: 3.1307 - mse: 3.1307 - mae: 1.3289\n",
      "Epoch 59/100\n",
      "176/176 [==============================] - 0s 583us/step - loss: 3.1233 - mse: 3.1233 - mae: 1.3279\n",
      "Epoch 60/100\n",
      "176/176 [==============================] - 0s 600us/step - loss: 3.1171 - mse: 3.1171 - mae: 1.3304\n",
      "Epoch 61/100\n",
      "176/176 [==============================] - 0s 583us/step - loss: 3.0893 - mse: 3.0893 - mae: 1.3228\n",
      "Epoch 62/100\n",
      "176/176 [==============================] - 0s 597us/step - loss: 3.0984 - mse: 3.0984 - mae: 1.3210\n",
      "Epoch 63/100\n",
      "176/176 [==============================] - 0s 583us/step - loss: 3.0745 - mse: 3.0745 - mae: 1.3173\n",
      "Epoch 64/100\n",
      "176/176 [==============================] - 0s 621us/step - loss: 3.0678 - mse: 3.0678 - mae: 1.3177\n",
      "Epoch 65/100\n",
      "176/176 [==============================] - 0s 556us/step - loss: 3.0410 - mse: 3.0410 - mae: 1.3047\n",
      "Epoch 66/100\n",
      "176/176 [==============================] - 0s 556us/step - loss: 3.0243 - mse: 3.0243 - mae: 1.3059\n",
      "Epoch 67/100\n",
      "176/176 [==============================] - 0s 572us/step - loss: 3.0137 - mse: 3.0137 - mae: 1.3070\n",
      "Epoch 68/100\n",
      "176/176 [==============================] - 0s 566us/step - loss: 2.9997 - mse: 2.9997 - mae: 1.2980\n",
      "Epoch 69/100\n",
      "176/176 [==============================] - 0s 583us/step - loss: 2.9795 - mse: 2.9795 - mae: 1.3003\n",
      "Epoch 70/100\n",
      "176/176 [==============================] - 0s 558us/step - loss: 2.9757 - mse: 2.9757 - mae: 1.3018\n",
      "Epoch 71/100\n",
      "176/176 [==============================] - 0s 586us/step - loss: 2.9640 - mse: 2.9640 - mae: 1.2944\n",
      "Epoch 72/100\n",
      "176/176 [==============================] - 0s 603us/step - loss: 2.9403 - mse: 2.9403 - mae: 1.2891\n",
      "Epoch 73/100\n"
     ]
    },
    {
     "name": "stdout",
     "output_type": "stream",
     "text": [
      "176/176 [==============================] - 0s 665us/step - loss: 2.9312 - mse: 2.9312 - mae: 1.2882\n",
      "Epoch 74/100\n",
      "176/176 [==============================] - 0s 806us/step - loss: 2.9052 - mse: 2.9052 - mae: 1.2806\n",
      "Epoch 75/100\n",
      "176/176 [==============================] - 0s 659us/step - loss: 2.8973 - mse: 2.8973 - mae: 1.2762\n",
      "Epoch 76/100\n",
      "176/176 [==============================] - 0s 600us/step - loss: 2.8975 - mse: 2.8975 - mae: 1.2817\n",
      "Epoch 77/100\n",
      "176/176 [==============================] - 0s 716us/step - loss: 2.8678 - mse: 2.8678 - mae: 1.2725\n",
      "Epoch 78/100\n",
      "176/176 [==============================] - 0s 803us/step - loss: 2.8578 - mse: 2.8578 - mae: 1.2735\n",
      "Epoch 79/100\n",
      "176/176 [==============================] - 0s 614us/step - loss: 2.8398 - mse: 2.8398 - mae: 1.2681\n",
      "Epoch 80/100\n",
      "176/176 [==============================] - 0s 634us/step - loss: 2.8204 - mse: 2.8204 - mae: 1.2604\n",
      "Epoch 81/100\n",
      "176/176 [==============================] - 0s 609us/step - loss: 2.8140 - mse: 2.8140 - mae: 1.2629\n",
      "Epoch 82/100\n",
      "176/176 [==============================] - 0s 625us/step - loss: 2.7998 - mse: 2.7998 - mae: 1.2596\n",
      "Epoch 83/100\n",
      "176/176 [==============================] - 0s 615us/step - loss: 2.7772 - mse: 2.7772 - mae: 1.2548\n",
      "Epoch 84/100\n",
      "176/176 [==============================] - 0s 589us/step - loss: 2.7608 - mse: 2.7608 - mae: 1.2490\n",
      "Epoch 85/100\n",
      "176/176 [==============================] - 0s 649us/step - loss: 2.7493 - mse: 2.7493 - mae: 1.2472\n",
      "Epoch 86/100\n",
      "176/176 [==============================] - 0s 597us/step - loss: 2.7296 - mse: 2.7296 - mae: 1.2411\n",
      "Epoch 87/100\n",
      "176/176 [==============================] - 0s 611us/step - loss: 2.7103 - mse: 2.7103 - mae: 1.2392\n",
      "Epoch 88/100\n",
      "176/176 [==============================] - 0s 623us/step - loss: 2.7102 - mse: 2.7102 - mae: 1.2392\n",
      "Epoch 89/100\n",
      "176/176 [==============================] - 0s 596us/step - loss: 2.6836 - mse: 2.6836 - mae: 1.2283\n",
      "Epoch 90/100\n",
      "176/176 [==============================] - 0s 605us/step - loss: 2.6748 - mse: 2.6748 - mae: 1.2372\n",
      "Epoch 91/100\n",
      "176/176 [==============================] - 0s 582us/step - loss: 2.6515 - mse: 2.6515 - mae: 1.2241\n",
      "Epoch 92/100\n",
      "176/176 [==============================] - 0s 675us/step - loss: 2.6419 - mse: 2.6419 - mae: 1.2230\n",
      "Epoch 93/100\n",
      "176/176 [==============================] - 0s 555us/step - loss: 2.6319 - mse: 2.6319 - mae: 1.2192\n",
      "Epoch 94/100\n",
      "176/176 [==============================] - 0s 650us/step - loss: 2.6168 - mse: 2.6168 - mae: 1.2197\n",
      "Epoch 95/100\n",
      "176/176 [==============================] - 0s 592us/step - loss: 2.5948 - mse: 2.5948 - mae: 1.2111\n",
      "Epoch 96/100\n",
      "176/176 [==============================] - 0s 621us/step - loss: 2.5909 - mse: 2.5909 - mae: 1.2155\n",
      "Epoch 97/100\n",
      "176/176 [==============================] - 0s 606us/step - loss: 2.5777 - mse: 2.5777 - mae: 1.2116\n",
      "Epoch 98/100\n",
      "176/176 [==============================] - 0s 654us/step - loss: 2.5580 - mse: 2.5580 - mae: 1.2070\n",
      "Epoch 99/100\n",
      "176/176 [==============================] - 0s 627us/step - loss: 2.5558 - mse: 2.5558 - mae: 1.2011\n",
      "Epoch 100/100\n",
      "176/176 [==============================] - 0s 631us/step - loss: 2.5329 - mse: 2.5329 - mae: 1.2015\n",
      "Model: \"sequential_1\"\n",
      "_________________________________________________________________\n",
      " Layer (type)                Output Shape              Param #   \n",
      "=================================================================\n",
      " input_layer (Dense)         (None, 16)                752       \n",
      "                                                                 \n",
      " hidden_layer (Dense)        (None, 8)                 136       \n",
      "                                                                 \n",
      " output_layer (Dense)        (None, 1)                 9         \n",
      "                                                                 \n",
      "=================================================================\n",
      "Total params: 897\n",
      "Trainable params: 897\n",
      "Non-trainable params: 0\n",
      "_________________________________________________________________\n"
     ]
    }
   ],
   "source": [
    "model = build_model()\n",
    "model.fit(x_train, y_train, batch_size=grid_searchdpl.best_params_['batch_size'], epochs=grid_searchdpl.best_params_['epochs'])\n",
    "model.summary()"
   ]
  },
  {
   "cell_type": "markdown",
   "metadata": {},
   "source": [
    "#### Step 4: Model evaluation"
   ]
  },
  {
   "cell_type": "code",
   "execution_count": 85,
   "metadata": {},
   "outputs": [
    {
     "name": "stdout",
     "output_type": "stream",
     "text": [
      "55/55 [==============================] - 0s 739us/step - loss: 2.4384 - mse: 2.4384 - mae: 1.1720\n",
      "14/14 [==============================] - 0s 1ms/step - loss: 3.4105 - mse: 3.4105 - mae: 1.4113\n",
      "Train MSE 2.4384396076202393\n",
      "Train MAE 1.1720160245895386\n",
      "Test MSE 3.4105091094970703\n",
      "Test MAE 1.4112906455993652\n"
     ]
    }
   ],
   "source": [
    "# Step 4: Model evaluation\n",
    "\n",
    "train_loss_and_metrics = model.evaluate(x_train, y_train)\n",
    "test_loss_and_metrics = model.evaluate(x_test, y_test)\n",
    "\n",
    "print(\"Train MSE\", train_loss_and_metrics[0])\n",
    "print(\"Train MAE\", train_loss_and_metrics[2])\n",
    "\n",
    "print(\"Test MSE\", test_loss_and_metrics[0])\n",
    "print(\"Test MAE\", test_loss_and_metrics[2])"
   ]
  },
  {
   "cell_type": "code",
   "execution_count": 86,
   "metadata": {},
   "outputs": [
    {
     "data": {
      "text/plain": [
       "0.806917474248434"
      ]
     },
     "execution_count": 86,
     "metadata": {},
     "output_type": "execute_result"
    }
   ],
   "source": [
    "y_pred = model.predict(x_test)\n",
    "r2_score(y_test,y_pred)"
   ]
  },
  {
   "cell_type": "markdown",
   "metadata": {},
   "source": [
    "### Comparing Neural Network scores with the best satistical model : Lasso Regression"
   ]
  },
  {
   "cell_type": "code",
   "execution_count": 87,
   "metadata": {},
   "outputs": [],
   "source": [
    "from sklearn.metrics import mean_absolute_error , mean_squared_error"
   ]
  },
  {
   "cell_type": "code",
   "execution_count": 88,
   "metadata": {},
   "outputs": [
    {
     "name": "stdout",
     "output_type": "stream",
     "text": [
      "\n",
      " Mean Squared Error: 4.328015055119251 \n",
      " R2 Score: 0.7549737705368076\n",
      " Mean Absolute Error: 1.6483784244693234\n"
     ]
    }
   ],
   "source": [
    "pred= grid_search_lasso.predict(x_test)\n",
    "print(f'\\n Mean Squared Error: {mean_squared_error(y_test, pred)} \\n R2 Score: {r2_score(y_test,pred)}\\n Mean Absolute Error: {mean_absolute_error(y_test,pred)}')\n"
   ]
  },
  {
   "cell_type": "markdown",
   "metadata": {},
   "source": [
    "#### The above results show us that the Artificial nerual network is working better or as good as our best statistical model Lasso Regressor.\n",
    "#### with the MSE and MAE scores very close to each other."
   ]
  },
  {
   "cell_type": "code",
   "execution_count": null,
   "metadata": {},
   "outputs": [],
   "source": []
  }
 ],
 "metadata": {
  "kernelspec": {
   "display_name": "Python 3",
   "language": "python",
   "name": "python3"
  },
  "language_info": {
   "codemirror_mode": {
    "name": "ipython",
    "version": 3
   },
   "file_extension": ".py",
   "mimetype": "text/x-python",
   "name": "python",
   "nbconvert_exporter": "python",
   "pygments_lexer": "ipython3",
   "version": "3.8.5"
  }
 },
 "nbformat": 4,
 "nbformat_minor": 4
}
