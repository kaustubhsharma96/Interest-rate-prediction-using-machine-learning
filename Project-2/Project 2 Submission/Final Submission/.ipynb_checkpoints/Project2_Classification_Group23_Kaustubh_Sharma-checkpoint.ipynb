{
 "cells": [
  {
   "cell_type": "markdown",
   "metadata": {},
   "source": [
    "# BUAN 6341: AI/ML Project 2\n",
    "\n",
    "### Group 23 : Kaustubh Sharma, Tejas Kulkarni\n",
    "\n",
    "## Classification Task\n",
    "\n",
    "### Predicting customer churn using telecom customer data\n",
    "\n",
    "#### Number of rows : 7042 , columns:16\n"
   ]
  },
  {
   "cell_type": "code",
   "execution_count": 1,
   "metadata": {},
   "outputs": [],
   "source": [
    "import pandas as pd\n",
    "import numpy as np\n",
    "import matplotlib.pyplot as plt\n",
    "import seaborn as sns\n",
    "import warnings\n",
    "warnings.filterwarnings('ignore')"
   ]
  },
  {
   "cell_type": "code",
   "execution_count": 2,
   "metadata": {},
   "outputs": [],
   "source": [
    "from sklearn.metrics import recall_score,f1_score"
   ]
  },
  {
   "cell_type": "code",
   "execution_count": 3,
   "metadata": {},
   "outputs": [],
   "source": [
    "temp=pd.read_csv('project_2.csv')"
   ]
  },
  {
   "cell_type": "code",
   "execution_count": 4,
   "metadata": {},
   "outputs": [
    {
     "data": {
      "text/html": [
       "<div>\n",
       "<style scoped>\n",
       "    .dataframe tbody tr th:only-of-type {\n",
       "        vertical-align: middle;\n",
       "    }\n",
       "\n",
       "    .dataframe tbody tr th {\n",
       "        vertical-align: top;\n",
       "    }\n",
       "\n",
       "    .dataframe thead th {\n",
       "        text-align: right;\n",
       "    }\n",
       "</style>\n",
       "<table border=\"1\" class=\"dataframe\">\n",
       "  <thead>\n",
       "    <tr style=\"text-align: right;\">\n",
       "      <th></th>\n",
       "      <th>tenure</th>\n",
       "      <th>MonthlyCharges</th>\n",
       "      <th>TotalCharges</th>\n",
       "      <th>Churn</th>\n",
       "      <th>OnlineBackup_No</th>\n",
       "      <th>OnlineBackup_Yes</th>\n",
       "      <th>MultipleLines_No</th>\n",
       "      <th>MultipleLines_No phone service</th>\n",
       "      <th>MultipleLines_Yes</th>\n",
       "      <th>InternetService_DSL</th>\n",
       "      <th>...</th>\n",
       "      <th>DeviceProtection_No</th>\n",
       "      <th>DeviceProtection_Yes</th>\n",
       "      <th>TechSupport_No</th>\n",
       "      <th>TechSupport_Yes</th>\n",
       "      <th>StreamingMovies_No</th>\n",
       "      <th>StreamingMovies_Yes</th>\n",
       "      <th>PhoneService_No</th>\n",
       "      <th>PhoneService_Yes</th>\n",
       "      <th>gender_Female</th>\n",
       "      <th>gender_Male</th>\n",
       "    </tr>\n",
       "  </thead>\n",
       "  <tbody>\n",
       "    <tr>\n",
       "      <th>0</th>\n",
       "      <td>1.0</td>\n",
       "      <td>29.85</td>\n",
       "      <td>29.85</td>\n",
       "      <td>0</td>\n",
       "      <td>0</td>\n",
       "      <td>1</td>\n",
       "      <td>0</td>\n",
       "      <td>1</td>\n",
       "      <td>0</td>\n",
       "      <td>1</td>\n",
       "      <td>...</td>\n",
       "      <td>1</td>\n",
       "      <td>0</td>\n",
       "      <td>1</td>\n",
       "      <td>0</td>\n",
       "      <td>1</td>\n",
       "      <td>0</td>\n",
       "      <td>1</td>\n",
       "      <td>0</td>\n",
       "      <td>1</td>\n",
       "      <td>0</td>\n",
       "    </tr>\n",
       "    <tr>\n",
       "      <th>1</th>\n",
       "      <td>34.0</td>\n",
       "      <td>56.95</td>\n",
       "      <td>1889.50</td>\n",
       "      <td>0</td>\n",
       "      <td>1</td>\n",
       "      <td>0</td>\n",
       "      <td>1</td>\n",
       "      <td>0</td>\n",
       "      <td>0</td>\n",
       "      <td>1</td>\n",
       "      <td>...</td>\n",
       "      <td>0</td>\n",
       "      <td>1</td>\n",
       "      <td>1</td>\n",
       "      <td>0</td>\n",
       "      <td>1</td>\n",
       "      <td>0</td>\n",
       "      <td>0</td>\n",
       "      <td>1</td>\n",
       "      <td>0</td>\n",
       "      <td>1</td>\n",
       "    </tr>\n",
       "    <tr>\n",
       "      <th>2</th>\n",
       "      <td>2.0</td>\n",
       "      <td>53.85</td>\n",
       "      <td>108.15</td>\n",
       "      <td>1</td>\n",
       "      <td>0</td>\n",
       "      <td>1</td>\n",
       "      <td>1</td>\n",
       "      <td>0</td>\n",
       "      <td>0</td>\n",
       "      <td>1</td>\n",
       "      <td>...</td>\n",
       "      <td>1</td>\n",
       "      <td>0</td>\n",
       "      <td>1</td>\n",
       "      <td>0</td>\n",
       "      <td>1</td>\n",
       "      <td>0</td>\n",
       "      <td>0</td>\n",
       "      <td>1</td>\n",
       "      <td>0</td>\n",
       "      <td>1</td>\n",
       "    </tr>\n",
       "    <tr>\n",
       "      <th>3</th>\n",
       "      <td>45.0</td>\n",
       "      <td>42.30</td>\n",
       "      <td>1840.75</td>\n",
       "      <td>0</td>\n",
       "      <td>1</td>\n",
       "      <td>0</td>\n",
       "      <td>0</td>\n",
       "      <td>1</td>\n",
       "      <td>0</td>\n",
       "      <td>1</td>\n",
       "      <td>...</td>\n",
       "      <td>0</td>\n",
       "      <td>1</td>\n",
       "      <td>0</td>\n",
       "      <td>1</td>\n",
       "      <td>1</td>\n",
       "      <td>0</td>\n",
       "      <td>1</td>\n",
       "      <td>0</td>\n",
       "      <td>0</td>\n",
       "      <td>1</td>\n",
       "    </tr>\n",
       "    <tr>\n",
       "      <th>4</th>\n",
       "      <td>2.0</td>\n",
       "      <td>70.70</td>\n",
       "      <td>151.65</td>\n",
       "      <td>1</td>\n",
       "      <td>1</td>\n",
       "      <td>0</td>\n",
       "      <td>1</td>\n",
       "      <td>0</td>\n",
       "      <td>0</td>\n",
       "      <td>0</td>\n",
       "      <td>...</td>\n",
       "      <td>1</td>\n",
       "      <td>0</td>\n",
       "      <td>1</td>\n",
       "      <td>0</td>\n",
       "      <td>1</td>\n",
       "      <td>0</td>\n",
       "      <td>0</td>\n",
       "      <td>1</td>\n",
       "      <td>1</td>\n",
       "      <td>0</td>\n",
       "    </tr>\n",
       "    <tr>\n",
       "      <th>...</th>\n",
       "      <td>...</td>\n",
       "      <td>...</td>\n",
       "      <td>...</td>\n",
       "      <td>...</td>\n",
       "      <td>...</td>\n",
       "      <td>...</td>\n",
       "      <td>...</td>\n",
       "      <td>...</td>\n",
       "      <td>...</td>\n",
       "      <td>...</td>\n",
       "      <td>...</td>\n",
       "      <td>...</td>\n",
       "      <td>...</td>\n",
       "      <td>...</td>\n",
       "      <td>...</td>\n",
       "      <td>...</td>\n",
       "      <td>...</td>\n",
       "      <td>...</td>\n",
       "      <td>...</td>\n",
       "      <td>...</td>\n",
       "      <td>...</td>\n",
       "    </tr>\n",
       "    <tr>\n",
       "      <th>4864</th>\n",
       "      <td>12.0</td>\n",
       "      <td>60.65</td>\n",
       "      <td>743.30</td>\n",
       "      <td>0</td>\n",
       "      <td>0</td>\n",
       "      <td>1</td>\n",
       "      <td>0</td>\n",
       "      <td>1</td>\n",
       "      <td>0</td>\n",
       "      <td>1</td>\n",
       "      <td>...</td>\n",
       "      <td>0</td>\n",
       "      <td>1</td>\n",
       "      <td>0</td>\n",
       "      <td>1</td>\n",
       "      <td>0</td>\n",
       "      <td>1</td>\n",
       "      <td>1</td>\n",
       "      <td>0</td>\n",
       "      <td>1</td>\n",
       "      <td>0</td>\n",
       "    </tr>\n",
       "    <tr>\n",
       "      <th>4865</th>\n",
       "      <td>24.0</td>\n",
       "      <td>84.80</td>\n",
       "      <td>1990.50</td>\n",
       "      <td>0</td>\n",
       "      <td>1</td>\n",
       "      <td>0</td>\n",
       "      <td>0</td>\n",
       "      <td>0</td>\n",
       "      <td>1</td>\n",
       "      <td>1</td>\n",
       "      <td>...</td>\n",
       "      <td>0</td>\n",
       "      <td>1</td>\n",
       "      <td>0</td>\n",
       "      <td>1</td>\n",
       "      <td>0</td>\n",
       "      <td>1</td>\n",
       "      <td>0</td>\n",
       "      <td>1</td>\n",
       "      <td>0</td>\n",
       "      <td>1</td>\n",
       "    </tr>\n",
       "    <tr>\n",
       "      <th>4866</th>\n",
       "      <td>72.0</td>\n",
       "      <td>103.20</td>\n",
       "      <td>7362.90</td>\n",
       "      <td>0</td>\n",
       "      <td>0</td>\n",
       "      <td>1</td>\n",
       "      <td>0</td>\n",
       "      <td>0</td>\n",
       "      <td>1</td>\n",
       "      <td>0</td>\n",
       "      <td>...</td>\n",
       "      <td>0</td>\n",
       "      <td>1</td>\n",
       "      <td>1</td>\n",
       "      <td>0</td>\n",
       "      <td>0</td>\n",
       "      <td>1</td>\n",
       "      <td>0</td>\n",
       "      <td>1</td>\n",
       "      <td>1</td>\n",
       "      <td>0</td>\n",
       "    </tr>\n",
       "    <tr>\n",
       "      <th>4867</th>\n",
       "      <td>11.0</td>\n",
       "      <td>29.60</td>\n",
       "      <td>346.45</td>\n",
       "      <td>0</td>\n",
       "      <td>1</td>\n",
       "      <td>0</td>\n",
       "      <td>0</td>\n",
       "      <td>1</td>\n",
       "      <td>0</td>\n",
       "      <td>1</td>\n",
       "      <td>...</td>\n",
       "      <td>1</td>\n",
       "      <td>0</td>\n",
       "      <td>1</td>\n",
       "      <td>0</td>\n",
       "      <td>1</td>\n",
       "      <td>0</td>\n",
       "      <td>1</td>\n",
       "      <td>0</td>\n",
       "      <td>1</td>\n",
       "      <td>0</td>\n",
       "    </tr>\n",
       "    <tr>\n",
       "      <th>4868</th>\n",
       "      <td>4.0</td>\n",
       "      <td>74.40</td>\n",
       "      <td>306.60</td>\n",
       "      <td>1</td>\n",
       "      <td>1</td>\n",
       "      <td>0</td>\n",
       "      <td>0</td>\n",
       "      <td>0</td>\n",
       "      <td>1</td>\n",
       "      <td>0</td>\n",
       "      <td>...</td>\n",
       "      <td>1</td>\n",
       "      <td>0</td>\n",
       "      <td>1</td>\n",
       "      <td>0</td>\n",
       "      <td>1</td>\n",
       "      <td>0</td>\n",
       "      <td>0</td>\n",
       "      <td>1</td>\n",
       "      <td>0</td>\n",
       "      <td>1</td>\n",
       "    </tr>\n",
       "  </tbody>\n",
       "</table>\n",
       "<p>4869 rows × 28 columns</p>\n",
       "</div>"
      ],
      "text/plain": [
       "      tenure  MonthlyCharges  TotalCharges  Churn  OnlineBackup_No  \\\n",
       "0        1.0           29.85         29.85      0                0   \n",
       "1       34.0           56.95       1889.50      0                1   \n",
       "2        2.0           53.85        108.15      1                0   \n",
       "3       45.0           42.30       1840.75      0                1   \n",
       "4        2.0           70.70        151.65      1                1   \n",
       "...      ...             ...           ...    ...              ...   \n",
       "4864    12.0           60.65        743.30      0                0   \n",
       "4865    24.0           84.80       1990.50      0                1   \n",
       "4866    72.0          103.20       7362.90      0                0   \n",
       "4867    11.0           29.60        346.45      0                1   \n",
       "4868     4.0           74.40        306.60      1                1   \n",
       "\n",
       "      OnlineBackup_Yes  MultipleLines_No  MultipleLines_No phone service  \\\n",
       "0                    1                 0                               1   \n",
       "1                    0                 1                               0   \n",
       "2                    1                 1                               0   \n",
       "3                    0                 0                               1   \n",
       "4                    0                 1                               0   \n",
       "...                ...               ...                             ...   \n",
       "4864                 1                 0                               1   \n",
       "4865                 0                 0                               0   \n",
       "4866                 1                 0                               0   \n",
       "4867                 0                 0                               1   \n",
       "4868                 0                 0                               0   \n",
       "\n",
       "      MultipleLines_Yes  InternetService_DSL  ...  DeviceProtection_No  \\\n",
       "0                     0                    1  ...                    1   \n",
       "1                     0                    1  ...                    0   \n",
       "2                     0                    1  ...                    1   \n",
       "3                     0                    1  ...                    0   \n",
       "4                     0                    0  ...                    1   \n",
       "...                 ...                  ...  ...                  ...   \n",
       "4864                  0                    1  ...                    0   \n",
       "4865                  1                    1  ...                    0   \n",
       "4866                  1                    0  ...                    0   \n",
       "4867                  0                    1  ...                    1   \n",
       "4868                  1                    0  ...                    1   \n",
       "\n",
       "      DeviceProtection_Yes  TechSupport_No  TechSupport_Yes  \\\n",
       "0                        0               1                0   \n",
       "1                        1               1                0   \n",
       "2                        0               1                0   \n",
       "3                        1               0                1   \n",
       "4                        0               1                0   \n",
       "...                    ...             ...              ...   \n",
       "4864                     1               0                1   \n",
       "4865                     1               0                1   \n",
       "4866                     1               1                0   \n",
       "4867                     0               1                0   \n",
       "4868                     0               1                0   \n",
       "\n",
       "      StreamingMovies_No  StreamingMovies_Yes  PhoneService_No  \\\n",
       "0                      1                    0                1   \n",
       "1                      1                    0                0   \n",
       "2                      1                    0                0   \n",
       "3                      1                    0                1   \n",
       "4                      1                    0                0   \n",
       "...                  ...                  ...              ...   \n",
       "4864                   0                    1                1   \n",
       "4865                   0                    1                0   \n",
       "4866                   0                    1                0   \n",
       "4867                   1                    0                1   \n",
       "4868                   1                    0                0   \n",
       "\n",
       "      PhoneService_Yes  gender_Female  gender_Male  \n",
       "0                    0              1            0  \n",
       "1                    1              0            1  \n",
       "2                    1              0            1  \n",
       "3                    0              0            1  \n",
       "4                    1              1            0  \n",
       "...                ...            ...          ...  \n",
       "4864                 0              1            0  \n",
       "4865                 1              0            1  \n",
       "4866                 1              1            0  \n",
       "4867                 0              1            0  \n",
       "4868                 1              0            1  \n",
       "\n",
       "[4869 rows x 28 columns]"
      ]
     },
     "execution_count": 4,
     "metadata": {},
     "output_type": "execute_result"
    }
   ],
   "source": [
    "temp"
   ]
  },
  {
   "cell_type": "code",
   "execution_count": 5,
   "metadata": {},
   "outputs": [],
   "source": [
    "from sklearn.preprocessing import MinMaxScaler\n",
    "from sklearn.model_selection import train_test_split\n",
    "from sklearn.linear_model import LogisticRegression\n",
    "from sklearn.model_selection import GridSearchCV\n",
    "from sklearn.tree import DecisionTreeClassifier\n",
    "from sklearn.model_selection import GridSearchCV\n",
    "from sklearn.ensemble import VotingClassifier\n",
    "from sklearn.metrics import accuracy_score\n",
    "from sklearn.ensemble import BaggingClassifier\n",
    "from sklearn.metrics import confusion_matrix\n",
    "from sklearn.metrics import confusion_matrix\n",
    "from sklearn.metrics import classification_report\n",
    "from sklearn.ensemble import RandomForestClassifier\n",
    "from sklearn.ensemble import AdaBoostClassifier\n",
    "from sklearn.ensemble import GradientBoostingClassifier\n",
    "from sklearn.neighbors import KNeighborsClassifier\n",
    "from sklearn.model_selection import GridSearchCV\n",
    "from sklearn.metrics import f1_score\n",
    "from sklearn.metrics import accuracy_score"
   ]
  },
  {
   "cell_type": "markdown",
   "metadata": {},
   "source": [
    "## Data Preparation"
   ]
  },
  {
   "cell_type": "code",
   "execution_count": 6,
   "metadata": {},
   "outputs": [],
   "source": [
    "from sklearn.model_selection import train_test_split\n",
    "from sklearn.preprocessing import MinMaxScaler"
   ]
  },
  {
   "cell_type": "code",
   "execution_count": 7,
   "metadata": {},
   "outputs": [],
   "source": [
    "X = temp.drop(['Churn'], axis = 1)\n",
    "y = temp['Churn']\n",
    "X_trainss2, x_testss2, y_trainss2, y_testss2 = train_test_split(X, y, random_state=0,test_size=0.2)\n",
    "\n",
    "scaler = MinMaxScaler()\n",
    "X_trainss2 = scaler.fit_transform(X_trainss2)\n",
    "x_testss2 = scaler.transform(x_testss2)\n",
    "\n",
    "X_trainss2  = pd.DataFrame(X_trainss2)\n",
    "x_testss2 = pd.DataFrame(x_testss2)"
   ]
  },
  {
   "cell_type": "markdown",
   "metadata": {},
   "source": [
    "# Voting Classification\n",
    "### Grid Search for logistic"
   ]
  },
  {
   "cell_type": "code",
   "execution_count": 8,
   "metadata": {},
   "outputs": [
    {
     "name": "stdout",
     "output_type": "stream",
     "text": [
      "Fitting 5 folds for each of 1592 candidates, totalling 7960 fits\n",
      "Best score 0.5646586345381526\n",
      "Best Parameter {'C': 10, 'max_iter': 35, 'penalty': 'l2'}\n"
     ]
    }
   ],
   "source": [
    "paramgridlog = { 'max_iter' : range(1,200), \n",
    "                  'penalty' : ['l1','l2'],\n",
    "                'C' : [ 0.1, 1, 10, 100]}\n",
    "\n",
    "gslog = GridSearchCV(estimator = LogisticRegression(random_state=0),param_grid =paramgridlog, \n",
    "                     cv = 5, verbose = 1, n_jobs = -1,scoring='recall')\n",
    "gslogmodel = gslog.fit(X_trainss2, y_trainss2)\n",
    "\n",
    "print('Best score',gslogmodel.best_score_)\n",
    "print('Best Parameter',gslog.best_params_)"
   ]
  },
  {
   "cell_type": "markdown",
   "metadata": {},
   "source": [
    "#### Best parameter are 'C': 10, 'max_iter': 35, 'penalty': 'l2'"
   ]
  },
  {
   "cell_type": "markdown",
   "metadata": {},
   "source": [
    "### Grid Search for Decision Tree"
   ]
  },
  {
   "cell_type": "code",
   "execution_count": 9,
   "metadata": {},
   "outputs": [
    {
     "name": "stdout",
     "output_type": "stream",
     "text": [
      "Fitting 10 folds for each of 6 candidates, totalling 60 fits\n",
      "Best parameters: {'max_depth': 4}\n",
      "Best cross-validation score: 0.557568\n"
     ]
    }
   ],
   "source": [
    "paramgriddc = {'max_depth': np.arange(1, 7)}\n",
    "griddc = GridSearchCV(DecisionTreeClassifier(random_state=0), paramgriddc, cv=10, \n",
    "                      return_train_score=True, verbose=True,scoring='recall')\n",
    "griddc.fit(X_trainss2, y_trainss2)\n",
    "\n",
    "print(\"Best parameters: {}\".format(griddc.best_params_))\n",
    "print(\"Best cross-validation score: {:.6f}\".format(griddc.best_score_))"
   ]
  },
  {
   "cell_type": "markdown",
   "metadata": {},
   "source": [
    "#### Best parameters: {'max_depth': 4}  Best cross-validation score: 0.557568\n",
    "\n",
    "## Hard Voting"
   ]
  },
  {
   "cell_type": "code",
   "execution_count": 10,
   "metadata": {},
   "outputs": [
    {
     "name": "stdout",
     "output_type": "stream",
     "text": [
      "LogisticRegression 0.7854\n",
      "DecisionTreeClassifier 0.7587\n",
      "VotingClassifier 0.7690\n"
     ]
    }
   ],
   "source": [
    "from sklearn.ensemble import VotingClassifier\n",
    "loghv = LogisticRegression(random_state= 0, C = gslog.best_params_['C'], max_iter = gslog.best_params_['max_iter'])\n",
    "loghv.fit(X_trainss2, y_trainss2)\n",
    "\n",
    "dthv = DecisionTreeClassifier(max_depth = 5, random_state = 0)\n",
    "dthv.fit(X_trainss2, y_trainss2)\n",
    "\n",
    "\n",
    "Hvoting = VotingClassifier(estimators=[('lr', loghv), ('dt', dthv),], voting='hard')\n",
    "Hvoting.fit(X_trainss2, y_trainss2)\n",
    "\n",
    "\n",
    "for clfss in (loghv, dthv, Hvoting):\n",
    "    clfss.fit(X_trainss2, y_trainss2)\n",
    "    y_predss22 = clfss.predict(x_testss2)\n",
    "    print(clfss.__class__.__name__, '%.4f'%accuracy_score(y_testss2, y_predss22))"
   ]
  },
  {
   "cell_type": "markdown",
   "metadata": {},
   "source": [
    "## Soft Voting"
   ]
  },
  {
   "cell_type": "code",
   "execution_count": 11,
   "metadata": {},
   "outputs": [
    {
     "name": "stdout",
     "output_type": "stream",
     "text": [
      "LogisticRegression 0.7854\n",
      "DecisionTreeClassifier 0.7587\n",
      "VotingClassifier 0.7813\n"
     ]
    }
   ],
   "source": [
    "logsv = LogisticRegression(random_state= 0, C = gslog.best_params_['C'], max_iter = gslog.best_params_['max_iter'])\n",
    "logsv.fit(X_trainss2, y_trainss2)\n",
    "\n",
    "dtsv = DecisionTreeClassifier(max_depth = 5, random_state = 0)\n",
    "dtsv.fit(X_trainss2, y_trainss2)\n",
    "\n",
    "Svoting = VotingClassifier(estimators=[('lr', logsv), ('dt', dtsv)], voting='soft')\n",
    "Svoting.fit(X_trainss2, y_trainss2)\n",
    "\n",
    "for clfss in (logsv, dtsv,Svoting):\n",
    "    clfss.fit(X_trainss2, y_trainss2)\n",
    "    y_predss22 = clfss.predict(x_testss2)\n",
    "    print(clfss.__class__.__name__, '%.4f'%accuracy_score(y_testss2, y_predss22))"
   ]
  },
  {
   "cell_type": "markdown",
   "metadata": {},
   "source": [
    "## Bagging Classifier\n",
    "\n",
    "### 1. Bagging for Decision Tree\n",
    "\n",
    "#### Grid Search for Bagging"
   ]
  },
  {
   "cell_type": "code",
   "execution_count": 12,
   "metadata": {},
   "outputs": [
    {
     "name": "stdout",
     "output_type": "stream",
     "text": [
      "Best Parameters: {'max_features': 0.5, 'max_samples': 0.3, 'n_estimators': 400}\n",
      "Best Score: 0.5148594377510041\n"
     ]
    }
   ],
   "source": [
    "from sklearn.ensemble import BaggingClassifier\n",
    "from sklearn.tree import DecisionTreeClassifier\n",
    "from sklearn.model_selection import GridSearchCV\n",
    "\n",
    "paramgridss2 = {'n_estimators':[200, 300, 400, 500], \n",
    "              'max_samples':[0.1, 0.2, 0.3, 0.4, 0.5], \n",
    "              'max_features':[0.1, 0.2, 0.3, 0.5]}\n",
    "\n",
    "bagclfss = BaggingClassifier(DecisionTreeClassifier(random_state = 0))\n",
    "baggridss = GridSearchCV(bagclfss, paramgridss2, cv = 5, n_jobs = -1,scoring='recall')\n",
    "baggridss.fit(X_trainss2, y_trainss2)\n",
    "\n",
    "print('Best Parameters:',baggridss.best_params_)\n",
    "print('Best Score:',baggridss.best_score_)"
   ]
  },
  {
   "cell_type": "markdown",
   "metadata": {},
   "source": [
    "#### Grid Search for Decision Tree"
   ]
  },
  {
   "cell_type": "code",
   "execution_count": 13,
   "metadata": {},
   "outputs": [
    {
     "name": "stdout",
     "output_type": "stream",
     "text": [
      "Fitting 10 folds for each of 9 candidates, totalling 90 fits\n",
      "Best parameters {'max_depth': 7}\n",
      "Best score 0.5703870967741935\n"
     ]
    }
   ],
   "source": [
    "paramgriddc = {'max_depth': np.arange(1, 10)}\n",
    "griddc = GridSearchCV(DecisionTreeClassifier(random_state=0), paramgriddc,\n",
    "                      cv=10, return_train_score=True, verbose=True,scoring='recall')\n",
    "griddc.fit(X_trainss2, y_trainss2)\n",
    "\n",
    "print(\"Best parameters\",(griddc.best_params_))\n",
    "print(\"Best score\",(griddc.best_score_))"
   ]
  },
  {
   "cell_type": "markdown",
   "metadata": {},
   "source": [
    "#### Badging using best parameters"
   ]
  },
  {
   "cell_type": "code",
   "execution_count": 14,
   "metadata": {},
   "outputs": [
    {
     "name": "stdout",
     "output_type": "stream",
     "text": [
      "Train score: 0.789216944801027\n",
      "Test score: 0.768993839835729\n",
      "Out-of-bag score: 0.7578947368421053\n",
      "Accuracy :  0.7813141683778234\n"
     ]
    }
   ],
   "source": [
    "bagclfss = BaggingClassifier(DecisionTreeClassifier(max_depth = griddc.best_params_['max_depth'], random_state = 0), \n",
    "                           bootstrap= True, max_features= 0.3,max_samples=baggridss.best_params_['max_samples'] ,\n",
    "                           n_estimators= baggridss.best_params_['n_estimators'], oob_score= True)\n",
    "\n",
    "bagclfss.fit(X_trainss2, y_trainss2)\n",
    "y_predss2 = bagclfss.predict(x_testss2)\n",
    "\n",
    "print('Train score:',bagclfss.score(X_trainss2, y_trainss2))\n",
    "print('Test score:',bagclfss.score(x_testss2, y_testss2))\n",
    "print('Out-of-bag score:',bagclfss.oob_score_)\n",
    "print(\"Accuracy : \", accuracy_score(y_testss2, y_predss22))"
   ]
  },
  {
   "cell_type": "code",
   "execution_count": 15,
   "metadata": {},
   "outputs": [
    {
     "name": "stdout",
     "output_type": "stream",
     "text": [
      " Matrix \n",
      "[[582 131]\n",
      " [ 82 179]]\n"
     ]
    }
   ],
   "source": [
    "\n",
    "bagclfss_mat = confusion_matrix(y_predss22,y_testss2)\n",
    "print(\" Matrix \\n{}\".format(bagclfss_mat))"
   ]
  },
  {
   "cell_type": "code",
   "execution_count": 16,
   "metadata": {},
   "outputs": [
    {
     "data": {
      "image/png": "[encoded data removed]",
      "text/plain": [
       "<Figure size 432x288 with 1 Axes>"
      ]
     },
     "metadata": {
      "needs_background": "light"
     },
     "output_type": "display_data"
    }
   ],
   "source": [
    "import mglearn\n",
    "%matplotlib inline\n",
    "\n",
    "imagess = mglearn.tools.heatmap(\n",
    "    confusion_matrix(y_predss2, y_testss2), xlabel = 'Predicted_value',\n",
    "    ylabel='True_value', xticklabels = ['No:0','Yes:1'],\n",
    "    yticklabels=['No:0','Yes:1'], fmt=\"%d\")\n",
    "plt.title(\"Confusion matrix\")\n",
    "plt.gca().invert_yaxis()"
   ]
  },
  {
   "cell_type": "code",
   "execution_count": 17,
   "metadata": {},
   "outputs": [
    {
     "name": "stdout",
     "output_type": "stream",
     "text": [
      "              precision    recall  f1-score   support\n",
      "\n",
      "        No:0       0.78      0.91      0.84       664\n",
      "       Yes:1       0.71      0.46      0.56       310\n",
      "\n",
      "    accuracy                           0.77       974\n",
      "   macro avg       0.75      0.69      0.70       974\n",
      "weighted avg       0.76      0.77      0.75       974\n",
      "\n"
     ]
    }
   ],
   "source": [
    "print(classification_report(y_testss2, y_predss2, target_names=['No:0','Yes:1']))"
   ]
  },
  {
   "cell_type": "markdown",
   "metadata": {},
   "source": [
    "# Pasting Classifier\n",
    "\n",
    "### 1.Pasting on Decision Tree Classifier\n",
    "\n",
    "#### Grid Search for Pasting"
   ]
  },
  {
   "cell_type": "code",
   "execution_count": 18,
   "metadata": {},
   "outputs": [
    {
     "name": "stdout",
     "output_type": "stream",
     "text": [
      "Best Parameters: {'max_features': 0.5, 'max_samples': 0.4, 'n_estimators': 400}\n",
      "Best Score: 0.5116465863453815\n"
     ]
    }
   ],
   "source": [
    "paramgridss2 = {'n_estimators':[100,200, 300, 400, 500], \n",
    "              'max_samples':[0.1, 0.2, 0.3, 0.4, 0.5], \n",
    "              'max_features':[0.1, 0.2, 0.3, 0.5]}\n",
    "\n",
    "bagclfss = BaggingClassifier(DecisionTreeClassifier(random_state = 0))\n",
    "baggridss = GridSearchCV(bagclfss,paramgridss2, cv = 5, n_jobs = -1,scoring='recall')\n",
    "baggridss.fit(X_trainss2, y_trainss2)\n",
    "\n",
    "print('Best Parameters:',baggridss.best_params_)\n",
    "print('Best Score:',baggridss.best_score_)"
   ]
  },
  {
   "cell_type": "markdown",
   "metadata": {},
   "source": [
    "#### Grid Serach for Decision Tree"
   ]
  },
  {
   "cell_type": "code",
   "execution_count": 19,
   "metadata": {},
   "outputs": [
    {
     "name": "stdout",
     "output_type": "stream",
     "text": [
      "Fitting 10 folds for each of 9 candidates, totalling 90 fits\n",
      "Best parameters: {'max_depth': 7}\n",
      "Best cross-validation score: 0.5703870967741935\n"
     ]
    }
   ],
   "source": [
    "paramgriddc = {'max_depth': np.arange(1, 10)}\n",
    "griddc = GridSearchCV(DecisionTreeClassifier(random_state=0), paramgriddc, \n",
    "                      cv=10, return_train_score=True, verbose=True,scoring='recall')\n",
    "griddc.fit(X_trainss2, y_trainss2)\n",
    "\n",
    "print(\"Best parameters:\",(griddc.best_params_))\n",
    "print(\"Best cross-validation score:\",(griddc.best_score_))"
   ]
  },
  {
   "cell_type": "markdown",
   "metadata": {},
   "source": [
    "#### Using best parameters"
   ]
  },
  {
   "cell_type": "code",
   "execution_count": 20,
   "metadata": {},
   "outputs": [
    {
     "name": "stdout",
     "output_type": "stream",
     "text": [
      "Train score: 0.81\n",
      "Test score: 0.78\n",
      "Accuracy :  0.7833675564681725\n"
     ]
    }
   ],
   "source": [
    "clfps = BaggingClassifier(DecisionTreeClassifier(max_depth = griddc.best_params_['max_depth'], random_state = 0), \n",
    "                           bootstrap= False, max_features= baggridss.best_params_['max_features'],\n",
    "                          max_samples=baggridss.best_params_['max_samples'] ,\n",
    "                           n_estimators= baggridss.best_params_['n_estimators'])\n",
    "\n",
    "clfps.fit(X_trainss2, y_trainss2)\n",
    "y_predss2 = clfps.predict(x_testss2)\n",
    "\n",
    "print('Train score: %.2f'%clfps.score(X_trainss2, y_trainss2))\n",
    "print('Test score: %.2f'%clfps.score(x_testss2, y_testss2))\n",
    "print(\"Accuracy : \", accuracy_score(y_testss2, y_predss2))"
   ]
  },
  {
   "cell_type": "code",
   "execution_count": 21,
   "metadata": {},
   "outputs": [
    {
     "name": "stdout",
     "output_type": "stream",
     "text": [
      "matrix \n",
      "[[598 145]\n",
      " [ 66 165]]\n"
     ]
    }
   ],
   "source": [
    "clfpsmat = confusion_matrix(y_predss2,y_testss2)\n",
    "print(\"matrix \\n{}\".format(clfpsmat))"
   ]
  },
  {
   "cell_type": "code",
   "execution_count": 22,
   "metadata": {},
   "outputs": [
    {
     "data": {
      "image/png": "[encoded data removed]",
      "text/plain": [
       "<Figure size 432x288 with 1 Axes>"
      ]
     },
     "metadata": {
      "needs_background": "light"
     },
     "output_type": "display_data"
    }
   ],
   "source": [
    "import mglearn\n",
    "%matplotlib inline\n",
    "\n",
    "imagess = mglearn.tools.heatmap(\n",
    "    confusion_matrix(y_predss2, y_testss2), xlabel = 'Predicted_value',\n",
    "    ylabel='True_value', xticklabels = ['No:0','Yes:1'],\n",
    "    yticklabels=['No:0','Yes:1'], fmt=\"%d\")\n",
    "plt.title(\"Confusion matrix\")\n",
    "plt.gca().invert_yaxis()"
   ]
  },
  {
   "cell_type": "code",
   "execution_count": 23,
   "metadata": {},
   "outputs": [
    {
     "name": "stdout",
     "output_type": "stream",
     "text": [
      "              precision    recall  f1-score   support\n",
      "\n",
      "        No:0       0.80      0.90      0.85       664\n",
      "       Yes:1       0.71      0.53      0.61       310\n",
      "\n",
      "    accuracy                           0.78       974\n",
      "   macro avg       0.76      0.72      0.73       974\n",
      "weighted avg       0.78      0.78      0.77       974\n",
      "\n"
     ]
    }
   ],
   "source": [
    "print(classification_report(y_testss2, y_predss2, target_names=['No:0','Yes:1']))"
   ]
  },
  {
   "cell_type": "markdown",
   "metadata": {},
   "source": [
    "## 2. Pasting on LogisticRegressor"
   ]
  },
  {
   "cell_type": "markdown",
   "metadata": {},
   "source": [
    "#### Grid search for pasting"
   ]
  },
  {
   "cell_type": "code",
   "execution_count": 24,
   "metadata": {},
   "outputs": [
    {
     "name": "stdout",
     "output_type": "stream",
     "text": [
      "Best Parameters: {'max_features': 0.5, 'max_samples': 0.2, 'n_estimators': 100}\n",
      "Best Score: 0.5188755020080321\n"
     ]
    }
   ],
   "source": [
    "paramgridss2 = {'n_estimators':[100,200, 300, 400, 500], \n",
    "              'max_samples':[0.1, 0.2, 0.3, 0.4, 0.5], \n",
    "              'max_features':[0.1, 0.2, 0.3, 0.5]}\n",
    "\n",
    "bagclfss = BaggingClassifier(DecisionTreeClassifier(random_state = 0))\n",
    "baggridss = GridSearchCV(bagclfss,paramgridss2, cv = 5, n_jobs = -1,scoring='recall')\n",
    "baggridss.fit(X_trainss2, y_trainss2)\n",
    "\n",
    "print('Best Parameters:',baggridss.best_params_)\n",
    "print('Best Score:',baggridss.best_score_)"
   ]
  },
  {
   "cell_type": "markdown",
   "metadata": {},
   "source": [
    "#### Grid search for Logistic\n"
   ]
  },
  {
   "cell_type": "code",
   "execution_count": 25,
   "metadata": {},
   "outputs": [
    {
     "name": "stdout",
     "output_type": "stream",
     "text": [
      "Fitting 5 folds for each of 1592 candidates, totalling 7960 fits\n",
      "Best score 0.5646586345381526\n",
      "Best Parameter {'C': 10, 'max_iter': 35, 'penalty': 'l2'}\n"
     ]
    }
   ],
   "source": [
    "paramgridlog = { 'max_iter' : range(1,200), \n",
    "                  'penalty' : ['l1','l2'],\n",
    "                'C' : [ 0.1, 1, 10, 100]}\n",
    "\n",
    "gslog = GridSearchCV(estimator = LogisticRegression(random_state=0),param_grid =paramgridlog, \n",
    "                     cv = 5, verbose = 1, n_jobs = -1,scoring='recall')\n",
    "gslogmodel = gslog.fit(X_trainss2, y_trainss2)\n",
    "\n",
    "print('Best score',gslogmodel.best_score_)\n",
    "print('Best Parameter',gslog.best_params_)"
   ]
  },
  {
   "cell_type": "markdown",
   "metadata": {},
   "source": [
    "#### Using best parameters"
   ]
  },
  {
   "cell_type": "code",
   "execution_count": 26,
   "metadata": {},
   "outputs": [
    {
     "name": "stdout",
     "output_type": "stream",
     "text": [
      "Train score: 0.76\n",
      "Test score: 0.78\n",
      "Accuracy :  0.7802874743326489\n"
     ]
    }
   ],
   "source": [
    "lrpsclf = BaggingClassifier(LogisticRegression(penalty ='l2', C = gslog.best_params_['C'],\n",
    "                                               max_iter = gslog.best_params_['max_iter']), \n",
    "                           bootstrap= False, max_features= baggridss.best_params_['max_features'],\n",
    "                            max_samples= baggridss.best_params_['max_samples'],\n",
    "                           n_estimators= baggridss.best_params_['n_estimators'])\n",
    "\n",
    "lrpsclf.fit(X_trainss2, y_trainss2)\n",
    "y_predss2 = lrpsclf.predict(x_testss2)\n",
    "\n",
    "print('Train score: %.2f'%lrpsclf.score(X_trainss2, y_trainss2))\n",
    "print('Test score: %.2f'%lrpsclf.score(x_testss2, y_testss2))\n",
    "print(\"Accuracy : \", accuracy_score(y_testss2, y_predss2))"
   ]
  },
  {
   "cell_type": "code",
   "execution_count": 27,
   "metadata": {},
   "outputs": [
    {
     "name": "stdout",
     "output_type": "stream",
     "text": [
      "matrix \n",
      "[[586 136]\n",
      " [ 78 174]]\n"
     ]
    }
   ],
   "source": [
    "lrpsmat = confusion_matrix(y_predss2,y_testss2)\n",
    "print(\"matrix \\n{}\".format(lrpsmat))"
   ]
  },
  {
   "cell_type": "code",
   "execution_count": 28,
   "metadata": {},
   "outputs": [
    {
     "data": {
      "image/png": "[encoded data removed]",
      "text/plain": [
       "<Figure size 432x288 with 1 Axes>"
      ]
     },
     "metadata": {
      "needs_background": "light"
     },
     "output_type": "display_data"
    }
   ],
   "source": [
    "import mglearn\n",
    "%matplotlib inline\n",
    "\n",
    "imagess = mglearn.tools.heatmap(\n",
    "    confusion_matrix(y_predss2, y_testss2), xlabel = 'Predicted_value',\n",
    "    ylabel='True_value', xticklabels = ['No:0','Yes:1'],\n",
    "    yticklabels=['No:0','Yes:1'], fmt=\"%d\")\n",
    "plt.title(\"Confusion matrix (KNN)\")\n",
    "plt.gca().invert_yaxis()"
   ]
  },
  {
   "cell_type": "code",
   "execution_count": 29,
   "metadata": {},
   "outputs": [
    {
     "name": "stdout",
     "output_type": "stream",
     "text": [
      "              precision    recall  f1-score   support\n",
      "\n",
      "        No:0       0.81      0.88      0.85       664\n",
      "       Yes:1       0.69      0.56      0.62       310\n",
      "\n",
      "    accuracy                           0.78       974\n",
      "   macro avg       0.75      0.72      0.73       974\n",
      "weighted avg       0.77      0.78      0.77       974\n",
      "\n"
     ]
    }
   ],
   "source": [
    "print(classification_report(y_testss2, y_predss2, target_names=['No:0','Yes:1']))"
   ]
  },
  {
   "cell_type": "markdown",
   "metadata": {},
   "source": [
    "# ADA Boosting\n",
    "\n",
    "## ADA Boosting for Decision Tree\n",
    "\n",
    "#### Grid Search for ADA Booster Classifier"
   ]
  },
  {
   "cell_type": "code",
   "execution_count": 30,
   "metadata": {},
   "outputs": [
    {
     "name": "stdout",
     "output_type": "stream",
     "text": [
      "Best parameters: {'learning_rate': 0.1, 'n_estimators': 100}\n",
      "Best Score: 0.521285140562249\n"
     ]
    }
   ],
   "source": [
    "paramgridss = {'n_estimators': [100,500,1000] ,\n",
    "              'learning_rate': [0.1,0.5,1]}\n",
    "\n",
    "\n",
    "addt= AdaBoostClassifier(DecisionTreeClassifier(random_state = 0))\n",
    "gridaddt = GridSearchCV(addt, paramgridss, cv = 5,scoring='recall' )\n",
    "gridaddt.fit(X_trainss2, y_trainss2)\n",
    "\n",
    "print('Best parameters:',gridaddt.best_params_ )\n",
    "print('Best Score:',gridaddt.best_score_)"
   ]
  },
  {
   "cell_type": "markdown",
   "metadata": {},
   "source": [
    "#### Grid Search for DT"
   ]
  },
  {
   "cell_type": "code",
   "execution_count": 31,
   "metadata": {},
   "outputs": [
    {
     "name": "stdout",
     "output_type": "stream",
     "text": [
      "Fitting 5 folds for each of 9 candidates, totalling 45 fits\n",
      "Best parameters: {'max_depth': 9}\n",
      "Best cross-validation score: 0.555020\n"
     ]
    }
   ],
   "source": [
    "paramgridss = {'max_depth': np.arange(1, 10)}\n",
    "gridsearchpcass = GridSearchCV(DecisionTreeClassifier(random_state=0), paramgridss, cv=5, \n",
    "                           return_train_score=True, verbose=True,scoring='recall')\n",
    "\n",
    "gridsearchpcass.fit(X_trainss2, y_trainss2)\n",
    "\n",
    "print(\"Best parameters: {}\".format(gridsearchpcass.best_params_))\n",
    "print(\"Best cross-validation score: {:.6f}\".format(gridsearchpcass.best_score_))"
   ]
  },
  {
   "cell_type": "markdown",
   "metadata": {},
   "source": [
    "#### Using Best parameters"
   ]
  },
  {
   "cell_type": "code",
   "execution_count": 32,
   "metadata": {},
   "outputs": [
    {
     "name": "stdout",
     "output_type": "stream",
     "text": [
      "Test score: 0.7381930184804928\n",
      "Train score: 0.9984595635430038\n",
      "Accuracy :  0.7382\n"
     ]
    }
   ],
   "source": [
    "adadt = AdaBoostClassifier(DecisionTreeClassifier(max_depth = gridsearchpcass.best_params_['max_depth'], random_state = 0),\n",
    "n_estimators=gridaddt.best_params_['n_estimators'], learning_rate=gridaddt.best_params_['learning_rate'], random_state=0)\n",
    "\n",
    "adadt.fit(X_trainss2, y_trainss2)\n",
    "y_predss2 = adadt.predict(x_testss2)\n",
    "\n",
    "\n",
    "print('Test score:',adadt.score(x_testss2, y_testss2))\n",
    "print('Train score:',adadt.score(X_trainss2, y_trainss2))\n",
    "print(\"Accuracy : \",accuracy_score(y_testss2, y_predss2).round(4))"
   ]
  },
  {
   "cell_type": "code",
   "execution_count": 33,
   "metadata": {},
   "outputs": [
    {
     "name": "stdout",
     "output_type": "stream",
     "text": [
      "matrix [[568 159]\n",
      " [ 96 151]]\n"
     ]
    }
   ],
   "source": [
    "addtmat = confusion_matrix(y_predss2,y_testss2)\n",
    "print(\"matrix\",(addtmat))"
   ]
  },
  {
   "cell_type": "code",
   "execution_count": 34,
   "metadata": {},
   "outputs": [
    {
     "data": {
      "image/png": "[encoded data removed]",
      "text/plain": [
       "<Figure size 432x288 with 1 Axes>"
      ]
     },
     "metadata": {
      "needs_background": "light"
     },
     "output_type": "display_data"
    }
   ],
   "source": [
    "import mglearn\n",
    "%matplotlib inline\n",
    "\n",
    "imagess = mglearn.tools.heatmap(\n",
    "    confusion_matrix(y_predss2, y_testss2), xlabel = 'Predicted_value',\n",
    "    ylabel='True_value', xticklabels = ['No:0','Yes:1'],\n",
    "    yticklabels=['No:0','Yes:1'], fmt=\"%d\")\n",
    "plt.title(\"Confusion matrix\")\n",
    "plt.gca().invert_yaxis()"
   ]
  },
  {
   "cell_type": "markdown",
   "metadata": {},
   "source": [
    "### ADA Boosting on linear regressor \n",
    "\n",
    "#### Grid Search ADABoost"
   ]
  },
  {
   "cell_type": "code",
   "execution_count": 35,
   "metadata": {},
   "outputs": [],
   "source": [
    "from sklearn.svm import LinearSVC"
   ]
  },
  {
   "cell_type": "code",
   "execution_count": 36,
   "metadata": {},
   "outputs": [
    {
     "name": "stdout",
     "output_type": "stream",
     "text": [
      "Best parameters: {'learning_rate': 0.05, 'n_estimators': 400}\n",
      "Best cross-validation score: 0.54\n"
     ]
    }
   ],
   "source": [
    "paramgridss = {'n_estimators': [100,200,300,400,500],\n",
    "              'learning_rate': [.01, .05, .1, 1]}\n",
    "\n",
    "gridad = GridSearchCV(AdaBoostClassifier(LinearSVC(),random_state = 0,algorithm='SAMME'),\n",
    "                           paramgridss, cv=5, return_train_score=True,scoring='recall')\n",
    "gridad.fit(X_trainss2, y_trainss2)\n",
    "print(\"Best parameters: {}\".format(gridad.best_params_))\n",
    "print(\"Best cross-validation score: {:.2f}\".format(gridad.best_score_))"
   ]
  },
  {
   "cell_type": "code",
   "execution_count": 37,
   "metadata": {},
   "outputs": [
    {
     "name": "stdout",
     "output_type": "stream",
     "text": [
      "Fitting 5 folds for each of 1592 candidates, totalling 7960 fits\n",
      "Best score 0.8257028112449799\n",
      "Best Parameter {'C': 100, 'max_iter': 38, 'penalty': 'l2'}\n"
     ]
    }
   ],
   "source": [
    "paramgridlog = { 'max_iter' : range(1,200), \n",
    "                  'penalty' : ['l1','l2'],\n",
    "                'C' : [ 0.1, 1, 10, 100]}\n",
    "\n",
    "gslog = GridSearchCV(estimator = LinearSVC(),param_grid =paramgridlog, cv = 5, verbose = 1, \n",
    "                                                 n_jobs = -1,scoring='recall')\n",
    "gslogmodel = gslog.fit(X_trainss2, y_trainss2)\n",
    "\n",
    "print('Best score',gslogmodel.best_score_)\n",
    "print('Best Parameter',gslog.best_params_)\n"
   ]
  },
  {
   "cell_type": "markdown",
   "metadata": {},
   "source": [
    "#### Using Best parameters"
   ]
  },
  {
   "cell_type": "code",
   "execution_count": 38,
   "metadata": {},
   "outputs": [
    {
     "name": "stdout",
     "output_type": "stream",
     "text": [
      "Train score: 0.7632862644415918\n",
      "Test score: 0.7802874743326489\n",
      "Accuracy:  0.7803\n"
     ]
    }
   ],
   "source": [
    "adalr = AdaBoostClassifier(LinearSVC(penalty ='l2', C = gslog.best_params_['C'], \n",
    "                                     max_iter = gslog.best_params_['max_iter']),\n",
    "                                     n_estimators=gridad.best_params_['n_estimators'], \n",
    "                                     algorithm=\"SAMME\", \n",
    "                                     learning_rate=gridad.best_params_['learning_rate'], random_state=0)\n",
    "\n",
    "adalr.fit(X_trainss2, y_trainss2)\n",
    "y_predlr = adalr.predict(x_testss2)\n",
    "\n",
    "print('Train score:',adalr.score(X_trainss2, y_trainss2))\n",
    "print('Test score:',adalr.score(x_testss2, y_testss2))\n",
    "print(\"Accuracy: \",accuracy_score(y_testss2, y_predlr).round(4))"
   ]
  },
  {
   "cell_type": "code",
   "execution_count": 39,
   "metadata": {},
   "outputs": [
    {
     "name": "stdout",
     "output_type": "stream",
     "text": [
      "matrix [[580 130]\n",
      " [ 84 180]]\n"
     ]
    }
   ],
   "source": [
    "adlrmat = confusion_matrix(y_predlr,y_testss2)\n",
    "print(\"matrix\",(adlrmat))"
   ]
  },
  {
   "cell_type": "code",
   "execution_count": 40,
   "metadata": {},
   "outputs": [
    {
     "data": {
      "image/png": "[encoded data removed]",
      "text/plain": [
       "<Figure size 432x288 with 1 Axes>"
      ]
     },
     "metadata": {
      "needs_background": "light"
     },
     "output_type": "display_data"
    }
   ],
   "source": [
    "import mglearn\n",
    "%matplotlib inline\n",
    "\n",
    "imagess = mglearn.tools.heatmap(\n",
    "    confusion_matrix(y_predlr, y_testss2), xlabel = 'Predicted_value',\n",
    "    ylabel='True_value', xticklabels = ['No:0','Yes:1'],\n",
    "    yticklabels=['No:0','Yes:1'], fmt=\"%d\")\n",
    "plt.title(\"Confusion matrix \")\n",
    "plt.gca().invert_yaxis()"
   ]
  },
  {
   "cell_type": "code",
   "execution_count": 41,
   "metadata": {},
   "outputs": [
    {
     "name": "stdout",
     "output_type": "stream",
     "text": [
      "              precision    recall  f1-score   support\n",
      "\n",
      "        No:0       0.82      0.87      0.84       664\n",
      "       Yes:1       0.68      0.58      0.63       310\n",
      "\n",
      "    accuracy                           0.78       974\n",
      "   macro avg       0.75      0.73      0.74       974\n",
      "weighted avg       0.77      0.78      0.78       974\n",
      "\n"
     ]
    }
   ],
   "source": [
    "print(classification_report(y_testss2, y_predlr, target_names=['No:0','Yes:1']))"
   ]
  },
  {
   "cell_type": "markdown",
   "metadata": {},
   "source": [
    "# Gradient Boosting\n",
    "\n",
    "#### Grid search For Gradient Boosting"
   ]
  },
  {
   "cell_type": "code",
   "execution_count": 42,
   "metadata": {},
   "outputs": [
    {
     "name": "stdout",
     "output_type": "stream",
     "text": [
      "Best parameters: {'learning_rate': 1, 'max_depth': 1, 'n_estimators': 1000}\n",
      "Best Score: 0.5357429718875502\n"
     ]
    }
   ],
   "source": [
    "paramgridss = {'n_estimators': [100,500,1000],\n",
    "              'learning_rate': [0.1,0.5,1],\n",
    "              'max_depth': [1,5,10]}\n",
    "\n",
    "gbrtss=GradientBoostingClassifier(random_state = 0)\n",
    "gridgbss = GridSearchCV(gbrtss, paramgridss, cv = 5,scoring='recall')\n",
    "gridgbss.fit(X_trainss2, y_trainss2)\n",
    "\n",
    "print('Best parameters:',gridgbss.best_params_ )\n",
    "print('Best Score:',gridgbss.best_score_)\n"
   ]
  },
  {
   "cell_type": "code",
   "execution_count": 43,
   "metadata": {},
   "outputs": [
    {
     "name": "stdout",
     "output_type": "stream",
     "text": [
      "Train score: 0.802\n",
      "Test score : 0.763\n",
      "Accuracy  0.7628\n"
     ]
    }
   ],
   "source": [
    "gbrtss = GradientBoostingClassifier(random_state=0, learning_rate=gridgbss.best_params_['learning_rate'],\n",
    "                                    n_estimators= gridgbss.best_params_['n_estimators'],\n",
    "                                   max_depth=gridgbss.best_params_['max_depth'])\n",
    "\n",
    "gbrtss.fit(X_trainss2, y_trainss2)\n",
    "y_predss2 = gbrtss.predict(x_testss2)\n",
    "\n",
    "print(\"Train score: {:.3f}\".format(gbrtss.score(X_trainss2, y_trainss2)))\n",
    "print(\"Test score : {:.3f}\".format(gbrtss.score(x_testss2, y_testss2)))\n",
    "print(\"Accuracy \",accuracy_score(y_testss2, y_predss2).round(4))"
   ]
  },
  {
   "cell_type": "markdown",
   "metadata": {},
   "source": [
    "#### Gradient Boosting for DT"
   ]
  },
  {
   "cell_type": "code",
   "execution_count": 44,
   "metadata": {},
   "outputs": [
    {
     "name": "stdout",
     "output_type": "stream",
     "text": [
      "Train score: 0.802\n",
      "Accuracy  0.7628\n",
      "Test score 0.7628336755646817\n"
     ]
    }
   ],
   "source": [
    "gbrtss = GradientBoostingClassifier(max_depth =gridgbss.best_params_['max_depth'],\n",
    "                                    learning_rate=gridgbss.best_params_['learning_rate'],\n",
    "                                    n_estimators= gridgbss.best_params_['n_estimators'])\n",
    "gbrtss.fit(X_trainss2, y_trainss2)\n",
    "y_predss2 = gbrtss.predict(x_testss2)\n",
    "\n",
    "print(\"Train score: {:.3f}\".format(gbrtss.score(X_trainss2, y_trainss2)))\n",
    "print(\"Accuracy \",accuracy_score(y_testss2, y_predss2).round(4))\n",
    "print(\"Test score\",gbrtss.score(x_testss2, y_testss2))"
   ]
  },
  {
   "cell_type": "code",
   "execution_count": null,
   "metadata": {},
   "outputs": [],
   "source": []
  },
  {
   "cell_type": "code",
   "execution_count": 45,
   "metadata": {},
   "outputs": [
    {
     "name": "stdout",
     "output_type": "stream",
     "text": [
      "matrix \n",
      "[[570 137]\n",
      " [ 94 173]]\n"
     ]
    }
   ],
   "source": [
    "gbrtmat = confusion_matrix(y_predss2,y_testss2)\n",
    "print(\"matrix \\n{}\".format(gbrtmat))"
   ]
  },
  {
   "cell_type": "code",
   "execution_count": 46,
   "metadata": {},
   "outputs": [
    {
     "data": {
      "image/png": "[encoded data removed]",
      "text/plain": [
       "<Figure size 432x288 with 1 Axes>"
      ]
     },
     "metadata": {
      "needs_background": "light"
     },
     "output_type": "display_data"
    }
   ],
   "source": [
    "import mglearn\n",
    "%matplotlib inline\n",
    "\n",
    "imagess = mglearn.tools.heatmap(\n",
    "    confusion_matrix(y_predss2, y_testss2), xlabel = 'Predicted_value',\n",
    "    ylabel='True_value', xticklabels = ['No:0','Yes:1'],\n",
    "    yticklabels=['No:0','Yes:1'], fmt=\"%d\")\n",
    "plt.title(\"Confusion matrix \")\n",
    "plt.gca().invert_yaxis()"
   ]
  },
  {
   "cell_type": "code",
   "execution_count": 47,
   "metadata": {},
   "outputs": [
    {
     "name": "stdout",
     "output_type": "stream",
     "text": [
      "              precision    recall  f1-score   support\n",
      "\n",
      "        No:0       0.81      0.86      0.83       664\n",
      "       Yes:1       0.65      0.56      0.60       310\n",
      "\n",
      "    accuracy                           0.76       974\n",
      "   macro avg       0.73      0.71      0.72       974\n",
      "weighted avg       0.76      0.76      0.76       974\n",
      "\n"
     ]
    }
   ],
   "source": [
    "print(classification_report(y_testss2, y_predss2, target_names=['No:0','Yes:1']))"
   ]
  },
  {
   "cell_type": "markdown",
   "metadata": {},
   "source": [
    "# PCA for Classification"
   ]
  },
  {
   "cell_type": "code",
   "execution_count": 48,
   "metadata": {},
   "outputs": [],
   "source": [
    "from sklearn.decomposition import PCA\n",
    "\n",
    "pcass = PCA(n_components = .95, random_state = 0)\n",
    "X_trainpcass = pcass.fit_transform(X_trainss2)\n",
    "X_testpcass = pcass.transform(x_testss2)"
   ]
  },
  {
   "cell_type": "code",
   "execution_count": 49,
   "metadata": {},
   "outputs": [
    {
     "name": "stdout",
     "output_type": "stream",
     "text": [
      "Attributes after PCA : 12\n"
     ]
    }
   ],
   "source": [
    "print(\"Attributes after PCA :\" ,pcass.n_components_ )"
   ]
  },
  {
   "cell_type": "markdown",
   "metadata": {},
   "source": [
    "### KNN with PCA\n",
    "\n",
    "#### Grid Search for PCA"
   ]
  },
  {
   "cell_type": "code",
   "execution_count": 50,
   "metadata": {},
   "outputs": [
    {
     "name": "stdout",
     "output_type": "stream",
     "text": [
      "Fitting 5 folds for each of 19 candidates, totalling 95 fits\n",
      "Best parameters: {'n_neighbors': 7}\n",
      "Best cross-validation score: 0.5060240963855421\n"
     ]
    }
   ],
   "source": [
    "paramgridss = {'n_neighbors': range(1,20)}\n",
    "gridsearchpcass = GridSearchCV(KNeighborsClassifier(), paramgridss, cv=5, return_train_score=True, \n",
    "                               verbose = True,scoring='recall')\n",
    "gridsearchpcass.fit(X_trainpcass, y_trainss2)\n",
    "\n",
    "print(\"Best parameters:\",(gridsearchpcass.best_params_))\n",
    "print(\"Best cross-validation score:\",(gridsearchpcass.best_score_))"
   ]
  },
  {
   "cell_type": "code",
   "execution_count": 51,
   "metadata": {},
   "outputs": [
    {
     "data": {
      "text/plain": [
       "<matplotlib.legend.Legend at 0x7fe52268f130>"
      ]
     },
     "execution_count": 51,
     "metadata": {},
     "output_type": "execute_result"
    },
    {
     "data": {
      "image/png": "[encoded data removed]",
      "text/plain": [
       "<Figure size 432x288 with 1 Axes>"
      ]
     },
     "metadata": {
      "needs_background": "light"
     },
     "output_type": "display_data"
    }
   ],
   "source": [
    "results = pd.DataFrame(gridsearchpcass.cv_results_)\n",
    "plt.plot(results['param_n_neighbors'],results['mean_test_score'],c='r',label='Test score')\n",
    "plt.plot(results['param_n_neighbors'],results['mean_train_score'],c='g',label='Train score')\n",
    "plt.xlabel('Number of Neighbors')\n",
    "plt.ylabel('Accuracy')\n",
    "plt.legend()"
   ]
  },
  {
   "cell_type": "markdown",
   "metadata": {},
   "source": [
    "#### Using Best parameters"
   ]
  },
  {
   "cell_type": "code",
   "execution_count": 52,
   "metadata": {},
   "outputs": [
    {
     "name": "stdout",
     "output_type": "stream",
     "text": [
      "Train score for KNN with PCA 0.785\n",
      "Test score for KNN with PCA 0.710\n"
     ]
    }
   ],
   "source": [
    "knnss = KNeighborsClassifier(n_neighbors=gridsearchpcass.best_params_['n_neighbors'])\n",
    "knnss.fit(X_trainpcass, y_trainss2)\n",
    "\n",
    "y_predss2 = knnss.predict(X_testpcass)\n",
    "\n",
    "print('Train score for KNN with PCA {:.3f}'.format(knnss.score(X_trainpcass,y_trainss2)))\n",
    "print('Test score for KNN with PCA {:.3f}'.format(knnss.score(X_testpcass,y_testss2)))"
   ]
  },
  {
   "cell_type": "code",
   "execution_count": 53,
   "metadata": {},
   "outputs": [
    {
     "name": "stdout",
     "output_type": "stream",
     "text": [
      "Matrix \n",
      "[[548 166]\n",
      " [116 144]]\n"
     ]
    }
   ],
   "source": [
    "conss = confusion_matrix(y_predss2,y_testss2)\n",
    "print(\"Matrix \\n{}\".format(conss))"
   ]
  },
  {
   "cell_type": "code",
   "execution_count": 54,
   "metadata": {},
   "outputs": [
    {
     "data": {
      "image/png": "[encoded data removed]",
      "text/plain": [
       "<Figure size 432x288 with 1 Axes>"
      ]
     },
     "metadata": {
      "needs_background": "light"
     },
     "output_type": "display_data"
    }
   ],
   "source": [
    "import mglearn\n",
    "%matplotlib inline\n",
    "\n",
    "imagess = mglearn.tools.heatmap(confusion_matrix(y_predss2, y_testss2), xlabel = 'Predicted_value',\n",
    "    ylabel='True_value', xticklabels = ['No:0','Yes:1'],\n",
    "    yticklabels=['No:0','Yes:1'], fmt=\"%d\")\n",
    "plt.title(\"Confusion matrix \")\n",
    "plt.gca().invert_yaxis()"
   ]
  },
  {
   "cell_type": "code",
   "execution_count": 55,
   "metadata": {},
   "outputs": [
    {
     "name": "stdout",
     "output_type": "stream",
     "text": [
      "              precision    recall  f1-score   support\n",
      "\n",
      "        No:0       0.77      0.83      0.80       664\n",
      "       Yes:1       0.55      0.46      0.51       310\n",
      "\n",
      "    accuracy                           0.71       974\n",
      "   macro avg       0.66      0.64      0.65       974\n",
      "weighted avg       0.70      0.71      0.70       974\n",
      "\n"
     ]
    }
   ],
   "source": [
    "print(classification_report(y_testss2, y_predss2, target_names=['No:0','Yes:1']))"
   ]
  },
  {
   "cell_type": "code",
   "execution_count": 56,
   "metadata": {},
   "outputs": [],
   "source": [
    "report_table = [['KNN Classification', 'K=19', knnss.score(X_trainpcass, y_trainss2)*100, knnss.score(X_testpcass,y_testss2)*100,\n",
    "                recall_score(y_testss2, knnss.predict(X_testpcass)),\n",
    "                 f1_score(y_testss2, knnss.predict(X_testpcass))]]"
   ]
  },
  {
   "cell_type": "markdown",
   "metadata": {},
   "source": [
    "## PCA for Logistic\n",
    "\n",
    "#### Grid search"
   ]
  },
  {
   "cell_type": "code",
   "execution_count": 57,
   "metadata": {},
   "outputs": [
    {
     "name": "stdout",
     "output_type": "stream",
     "text": [
      "Best parameters: {'C': 100, 'penalty': 'l2'}\n",
      "Best score: 0.517\n"
     ]
    }
   ],
   "source": [
    "paramgridss = {'C': [0.1, 1, 10, 100], \n",
    "               'penalty':['l1','l2']}\n",
    "\n",
    "gridsearchpcass = GridSearchCV(LogisticRegression(), paramgridss, cv=5, return_train_score=True,scoring='recall')\n",
    "gridsearchpcass.fit(X_trainpcass, y_trainss2)\n",
    "\n",
    "print(\"Best parameters: {}\".format(gridsearchpcass.best_params_))\n",
    "print(\"Best score: {:.3f}\".format(gridsearchpcass.best_score_))"
   ]
  },
  {
   "cell_type": "markdown",
   "metadata": {},
   "source": [
    "#### Using best parameters"
   ]
  },
  {
   "cell_type": "code",
   "execution_count": 58,
   "metadata": {},
   "outputs": [
    {
     "name": "stdout",
     "output_type": "stream",
     "text": [
      "Train score with PCA 0.750\n",
      "Test score with PCA  0.753\n"
     ]
    }
   ],
   "source": [
    "logss1 = LogisticRegression(C=gridsearchpcass.best_params_['C'],penalty='l2')\n",
    "\n",
    "logss1.fit(X_trainpcass, y_trainss2)\n",
    "y_predss2 = logss1.predict(X_testpcass)\n",
    "\n",
    "print('Train score with PCA {:.3f}'.format(logss1.score(X_trainpcass,y_trainss2)))\n",
    "print('Test score with PCA  {:.3f}'.format(logss1.score(X_testpcass,y_testss2)))"
   ]
  },
  {
   "cell_type": "code",
   "execution_count": 59,
   "metadata": {},
   "outputs": [
    {
     "name": "stdout",
     "output_type": "stream",
     "text": [
      "Matrix \n",
      "[[562 139]\n",
      " [102 171]]\n"
     ]
    }
   ],
   "source": [
    "conss = confusion_matrix(y_predss2,y_testss2)\n",
    "print(\"Matrix \\n{}\".format(conss))"
   ]
  },
  {
   "cell_type": "code",
   "execution_count": 60,
   "metadata": {},
   "outputs": [
    {
     "data": {
      "image/png": "[encoded data removed]",
      "text/plain": [
       "<Figure size 432x288 with 1 Axes>"
      ]
     },
     "metadata": {
      "needs_background": "light"
     },
     "output_type": "display_data"
    }
   ],
   "source": [
    "import mglearn\n",
    "%matplotlib inline\n",
    "\n",
    "imagess = mglearn.tools.heatmap(\n",
    "    confusion_matrix(y_predss2, y_testss2), xlabel = 'Predicted_value',\n",
    "    ylabel='True_value', xticklabels = ['No:0','Yes:1'],\n",
    "    yticklabels=['No:0','Yes:1'], fmt=\"%d\")\n",
    "plt.title(\"Confusion matrix \")\n",
    "plt.gca().invert_yaxis()\n"
   ]
  },
  {
   "cell_type": "code",
   "execution_count": 61,
   "metadata": {},
   "outputs": [
    {
     "name": "stdout",
     "output_type": "stream",
     "text": [
      "              precision    recall  f1-score   support\n",
      "\n",
      "        No:0       0.80      0.85      0.82       664\n",
      "       Yes:1       0.63      0.55      0.59       310\n",
      "\n",
      "    accuracy                           0.75       974\n",
      "   macro avg       0.71      0.70      0.71       974\n",
      "weighted avg       0.75      0.75      0.75       974\n",
      "\n"
     ]
    }
   ],
   "source": [
    "print(classification_report(y_testss2, y_predss2, target_names=['No:0','Yes:1']))"
   ]
  },
  {
   "cell_type": "code",
   "execution_count": 62,
   "metadata": {},
   "outputs": [],
   "source": [
    "report_table = report_table + [['Logistic Regression', 'C=0.1 & Penalty = l2', logss1.score(X_trainpcass, y_trainss2)*100, \n",
    "                                logss1.score(X_testpcass,y_testss2)*100,\n",
    "                                recall_score(y_testss2, logss1.predict(X_testpcass)),\n",
    "                                f1_score(y_testss2,logss1.predict(X_testpcass))]]"
   ]
  },
  {
   "cell_type": "markdown",
   "metadata": {},
   "source": [
    "## SVM with PCA\n",
    "\n",
    "#### Grid search"
   ]
  },
  {
   "cell_type": "code",
   "execution_count": 63,
   "metadata": {},
   "outputs": [
    {
     "name": "stdout",
     "output_type": "stream",
     "text": [
      "Fitting 5 folds for each of 80 candidates, totalling 400 fits\n",
      "Best parameters: {'C': 100, 'degree': 1, 'gamma': 0.1}\n",
      "Best cross-validation score: 0.5469879518072289\n"
     ]
    }
   ],
   "source": [
    "from sklearn.svm import SVC\n",
    "from sklearn.svm import LinearSVC\n",
    "paramgridss = {'C': [0.1, 1, 10, 100],\n",
    "              'gamma': [0.1, 1, 10, 100], \n",
    "              'degree':[1,2,3,4,5]}\n",
    "\n",
    "gridsearchpcass = GridSearchCV(SVC(random_state=0), paramgridss, cv=5, return_train_score=True, \n",
    "                               n_jobs = -1, verbose = True,scoring='recall')\n",
    "gridsearchpcass.fit(X_trainpcass, y_trainss2)\n",
    "\n",
    "print(\"Best parameters:\",(gridsearchpcass.best_params_))\n",
    "print(\"Best cross-validation score:\",(gridsearchpcass.best_score_))"
   ]
  },
  {
   "cell_type": "markdown",
   "metadata": {},
   "source": [
    "## Linear SVC"
   ]
  },
  {
   "cell_type": "code",
   "execution_count": 64,
   "metadata": {},
   "outputs": [
    {
     "name": "stdout",
     "output_type": "stream",
     "text": [
      "Train score for LinearSVC with PCA: 0.651\n",
      "Test score for LinearSVC with PCA : 0.645\n"
     ]
    }
   ],
   "source": [
    "linsvmss = LinearSVC(C=gridsearchpcass.best_params_['C'])\n",
    "\n",
    "linsvmss.fit(X_trainpcass, y_trainss2)\n",
    "y_predss2 = linsvmss.predict(X_testpcass)\n",
    "\n",
    "\n",
    "print('Train score for LinearSVC with PCA: {:.3f}'.format(linsvmss.score(X_trainpcass, y_trainss2)))\n",
    "print('Test score for LinearSVC with PCA : {:.3f}'.format(linsvmss.score(X_testpcass,y_testss2)))"
   ]
  },
  {
   "cell_type": "code",
   "execution_count": 65,
   "metadata": {},
   "outputs": [
    {
     "name": "stdout",
     "output_type": "stream",
     "text": [
      "Matrix \n",
      "[[516 198]\n",
      " [148 112]]\n"
     ]
    }
   ],
   "source": [
    "conss = confusion_matrix(y_predss2,y_testss2)\n",
    "print(\"Matrix \\n{}\".format(conss))"
   ]
  },
  {
   "cell_type": "code",
   "execution_count": 66,
   "metadata": {},
   "outputs": [
    {
     "data": {
      "image/png": "[encoded data removed]",
      "text/plain": [
       "<Figure size 432x288 with 1 Axes>"
      ]
     },
     "metadata": {
      "needs_background": "light"
     },
     "output_type": "display_data"
    }
   ],
   "source": [
    "import mglearn\n",
    "%matplotlib inline\n",
    "\n",
    "imagess = mglearn.tools.heatmap(confusion_matrix(y_predss2, y_testss2), xlabel = 'Predicted_value',\n",
    "    ylabel='True_value', xticklabels = ['No:0','Yes:1'],\n",
    "    yticklabels=['No:0','Yes:1'], fmt=\"%d\")\n",
    "plt.title(\"Confusion matrix \")\n",
    "plt.gca().invert_yaxis()"
   ]
  },
  {
   "cell_type": "code",
   "execution_count": 67,
   "metadata": {},
   "outputs": [
    {
     "name": "stdout",
     "output_type": "stream",
     "text": [
      "              precision    recall  f1-score   support\n",
      "\n",
      "        No:0       0.72      0.78      0.75       664\n",
      "       Yes:1       0.43      0.36      0.39       310\n",
      "\n",
      "    accuracy                           0.64       974\n",
      "   macro avg       0.58      0.57      0.57       974\n",
      "weighted avg       0.63      0.64      0.64       974\n",
      "\n"
     ]
    }
   ],
   "source": [
    "print(classification_report(y_testss2, y_predss2, target_names=['No:0','Yes:1']))"
   ]
  },
  {
   "cell_type": "code",
   "execution_count": 71,
   "metadata": {},
   "outputs": [],
   "source": [
    "report_table = report_table + [['SVC Linear ', 'C=1 ', linsvmss.score(X_trainpcass, y_trainss2)*100, \n",
    "                                linsvmss.score(X_testpcass,y_testss2)*100,\n",
    "                                recall_score(y_testss2, linsvmss.predict(X_testpcass)),\n",
    "                                f1_score(y_testss2,linsvmss.predict(X_testpcass))]]"
   ]
  },
  {
   "cell_type": "markdown",
   "metadata": {},
   "source": [
    "## svc kernel \"rbf\""
   ]
  },
  {
   "cell_type": "code",
   "execution_count": 72,
   "metadata": {},
   "outputs": [
    {
     "name": "stdout",
     "output_type": "stream",
     "text": [
      "Train score for SVC kernel - rbf with PCA: 0.793\n",
      "Test score for SVC kernel - rbf with PCA : 0.738\n"
     ]
    }
   ],
   "source": [
    "rbfss = SVC(kernel='rbf', gamma=gridsearchpcass.best_params_['gamma'], \n",
    "            C=gridsearchpcass.best_params_['C'],random_state=0)\n",
    "\n",
    "\n",
    "rbfss.fit(X_trainpcass, y_trainss2)\n",
    "y_predss2 = rbfss.predict(X_testpcass)\n",
    "\n",
    "print('Train score for SVC kernel - rbf with PCA: {:.3f}'.format(rbfss.score(X_trainpcass,y_trainss2)))\n",
    "print('Test score for SVC kernel - rbf with PCA : {:.3f}'.format(rbfss.score(X_testpcass,y_testss2)))"
   ]
  },
  {
   "cell_type": "code",
   "execution_count": 73,
   "metadata": {},
   "outputs": [
    {
     "name": "stdout",
     "output_type": "stream",
     "text": [
      "matrix \n",
      "[[544 135]\n",
      " [120 175]]\n"
     ]
    }
   ],
   "source": [
    "conss = confusion_matrix(y_predss2,y_testss2)\n",
    "print(\"matrix \\n{}\".format(conss))"
   ]
  },
  {
   "cell_type": "code",
   "execution_count": 74,
   "metadata": {},
   "outputs": [
    {
     "data": {
      "image/png": "[encoded data removed]",
      "text/plain": [
       "<Figure size 432x288 with 1 Axes>"
      ]
     },
     "metadata": {
      "needs_background": "light"
     },
     "output_type": "display_data"
    }
   ],
   "source": [
    "import mglearn\n",
    "%matplotlib inline\n",
    "\n",
    "imagess = mglearn.tools.heatmap(confusion_matrix(y_predss2, y_testss2), xlabel = 'Predicted_value',\n",
    "    ylabel='True_value', xticklabels = ['No:0','Yes:1'],\n",
    "    yticklabels=['No:0','Yes:1'], fmt=\"%d\")\n",
    "plt.title(\"Confusion matrix \")\n",
    "plt.gca().invert_yaxis()"
   ]
  },
  {
   "cell_type": "code",
   "execution_count": 75,
   "metadata": {},
   "outputs": [
    {
     "name": "stdout",
     "output_type": "stream",
     "text": [
      "              precision    recall  f1-score   support\n",
      "\n",
      "        No:0       0.80      0.82      0.81       664\n",
      "       Yes:1       0.59      0.56      0.58       310\n",
      "\n",
      "    accuracy                           0.74       974\n",
      "   macro avg       0.70      0.69      0.69       974\n",
      "weighted avg       0.73      0.74      0.74       974\n",
      "\n"
     ]
    }
   ],
   "source": [
    "print(classification_report(y_testss2, y_predss2, target_names=['No:0','Yes:1']))"
   ]
  },
  {
   "cell_type": "code",
   "execution_count": 76,
   "metadata": {},
   "outputs": [],
   "source": [
    "report_table = report_table + [['SVC RBF ', 'C=1 & Penalty = l2', rbfss.score(X_trainpcass, y_trainss2)*100, \n",
    "                                rbfss.score(X_testpcass,y_testss2)*100,\n",
    "                                recall_score(y_testss2, rbfss.predict(X_testpcass)),\n",
    "                                f1_score(y_testss2,rbfss.predict(X_testpcass))]]"
   ]
  },
  {
   "cell_type": "markdown",
   "metadata": {},
   "source": [
    "### SVC kernel \"Linear\""
   ]
  },
  {
   "cell_type": "code",
   "execution_count": 77,
   "metadata": {},
   "outputs": [
    {
     "name": "stdout",
     "output_type": "stream",
     "text": [
      "Train score for SVC kernel - Linear with PCA: 0.750\n",
      "Test score for SVC kernel - Linear with PCA : 0.744\n"
     ]
    }
   ],
   "source": [
    "linss = SVC(kernel='linear', C=gridsearchpcass.best_params_['C'],random_state=0)\n",
    "\n",
    "linss.fit(X_trainpcass, y_trainss2)\n",
    "y_predss2 = linss.predict(X_testpcass)\n",
    "\n",
    "print('Train score for SVC kernel - Linear with PCA: {:.3f}'.format(linss.score(X_trainpcass,y_trainss2)))\n",
    "print('Test score for SVC kernel - Linear with PCA : {:.3f}'.format(linss.score(X_testpcass,y_testss2)))"
   ]
  },
  {
   "cell_type": "code",
   "execution_count": 78,
   "metadata": {},
   "outputs": [
    {
     "name": "stdout",
     "output_type": "stream",
     "text": [
      "matrix \n",
      "[[548 133]\n",
      " [116 177]]\n"
     ]
    }
   ],
   "source": [
    "conss = confusion_matrix(y_predss2,y_testss2)\n",
    "print(\"matrix \\n{}\".format(conss))"
   ]
  },
  {
   "cell_type": "code",
   "execution_count": 79,
   "metadata": {},
   "outputs": [
    {
     "data": {
      "image/png": "[encoded data removed]",
      "text/plain": [
       "<Figure size 432x288 with 1 Axes>"
      ]
     },
     "metadata": {
      "needs_background": "light"
     },
     "output_type": "display_data"
    }
   ],
   "source": [
    "import mglearn\n",
    "%matplotlib inline\n",
    "\n",
    "imagess = mglearn.tools.heatmap(confusion_matrix(y_predss2, y_testss2), xlabel = 'Predicted_value',\n",
    "    ylabel='True_value', xticklabels = ['No:0','Yes:1'],\n",
    "    yticklabels=['No:0','Yes:1'], fmt=\"%d\")\n",
    "plt.title(\"Confusion matrix \")\n",
    "plt.gca().invert_yaxis()"
   ]
  },
  {
   "cell_type": "code",
   "execution_count": 80,
   "metadata": {},
   "outputs": [
    {
     "name": "stdout",
     "output_type": "stream",
     "text": [
      "              precision    recall  f1-score   support\n",
      "\n",
      "        No:0       0.80      0.83      0.81       664\n",
      "       Yes:1       0.60      0.57      0.59       310\n",
      "\n",
      "    accuracy                           0.74       974\n",
      "   macro avg       0.70      0.70      0.70       974\n",
      "weighted avg       0.74      0.74      0.74       974\n",
      "\n"
     ]
    }
   ],
   "source": [
    "print(classification_report(y_testss2, y_predss2, target_names=['No:0','Yes:1']))"
   ]
  },
  {
   "cell_type": "code",
   "execution_count": 81,
   "metadata": {},
   "outputs": [],
   "source": [
    "report_table = report_table + [['SVC kernal Linear ', 'C=1 & Penalty = l2', linss.score(X_trainpcass, y_trainss2)*100, \n",
    "                                linss.score(X_testpcass,y_testss2)*100,\n",
    "                                recall_score(y_testss2, linss.predict(X_testpcass)),\n",
    "                                f1_score(y_testss2,linss.predict(X_testpcass))]]\n"
   ]
  },
  {
   "cell_type": "markdown",
   "metadata": {},
   "source": [
    "### SVC with \"Poly\""
   ]
  },
  {
   "cell_type": "code",
   "execution_count": 82,
   "metadata": {},
   "outputs": [
    {
     "name": "stdout",
     "output_type": "stream",
     "text": [
      "Train score for SVC kernel - poly with PCA: 0.776\n",
      "Test score for SVC kernel - poly with PCA : 0.735\n"
     ]
    }
   ],
   "source": [
    "polyss = SVC(kernel='poly', C=gridsearchpcass.best_params_['C'])\n",
    "\n",
    "polyss.fit(X_trainpcass, y_trainss2)\n",
    "y_predss2 = polyss.predict(X_testpcass)\n",
    "\n",
    "print('Train score for SVC kernel - poly with PCA: {:.3f}'.format(polyss.score(X_trainpcass,y_trainss2)))\n",
    "print('Test score for SVC kernel - poly with PCA : {:.3f}'.format(polyss.score(X_testpcass,y_testss2)))"
   ]
  },
  {
   "cell_type": "code",
   "execution_count": 83,
   "metadata": {},
   "outputs": [
    {
     "name": "stdout",
     "output_type": "stream",
     "text": [
      "matrix \n",
      "[[538 132]\n",
      " [126 178]]\n"
     ]
    }
   ],
   "source": [
    "conss = confusion_matrix(y_predss2,y_testss2)\n",
    "print(\"matrix \\n{}\".format(conss))"
   ]
  },
  {
   "cell_type": "code",
   "execution_count": 84,
   "metadata": {},
   "outputs": [
    {
     "data": {
      "image/png": "[encoded data removed]",
      "text/plain": [
       "<Figure size 432x288 with 1 Axes>"
      ]
     },
     "metadata": {
      "needs_background": "light"
     },
     "output_type": "display_data"
    }
   ],
   "source": [
    "import mglearn\n",
    "%matplotlib inline\n",
    "\n",
    "imagess = mglearn.tools.heatmap(\n",
    "    confusion_matrix(y_predss2, y_testss2), xlabel = 'Predicted_value',\n",
    "    ylabel='True_value', xticklabels = ['No:0','Yes:1'],\n",
    "    yticklabels=['No:0','Yes:1'], fmt=\"%d\")\n",
    "plt.title(\"Confusion matrix \")\n",
    "plt.gca().invert_yaxis()"
   ]
  },
  {
   "cell_type": "code",
   "execution_count": 85,
   "metadata": {},
   "outputs": [
    {
     "name": "stdout",
     "output_type": "stream",
     "text": [
      "              precision    recall  f1-score   support\n",
      "\n",
      "        No:0       0.80      0.81      0.81       664\n",
      "       Yes:1       0.59      0.57      0.58       310\n",
      "\n",
      "    accuracy                           0.74       974\n",
      "   macro avg       0.69      0.69      0.69       974\n",
      "weighted avg       0.73      0.74      0.73       974\n",
      "\n"
     ]
    }
   ],
   "source": [
    "print(classification_report(y_testss2, y_predss2, target_names=['No:0','Yes:1']))"
   ]
  },
  {
   "cell_type": "code",
   "execution_count": 86,
   "metadata": {},
   "outputs": [],
   "source": [
    "report_table = report_table + [['SVC Poly ', 'C=1 & Penalty = l2', polyss.score(X_trainpcass, y_trainss2)*100, \n",
    "                                polyss.score(X_testpcass,y_testss2)*100,\n",
    "                                recall_score(y_testss2, polyss.predict(X_testpcass)),\n",
    "                                f1_score(y_testss2,polyss.predict(X_testpcass))]]"
   ]
  },
  {
   "cell_type": "markdown",
   "metadata": {},
   "source": [
    "### PCA with Decision Tree\n",
    "\n",
    "#### Grid search for Decision Tree"
   ]
  },
  {
   "cell_type": "code",
   "execution_count": 87,
   "metadata": {},
   "outputs": [
    {
     "name": "stdout",
     "output_type": "stream",
     "text": [
      "Fitting 5 folds for each of 19 candidates, totalling 95 fits\n",
      "Best parameters: {'max_depth': 8}\n",
      "Best cross-validation score: 0.5220883534136547\n"
     ]
    }
   ],
   "source": [
    "paramgridss = {'max_depth' : range(1,20)}\n",
    "\n",
    "gridsearchpcass = GridSearchCV(DecisionTreeClassifier(random_state=0), paramgridss, cv=5, return_train_score=True, \n",
    "                               n_jobs = -1, verbose = True,scoring='recall')\n",
    "gridsearchpcass.fit(X_trainpcass, y_trainss2)\n",
    "\n",
    "print(\"Best parameters:\",(gridsearchpcass.best_params_))\n",
    "print(\"Best cross-validation score:\",(gridsearchpcass.best_score_))"
   ]
  },
  {
   "cell_type": "code",
   "execution_count": 88,
   "metadata": {},
   "outputs": [
    {
     "name": "stdout",
     "output_type": "stream",
     "text": [
      "Train Score with PCA:  0.8192554557124518\n",
      "Test Score  with PCA : 0.7094455852156057\n"
     ]
    }
   ],
   "source": [
    "dtreess = DecisionTreeClassifier(max_depth=gridsearchpcass.best_params_['max_depth'], random_state=0)\n",
    "dtreess.fit(X_trainpcass, y_trainss2)\n",
    "y_predss2 = dtreess.predict(X_testpcass)\n",
    "\n",
    "\n",
    "print(\"Train Score with PCA: \",(dtreess.score(X_trainpcass, y_trainss2)))\n",
    "print(\"Test Score  with PCA :\",(dtreess.score(X_testpcass, y_testss2)))"
   ]
  },
  {
   "cell_type": "code",
   "execution_count": 89,
   "metadata": {},
   "outputs": [
    {
     "name": "stdout",
     "output_type": "stream",
     "text": [
      "matrix \n",
      "[[521 140]\n",
      " [143 170]]\n"
     ]
    }
   ],
   "source": [
    "conss = confusion_matrix(y_predss2,y_testss2)\n",
    "print(\"matrix \\n{}\".format(conss))"
   ]
  },
  {
   "cell_type": "code",
   "execution_count": 90,
   "metadata": {},
   "outputs": [
    {
     "data": {
      "image/png": "[encoded data removed]",
      "text/plain": [
       "<Figure size 432x288 with 1 Axes>"
      ]
     },
     "metadata": {
      "needs_background": "light"
     },
     "output_type": "display_data"
    }
   ],
   "source": [
    "import mglearn\n",
    "%matplotlib inline\n",
    "\n",
    "imagess = mglearn.tools.heatmap(confusion_matrix(y_predss2, y_testss2), xlabel = 'Predicted_value',\n",
    "    ylabel='True_value', xticklabels = ['No:0','Yes:1'],\n",
    "    yticklabels=['No:0','Yes:1'], fmt=\"%d\")\n",
    "plt.title(\"Confusion matrix \")\n",
    "plt.gca().invert_yaxis()\n"
   ]
  },
  {
   "cell_type": "code",
   "execution_count": 91,
   "metadata": {},
   "outputs": [
    {
     "name": "stdout",
     "output_type": "stream",
     "text": [
      "              precision    recall  f1-score   support\n",
      "\n",
      "        No:0       0.79      0.78      0.79       664\n",
      "       Yes:1       0.54      0.55      0.55       310\n",
      "\n",
      "    accuracy                           0.71       974\n",
      "   macro avg       0.67      0.67      0.67       974\n",
      "weighted avg       0.71      0.71      0.71       974\n",
      "\n"
     ]
    }
   ],
   "source": [
    "print(classification_report(y_testss2, y_predss2, target_names=['No:0','Yes:1']))"
   ]
  },
  {
   "cell_type": "code",
   "execution_count": 92,
   "metadata": {},
   "outputs": [],
   "source": [
    "report_table = report_table + [['Decision Tree ', 'max_depth=4', dtreess.score(X_trainpcass, y_trainss2)*100, \n",
    "                                dtreess.score(X_testpcass,y_testss2)*100,\n",
    "                                recall_score(y_testss2, dtreess.predict(X_testpcass)),\n",
    "                                f1_score(y_testss2,dtreess.predict(X_testpcass))]]"
   ]
  },
  {
   "cell_type": "code",
   "execution_count": 93,
   "metadata": {},
   "outputs": [
    {
     "data": {
      "text/html": [
       "<div>\n",
       "<style scoped>\n",
       "    .dataframe tbody tr th:only-of-type {\n",
       "        vertical-align: middle;\n",
       "    }\n",
       "\n",
       "    .dataframe tbody tr th {\n",
       "        vertical-align: top;\n",
       "    }\n",
       "\n",
       "    .dataframe thead th {\n",
       "        text-align: right;\n",
       "    }\n",
       "</style>\n",
       "<table border=\"1\" class=\"dataframe\">\n",
       "  <thead>\n",
       "    <tr style=\"text-align: right;\">\n",
       "      <th></th>\n",
       "      <th>Model name</th>\n",
       "      <th>Model parameter</th>\n",
       "      <th>Train accuracy %</th>\n",
       "      <th>Test accuracy %</th>\n",
       "      <th>recall_score</th>\n",
       "      <th>F1- score</th>\n",
       "    </tr>\n",
       "    <tr>\n",
       "      <th>Model name</th>\n",
       "      <th></th>\n",
       "      <th></th>\n",
       "      <th></th>\n",
       "      <th></th>\n",
       "      <th></th>\n",
       "      <th></th>\n",
       "    </tr>\n",
       "  </thead>\n",
       "  <tbody>\n",
       "    <tr>\n",
       "      <th>KNN Classification</th>\n",
       "      <td>KNN Classification</td>\n",
       "      <td>K=19</td>\n",
       "      <td>78.485</td>\n",
       "      <td>71.047</td>\n",
       "      <td>0.465</td>\n",
       "      <td>0.505</td>\n",
       "    </tr>\n",
       "    <tr>\n",
       "      <th>Logistic Regression</th>\n",
       "      <td>Logistic Regression</td>\n",
       "      <td>C=0.1 &amp; Penalty = l2</td>\n",
       "      <td>74.994</td>\n",
       "      <td>75.257</td>\n",
       "      <td>0.552</td>\n",
       "      <td>0.587</td>\n",
       "    </tr>\n",
       "    <tr>\n",
       "      <th>SVC Linear</th>\n",
       "      <td>SVC Linear</td>\n",
       "      <td>C=1</td>\n",
       "      <td>65.109</td>\n",
       "      <td>64.476</td>\n",
       "      <td>0.361</td>\n",
       "      <td>0.393</td>\n",
       "    </tr>\n",
       "    <tr>\n",
       "      <th>SVC RBF</th>\n",
       "      <td>SVC RBF</td>\n",
       "      <td>C=1 &amp; Penalty = l2</td>\n",
       "      <td>79.281</td>\n",
       "      <td>73.819</td>\n",
       "      <td>0.565</td>\n",
       "      <td>0.579</td>\n",
       "    </tr>\n",
       "    <tr>\n",
       "      <th>SVC kernal Linear</th>\n",
       "      <td>SVC kernal Linear</td>\n",
       "      <td>C=1 &amp; Penalty = l2</td>\n",
       "      <td>74.994</td>\n",
       "      <td>74.435</td>\n",
       "      <td>0.571</td>\n",
       "      <td>0.587</td>\n",
       "    </tr>\n",
       "    <tr>\n",
       "      <th>SVC Poly</th>\n",
       "      <td>SVC Poly</td>\n",
       "      <td>C=1 &amp; Penalty = l2</td>\n",
       "      <td>77.612</td>\n",
       "      <td>73.511</td>\n",
       "      <td>0.574</td>\n",
       "      <td>0.580</td>\n",
       "    </tr>\n",
       "    <tr>\n",
       "      <th>Decision Tree</th>\n",
       "      <td>Decision Tree</td>\n",
       "      <td>max_depth=4</td>\n",
       "      <td>81.926</td>\n",
       "      <td>70.945</td>\n",
       "      <td>0.548</td>\n",
       "      <td>0.546</td>\n",
       "    </tr>\n",
       "  </tbody>\n",
       "</table>\n",
       "</div>"
      ],
      "text/plain": [
       "                              Model name       Model parameter  \\\n",
       "Model name                                                       \n",
       "KNN Classification    KNN Classification                  K=19   \n",
       "Logistic Regression  Logistic Regression  C=0.1 & Penalty = l2   \n",
       "SVC Linear                   SVC Linear                   C=1    \n",
       "SVC RBF                         SVC RBF     C=1 & Penalty = l2   \n",
       "SVC kernal Linear     SVC kernal Linear     C=1 & Penalty = l2   \n",
       "SVC Poly                       SVC Poly     C=1 & Penalty = l2   \n",
       "Decision Tree             Decision Tree            max_depth=4   \n",
       "\n",
       "                     Train accuracy %  Test accuracy %  recall_score  \\\n",
       "Model name                                                             \n",
       "KNN Classification             78.485           71.047         0.465   \n",
       "Logistic Regression            74.994           75.257         0.552   \n",
       "SVC Linear                     65.109           64.476         0.361   \n",
       "SVC RBF                        79.281           73.819         0.565   \n",
       "SVC kernal Linear              74.994           74.435         0.571   \n",
       "SVC Poly                       77.612           73.511         0.574   \n",
       "Decision Tree                  81.926           70.945         0.548   \n",
       "\n",
       "                     F1- score  \n",
       "Model name                      \n",
       "KNN Classification       0.505  \n",
       "Logistic Regression      0.587  \n",
       "SVC Linear               0.393  \n",
       "SVC RBF                  0.579  \n",
       "SVC kernal Linear        0.587  \n",
       "SVC Poly                 0.580  \n",
       "Decision Tree            0.546  "
      ]
     },
     "execution_count": 93,
     "metadata": {},
     "output_type": "execute_result"
    }
   ],
   "source": [
    "report = pd.DataFrame(report_table,columns = ['Model name','Model parameter', 'Train accuracy %', 'Test accuracy %','recall_score', 'F1- score'])\n",
    "report.index = report['Model name']\n",
    "report.round(3)"
   ]
  },
  {
   "cell_type": "markdown",
   "metadata": {},
   "source": [
    "# Comparision of result of PCA for all models with project 1"
   ]
  },
  {
   "cell_type": "markdown",
   "metadata": {},
   "source": [
    "#### For all the models the test accuracy and recall score after PCA decreased. \n",
    "#### Compared to our model in Project 1 where Linear SVM was best model after PCA there was drop of 35% in recall score in that model.\n",
    "#### With PCA our best model is SVC Kernal Linear. "
   ]
  },
  {
   "cell_type": "code",
   "execution_count": null,
   "metadata": {},
   "outputs": [
    {
     "data": {
      "text/html": [
       "<div>\n",
       "<style scoped>\n",
       "    .dataframe tbody tr th:only-of-type {\n",
       "        vertical-align: middle;\n",
       "    }\n",
       "\n",
       "    .dataframe tbody tr th {\n",
       "        vertical-align: top;\n",
       "    }\n",
       "\n",
       "    .dataframe thead th {\n",
       "        text-align: right;\n",
       "    }\n",
       "</style>\n",
       "<table border=\"1\" class=\"dataframe\">\n",
       "  <thead>\n",
       "    <tr style=\"text-align: right;\">\n",
       "      <th></th>\n",
       "      <th>Model name</th>\n",
       "      <th>Model parameter</th>\n",
       "      <th>Train accuracy</th>\n",
       "      <th>Test accuracy</th>\n",
       "      <th>recall_Score</th>\n",
       "      <th>Precision_Score</th>\n",
       "      <th>F1_Score</th>\n",
       "    </tr>\n",
       "    <tr>\n",
       "      <th>Model name</th>\n",
       "      <th></th>\n",
       "      <th></th>\n",
       "      <th></th>\n",
       "      <th></th>\n",
       "      <th></th>\n",
       "      <th></th>\n",
       "      <th></th>\n",
       "    </tr>\n",
       "  </thead>\n",
       "  <tbody>\n",
       "    <tr>\n",
       "      <th>KNN Classification</th>\n",
       "      <td>KNN Classification</td>\n",
       "      <td>{'metric': 'euclidean', 'n_neighbors': 18, 'p'...</td>\n",
       "      <td>0.998642</td>\n",
       "      <td>0.728013</td>\n",
       "      <td>0.563452</td>\n",
       "      <td>0.578125</td>\n",
       "      <td>0.570694</td>\n",
       "    </tr>\n",
       "    <tr>\n",
       "      <th>Logistic Regression</th>\n",
       "      <td>Logistic Regression</td>\n",
       "      <td>{'C': 0.5310526315789474, 'max_iter': 13, 'pen...</td>\n",
       "      <td>0.766368</td>\n",
       "      <td>0.754886</td>\n",
       "      <td>0.576142</td>\n",
       "      <td>0.628809</td>\n",
       "      <td>0.601325</td>\n",
       "    </tr>\n",
       "    <tr>\n",
       "      <th>Logistic Regression</th>\n",
       "      <td>Logistic Regression</td>\n",
       "      <td>{'C': 0.5310526315789474, 'max_iter': 13, 'pen...</td>\n",
       "      <td>0.766368</td>\n",
       "      <td>0.754886</td>\n",
       "      <td>0.576142</td>\n",
       "      <td>0.628809</td>\n",
       "      <td>0.601325</td>\n",
       "    </tr>\n",
       "    <tr>\n",
       "      <th>Linear SVM Classifier</th>\n",
       "      <td>Linear SVM Classifier</td>\n",
       "      <td>{'C': 100, 'max_iter': 20}</td>\n",
       "      <td>0.720185</td>\n",
       "      <td>0.728013</td>\n",
       "      <td>0.697970</td>\n",
       "      <td>0.561224</td>\n",
       "      <td>0.622172</td>\n",
       "    </tr>\n",
       "    <tr>\n",
       "      <th>Kernalized Linear Classifier</th>\n",
       "      <td>Kernalized Linear Classifier</td>\n",
       "      <td>{'C': 10, 'gamma': 0.0001, 'kernel': 'linear'}</td>\n",
       "      <td>0.765010</td>\n",
       "      <td>0.755700</td>\n",
       "      <td>0.532982</td>\n",
       "      <td>0.633229</td>\n",
       "      <td>0.578797</td>\n",
       "    </tr>\n",
       "    <tr>\n",
       "      <th>Kernalized poly SVM Classifier</th>\n",
       "      <td>Kernalized poly SVM Classifier</td>\n",
       "      <td>{'C': 10, 'gamma': 0.0001, 'kernel': 'linear'}</td>\n",
       "      <td>0.769899</td>\n",
       "      <td>0.785831</td>\n",
       "      <td>0.554090</td>\n",
       "      <td>0.619469</td>\n",
       "      <td>0.584958</td>\n",
       "    </tr>\n",
       "    <tr>\n",
       "      <th>Decision Tress Classifier</th>\n",
       "      <td>Decision Tress Classifier</td>\n",
       "      <td>{'max_depth': 5, 'min_samples_leaf': 2}</td>\n",
       "      <td>0.809291</td>\n",
       "      <td>0.728013</td>\n",
       "      <td>0.532995</td>\n",
       "      <td>0.583333</td>\n",
       "      <td>0.557029</td>\n",
       "    </tr>\n",
       "  </tbody>\n",
       "</table>\n",
       "</div>"
      ],
      "text/plain": [
       "                                                    Model name  \\\n",
       "Model name                                                       \n",
       "KNN Classification                          KNN Classification   \n",
       "Logistic Regression                        Logistic Regression   \n",
       "Logistic Regression                        Logistic Regression   \n",
       "Linear SVM Classifier                    Linear SVM Classifier   \n",
       "Kernalized Linear Classifier      Kernalized Linear Classifier   \n",
       "Kernalized poly SVM Classifier  Kernalized poly SVM Classifier   \n",
       "Decision Tress Classifier            Decision Tress Classifier   \n",
       "\n",
       "                                                                  Model parameter  \\\n",
       "Model name                                                                          \n",
       "KNN Classification              {'metric': 'euclidean', 'n_neighbors': 18, 'p'...   \n",
       "Logistic Regression             {'C': 0.5310526315789474, 'max_iter': 13, 'pen...   \n",
       "Logistic Regression             {'C': 0.5310526315789474, 'max_iter': 13, 'pen...   \n",
       "Linear SVM Classifier                                  {'C': 100, 'max_iter': 20}   \n",
       "Kernalized Linear Classifier       {'C': 10, 'gamma': 0.0001, 'kernel': 'linear'}   \n",
       "Kernalized poly SVM Classifier     {'C': 10, 'gamma': 0.0001, 'kernel': 'linear'}   \n",
       "Decision Tress Classifier                 {'max_depth': 5, 'min_samples_leaf': 2}   \n",
       "\n",
       "                                Train accuracy   Test accuracy   recall_Score  \\\n",
       "Model name                                                                      \n",
       "KNN Classification                     0.998642        0.728013      0.563452   \n",
       "Logistic Regression                    0.766368        0.754886      0.576142   \n",
       "Logistic Regression                    0.766368        0.754886      0.576142   \n",
       "Linear SVM Classifier                  0.720185        0.728013      0.697970   \n",
       "Kernalized Linear Classifier           0.765010        0.755700      0.532982   \n",
       "Kernalized poly SVM Classifier         0.769899        0.785831      0.554090   \n",
       "Decision Tress Classifier              0.809291        0.728013      0.532995   \n",
       "\n",
       "                                Precision_Score  F1_Score  \n",
       "Model name                                                 \n",
       "KNN Classification                     0.578125  0.570694  \n",
       "Logistic Regression                    0.628809  0.601325  \n",
       "Logistic Regression                    0.628809  0.601325  \n",
       "Linear SVM Classifier                  0.561224  0.622172  \n",
       "Kernalized Linear Classifier           0.633229  0.578797  \n",
       "Kernalized poly SVM Classifier         0.619469  0.584958  \n",
       "Decision Tress Classifier              0.583333  0.557029  "
      ]
     },
     "metadata": {},
     "output_type": "display_data"
    }
   ],
   "source": [
    "CompTable1 = pd.DataFrame(CompTable,columns = ['Model name','Model parameter', 'Train accuracy ', 'Test accuracy ','recall_Score',\n",
    "                                              'Precision_Score','F1_Score'])\n",
    "CompTable1.index = CompTable1['Model name']\n",
    "CompTable1.round(2)\n",
    "CompTable1"
   ]
  },
  {
   "cell_type": "markdown",
   "metadata": {},
   "source": [
    "# Neural Networks"
   ]
  },
  {
   "cell_type": "code",
   "execution_count": 11,
   "metadata": {},
   "outputs": [],
   "source": [
    "from keras.models import Sequential\n",
    "from keras.layers import Dense\n",
    "from keras.models import Sequential\n",
    "from keras.layers import Dense\n",
    "import tensorflow as tf\n",
    "from scikeras.wrappers import KerasClassifier\n",
    "import pandas as pd\n",
    "import numpy as np\n",
    "from sklearn.model_selection import GridSearchCV\n",
    "from keras import Sequential\n"
   ]
  },
  {
   "cell_type": "code",
   "execution_count": 12,
   "metadata": {},
   "outputs": [],
   "source": [
    "def build_model():\n",
    "    model = Sequential()\n",
    "    model.add(Dense(12, input_dim = X_trainss2.shape[1], activation='relu', kernel_initializer = 'zero', name = 'input_layer'))\n",
    "    model.add(Dense(8, activation='relu', name = 'hidden_layer'))\n",
    "    model.add(Dense(1, activation='sigmoid'))\n",
    "    model.compile(loss = 'binary_crossentropy',optimizer = 'adam', metrics = ['accuracy'])\n",
    "    return model\n"
   ]
  },
  {
   "cell_type": "code",
   "execution_count": 13,
   "metadata": {},
   "outputs": [],
   "source": [
    "import warnings\n",
    "warnings.filterwarnings('ignore')"
   ]
  },
  {
   "cell_type": "code",
   "execution_count": 14,
   "metadata": {},
   "outputs": [],
   "source": [
    "model = KerasClassifier(build_fn = build_model, verbose = 0,random_state=0)"
   ]
  },
  {
   "cell_type": "code",
   "execution_count": 18,
   "metadata": {},
   "outputs": [],
   "source": [
    "tf.random.set_seed(0)"
   ]
  },
  {
   "cell_type": "code",
   "execution_count": 16,
   "metadata": {},
   "outputs": [
    {
     "name": "stderr",
     "output_type": "stream",
     "text": [
      "/Library/Frameworks/Python.framework/Versions/3.9/lib/python3.9/site-packages/scikeras/wrappers.py:289: UserWarning: ``build_fn`` will be renamed to ``model`` in a future release, at which point use of ``build_fn`` will raise an Error instead.\n",
      "  warnings.warn(\n",
      "/Library/Frameworks/Python.framework/Versions/3.9/lib/python3.9/site-packages/scikeras/wrappers.py:289: UserWarning: ``build_fn`` will be renamed to ``model`` in a future release, at which point use of ``build_fn`` will raise an Error instead.\n",
      "  warnings.warn(\n",
      "/Library/Frameworks/Python.framework/Versions/3.9/lib/python3.9/site-packages/scikeras/wrappers.py:289: UserWarning: ``build_fn`` will be renamed to ``model`` in a future release, at which point use of ``build_fn`` will raise an Error instead.\n",
      "  warnings.warn(\n",
      "/Library/Frameworks/Python.framework/Versions/3.9/lib/python3.9/site-packages/scikeras/_utils.py:27: UserWarning: Setting the random state for TF involves irreversibly re-setting the random seed. This may have unintended side effects.\n",
      "  warnings.warn(\n",
      "/Library/Frameworks/Python.framework/Versions/3.9/lib/python3.9/site-packages/scikeras/_utils.py:27: UserWarning: Setting the random state for TF involves irreversibly re-setting the random seed. This may have unintended side effects.\n",
      "  warnings.warn(\n",
      "/Library/Frameworks/Python.framework/Versions/3.9/lib/python3.9/site-packages/scikeras/_utils.py:27: UserWarning: Setting the random state for TF involves irreversibly re-setting the random seed. This may have unintended side effects.\n",
      "  warnings.warn(\n",
      "/Library/Frameworks/Python.framework/Versions/3.9/lib/python3.9/site-packages/scikeras/wrappers.py:289: UserWarning: ``build_fn`` will be renamed to ``model`` in a future release, at which point use of ``build_fn`` will raise an Error instead.\n",
      "  warnings.warn(\n",
      "/Library/Frameworks/Python.framework/Versions/3.9/lib/python3.9/site-packages/scikeras/_utils.py:27: UserWarning: Setting the random state for TF involves irreversibly re-setting the random seed. This may have unintended side effects.\n",
      "  warnings.warn(\n",
      "2021-11-21 17:40:34.914722: I tensorflow/core/platform/cpu_feature_guard.cc:151] This TensorFlow binary is optimized with oneAPI Deep Neural Network Library (oneDNN) to use the following CPU instructions in performance-critical operations:  AVX2 FMA\n",
      "To enable them in other operations, rebuild TensorFlow with the appropriate compiler flags.\n",
      "2021-11-21 17:40:34.914673: I tensorflow/core/platform/cpu_feature_guard.cc:151] This TensorFlow binary is optimized with oneAPI Deep Neural Network Library (oneDNN) to use the following CPU instructions in performance-critical operations:  AVX2 FMA\n",
      "To enable them in other operations, rebuild TensorFlow with the appropriate compiler flags.\n",
      "2021-11-21 17:40:34.914670: I tensorflow/core/platform/cpu_feature_guard.cc:151] This TensorFlow binary is optimized with oneAPI Deep Neural Network Library (oneDNN) to use the following CPU instructions in performance-critical operations:  AVX2 FMA\n",
      "To enable them in other operations, rebuild TensorFlow with the appropriate compiler flags.\n",
      "2021-11-21 17:40:34.914696: I tensorflow/core/platform/cpu_feature_guard.cc:151] This TensorFlow binary is optimized with oneAPI Deep Neural Network Library (oneDNN) to use the following CPU instructions in performance-critical operations:  AVX2 FMA\n",
      "To enable them in other operations, rebuild TensorFlow with the appropriate compiler flags.\n",
      "/Library/Frameworks/Python.framework/Versions/3.9/lib/python3.9/site-packages/scikeras/_utils.py:27: UserWarning: Setting the random state for TF involves irreversibly re-setting the random seed. This may have unintended side effects.\n",
      "  warnings.warn(\n",
      "/Library/Frameworks/Python.framework/Versions/3.9/lib/python3.9/site-packages/scikeras/_utils.py:27: UserWarning: Setting the random state for TF involves irreversibly re-setting the random seed. This may have unintended side effects.\n",
      "  warnings.warn(\n",
      "/Library/Frameworks/Python.framework/Versions/3.9/lib/python3.9/site-packages/scikeras/_utils.py:27: UserWarning: Setting the random state for TF involves irreversibly re-setting the random seed. This may have unintended side effects.\n",
      "  warnings.warn(\n",
      "/Library/Frameworks/Python.framework/Versions/3.9/lib/python3.9/site-packages/scikeras/_utils.py:27: UserWarning: Setting the random state for TF involves irreversibly re-setting the random seed. This may have unintended side effects.\n",
      "  warnings.warn(\n",
      "/Library/Frameworks/Python.framework/Versions/3.9/lib/python3.9/site-packages/scikeras/wrappers.py:289: UserWarning: ``build_fn`` will be renamed to ``model`` in a future release, at which point use of ``build_fn`` will raise an Error instead.\n",
      "  warnings.warn(\n",
      "/Library/Frameworks/Python.framework/Versions/3.9/lib/python3.9/site-packages/scikeras/_utils.py:27: UserWarning: Setting the random state for TF involves irreversibly re-setting the random seed. This may have unintended side effects.\n",
      "  warnings.warn(\n",
      "/Library/Frameworks/Python.framework/Versions/3.9/lib/python3.9/site-packages/scikeras/wrappers.py:289: UserWarning: ``build_fn`` will be renamed to ``model`` in a future release, at which point use of ``build_fn`` will raise an Error instead.\n",
      "  warnings.warn(\n",
      "/Library/Frameworks/Python.framework/Versions/3.9/lib/python3.9/site-packages/scikeras/_utils.py:27: UserWarning: Setting the random state for TF involves irreversibly re-setting the random seed. This may have unintended side effects.\n",
      "  warnings.warn(\n",
      "/Library/Frameworks/Python.framework/Versions/3.9/lib/python3.9/site-packages/scikeras/wrappers.py:289: UserWarning: ``build_fn`` will be renamed to ``model`` in a future release, at which point use of ``build_fn`` will raise an Error instead.\n",
      "  warnings.warn(\n",
      "/Library/Frameworks/Python.framework/Versions/3.9/lib/python3.9/site-packages/scikeras/_utils.py:27: UserWarning: Setting the random state for TF involves irreversibly re-setting the random seed. This may have unintended side effects.\n",
      "  warnings.warn(\n",
      "/Library/Frameworks/Python.framework/Versions/3.9/lib/python3.9/site-packages/scikeras/_utils.py:27: UserWarning: Setting the random state for TF involves irreversibly re-setting the random seed. This may have unintended side effects.\n",
      "  warnings.warn(\n",
      "/Library/Frameworks/Python.framework/Versions/3.9/lib/python3.9/site-packages/scikeras/_utils.py:27: UserWarning: Setting the random state for TF involves irreversibly re-setting the random seed. This may have unintended side effects.\n",
      "  warnings.warn(\n",
      "/Library/Frameworks/Python.framework/Versions/3.9/lib/python3.9/site-packages/scikeras/_utils.py:27: UserWarning: Setting the random state for TF involves irreversibly re-setting the random seed. This may have unintended side effects.\n",
      "  warnings.warn(\n",
      "/Library/Frameworks/Python.framework/Versions/3.9/lib/python3.9/site-packages/scikeras/wrappers.py:289: UserWarning: ``build_fn`` will be renamed to ``model`` in a future release, at which point use of ``build_fn`` will raise an Error instead.\n",
      "  warnings.warn(\n",
      "/Library/Frameworks/Python.framework/Versions/3.9/lib/python3.9/site-packages/scikeras/_utils.py:27: UserWarning: Setting the random state for TF involves irreversibly re-setting the random seed. This may have unintended side effects.\n",
      "  warnings.warn(\n",
      "/Library/Frameworks/Python.framework/Versions/3.9/lib/python3.9/site-packages/scikeras/_utils.py:27: UserWarning: Setting the random state for TF involves irreversibly re-setting the random seed. This may have unintended side effects.\n",
      "  warnings.warn(\n",
      "/Library/Frameworks/Python.framework/Versions/3.9/lib/python3.9/site-packages/scikeras/wrappers.py:289: UserWarning: ``build_fn`` will be renamed to ``model`` in a future release, at which point use of ``build_fn`` will raise an Error instead.\n",
      "  warnings.warn(\n",
      "/Library/Frameworks/Python.framework/Versions/3.9/lib/python3.9/site-packages/scikeras/_utils.py:27: UserWarning: Setting the random state for TF involves irreversibly re-setting the random seed. This may have unintended side effects.\n",
      "  warnings.warn(\n",
      "/Library/Frameworks/Python.framework/Versions/3.9/lib/python3.9/site-packages/scikeras/_utils.py:27: UserWarning: Setting the random state for TF involves irreversibly re-setting the random seed. This may have unintended side effects.\n",
      "  warnings.warn(\n",
      "/Library/Frameworks/Python.framework/Versions/3.9/lib/python3.9/site-packages/scikeras/wrappers.py:289: UserWarning: ``build_fn`` will be renamed to ``model`` in a future release, at which point use of ``build_fn`` will raise an Error instead.\n",
      "  warnings.warn(\n",
      "/Library/Frameworks/Python.framework/Versions/3.9/lib/python3.9/site-packages/scikeras/_utils.py:27: UserWarning: Setting the random state for TF involves irreversibly re-setting the random seed. This may have unintended side effects.\n",
      "  warnings.warn(\n",
      "/Library/Frameworks/Python.framework/Versions/3.9/lib/python3.9/site-packages/scikeras/wrappers.py:289: UserWarning: ``build_fn`` will be renamed to ``model`` in a future release, at which point use of ``build_fn`` will raise an Error instead.\n",
      "  warnings.warn(\n",
      "/Library/Frameworks/Python.framework/Versions/3.9/lib/python3.9/site-packages/scikeras/_utils.py:27: UserWarning: Setting the random state for TF involves irreversibly re-setting the random seed. This may have unintended side effects.\n",
      "  warnings.warn(\n",
      "/Library/Frameworks/Python.framework/Versions/3.9/lib/python3.9/site-packages/scikeras/_utils.py:27: UserWarning: Setting the random state for TF involves irreversibly re-setting the random seed. This may have unintended side effects.\n",
      "  warnings.warn(\n",
      "/Library/Frameworks/Python.framework/Versions/3.9/lib/python3.9/site-packages/scikeras/_utils.py:27: UserWarning: Setting the random state for TF involves irreversibly re-setting the random seed. This may have unintended side effects.\n",
      "  warnings.warn(\n",
      "/Library/Frameworks/Python.framework/Versions/3.9/lib/python3.9/site-packages/scikeras/wrappers.py:289: UserWarning: ``build_fn`` will be renamed to ``model`` in a future release, at which point use of ``build_fn`` will raise an Error instead.\n",
      "  warnings.warn(\n",
      "/Library/Frameworks/Python.framework/Versions/3.9/lib/python3.9/site-packages/scikeras/_utils.py:27: UserWarning: Setting the random state for TF involves irreversibly re-setting the random seed. This may have unintended side effects.\n",
      "  warnings.warn(\n",
      "/Library/Frameworks/Python.framework/Versions/3.9/lib/python3.9/site-packages/scikeras/_utils.py:27: UserWarning: Setting the random state for TF involves irreversibly re-setting the random seed. This may have unintended side effects.\n",
      "  warnings.warn(\n",
      "/Library/Frameworks/Python.framework/Versions/3.9/lib/python3.9/site-packages/scikeras/wrappers.py:289: UserWarning: ``build_fn`` will be renamed to ``model`` in a future release, at which point use of ``build_fn`` will raise an Error instead.\n",
      "  warnings.warn(\n",
      "/Library/Frameworks/Python.framework/Versions/3.9/lib/python3.9/site-packages/scikeras/_utils.py:27: UserWarning: Setting the random state for TF involves irreversibly re-setting the random seed. This may have unintended side effects.\n",
      "  warnings.warn(\n",
      "/Library/Frameworks/Python.framework/Versions/3.9/lib/python3.9/site-packages/scikeras/_utils.py:27: UserWarning: Setting the random state for TF involves irreversibly re-setting the random seed. This may have unintended side effects.\n",
      "  warnings.warn(\n",
      "/Library/Frameworks/Python.framework/Versions/3.9/lib/python3.9/site-packages/scikeras/wrappers.py:289: UserWarning: ``build_fn`` will be renamed to ``model`` in a future release, at which point use of ``build_fn`` will raise an Error instead.\n",
      "  warnings.warn(\n",
      "/Library/Frameworks/Python.framework/Versions/3.9/lib/python3.9/site-packages/scikeras/_utils.py:27: UserWarning: Setting the random state for TF involves irreversibly re-setting the random seed. This may have unintended side effects.\n",
      "  warnings.warn(\n",
      "/Library/Frameworks/Python.framework/Versions/3.9/lib/python3.9/site-packages/scikeras/_utils.py:27: UserWarning: Setting the random state for TF involves irreversibly re-setting the random seed. This may have unintended side effects.\n",
      "  warnings.warn(\n",
      "/Library/Frameworks/Python.framework/Versions/3.9/lib/python3.9/site-packages/scikeras/wrappers.py:289: UserWarning: ``build_fn`` will be renamed to ``model`` in a future release, at which point use of ``build_fn`` will raise an Error instead.\n",
      "  warnings.warn(\n",
      "/Library/Frameworks/Python.framework/Versions/3.9/lib/python3.9/site-packages/scikeras/_utils.py:27: UserWarning: Setting the random state for TF involves irreversibly re-setting the random seed. This may have unintended side effects.\n",
      "  warnings.warn(\n",
      "/Library/Frameworks/Python.framework/Versions/3.9/lib/python3.9/site-packages/scikeras/_utils.py:27: UserWarning: Setting the random state for TF involves irreversibly re-setting the random seed. This may have unintended side effects.\n",
      "  warnings.warn(\n",
      "/Library/Frameworks/Python.framework/Versions/3.9/lib/python3.9/site-packages/scikeras/wrappers.py:289: UserWarning: ``build_fn`` will be renamed to ``model`` in a future release, at which point use of ``build_fn`` will raise an Error instead.\n",
      "  warnings.warn(\n",
      "/Library/Frameworks/Python.framework/Versions/3.9/lib/python3.9/site-packages/scikeras/_utils.py:27: UserWarning: Setting the random state for TF involves irreversibly re-setting the random seed. This may have unintended side effects.\n",
      "  warnings.warn(\n",
      "/Library/Frameworks/Python.framework/Versions/3.9/lib/python3.9/site-packages/scikeras/_utils.py:27: UserWarning: Setting the random state for TF involves irreversibly re-setting the random seed. This may have unintended side effects.\n",
      "  warnings.warn(\n",
      "/Library/Frameworks/Python.framework/Versions/3.9/lib/python3.9/site-packages/scikeras/wrappers.py:289: UserWarning: ``build_fn`` will be renamed to ``model`` in a future release, at which point use of ``build_fn`` will raise an Error instead.\n",
      "  warnings.warn(\n",
      "/Library/Frameworks/Python.framework/Versions/3.9/lib/python3.9/site-packages/scikeras/_utils.py:27: UserWarning: Setting the random state for TF involves irreversibly re-setting the random seed. This may have unintended side effects.\n",
      "  warnings.warn(\n",
      "/Library/Frameworks/Python.framework/Versions/3.9/lib/python3.9/site-packages/scikeras/_utils.py:27: UserWarning: Setting the random state for TF involves irreversibly re-setting the random seed. This may have unintended side effects.\n",
      "  warnings.warn(\n",
      "/Library/Frameworks/Python.framework/Versions/3.9/lib/python3.9/site-packages/scikeras/wrappers.py:289: UserWarning: ``build_fn`` will be renamed to ``model`` in a future release, at which point use of ``build_fn`` will raise an Error instead.\n",
      "  warnings.warn(\n",
      "/Library/Frameworks/Python.framework/Versions/3.9/lib/python3.9/site-packages/scikeras/_utils.py:27: UserWarning: Setting the random state for TF involves irreversibly re-setting the random seed. This may have unintended side effects.\n",
      "  warnings.warn(\n",
      "/Library/Frameworks/Python.framework/Versions/3.9/lib/python3.9/site-packages/scikeras/_utils.py:27: UserWarning: Setting the random state for TF involves irreversibly re-setting the random seed. This may have unintended side effects.\n",
      "  warnings.warn(\n",
      "/Library/Frameworks/Python.framework/Versions/3.9/lib/python3.9/site-packages/scikeras/wrappers.py:289: UserWarning: ``build_fn`` will be renamed to ``model`` in a future release, at which point use of ``build_fn`` will raise an Error instead.\n",
      "  warnings.warn(\n",
      "/Library/Frameworks/Python.framework/Versions/3.9/lib/python3.9/site-packages/scikeras/_utils.py:27: UserWarning: Setting the random state for TF involves irreversibly re-setting the random seed. This may have unintended side effects.\n",
      "  warnings.warn(\n",
      "/Library/Frameworks/Python.framework/Versions/3.9/lib/python3.9/site-packages/scikeras/_utils.py:27: UserWarning: Setting the random state for TF involves irreversibly re-setting the random seed. This may have unintended side effects.\n",
      "  warnings.warn(\n",
      "/Library/Frameworks/Python.framework/Versions/3.9/lib/python3.9/site-packages/scikeras/wrappers.py:289: UserWarning: ``build_fn`` will be renamed to ``model`` in a future release, at which point use of ``build_fn`` will raise an Error instead.\n",
      "  warnings.warn(\n",
      "/Library/Frameworks/Python.framework/Versions/3.9/lib/python3.9/site-packages/scikeras/_utils.py:27: UserWarning: Setting the random state for TF involves irreversibly re-setting the random seed. This may have unintended side effects.\n",
      "  warnings.warn(\n",
      "/Library/Frameworks/Python.framework/Versions/3.9/lib/python3.9/site-packages/scikeras/_utils.py:27: UserWarning: Setting the random state for TF involves irreversibly re-setting the random seed. This may have unintended side effects.\n",
      "  warnings.warn(\n",
      "/Library/Frameworks/Python.framework/Versions/3.9/lib/python3.9/site-packages/scikeras/wrappers.py:289: UserWarning: ``build_fn`` will be renamed to ``model`` in a future release, at which point use of ``build_fn`` will raise an Error instead.\n",
      "  warnings.warn(\n",
      "/Library/Frameworks/Python.framework/Versions/3.9/lib/python3.9/site-packages/scikeras/_utils.py:27: UserWarning: Setting the random state for TF involves irreversibly re-setting the random seed. This may have unintended side effects.\n",
      "  warnings.warn(\n",
      "/Library/Frameworks/Python.framework/Versions/3.9/lib/python3.9/site-packages/scikeras/_utils.py:27: UserWarning: Setting the random state for TF involves irreversibly re-setting the random seed. This may have unintended side effects.\n",
      "  warnings.warn(\n",
      "/Library/Frameworks/Python.framework/Versions/3.9/lib/python3.9/site-packages/scikeras/wrappers.py:289: UserWarning: ``build_fn`` will be renamed to ``model`` in a future release, at which point use of ``build_fn`` will raise an Error instead.\n",
      "  warnings.warn(\n",
      "/Library/Frameworks/Python.framework/Versions/3.9/lib/python3.9/site-packages/scikeras/_utils.py:27: UserWarning: Setting the random state for TF involves irreversibly re-setting the random seed. This may have unintended side effects.\n",
      "  warnings.warn(\n",
      "/Library/Frameworks/Python.framework/Versions/3.9/lib/python3.9/site-packages/scikeras/_utils.py:27: UserWarning: Setting the random state for TF involves irreversibly re-setting the random seed. This may have unintended side effects.\n",
      "  warnings.warn(\n",
      "/Library/Frameworks/Python.framework/Versions/3.9/lib/python3.9/site-packages/scikeras/wrappers.py:289: UserWarning: ``build_fn`` will be renamed to ``model`` in a future release, at which point use of ``build_fn`` will raise an Error instead.\n",
      "  warnings.warn(\n",
      "/Library/Frameworks/Python.framework/Versions/3.9/lib/python3.9/site-packages/scikeras/_utils.py:27: UserWarning: Setting the random state for TF involves irreversibly re-setting the random seed. This may have unintended side effects.\n",
      "  warnings.warn(\n",
      "/Library/Frameworks/Python.framework/Versions/3.9/lib/python3.9/site-packages/scikeras/_utils.py:27: UserWarning: Setting the random state for TF involves irreversibly re-setting the random seed. This may have unintended side effects.\n",
      "  warnings.warn(\n",
      "/Library/Frameworks/Python.framework/Versions/3.9/lib/python3.9/site-packages/scikeras/wrappers.py:289: UserWarning: ``build_fn`` will be renamed to ``model`` in a future release, at which point use of ``build_fn`` will raise an Error instead.\n",
      "  warnings.warn(\n",
      "/Library/Frameworks/Python.framework/Versions/3.9/lib/python3.9/site-packages/scikeras/_utils.py:27: UserWarning: Setting the random state for TF involves irreversibly re-setting the random seed. This may have unintended side effects.\n",
      "  warnings.warn(\n",
      "/Library/Frameworks/Python.framework/Versions/3.9/lib/python3.9/site-packages/scikeras/_utils.py:27: UserWarning: Setting the random state for TF involves irreversibly re-setting the random seed. This may have unintended side effects.\n",
      "  warnings.warn(\n",
      "/Library/Frameworks/Python.framework/Versions/3.9/lib/python3.9/site-packages/scikeras/wrappers.py:289: UserWarning: ``build_fn`` will be renamed to ``model`` in a future release, at which point use of ``build_fn`` will raise an Error instead.\n",
      "  warnings.warn(\n",
      "/Library/Frameworks/Python.framework/Versions/3.9/lib/python3.9/site-packages/scikeras/_utils.py:27: UserWarning: Setting the random state for TF involves irreversibly re-setting the random seed. This may have unintended side effects.\n",
      "  warnings.warn(\n",
      "/Library/Frameworks/Python.framework/Versions/3.9/lib/python3.9/site-packages/scikeras/_utils.py:27: UserWarning: Setting the random state for TF involves irreversibly re-setting the random seed. This may have unintended side effects.\n",
      "  warnings.warn(\n",
      "/Library/Frameworks/Python.framework/Versions/3.9/lib/python3.9/site-packages/scikeras/wrappers.py:289: UserWarning: ``build_fn`` will be renamed to ``model`` in a future release, at which point use of ``build_fn`` will raise an Error instead.\n",
      "  warnings.warn(\n",
      "/Library/Frameworks/Python.framework/Versions/3.9/lib/python3.9/site-packages/scikeras/_utils.py:27: UserWarning: Setting the random state for TF involves irreversibly re-setting the random seed. This may have unintended side effects.\n",
      "  warnings.warn(\n",
      "/Library/Frameworks/Python.framework/Versions/3.9/lib/python3.9/site-packages/scikeras/_utils.py:27: UserWarning: Setting the random state for TF involves irreversibly re-setting the random seed. This may have unintended side effects.\n",
      "  warnings.warn(\n",
      "/Library/Frameworks/Python.framework/Versions/3.9/lib/python3.9/site-packages/scikeras/wrappers.py:289: UserWarning: ``build_fn`` will be renamed to ``model`` in a future release, at which point use of ``build_fn`` will raise an Error instead.\n",
      "  warnings.warn(\n",
      "/Library/Frameworks/Python.framework/Versions/3.9/lib/python3.9/site-packages/scikeras/_utils.py:27: UserWarning: Setting the random state for TF involves irreversibly re-setting the random seed. This may have unintended side effects.\n",
      "  warnings.warn(\n",
      "/Library/Frameworks/Python.framework/Versions/3.9/lib/python3.9/site-packages/scikeras/_utils.py:27: UserWarning: Setting the random state for TF involves irreversibly re-setting the random seed. This may have unintended side effects.\n",
      "  warnings.warn(\n",
      "/Library/Frameworks/Python.framework/Versions/3.9/lib/python3.9/site-packages/scikeras/wrappers.py:289: UserWarning: ``build_fn`` will be renamed to ``model`` in a future release, at which point use of ``build_fn`` will raise an Error instead.\n",
      "  warnings.warn(\n",
      "/Library/Frameworks/Python.framework/Versions/3.9/lib/python3.9/site-packages/scikeras/_utils.py:27: UserWarning: Setting the random state for TF involves irreversibly re-setting the random seed. This may have unintended side effects.\n",
      "  warnings.warn(\n",
      "/Library/Frameworks/Python.framework/Versions/3.9/lib/python3.9/site-packages/scikeras/_utils.py:27: UserWarning: Setting the random state for TF involves irreversibly re-setting the random seed. This may have unintended side effects.\n",
      "  warnings.warn(\n",
      "/Library/Frameworks/Python.framework/Versions/3.9/lib/python3.9/site-packages/scikeras/wrappers.py:289: UserWarning: ``build_fn`` will be renamed to ``model`` in a future release, at which point use of ``build_fn`` will raise an Error instead.\n",
      "  warnings.warn(\n",
      "/Library/Frameworks/Python.framework/Versions/3.9/lib/python3.9/site-packages/scikeras/_utils.py:27: UserWarning: Setting the random state for TF involves irreversibly re-setting the random seed. This may have unintended side effects.\n",
      "  warnings.warn(\n",
      "/Library/Frameworks/Python.framework/Versions/3.9/lib/python3.9/site-packages/scikeras/_utils.py:27: UserWarning: Setting the random state for TF involves irreversibly re-setting the random seed. This may have unintended side effects.\n",
      "  warnings.warn(\n",
      "/Library/Frameworks/Python.framework/Versions/3.9/lib/python3.9/site-packages/scikeras/wrappers.py:289: UserWarning: ``build_fn`` will be renamed to ``model`` in a future release, at which point use of ``build_fn`` will raise an Error instead.\n",
      "  warnings.warn(\n",
      "/Library/Frameworks/Python.framework/Versions/3.9/lib/python3.9/site-packages/scikeras/_utils.py:27: UserWarning: Setting the random state for TF involves irreversibly re-setting the random seed. This may have unintended side effects.\n",
      "  warnings.warn(\n",
      "/Library/Frameworks/Python.framework/Versions/3.9/lib/python3.9/site-packages/scikeras/_utils.py:27: UserWarning: Setting the random state for TF involves irreversibly re-setting the random seed. This may have unintended side effects.\n",
      "  warnings.warn(\n",
      "/Library/Frameworks/Python.framework/Versions/3.9/lib/python3.9/site-packages/scikeras/wrappers.py:289: UserWarning: ``build_fn`` will be renamed to ``model`` in a future release, at which point use of ``build_fn`` will raise an Error instead.\n",
      "  warnings.warn(\n",
      "/Library/Frameworks/Python.framework/Versions/3.9/lib/python3.9/site-packages/scikeras/_utils.py:27: UserWarning: Setting the random state for TF involves irreversibly re-setting the random seed. This may have unintended side effects.\n",
      "  warnings.warn(\n",
      "/Library/Frameworks/Python.framework/Versions/3.9/lib/python3.9/site-packages/scikeras/_utils.py:27: UserWarning: Setting the random state for TF involves irreversibly re-setting the random seed. This may have unintended side effects.\n",
      "  warnings.warn(\n",
      "/Library/Frameworks/Python.framework/Versions/3.9/lib/python3.9/site-packages/scikeras/wrappers.py:289: UserWarning: ``build_fn`` will be renamed to ``model`` in a future release, at which point use of ``build_fn`` will raise an Error instead.\n",
      "  warnings.warn(\n",
      "/Library/Frameworks/Python.framework/Versions/3.9/lib/python3.9/site-packages/scikeras/_utils.py:27: UserWarning: Setting the random state for TF involves irreversibly re-setting the random seed. This may have unintended side effects.\n",
      "  warnings.warn(\n",
      "/Library/Frameworks/Python.framework/Versions/3.9/lib/python3.9/site-packages/scikeras/_utils.py:27: UserWarning: Setting the random state for TF involves irreversibly re-setting the random seed. This may have unintended side effects.\n",
      "  warnings.warn(\n",
      "/Library/Frameworks/Python.framework/Versions/3.9/lib/python3.9/site-packages/scikeras/wrappers.py:289: UserWarning: ``build_fn`` will be renamed to ``model`` in a future release, at which point use of ``build_fn`` will raise an Error instead.\n",
      "  warnings.warn(\n",
      "/Library/Frameworks/Python.framework/Versions/3.9/lib/python3.9/site-packages/scikeras/_utils.py:27: UserWarning: Setting the random state for TF involves irreversibly re-setting the random seed. This may have unintended side effects.\n",
      "  warnings.warn(\n",
      "/Library/Frameworks/Python.framework/Versions/3.9/lib/python3.9/site-packages/scikeras/wrappers.py:289: UserWarning: ``build_fn`` will be renamed to ``model`` in a future release, at which point use of ``build_fn`` will raise an Error instead.\n",
      "  warnings.warn(\n",
      "/Library/Frameworks/Python.framework/Versions/3.9/lib/python3.9/site-packages/scikeras/_utils.py:27: UserWarning: Setting the random state for TF involves irreversibly re-setting the random seed. This may have unintended side effects.\n",
      "  warnings.warn(\n",
      "/Library/Frameworks/Python.framework/Versions/3.9/lib/python3.9/site-packages/scikeras/_utils.py:27: UserWarning: Setting the random state for TF involves irreversibly re-setting the random seed. This may have unintended side effects.\n",
      "  warnings.warn(\n",
      "/Library/Frameworks/Python.framework/Versions/3.9/lib/python3.9/site-packages/scikeras/_utils.py:27: UserWarning: Setting the random state for TF involves irreversibly re-setting the random seed. This may have unintended side effects.\n",
      "  warnings.warn(\n",
      "/Library/Frameworks/Python.framework/Versions/3.9/lib/python3.9/site-packages/scikeras/wrappers.py:289: UserWarning: ``build_fn`` will be renamed to ``model`` in a future release, at which point use of ``build_fn`` will raise an Error instead.\n",
      "  warnings.warn(\n",
      "/Library/Frameworks/Python.framework/Versions/3.9/lib/python3.9/site-packages/scikeras/_utils.py:27: UserWarning: Setting the random state for TF involves irreversibly re-setting the random seed. This may have unintended side effects.\n",
      "  warnings.warn(\n",
      "/Library/Frameworks/Python.framework/Versions/3.9/lib/python3.9/site-packages/scikeras/_utils.py:27: UserWarning: Setting the random state for TF involves irreversibly re-setting the random seed. This may have unintended side effects.\n",
      "  warnings.warn(\n",
      "/Library/Frameworks/Python.framework/Versions/3.9/lib/python3.9/site-packages/scikeras/wrappers.py:289: UserWarning: ``build_fn`` will be renamed to ``model`` in a future release, at which point use of ``build_fn`` will raise an Error instead.\n",
      "  warnings.warn(\n",
      "/Library/Frameworks/Python.framework/Versions/3.9/lib/python3.9/site-packages/scikeras/_utils.py:27: UserWarning: Setting the random state for TF involves irreversibly re-setting the random seed. This may have unintended side effects.\n",
      "  warnings.warn(\n",
      "/Library/Frameworks/Python.framework/Versions/3.9/lib/python3.9/site-packages/scikeras/_utils.py:27: UserWarning: Setting the random state for TF involves irreversibly re-setting the random seed. This may have unintended side effects.\n",
      "  warnings.warn(\n",
      "/Library/Frameworks/Python.framework/Versions/3.9/lib/python3.9/site-packages/scikeras/wrappers.py:289: UserWarning: ``build_fn`` will be renamed to ``model`` in a future release, at which point use of ``build_fn`` will raise an Error instead.\n",
      "  warnings.warn(\n",
      "/Library/Frameworks/Python.framework/Versions/3.9/lib/python3.9/site-packages/scikeras/_utils.py:27: UserWarning: Setting the random state for TF involves irreversibly re-setting the random seed. This may have unintended side effects.\n",
      "  warnings.warn(\n",
      "/Library/Frameworks/Python.framework/Versions/3.9/lib/python3.9/site-packages/scikeras/_utils.py:27: UserWarning: Setting the random state for TF involves irreversibly re-setting the random seed. This may have unintended side effects.\n",
      "  warnings.warn(\n",
      "/Library/Frameworks/Python.framework/Versions/3.9/lib/python3.9/site-packages/scikeras/wrappers.py:289: UserWarning: ``build_fn`` will be renamed to ``model`` in a future release, at which point use of ``build_fn`` will raise an Error instead.\n",
      "  warnings.warn(\n",
      "/Library/Frameworks/Python.framework/Versions/3.9/lib/python3.9/site-packages/scikeras/_utils.py:27: UserWarning: Setting the random state for TF involves irreversibly re-setting the random seed. This may have unintended side effects.\n",
      "  warnings.warn(\n",
      "/Library/Frameworks/Python.framework/Versions/3.9/lib/python3.9/site-packages/scikeras/_utils.py:27: UserWarning: Setting the random state for TF involves irreversibly re-setting the random seed. This may have unintended side effects.\n",
      "  warnings.warn(\n",
      "/Library/Frameworks/Python.framework/Versions/3.9/lib/python3.9/site-packages/scikeras/wrappers.py:289: UserWarning: ``build_fn`` will be renamed to ``model`` in a future release, at which point use of ``build_fn`` will raise an Error instead.\n",
      "  warnings.warn(\n",
      "/Library/Frameworks/Python.framework/Versions/3.9/lib/python3.9/site-packages/scikeras/_utils.py:27: UserWarning: Setting the random state for TF involves irreversibly re-setting the random seed. This may have unintended side effects.\n",
      "  warnings.warn(\n",
      "/Library/Frameworks/Python.framework/Versions/3.9/lib/python3.9/site-packages/scikeras/_utils.py:27: UserWarning: Setting the random state for TF involves irreversibly re-setting the random seed. This may have unintended side effects.\n",
      "  warnings.warn(\n",
      "/Library/Frameworks/Python.framework/Versions/3.9/lib/python3.9/site-packages/scikeras/wrappers.py:289: UserWarning: ``build_fn`` will be renamed to ``model`` in a future release, at which point use of ``build_fn`` will raise an Error instead.\n",
      "  warnings.warn(\n",
      "/Library/Frameworks/Python.framework/Versions/3.9/lib/python3.9/site-packages/scikeras/_utils.py:27: UserWarning: Setting the random state for TF involves irreversibly re-setting the random seed. This may have unintended side effects.\n",
      "  warnings.warn(\n",
      "/Library/Frameworks/Python.framework/Versions/3.9/lib/python3.9/site-packages/scikeras/_utils.py:27: UserWarning: Setting the random state for TF involves irreversibly re-setting the random seed. This may have unintended side effects.\n",
      "  warnings.warn(\n",
      "/Library/Frameworks/Python.framework/Versions/3.9/lib/python3.9/site-packages/scikeras/wrappers.py:289: UserWarning: ``build_fn`` will be renamed to ``model`` in a future release, at which point use of ``build_fn`` will raise an Error instead.\n",
      "  warnings.warn(\n",
      "/Library/Frameworks/Python.framework/Versions/3.9/lib/python3.9/site-packages/scikeras/_utils.py:27: UserWarning: Setting the random state for TF involves irreversibly re-setting the random seed. This may have unintended side effects.\n",
      "  warnings.warn(\n",
      "/Library/Frameworks/Python.framework/Versions/3.9/lib/python3.9/site-packages/scikeras/_utils.py:27: UserWarning: Setting the random state for TF involves irreversibly re-setting the random seed. This may have unintended side effects.\n",
      "  warnings.warn(\n",
      "/Library/Frameworks/Python.framework/Versions/3.9/lib/python3.9/site-packages/scikeras/wrappers.py:289: UserWarning: ``build_fn`` will be renamed to ``model`` in a future release, at which point use of ``build_fn`` will raise an Error instead.\n",
      "  warnings.warn(\n",
      "/Library/Frameworks/Python.framework/Versions/3.9/lib/python3.9/site-packages/scikeras/_utils.py:27: UserWarning: Setting the random state for TF involves irreversibly re-setting the random seed. This may have unintended side effects.\n",
      "  warnings.warn(\n",
      "/Library/Frameworks/Python.framework/Versions/3.9/lib/python3.9/site-packages/scikeras/_utils.py:27: UserWarning: Setting the random state for TF involves irreversibly re-setting the random seed. This may have unintended side effects.\n",
      "  warnings.warn(\n",
      "/Library/Frameworks/Python.framework/Versions/3.9/lib/python3.9/site-packages/scikeras/wrappers.py:289: UserWarning: ``build_fn`` will be renamed to ``model`` in a future release, at which point use of ``build_fn`` will raise an Error instead.\n",
      "  warnings.warn(\n",
      "/Library/Frameworks/Python.framework/Versions/3.9/lib/python3.9/site-packages/scikeras/_utils.py:27: UserWarning: Setting the random state for TF involves irreversibly re-setting the random seed. This may have unintended side effects.\n",
      "  warnings.warn(\n",
      "/Library/Frameworks/Python.framework/Versions/3.9/lib/python3.9/site-packages/scikeras/_utils.py:27: UserWarning: Setting the random state for TF involves irreversibly re-setting the random seed. This may have unintended side effects.\n",
      "  warnings.warn(\n",
      "/Library/Frameworks/Python.framework/Versions/3.9/lib/python3.9/site-packages/scikeras/wrappers.py:289: UserWarning: ``build_fn`` will be renamed to ``model`` in a future release, at which point use of ``build_fn`` will raise an Error instead.\n",
      "  warnings.warn(\n",
      "/Library/Frameworks/Python.framework/Versions/3.9/lib/python3.9/site-packages/scikeras/_utils.py:27: UserWarning: Setting the random state for TF involves irreversibly re-setting the random seed. This may have unintended side effects.\n",
      "  warnings.warn(\n",
      "/Library/Frameworks/Python.framework/Versions/3.9/lib/python3.9/site-packages/scikeras/_utils.py:27: UserWarning: Setting the random state for TF involves irreversibly re-setting the random seed. This may have unintended side effects.\n",
      "  warnings.warn(\n",
      "/Library/Frameworks/Python.framework/Versions/3.9/lib/python3.9/site-packages/scikeras/wrappers.py:289: UserWarning: ``build_fn`` will be renamed to ``model`` in a future release, at which point use of ``build_fn`` will raise an Error instead.\n",
      "  warnings.warn(\n",
      "/Library/Frameworks/Python.framework/Versions/3.9/lib/python3.9/site-packages/scikeras/_utils.py:27: UserWarning: Setting the random state for TF involves irreversibly re-setting the random seed. This may have unintended side effects.\n",
      "  warnings.warn(\n",
      "/Library/Frameworks/Python.framework/Versions/3.9/lib/python3.9/site-packages/scikeras/_utils.py:27: UserWarning: Setting the random state for TF involves irreversibly re-setting the random seed. This may have unintended side effects.\n",
      "  warnings.warn(\n",
      "/Library/Frameworks/Python.framework/Versions/3.9/lib/python3.9/site-packages/scikeras/wrappers.py:289: UserWarning: ``build_fn`` will be renamed to ``model`` in a future release, at which point use of ``build_fn`` will raise an Error instead.\n",
      "  warnings.warn(\n",
      "/Library/Frameworks/Python.framework/Versions/3.9/lib/python3.9/site-packages/scikeras/_utils.py:27: UserWarning: Setting the random state for TF involves irreversibly re-setting the random seed. This may have unintended side effects.\n",
      "  warnings.warn(\n",
      "/Library/Frameworks/Python.framework/Versions/3.9/lib/python3.9/site-packages/scikeras/_utils.py:27: UserWarning: Setting the random state for TF involves irreversibly re-setting the random seed. This may have unintended side effects.\n",
      "  warnings.warn(\n",
      "/Library/Frameworks/Python.framework/Versions/3.9/lib/python3.9/site-packages/scikeras/wrappers.py:289: UserWarning: ``build_fn`` will be renamed to ``model`` in a future release, at which point use of ``build_fn`` will raise an Error instead.\n",
      "  warnings.warn(\n",
      "/Library/Frameworks/Python.framework/Versions/3.9/lib/python3.9/site-packages/scikeras/_utils.py:27: UserWarning: Setting the random state for TF involves irreversibly re-setting the random seed. This may have unintended side effects.\n",
      "  warnings.warn(\n",
      "/Library/Frameworks/Python.framework/Versions/3.9/lib/python3.9/site-packages/scikeras/_utils.py:27: UserWarning: Setting the random state for TF involves irreversibly re-setting the random seed. This may have unintended side effects.\n",
      "  warnings.warn(\n",
      "/Library/Frameworks/Python.framework/Versions/3.9/lib/python3.9/site-packages/scikeras/wrappers.py:289: UserWarning: ``build_fn`` will be renamed to ``model`` in a future release, at which point use of ``build_fn`` will raise an Error instead.\n",
      "  warnings.warn(\n",
      "/Library/Frameworks/Python.framework/Versions/3.9/lib/python3.9/site-packages/scikeras/_utils.py:27: UserWarning: Setting the random state for TF involves irreversibly re-setting the random seed. This may have unintended side effects.\n",
      "  warnings.warn(\n",
      "/Library/Frameworks/Python.framework/Versions/3.9/lib/python3.9/site-packages/scikeras/_utils.py:27: UserWarning: Setting the random state for TF involves irreversibly re-setting the random seed. This may have unintended side effects.\n",
      "  warnings.warn(\n",
      "/Library/Frameworks/Python.framework/Versions/3.9/lib/python3.9/site-packages/scikeras/wrappers.py:289: UserWarning: ``build_fn`` will be renamed to ``model`` in a future release, at which point use of ``build_fn`` will raise an Error instead.\n",
      "  warnings.warn(\n",
      "/Library/Frameworks/Python.framework/Versions/3.9/lib/python3.9/site-packages/scikeras/_utils.py:27: UserWarning: Setting the random state for TF involves irreversibly re-setting the random seed. This may have unintended side effects.\n",
      "  warnings.warn(\n",
      "/Library/Frameworks/Python.framework/Versions/3.9/lib/python3.9/site-packages/scikeras/_utils.py:27: UserWarning: Setting the random state for TF involves irreversibly re-setting the random seed. This may have unintended side effects.\n",
      "  warnings.warn(\n",
      "/Library/Frameworks/Python.framework/Versions/3.9/lib/python3.9/site-packages/scikeras/wrappers.py:289: UserWarning: ``build_fn`` will be renamed to ``model`` in a future release, at which point use of ``build_fn`` will raise an Error instead.\n",
      "  warnings.warn(\n",
      "/Library/Frameworks/Python.framework/Versions/3.9/lib/python3.9/site-packages/scikeras/_utils.py:27: UserWarning: Setting the random state for TF involves irreversibly re-setting the random seed. This may have unintended side effects.\n",
      "  warnings.warn(\n",
      "/Library/Frameworks/Python.framework/Versions/3.9/lib/python3.9/site-packages/scikeras/_utils.py:27: UserWarning: Setting the random state for TF involves irreversibly re-setting the random seed. This may have unintended side effects.\n",
      "  warnings.warn(\n",
      "/Library/Frameworks/Python.framework/Versions/3.9/lib/python3.9/site-packages/scikeras/wrappers.py:289: UserWarning: ``build_fn`` will be renamed to ``model`` in a future release, at which point use of ``build_fn`` will raise an Error instead.\n",
      "  warnings.warn(\n",
      "/Library/Frameworks/Python.framework/Versions/3.9/lib/python3.9/site-packages/scikeras/_utils.py:27: UserWarning: Setting the random state for TF involves irreversibly re-setting the random seed. This may have unintended side effects.\n",
      "  warnings.warn(\n",
      "/Library/Frameworks/Python.framework/Versions/3.9/lib/python3.9/site-packages/scikeras/_utils.py:27: UserWarning: Setting the random state for TF involves irreversibly re-setting the random seed. This may have unintended side effects.\n",
      "  warnings.warn(\n",
      "/Library/Frameworks/Python.framework/Versions/3.9/lib/python3.9/site-packages/scikeras/wrappers.py:289: UserWarning: ``build_fn`` will be renamed to ``model`` in a future release, at which point use of ``build_fn`` will raise an Error instead.\n",
      "  warnings.warn(\n",
      "/Library/Frameworks/Python.framework/Versions/3.9/lib/python3.9/site-packages/scikeras/_utils.py:27: UserWarning: Setting the random state for TF involves irreversibly re-setting the random seed. This may have unintended side effects.\n",
      "  warnings.warn(\n",
      "/Library/Frameworks/Python.framework/Versions/3.9/lib/python3.9/site-packages/scikeras/_utils.py:27: UserWarning: Setting the random state for TF involves irreversibly re-setting the random seed. This may have unintended side effects.\n",
      "  warnings.warn(\n",
      "/Library/Frameworks/Python.framework/Versions/3.9/lib/python3.9/site-packages/scikeras/wrappers.py:289: UserWarning: ``build_fn`` will be renamed to ``model`` in a future release, at which point use of ``build_fn`` will raise an Error instead.\n",
      "  warnings.warn(\n",
      "/Library/Frameworks/Python.framework/Versions/3.9/lib/python3.9/site-packages/scikeras/_utils.py:27: UserWarning: Setting the random state for TF involves irreversibly re-setting the random seed. This may have unintended side effects.\n",
      "  warnings.warn(\n",
      "/Library/Frameworks/Python.framework/Versions/3.9/lib/python3.9/site-packages/scikeras/_utils.py:27: UserWarning: Setting the random state for TF involves irreversibly re-setting the random seed. This may have unintended side effects.\n",
      "  warnings.warn(\n",
      "/Library/Frameworks/Python.framework/Versions/3.9/lib/python3.9/site-packages/scikeras/wrappers.py:289: UserWarning: ``build_fn`` will be renamed to ``model`` in a future release, at which point use of ``build_fn`` will raise an Error instead.\n",
      "  warnings.warn(\n",
      "/Library/Frameworks/Python.framework/Versions/3.9/lib/python3.9/site-packages/scikeras/_utils.py:27: UserWarning: Setting the random state for TF involves irreversibly re-setting the random seed. This may have unintended side effects.\n",
      "  warnings.warn(\n",
      "/Library/Frameworks/Python.framework/Versions/3.9/lib/python3.9/site-packages/scikeras/_utils.py:27: UserWarning: Setting the random state for TF involves irreversibly re-setting the random seed. This may have unintended side effects.\n",
      "  warnings.warn(\n",
      "/Library/Frameworks/Python.framework/Versions/3.9/lib/python3.9/site-packages/scikeras/wrappers.py:289: UserWarning: ``build_fn`` will be renamed to ``model`` in a future release, at which point use of ``build_fn`` will raise an Error instead.\n",
      "  warnings.warn(\n",
      "/Library/Frameworks/Python.framework/Versions/3.9/lib/python3.9/site-packages/scikeras/_utils.py:27: UserWarning: Setting the random state for TF involves irreversibly re-setting the random seed. This may have unintended side effects.\n",
      "  warnings.warn(\n",
      "/Library/Frameworks/Python.framework/Versions/3.9/lib/python3.9/site-packages/scikeras/wrappers.py:289: UserWarning: ``build_fn`` will be renamed to ``model`` in a future release, at which point use of ``build_fn`` will raise an Error instead.\n",
      "  warnings.warn(\n",
      "/Library/Frameworks/Python.framework/Versions/3.9/lib/python3.9/site-packages/scikeras/_utils.py:27: UserWarning: Setting the random state for TF involves irreversibly re-setting the random seed. This may have unintended side effects.\n",
      "  warnings.warn(\n",
      "/Library/Frameworks/Python.framework/Versions/3.9/lib/python3.9/site-packages/scikeras/_utils.py:27: UserWarning: Setting the random state for TF involves irreversibly re-setting the random seed. This may have unintended side effects.\n",
      "  warnings.warn(\n",
      "/Library/Frameworks/Python.framework/Versions/3.9/lib/python3.9/site-packages/scikeras/_utils.py:27: UserWarning: Setting the random state for TF involves irreversibly re-setting the random seed. This may have unintended side effects.\n",
      "  warnings.warn(\n",
      "/Library/Frameworks/Python.framework/Versions/3.9/lib/python3.9/site-packages/scikeras/wrappers.py:289: UserWarning: ``build_fn`` will be renamed to ``model`` in a future release, at which point use of ``build_fn`` will raise an Error instead.\n",
      "  warnings.warn(\n",
      "/Library/Frameworks/Python.framework/Versions/3.9/lib/python3.9/site-packages/scikeras/_utils.py:27: UserWarning: Setting the random state for TF involves irreversibly re-setting the random seed. This may have unintended side effects.\n",
      "  warnings.warn(\n",
      "/Library/Frameworks/Python.framework/Versions/3.9/lib/python3.9/site-packages/scikeras/_utils.py:27: UserWarning: Setting the random state for TF involves irreversibly re-setting the random seed. This may have unintended side effects.\n",
      "  warnings.warn(\n",
      "/Library/Frameworks/Python.framework/Versions/3.9/lib/python3.9/site-packages/scikeras/wrappers.py:289: UserWarning: ``build_fn`` will be renamed to ``model`` in a future release, at which point use of ``build_fn`` will raise an Error instead.\n",
      "  warnings.warn(\n",
      "/Library/Frameworks/Python.framework/Versions/3.9/lib/python3.9/site-packages/scikeras/_utils.py:27: UserWarning: Setting the random state for TF involves irreversibly re-setting the random seed. This may have unintended side effects.\n",
      "  warnings.warn(\n",
      "/Library/Frameworks/Python.framework/Versions/3.9/lib/python3.9/site-packages/scikeras/_utils.py:27: UserWarning: Setting the random state for TF involves irreversibly re-setting the random seed. This may have unintended side effects.\n",
      "  warnings.warn(\n",
      "/Library/Frameworks/Python.framework/Versions/3.9/lib/python3.9/site-packages/scikeras/wrappers.py:289: UserWarning: ``build_fn`` will be renamed to ``model`` in a future release, at which point use of ``build_fn`` will raise an Error instead.\n",
      "  warnings.warn(\n",
      "/Library/Frameworks/Python.framework/Versions/3.9/lib/python3.9/site-packages/scikeras/_utils.py:27: UserWarning: Setting the random state for TF involves irreversibly re-setting the random seed. This may have unintended side effects.\n",
      "  warnings.warn(\n",
      "/Library/Frameworks/Python.framework/Versions/3.9/lib/python3.9/site-packages/scikeras/_utils.py:27: UserWarning: Setting the random state for TF involves irreversibly re-setting the random seed. This may have unintended side effects.\n",
      "  warnings.warn(\n",
      "/Library/Frameworks/Python.framework/Versions/3.9/lib/python3.9/site-packages/scikeras/wrappers.py:289: UserWarning: ``build_fn`` will be renamed to ``model`` in a future release, at which point use of ``build_fn`` will raise an Error instead.\n",
      "  warnings.warn(\n",
      "/Library/Frameworks/Python.framework/Versions/3.9/lib/python3.9/site-packages/scikeras/_utils.py:27: UserWarning: Setting the random state for TF involves irreversibly re-setting the random seed. This may have unintended side effects.\n",
      "  warnings.warn(\n",
      "/Library/Frameworks/Python.framework/Versions/3.9/lib/python3.9/site-packages/scikeras/_utils.py:27: UserWarning: Setting the random state for TF involves irreversibly re-setting the random seed. This may have unintended side effects.\n",
      "  warnings.warn(\n",
      "2021-11-21 17:45:04.635730: I tensorflow/core/platform/cpu_feature_guard.cc:151] This TensorFlow binary is optimized with oneAPI Deep Neural Network Library (oneDNN) to use the following CPU instructions in performance-critical operations:  AVX2 FMA\n",
      "To enable them in other operations, rebuild TensorFlow with the appropriate compiler flags.\n"
     ]
    },
    {
     "name": "stdout",
     "output_type": "stream",
     "text": [
      "Best parameters: {'batch_size': 10, 'epochs': 10}\n"
     ]
    }
   ],
   "source": [
    "param_grid = {'batch_size':[10,50,100,150] , 'epochs':[10, 50, 100]}\n",
    "grid_searchdpl = GridSearchCV(estimator= model, param_grid = param_grid, cv = 5, n_jobs=-1)\n",
    "grid_searchdpl.fit(X_trainss2,y_trainss2)\n",
    "print(\"Best parameters: {}\".format(grid_searchdpl.best_params_))\n",
    "#print(\"Best cross-validation score: {:.4f}\".format(grid_searchdpl.best_score_))"
   ]
  },
  {
   "cell_type": "code",
   "execution_count": 19,
   "metadata": {},
   "outputs": [
    {
     "name": "stdout",
     "output_type": "stream",
     "text": [
      "Epoch 1/10\n",
      "390/390 [==============================] - 2s 3ms/step - loss: 0.6718 - accuracy: 0.6778\n",
      "Epoch 2/10\n",
      "390/390 [==============================] - 1s 2ms/step - loss: 0.6453 - accuracy: 0.6804\n",
      "Epoch 3/10\n",
      "390/390 [==============================] - 1s 2ms/step - loss: 0.6340 - accuracy: 0.6804\n",
      "Epoch 4/10\n",
      "390/390 [==============================] - 1s 2ms/step - loss: 0.6293 - accuracy: 0.6804\n",
      "Epoch 5/10\n",
      "390/390 [==============================] - 1s 3ms/step - loss: 0.6275 - accuracy: 0.6804\n",
      "Epoch 6/10\n",
      "390/390 [==============================] - 1s 2ms/step - loss: 0.6269 - accuracy: 0.6804\n",
      "Epoch 7/10\n",
      "390/390 [==============================] - 1s 3ms/step - loss: 0.6268 - accuracy: 0.6804\n",
      "Epoch 8/10\n",
      "390/390 [==============================] - 1s 2ms/step - loss: 0.6267 - accuracy: 0.6804\n",
      "Epoch 9/10\n",
      "390/390 [==============================] - 1s 2ms/step - loss: 0.6267 - accuracy: 0.6804\n",
      "Epoch 10/10\n",
      "390/390 [==============================] - 1s 2ms/step - loss: 0.6266 - accuracy: 0.6804\n",
      "Model: \"sequential_2\"\n",
      "_________________________________________________________________\n",
      " Layer (type)                Output Shape              Param #   \n",
      "=================================================================\n",
      " input_layer (Dense)         (None, 12)                336       \n",
      "                                                                 \n",
      " hidden_layer (Dense)        (None, 8)                 104       \n",
      "                                                                 \n",
      " dense_1 (Dense)             (None, 1)                 9         \n",
      "                                                                 \n",
      "=================================================================\n",
      "Total params: 449\n",
      "Trainable params: 449\n",
      "Non-trainable params: 0\n",
      "_________________________________________________________________\n"
     ]
    }
   ],
   "source": [
    "model = build_model()\n",
    "model.fit(X_trainss2, y_trainss2, batch_size=grid_searchdpl.best_params_['batch_size'], epochs=grid_searchdpl.best_params_['epochs'])\n",
    "model.summary()"
   ]
  },
  {
   "cell_type": "code",
   "execution_count": 20,
   "metadata": {},
   "outputs": [
    {
     "name": "stdout",
     "output_type": "stream",
     "text": [
      "122/122 [==============================] - 0s 1ms/step - loss: 0.6266 - accuracy: 0.6804\n",
      "31/31 [==============================] - 0s 2ms/step - loss: 0.6256 - accuracy: 0.6817\n",
      "Train Loss 0.626602828502655\n",
      "Train Accuracy 0.680359423160553\n",
      "Test Loss 0.6255796551704407\n",
      "Test Accuracy 0.6817248463630676\n"
     ]
    }
   ],
   "source": [
    "train_loss_and_metrics = model.evaluate(X_trainss2, y_trainss2)\n",
    "test_loss_and_metrics = model.evaluate(x_testss2, y_testss2)\n",
    "\n",
    "print(\"Train Loss\", train_loss_and_metrics[0])\n",
    "print(\"Train Accuracy\", train_loss_and_metrics[1])\n",
    "\n",
    "print(\"Test Loss\", test_loss_and_metrics[0])\n",
    "print(\"Test Accuracy\", test_loss_and_metrics[1])"
   ]
  },
  {
   "cell_type": "code",
   "execution_count": 21,
   "metadata": {},
   "outputs": [
    {
     "name": "stdout",
     "output_type": "stream",
     "text": [
      "664  classified correctly\n",
      "310  classified incorrectly\n"
     ]
    }
   ],
   "source": [
    "#predicted_cls = model.predict(x_testss2> 0.5 .astype(\"int32\"))\n",
    "predicted_cls = (model.predict(x_testss2) > 0.5).astype(\"int32\")\n",
    "predicted_cls=predicted_cls.reshape(-1)\n",
    "\n",
    "#predicted_cls.shape\n",
    "\n",
    "#y_testss2.shape\n",
    "\n",
    "# see which we predicted correctly and which not\n",
    "correct_indices = np.nonzero(predicted_cls == np.array(y_testss2))[0]\n",
    "incorrect_indices = np.nonzero(predicted_cls != np.array(y_testss2))[0]\n",
    "#print()\n",
    "print(len(correct_indices),\" classified correctly\")\n",
    "print(len(incorrect_indices),\" classified incorrectly\")"
   ]
  },
  {
   "cell_type": "code",
   "execution_count": null,
   "metadata": {},
   "outputs": [],
   "source": []
  }
 ],
 "metadata": {
  "interpreter": {
   "hash": "397704579725e15f5c7cb49fe5f0341eb7531c82d19f2c29d197e8b64ab5776b"
  },
  "kernelspec": {
   "display_name": "Python 3",
   "language": "python",
   "name": "python3"
  },
  "language_info": {
   "codemirror_mode": {
    "name": "ipython",
    "version": 3
   },
   "file_extension": ".py",
   "mimetype": "text/x-python",
   "name": "python",
   "nbconvert_exporter": "python",
   "pygments_lexer": "ipython3",
   "version": "3.8.5"
  }
 },
 "nbformat": 4,
 "nbformat_minor": 2
}
